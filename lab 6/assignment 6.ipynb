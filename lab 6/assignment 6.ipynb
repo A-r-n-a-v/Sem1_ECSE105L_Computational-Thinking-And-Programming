{
 "cells": [
  {
   "cell_type": "markdown",
   "metadata": {},
   "source": [
    "# Student Name: Arnav Bansal\n",
    "# Enrollment Number: E18CSE028\n",
    "# Lab assignemnt number: 6"
   ]
  },
  {
   "cell_type": "markdown",
   "metadata": {},
   "source": [
    "## For Loop\n",
    "### Indentation (Spacing) is neccessay for writing the code inside the loop."
   ]
  },
  {
   "cell_type": "markdown",
   "metadata": {},
   "source": [
    "#### Syntax of \"for loop\""
   ]
  },
  {
   "cell_type": "raw",
   "metadata": {
    "collapsed": true
   },
   "source": [
    "for iterable_var_name in range(terminating_value):\n",
    "    stmt 1\n",
    "    stmt 2\n",
    "    ...\n",
    "\n",
    "#with initializations\n",
    "for iterable_var_name in range(initial_value,terminating_value):\n",
    "    stmt 1\n",
    "    stmt 2\n",
    "    ...\n",
    "    \n",
    "# with initialization and updation (increment/decrement)\n",
    "for iterable_var_name in range(initial_value,terminating_value,updation):\n",
    "    stmt 1\n",
    "    stmt 2\n",
    "    ..."
   ]
  },
  {
   "cell_type": "markdown",
   "metadata": {},
   "source": [
    "### 1 Write a program in Python to find the sum of 5 numbers entered by the user using a for loop."
   ]
  },
  {
   "cell_type": "code",
   "execution_count": 2,
   "metadata": {},
   "outputs": [
    {
     "name": "stdout",
     "output_type": "stream",
     "text": [
      "enter 5 numbers : \n",
      "5\n",
      "6\n",
      "-7\n",
      "9\n",
      "1\n",
      "sum is 14\n"
     ]
    }
   ],
   "source": [
    "sum=0\n",
    "print(\"enter 5 numbers : \")\n",
    "for i in range(0,5):\n",
    "    a=int(input())\n",
    "    sum=sum+a\n",
    "print(\"sum is\",sum)"
   ]
  },
  {
   "cell_type": "markdown",
   "metadata": {},
   "source": [
    "\n",
    "## 2 Write a program in Python to get 10 numbers from user using a for loop. The program should print the count of positive numbers, negative numbers and zeroes entered by the user."
   ]
  },
  {
   "cell_type": "code",
   "execution_count": 6,
   "metadata": {},
   "outputs": [
    {
     "name": "stdout",
     "output_type": "stream",
     "text": [
      "enter 10 numbers : \n",
      "4\n",
      "5\n",
      "7\n",
      "3\n",
      "0\n",
      "5\n",
      "-3\n",
      "0\n",
      "-9\n",
      "7\n",
      "zeros are 2\n",
      "positive numbers are 6\n",
      "negative numbers are 2\n"
     ]
    }
   ],
   "source": [
    "z=0\n",
    "p=0\n",
    "n=0\n",
    "print(\"enter 10 numbers : \")\n",
    "for i in range(0,10):\n",
    "    a=int(input())\n",
    "    if(a==0):\n",
    "        z=z+1\n",
    "    elif(a>0):\n",
    "        p=p+1\n",
    "    elif(a<0):\n",
    "        n=n+1\n",
    "print(\"zeros are\",z)\n",
    "print(\"positive numbers are\",p)\n",
    "print(\"negative numbers are\",n)    "
   ]
  },
  {
   "cell_type": "markdown",
   "metadata": {},
   "source": [
    "\n",
    "##### 3 Write a program in Python to find the sum of the series 1+3+5+7+…upto 31 using for loop."
   ]
  },
  {
   "cell_type": "code",
   "execution_count": 8,
   "metadata": {},
   "outputs": [
    {
     "name": "stdout",
     "output_type": "stream",
     "text": [
      "1\n",
      "3\n",
      "5\n",
      "7\n",
      "9\n",
      "11\n",
      "13\n",
      "15\n",
      "17\n",
      "19\n",
      "21\n",
      "23\n",
      "25\n",
      "27\n",
      "29\n",
      "31\n",
      "sum is 256\n"
     ]
    }
   ],
   "source": [
    "sum=0\n",
    "for i in range(1,32,2):\n",
    "    sum=sum+i\n",
    "    print(i)\n",
    "print(\"sum is\",sum)"
   ]
  },
  {
   "cell_type": "markdown",
   "metadata": {},
   "source": [
    "### 4 Write a program in Python to find the product of n numbers entered by the user using a for loop."
   ]
  },
  {
   "cell_type": "code",
   "execution_count": 7,
   "metadata": {
    "scrolled": true
   },
   "outputs": [
    {
     "name": "stdout",
     "output_type": "stream",
     "text": [
      "enter the value of n : 5\n",
      "enter the numbers : \n",
      "6\n",
      "78\n",
      "2\n",
      "5\n",
      "7\n",
      "the product is 32760\n"
     ]
    }
   ],
   "source": [
    "product=1\n",
    "n=int(input(\"enter the value of n : \"))\n",
    "print(\"enter the numbers : \")\n",
    "for i in range(n):\n",
    "    a=int(input())\n",
    "    product=product*a\n",
    "print(\"the product is\",product)"
   ]
  },
  {
   "cell_type": "markdown",
   "metadata": {},
   "source": [
    "### 5 Write a program in Python to find the factorial of an integer number entered by the user using a for loop. "
   ]
  },
  {
   "cell_type": "raw",
   "metadata": {},
   "source": [
    "N!= N*(N-1)*(N-2)*….3*2*1."
   ]
  },
  {
   "cell_type": "code",
   "execution_count": 14,
   "metadata": {
    "scrolled": true
   },
   "outputs": [
    {
     "name": "stdout",
     "output_type": "stream",
     "text": [
      "entre any number : 5\n",
      "factorial of the number is 120\n"
     ]
    }
   ],
   "source": [
    "n=int(input(\"entre any number : \"))\n",
    "factorial=1\n",
    "for i in range(1,n+1):\n",
    "    factorial=factorial*i\n",
    "print(\"factorial of the number is\",factorial)   "
   ]
  },
  {
   "cell_type": "markdown",
   "metadata": {},
   "source": [
    "### 6 Write a program in Python to find the sum of the series using a for loop:\n",
    "\n",
    "1! + 2! + 3! + ….+ n!."
   ]
  },
  {
   "cell_type": "code",
   "execution_count": 2,
   "metadata": {
    "scrolled": true
   },
   "outputs": [
    {
     "name": "stdout",
     "output_type": "stream",
     "text": [
      "enter any number4\n",
      "the sum of the series is 33\n"
     ]
    }
   ],
   "source": [
    "n=int(input(\"enter any number\"))\n",
    "f=1\n",
    "sum=0\n",
    "for i in range(1,n+1):\n",
    "    f=f*i\n",
    "    sum=sum+f\n",
    "print(\"the sum of the series is\",sum)     "
   ]
  },
  {
   "cell_type": "markdown",
   "metadata": {},
   "source": [
    "## 7 Write a program in Python to compute the natural logarithm of 2 using a for loop, by adding upto n terms in the series: 1-1/2+1/3-1/4+…..1/n where n is a positive number entered by the user.\n"
   ]
  },
  {
   "cell_type": "code",
   "execution_count": 15,
   "metadata": {
    "scrolled": true
   },
   "outputs": [
    {
     "name": "stdout",
     "output_type": "stream",
     "text": [
      "enter any number2\n",
      "the value of log2 is 0.5\n"
     ]
    }
   ],
   "source": [
    "n=int(input(\"enter any number\"))\n",
    "s1=0\n",
    "s2=0\n",
    "s=0\n",
    "for i in range(1,n+1):\n",
    "    if(i%2==1):\n",
    "        s1+=(1/i)\n",
    "    else:\n",
    "        s2+=(1/i)\n",
    "    s=s1-s2\n",
    "print(\"the value of log2 is\",s)"
   ]
  },
  {
   "cell_type": "markdown",
   "metadata": {},
   "source": [
    "# 8 Write a program in Python to print all numbers from 0 to 9 except 3 and 6 using a for loop. "
   ]
  },
  {
   "cell_type": "code",
   "execution_count": 15,
   "metadata": {},
   "outputs": [
    {
     "name": "stdout",
     "output_type": "stream",
     "text": [
      "0\n",
      "1\n",
      "2\n",
      "4\n",
      "5\n",
      "7\n",
      "8\n",
      "9\n"
     ]
    }
   ],
   "source": [
    "for i in range(10):\n",
    "    if(i==3 or i==6):\n",
    "        continue\n",
    "    else:\n",
    "        print(i)"
   ]
  },
  {
   "cell_type": "markdown",
   "metadata": {},
   "source": [
    "### 9 Write a program in Python that allows user to input maximum 5 numbers using a while loop. The program should print the product when either a negative number is entered by user or 5 positive numbers have been entered."
   ]
  },
  {
   "cell_type": "code",
   "execution_count": 18,
   "metadata": {},
   "outputs": [
    {
     "name": "stdout",
     "output_type": "stream",
     "text": [
      "enter numbers : \n",
      "1\n",
      "2\n",
      "3\n",
      "-4\n",
      "product is -24\n"
     ]
    }
   ],
   "source": [
    "p=1\n",
    "print(\"enter numbers : \")\n",
    "for i in range(5):\n",
    "    n=int(input())\n",
    "    p*=n\n",
    "    if(n<0):\n",
    "        break\n",
    "print(\"product is\",p)"
   ]
  },
  {
   "cell_type": "markdown",
   "metadata": {},
   "source": [
    "#### 10 Write a program in Python to input marks in 3 subjects for 3 students using nested for loop and print the total marks of each student."
   ]
  },
  {
   "cell_type": "code",
   "execution_count": 2,
   "metadata": {},
   "outputs": [
    {
     "name": "stdout",
     "output_type": "stream",
     "text": [
      "enter the name of student  1  :\n",
      "arnav\n",
      "enter the marks in physics : 8\n",
      "enter the marks in chemistry : 9\n",
      "enter the marks in maths : 7\n",
      "total marks of the student are 24\n",
      "enter the name of student  2  :\n",
      "manu\n",
      "enter the marks in physics : 7\n",
      "enter the marks in chemistry : 6\n",
      "enter the marks in maths : 8\n",
      "total marks of the student are 21\n",
      "enter the name of student  3  :\n",
      "vibhu\n",
      "enter the marks in physics : 2\n",
      "enter the marks in chemistry : 3\n",
      "enter the marks in maths : 1\n",
      "total marks of the student are 6\n"
     ]
    }
   ],
   "source": [
    "for i in range(1,4):\n",
    "    sum=0\n",
    "    print(\"enter the name of student \",i,\" :\")\n",
    "    n=input()\n",
    "    s1=int(input(\"enter the marks in physics : \"))\n",
    "    s2=int(input(\"enter the marks in chemistry : \"))\n",
    "    s3=int(input(\"enter the marks in maths : \"))\n",
    "    sum=s1+s2+s3\n",
    "    print(\"total marks of the student are\",sum)"
   ]
  },
  {
   "cell_type": "markdown",
   "metadata": {},
   "source": [
    "### 11 Write a program in Python to check whether the number input by the user is a prime number or not. A number is prime if it is divisible by 1 and itself.\n",
    "For example, 2,3,5,7,11…."
   ]
  },
  {
   "cell_type": "code",
   "execution_count": 1,
   "metadata": {
    "scrolled": true
   },
   "outputs": [
    {
     "name": "stdout",
     "output_type": "stream",
     "text": [
      "enter any number : 5\n",
      "the number given is a prime number\n"
     ]
    }
   ],
   "source": [
    "n=int(input(\"enter any number : \"))\n",
    "f=0\n",
    "for i in range(2,n):\n",
    "    if(n%i==0):\n",
    "        f=1\n",
    "        break\n",
    "if (f==1):\n",
    "    print(\"the number given is not a prime number\")\n",
    "else:\n",
    "    print(\"the number given is a prime number\")"
   ]
  },
  {
   "cell_type": "markdown",
   "metadata": {},
   "source": [
    "## Optional questions:"
   ]
  },
  {
   "cell_type": "markdown",
   "metadata": {},
   "source": [
    "### 12 Write a program in Python to find the sum of the series: 1+x+x2+x3+….upto n terms using a for loop. The integer values of x and n are to be entered by the user."
   ]
  },
  {
   "cell_type": "code",
   "execution_count": 1,
   "metadata": {},
   "outputs": [
    {
     "name": "stdout",
     "output_type": "stream",
     "text": [
      "enter n : 5\n",
      "enter x : 2\n",
      "1\n",
      "2\n",
      "4\n",
      "8\n",
      "16\n",
      "32\n",
      "the sum is 63\n"
     ]
    }
   ],
   "source": [
    "n=int(input(\"enter n : \"))\n",
    "x=int(input(\"enter x : \"))\n",
    "sum=0\n",
    "for i in range(n+1):\n",
    "    a=x**i\n",
    "    sum=sum+a\n",
    "    print(a)\n",
    "print(\"the sum is\",sum)"
   ]
  },
  {
   "cell_type": "markdown",
   "metadata": {},
   "source": [
    "### 13 Write a program in Python to print the square of 1st n natural numbers where n<10 using a for loop. The program should also print the sum of all squares."
   ]
  },
  {
   "cell_type": "code",
   "execution_count": 19,
   "metadata": {
    "scrolled": true
   },
   "outputs": [
    {
     "name": "stdout",
     "output_type": "stream",
     "text": [
      "1\n",
      "4\n",
      "9\n",
      "16\n",
      "25\n",
      "36\n",
      "49\n",
      "64\n",
      "81\n",
      "the sum of all the squares is 285\n"
     ]
    }
   ],
   "source": [
    "sum=0\n",
    "for i in range(1,10):\n",
    "    a=i**2\n",
    "    sum=sum+a\n",
    "    print(a)\n",
    "print(\"the sum of all the squares is\",sum)"
   ]
  },
  {
   "cell_type": "markdown",
   "metadata": {},
   "source": [
    "### 14 Write a program in Python to print all factors of a number using a for loop."
   ]
  },
  {
   "cell_type": "code",
   "execution_count": 12,
   "metadata": {
    "scrolled": true
   },
   "outputs": [
    {
     "name": "stdout",
     "output_type": "stream",
     "text": [
      "enter any number : 24\n",
      "1\n",
      "2\n",
      "3\n",
      "4\n",
      "6\n",
      "8\n",
      "12\n",
      "24\n"
     ]
    }
   ],
   "source": [
    "n=int(input(\"enter any number : \"))\n",
    "for i in range(1,n+1):\n",
    "    if(n%i==0):\n",
    "        print(i)"
   ]
  },
  {
   "cell_type": "markdown",
   "metadata": {},
   "source": [
    "### 15 Write a program in Python to generate all prime numbers between m and n input by the user.\n",
    "m,n both are inclusive."
   ]
  },
  {
   "cell_type": "code",
   "execution_count": 22,
   "metadata": {},
   "outputs": [
    {
     "name": "stdout",
     "output_type": "stream",
     "text": [
      "enter m2\n",
      "enter n9\n",
      "2\n",
      "3\n",
      "5\n",
      "7\n"
     ]
    }
   ],
   "source": [
    "m=int(input(\"enter m\"))\n",
    "n=int(input(\"enter n\"))\n",
    "c=1\n",
    "for i in range(m,n+1):\n",
    "    for j in range(2,i):\n",
    "        if(i%j==0):\n",
    "            c=0\n",
    "            break\n",
    "        else:\n",
    "            c=1\n",
    "    if(c==1):\n",
    "        print(i)"
   ]
  },
  {
   "cell_type": "markdown",
   "metadata": {},
   "source": [
    "### 16 Write a program in Python to evaluate following series using for loop:\n",
    "\n",
    "    x + 3x + 5x + 7x + 9x + 11x+....upto n terms"
   ]
  },
  {
   "cell_type": "code",
   "execution_count": 3,
   "metadata": {
    "scrolled": true
   },
   "outputs": [
    {
     "name": "stdout",
     "output_type": "stream",
     "text": [
      "enter n : 5\n",
      "enter x : 2\n",
      "2\n",
      "6\n",
      "10\n",
      "the sum is 18\n"
     ]
    }
   ],
   "source": [
    "n=int(input(\"enter n : \"))\n",
    "x=int(input(\"enter x : \"))\n",
    "sum=0\n",
    "for i in range(1,n+1,2):\n",
    "    a=x*i\n",
    "    sum=sum+a\n",
    "    print(a)\n",
    "print(\"the sum is\",sum)"
   ]
  },
  {
   "cell_type": "markdown",
   "metadata": {},
   "source": [
    "### 17 Write a program in Python to print out all Armstrong numbers between 1 and 500. \n",
    "Armstrong Number: If sum of cubes of each digit of the number is equal to the number itself, then the number is called an Armstrong number."
   ]
  },
  {
   "cell_type": "raw",
   "metadata": {},
   "source": [
    "For example, 153 = ( 1 * 1 * 1 ) + ( 5 * 5 * 5 ) + ( 3 * 3 * 3 )"
   ]
  },
  {
   "cell_type": "code",
   "execution_count": 3,
   "metadata": {},
   "outputs": [
    {
     "name": "stdout",
     "output_type": "stream",
     "text": [
      "1\n",
      "153\n",
      "370\n",
      "371\n",
      "407\n"
     ]
    }
   ],
   "source": [
    "for i in range(1,501):\n",
    "    s=0\n",
    "    r1=i%10\n",
    "    s=s+(r1**3)\n",
    "    m=i//10\n",
    "    r2=m%10\n",
    "    s=s+(r2**3)\n",
    "    p=m//10\n",
    "    r3=p%10\n",
    "    s=s+(r3**3)\n",
    "    if(s==i):   \n",
    "        print(i)"
   ]
  }
 ],
 "metadata": {
  "kernelspec": {
   "display_name": "Python 3",
   "language": "python",
   "name": "python3"
  },
  "language_info": {
   "codemirror_mode": {
    "name": "ipython",
    "version": 3
   },
   "file_extension": ".py",
   "mimetype": "text/x-python",
   "name": "python",
   "nbconvert_exporter": "python",
   "pygments_lexer": "ipython3",
   "version": "3.7.0"
  }
 },
 "nbformat": 4,
 "nbformat_minor": 2
}
