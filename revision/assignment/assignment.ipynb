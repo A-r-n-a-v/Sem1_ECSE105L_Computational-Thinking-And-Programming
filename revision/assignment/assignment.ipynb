{
 "cells": [
  {
   "cell_type": "code",
   "execution_count": null,
   "metadata": {},
   "outputs": [],
   "source": [
    "#We can use both \" \" and ' '. The only difference between them is that,\n",
    "#print(\"a\"b\"cd\")\n",
    "#povides error but\n",
    "#print(\"a'b'cd\") \n",
    "#does not\n",
    "#similarly\n",
    "#print('a'b'cd') \n",
    "#provides error but\n",
    "#print('a\"b\"cd') does not\n",
    "#So, \" is useful when ' is inside the string, and vice versa."
   ]
  },
  {
   "cell_type": "markdown",
   "metadata": {},
   "source": [
    "# inbuilt function round()"
   ]
  },
  {
   "cell_type": "code",
   "execution_count": 6,
   "metadata": {},
   "outputs": [
    {
     "name": "stdout",
     "output_type": "stream",
     "text": [
      "10\n",
      "11\n",
      "10\n",
      "12\n",
      "\n",
      "11\n",
      "11\n",
      "\n",
      "10\n",
      "11\n",
      "11\n",
      "12\n",
      "\n",
      "10.55\n",
      "10.548\n"
     ]
    }
   ],
   "source": [
    "#every number enetered will convert to nearest integer value\n",
    "print(round(10.4))\n",
    "print(round(10.6))\n",
    "print(round(10.5))   #since the base is even, a.5 will convert into a \n",
    "print(round(11.5))   #since the base is odd, so a.5 will convert into a+1\n",
    "\n",
    "print()\n",
    "\n",
    "print(round(10.56))\n",
    "print(round(10.54))\n",
    "print()\n",
    "print(round(10.49))\n",
    "print(round(10.51))\n",
    "print(round(11.49))\n",
    "print(round(11.51))  \n",
    "\n",
    "print()\n",
    "\n",
    "print(round(10.5475467895,2))\n",
    "print(round(10.5475467895,3))"
   ]
  },
  {
   "cell_type": "markdown",
   "metadata": {},
   "source": [
    "# inbuilt function format(n,\"0.af\")"
   ]
  },
  {
   "cell_type": "code",
   "execution_count": 1,
   "metadata": {},
   "outputs": [
    {
     "name": "stdout",
     "output_type": "stream",
     "text": [
      "13.5\n",
      "13.50\n",
      "13.501\n",
      "13.5012\n",
      "13.50120\n",
      "13.501200\n",
      "14\n"
     ]
    }
   ],
   "source": [
    "print(format(13.5012,'0.1f'))\n",
    "print(format(13.5012,'0.2f'))\n",
    "print(format(13.5012,'0.3f'))\n",
    "print(format(13.5012,'0.4f'))\n",
    "print(format(13.5012,'0.5f'))\n",
    "print(format(13.5012,'0.6f'))\n",
    "print(format(13.5012,'0.0f'))"
   ]
  },
  {
   "cell_type": "code",
   "execution_count": 3,
   "metadata": {},
   "outputs": [
    {
     "name": "stdout",
     "output_type": "stream",
     "text": [
      "1,023,456\n"
     ]
    }
   ],
   "source": [
    "n1=1023456\n",
    "print(format(n1,','))#if you put 0 before a number then it will be an error, so do not be oversmart\n",
    "#n2=000000023\n",
    "#print(format(n2,','))"
   ]
  },
  {
   "cell_type": "code",
   "execution_count": 35,
   "metadata": {},
   "outputs": [
    {
     "name": "stdout",
     "output_type": "stream",
     "text": [
      "20.8                \n",
      "                20.8\n",
      "       20.79        \n",
      "Hello               \n",
      "               Hello\n",
      "       Hello        \n"
     ]
    }
   ],
   "source": [
    "z=20.785\n",
    "print(format(z,'<20.1f'))\n",
    "print(format(z,'>20.1f'))\n",
    "print(format(z,'^20.2f'))\n",
    "word='Hello'\n",
    "print(word.ljust(20))\n",
    "print(word.rjust(20))\n",
    "print(word.center(20))"
   ]
  },
  {
   "cell_type": "code",
   "execution_count": 64,
   "metadata": {},
   "outputs": [
    {
     "name": "stdout",
     "output_type": "stream",
     "text": [
      "binary 1101\n",
      "Octal 15\n",
      "hexadecimal d\n",
      "decimal 13\n"
     ]
    }
   ],
   "source": [
    "#important\n",
    "n=13\n",
    "print('binary',format(n,'b'))\n",
    "print('Octal',format(n,'o'))\n",
    "print('hexadecimal',format(n,'x'))\n",
    "print('decimal',format(n,'d'))"
   ]
  },
  {
   "cell_type": "code",
   "execution_count": 48,
   "metadata": {},
   "outputs": [
    {
     "name": "stdout",
     "output_type": "stream",
     "text": [
      "I like ice cream and chocolate\n",
      "I like chocolate and ice cream\n",
      "Hello John, Good morning\n"
     ]
    }
   ],
   "source": [
    "print('I like {0} and {1}'.format('ice cream','chocolate'))\n",
    "print('I like {1} and {0}'.format('ice cream','chocolate'))\n",
    "print('Hello {name}, {greeting}'.format(greeting = 'Good morning', name = 'John'))"
   ]
  },
  {
   "cell_type": "markdown",
   "metadata": {},
   "source": [
    "# Other important builtin functions\n"
   ]
  },
  {
   "cell_type": "code",
   "execution_count": 47,
   "metadata": {},
   "outputs": [
    {
     "name": "stdout",
     "output_type": "stream",
     "text": [
      "E\n",
      "101\n",
      "69\n"
     ]
    }
   ],
   "source": [
    "x=69\n",
    "print(chr(x))\n",
    "char='e'\n",
    "print(ord(char))\n",
    "char='E'\n",
    "print(ord(char))"
   ]
  },
  {
   "cell_type": "code",
   "execution_count": 41,
   "metadata": {},
   "outputs": [
    {
     "name": "stdout",
     "output_type": "stream",
     "text": [
      "5,76,100."
     ]
    }
   ],
   "source": [
    "a=5\n",
    "b=76\n",
    "c=100\n",
    "print(a,b,c,sep=',',end='.')  #sep=separated by"
   ]
  },
  {
   "cell_type": "code",
   "execution_count": 46,
   "metadata": {},
   "outputs": [
    {
     "name": "stdout",
     "output_type": "stream",
     "text": [
      "534\n"
     ]
    },
    {
     "ename": "TypeError",
     "evalue": "eval() arg 1 must be a string, bytes or code object",
     "output_type": "error",
     "traceback": [
      "\u001b[1;31m---------------------------------------------------------------------------\u001b[0m",
      "\u001b[1;31mTypeError\u001b[0m                                 Traceback (most recent call last)",
      "\u001b[1;32m<ipython-input-46-67815e2fb219>\u001b[0m in \u001b[0;36m<module>\u001b[1;34m\u001b[0m\n\u001b[0;32m      4\u001b[0m \u001b[1;31m#eval() only works with string\u001b[0m\u001b[1;33m\u001b[0m\u001b[1;33m\u001b[0m\u001b[0m\n\u001b[0;32m      5\u001b[0m \u001b[0mn\u001b[0m\u001b[1;33m=\u001b[0m\u001b[1;36m100\u001b[0m\u001b[1;33m*\u001b[0m\u001b[1;36m5\u001b[0m\u001b[1;33m+\u001b[0m\u001b[1;36m9\u001b[0m\u001b[1;33m+\u001b[0m\u001b[1;36m5\u001b[0m\u001b[1;33m**\u001b[0m\u001b[1;36m2\u001b[0m\u001b[1;33m\u001b[0m\u001b[0m\n\u001b[1;32m----> 6\u001b[1;33m \u001b[0mprint\u001b[0m\u001b[1;33m(\u001b[0m\u001b[0meval\u001b[0m\u001b[1;33m(\u001b[0m\u001b[0mn\u001b[0m\u001b[1;33m)\u001b[0m\u001b[1;33m)\u001b[0m\u001b[1;33m\u001b[0m\u001b[0m\n\u001b[0m",
      "\u001b[1;31mTypeError\u001b[0m: eval() arg 1 must be a string, bytes or code object"
     ]
    }
   ],
   "source": [
    "#eval() inbuilt function\n",
    "n='100*5+9+5**2'\n",
    "print(eval(n))\n",
    "#eval() only works with string\n",
    "n=100*5+9+5**2\n",
    "print(eval(n))"
   ]
  },
  {
   "cell_type": "code",
   "execution_count": 45,
   "metadata": {},
   "outputs": [
    {
     "name": "stdout",
     "output_type": "stream",
     "text": [
      "T i m e s\n",
      "<class 'str'>\n"
     ]
    }
   ],
   "source": [
    "#string unpacking\n",
    "word='Times'\n",
    "a,b,c,d,e=word\n",
    "print(a,b,c,d,e)\n",
    "print(type(a))"
   ]
  },
  {
   "cell_type": "code",
   "execution_count": 5,
   "metadata": {},
   "outputs": [
    {
     "name": "stdout",
     "output_type": "stream",
     "text": [
      "0.39\n",
      "5\n"
     ]
    }
   ],
   "source": [
    "#random value generation\n",
    "import random\n",
    "print(format(random.random(),'0.2f'))  #float value\n",
    "print(random.randint(1,7))  #integer value\n",
    "#run this program to see the change"
   ]
  },
  {
   "cell_type": "code",
   "execution_count": 57,
   "metadata": {},
   "outputs": [
    {
     "name": "stdout",
     "output_type": "stream",
     "text": [
      "   December 2018\n",
      "Mo Tu We Th Fr Sa Su\n",
      "                1  2\n",
      " 3  4  5  6  7  8  9\n",
      "10 11 12 13 14 15 16\n",
      "17 18 19 20 21 22 23\n",
      "24 25 26 27 28 29 30\n",
      "31\n",
      "\n"
     ]
    }
   ],
   "source": [
    "import calendar\n",
    "print(calendar.month(2018,12))"
   ]
  },
  {
   "cell_type": "markdown",
   "metadata": {},
   "source": [
    "# Solve 'ptython'=642"
   ]
  },
  {
   "cell_type": "code",
   "execution_count": 58,
   "metadata": {},
   "outputs": [
    {
     "name": "stdout",
     "output_type": "stream",
     "text": [
      "642\n"
     ]
    }
   ],
   "source": [
    "word='Python'\n",
    "a,b,c,d,e,f=word\n",
    "g=ord(a)+ord(b)+ord(c)+ord(d)+ord(e)+ord(f)\n",
    "print(g)"
   ]
  },
  {
   "cell_type": "code",
   "execution_count": 61,
   "metadata": {},
   "outputs": [
    {
     "name": "stdout",
     "output_type": "stream",
     "text": [
      "True\n",
      "False\n",
      "False\n",
      "True\n"
     ]
    }
   ],
   "source": [
    "x=\"hac\"\n",
    "y=\"had\"\n",
    "print(x<y)  #also checks the alphabatically\n",
    "print(x>y)\n",
    "print(x==y)\n",
    "print(x!=y)"
   ]
  },
  {
   "cell_type": "markdown",
   "metadata": {},
   "source": [
    "# Write a program in Python to convert number 13 into 79. Use bitwise operators."
   ]
  },
  {
   "cell_type": "code",
   "execution_count": 65,
   "metadata": {},
   "outputs": [
    {
     "name": "stdout",
     "output_type": "stream",
     "text": [
      "79\n"
     ]
    }
   ],
   "source": [
    "a=13\n",
    "b=79\n",
    "out=a|b\n",
    "print(out)"
   ]
  },
  {
   "cell_type": "markdown",
   "metadata": {},
   "source": [
    "# Write a program in python to perform addition, subtraction, multiplication and division operations on complex numbers. "
   ]
  },
  {
   "cell_type": "code",
   "execution_count": 68,
   "metadata": {},
   "outputs": [
    {
     "name": "stdout",
     "output_type": "stream",
     "text": [
      "a is (20+5j)\n",
      "b is (5+3j)\n",
      "addion is (25+8j)\n",
      "subtraction is (15+2j)\n",
      "multiplication is (85+85j)\n",
      "division is (3.3823529411764706-1.0294117647058825j)\n"
     ]
    }
   ],
   "source": [
    "import cmath\n",
    "a=complex(20+5j)\n",
    "b=complex(5+3j)\n",
    "print(\"a is\",a)\n",
    "print(\"b is\",b)\n",
    "print(\"addion is\",a+b)\n",
    "print(\"subtraction is\",a-b)\n",
    "print(\"multiplication is\",a*b)\n",
    "print(\"division is\",a/b)"
   ]
  },
  {
   "cell_type": "markdown",
   "metadata": {},
   "source": [
    "# ASCII value "
   ]
  },
  {
   "cell_type": "markdown",
   "metadata": {},
   "source": [
    "## digit = 48 to 58 "
   ]
  },
  {
   "cell_type": "markdown",
   "metadata": {},
   "source": [
    "## lowercase characters = 97 to122, uppercase is between 65 and 90)."
   ]
  },
  {
   "cell_type": "markdown",
   "metadata": {},
   "source": [
    "## uppercase characters = 65 and 90"
   ]
  },
  {
   "cell_type": "markdown",
   "metadata": {},
   "source": [
    "# Write a program in Python to print table of a user provided number without using multiplication(*) using while loop."
   ]
  },
  {
   "cell_type": "code",
   "execution_count": 1,
   "metadata": {},
   "outputs": [
    {
     "name": "stdout",
     "output_type": "stream",
     "text": [
      "enter any number2\n",
      "2\n",
      "4\n",
      "6\n",
      "8\n",
      "10\n",
      "12\n",
      "14\n",
      "16\n",
      "18\n",
      "20\n"
     ]
    }
   ],
   "source": [
    "n=int(input(\"enter any number\"))\n",
    "i=1\n",
    "sum=0\n",
    "while(i<=10):\n",
    "    sum+=n\n",
    "    print(sum)\n",
    "    i+=1"
   ]
  },
  {
   "cell_type": "markdown",
   "metadata": {},
   "source": [
    "# Values of sinθ and cosθ"
   ]
  },
  {
   "cell_type": "code",
   "execution_count": 1,
   "metadata": {},
   "outputs": [
    {
     "name": "stdout",
     "output_type": "stream",
     "text": [
      "sin 0 = 0.0\n",
      "cos 0 = 1.0\n",
      "sin 30 = 0.5\n",
      "cos 30 = 0.87\n",
      "sin 60 = 0.87\n",
      "cos 60 = 0.5\n",
      "sin 90 = 1.0\n",
      "cos 90 = 0.0\n",
      "sin 120 = 0.87\n",
      "cos 120 = -0.5\n",
      "sin 150 = 0.5\n",
      "cos 150 = -0.87\n",
      "sin 180 = 0.0\n",
      "cos 180 = -1.0\n",
      "sin 210 = -0.5\n",
      "cos 210 = -0.87\n",
      "sin 240 = -0.87\n",
      "cos 240 = -0.5\n",
      "sin 270 = -1.0\n",
      "cos 270 = -0.0\n"
     ]
    }
   ],
   "source": [
    "import math\n",
    "i=0\n",
    "while (i<=270):\n",
    "    print(\"sin\",i,\"=\",round(math.sin(math.radians(i)),2))\n",
    "    print(\"cos\",i,\"=\",round(math.cos(math.radians(i)),2))\n",
    "    i=i+30"
   ]
  },
  {
   "cell_type": "markdown",
   "metadata": {},
   "source": [
    "# Write a program in Python to enter 10 numbers and it should display the maximum number entered by user."
   ]
  },
  {
   "cell_type": "code",
   "execution_count": 8,
   "metadata": {},
   "outputs": [
    {
     "name": "stdout",
     "output_type": "stream",
     "text": [
      "enter 10 numbers\n",
      "-9\n",
      "-7\n",
      "-787\n",
      "-1\n",
      "-5\n",
      "-8\n",
      "-9\n",
      "0\n",
      "-7\n",
      "-3\n",
      "maximum number is 0\n"
     ]
    }
   ],
   "source": [
    "print(\"enter 10 numbers\")\n",
    "i=1\n",
    "while(i<=10):\n",
    "    a=int(input())\n",
    "    if(i==1):\n",
    "        max=a\n",
    "    if(a>max):\n",
    "        max=a\n",
    "    i+=1\n",
    "print(\"maximum number is\",max)"
   ]
  },
  {
   "cell_type": "markdown",
   "metadata": {},
   "source": [
    "# Write a program in Python to enter the numbers till the user wants and at the end it should display the maximum number entered."
   ]
  },
  {
   "cell_type": "code",
   "execution_count": 9,
   "metadata": {},
   "outputs": [
    {
     "name": "stdout",
     "output_type": "stream",
     "text": [
      "enter n : 8\n",
      "enter choice y/n : y\n",
      "enter n : 1\n",
      "enter choice y/n : n\n",
      "maximum number is 8\n"
     ]
    }
   ],
   "source": [
    "choice='y'\n",
    "max=0\n",
    "while (choice=='y' or choice=='Y'):\n",
    "    n=int(input(\"enter n : \"))\n",
    "    if(n>max):\n",
    "        max=n\n",
    "    choice=input(\"enter choice y/n : \")\n",
    "print(\"maximum number is\",max)"
   ]
  },
  {
   "cell_type": "markdown",
   "metadata": {},
   "source": [
    "# To get all the digits of a number "
   ]
  },
  {
   "cell_type": "code",
   "execution_count": 11,
   "metadata": {},
   "outputs": [
    {
     "name": "stdout",
     "output_type": "stream",
     "text": [
      "enter any number89546\n",
      "6\n",
      "4\n",
      "5\n",
      "9\n",
      "8\n",
      "enter any number89546\n",
      "6\n",
      "4\n",
      "5\n",
      "9\n",
      "8\n"
     ]
    }
   ],
   "source": [
    "#first way\n",
    "n=int(input(\"enter any number\"))\n",
    "while(n>0):\n",
    "    d=n%10\n",
    "    print(d)\n",
    "    n=n//10\n",
    "    \n",
    "#second way\n",
    "n=int(input(\"enter any number\"))\n",
    "l=list(str(n))\n",
    "l.reverse()\n",
    "for i in l:\n",
    "    print(i)"
   ]
  },
  {
   "cell_type": "markdown",
   "metadata": {},
   "source": [
    "# Write a program in Python to calculate total number of positive number, negative number and zeros entered by user. The user can enter any number of numbers."
   ]
  },
  {
   "cell_type": "code",
   "execution_count": 14,
   "metadata": {},
   "outputs": [
    {
     "name": "stdout",
     "output_type": "stream",
     "text": [
      "1\n",
      "2\n",
      "-8\n",
      "0\n",
      "\n",
      "p 2\n",
      "n 1\n",
      "z 1\n"
     ]
    }
   ],
   "source": [
    "p=0\n",
    "n=0\n",
    "z=0\n",
    "while(True):\n",
    "    a=input()\n",
    "    if(a==''):\n",
    "        break\n",
    "    if(int(a)>0):\n",
    "        p+=1\n",
    "    elif(int(a)<0):\n",
    "        n+=1\n",
    "    else:\n",
    "        z+=1\n",
    "print(\"p\",p)\n",
    "print(\"n\",n)\n",
    "print(\"z\",z)"
   ]
  },
  {
   "cell_type": "markdown",
   "metadata": {},
   "source": [
    "# Write a program in Python to print out all Armstrong numbers between 1 and 500."
   ]
  },
  {
   "cell_type": "code",
   "execution_count": 17,
   "metadata": {},
   "outputs": [
    {
     "name": "stdout",
     "output_type": "stream",
     "text": [
      "1\n",
      "153\n",
      "370\n",
      "371\n",
      "407\n"
     ]
    }
   ],
   "source": [
    "#For example, 153 = ( 1 * 1 * 1 ) + ( 5 * 5 * 5 ) + ( 3 * 3 * 3 )\n",
    "for i in range(1,501):\n",
    "    sum=0\n",
    "    for j in str(i):\n",
    "        a=int(j)**3\n",
    "        sum+=a\n",
    "    if(sum==i):\n",
    "        print(i)"
   ]
  },
  {
   "cell_type": "markdown",
   "metadata": {},
   "source": [
    "# Fibonacci series"
   ]
  },
  {
   "cell_type": "code",
   "execution_count": 20,
   "metadata": {},
   "outputs": [
    {
     "name": "stdout",
     "output_type": "stream",
     "text": [
      "enter n10\n",
      "0\n",
      "1\n",
      "1\n",
      "2\n",
      "3\n",
      "5\n",
      "8\n",
      "13\n",
      "21\n",
      "34\n"
     ]
    }
   ],
   "source": [
    "n=int(input(\"enter n\"))\n",
    "t1=0\n",
    "t2=1\n",
    "for i in range(0,n):\n",
    "    if(i<=1):\n",
    "        t=i\n",
    "    else:\n",
    "        t=t+t1\n",
    "        t1=t2\n",
    "        t2=t\n",
    "    print(t)    "
   ]
  },
  {
   "cell_type": "code",
   "execution_count": 6,
   "metadata": {},
   "outputs": [
    {
     "name": "stdout",
     "output_type": "stream",
     "text": [
      "Enter number : 2\n",
      "2 term of fibonacci series is 1\n",
      "do you want to give a different value? yes/no \n",
      "y\n",
      "Enter number : 7\n",
      "7 term of fibonacci series is 13\n",
      "do you want to give a different value? yes/no \n",
      "no\n"
     ]
    }
   ],
   "source": [
    "#nth term of fibonacci series with a function, more understandable and good\n",
    "def fib(n):\n",
    "    if ( n == 0 ):\n",
    "        return 0\n",
    "    elif ( n == 1 ):\n",
    "        return 1\n",
    "    else:\n",
    "        return ( fib(n-1) + fib(n-2) )\n",
    "while(True):\n",
    "    num = int(input('Enter number : '))\n",
    "    print(str(num)+' term of fibonacci series is '+ str(fib(num)))\n",
    "    choice=input(\"do you want to give a different value? yes/no \\n\")\n",
    "    if(choice=='no'):\n",
    "        break"
   ]
  },
  {
   "cell_type": "markdown",
   "metadata": {},
   "source": [
    "# Write a program in Python to generate a number whose triangular number is given.\n",
    "If number is 4, then the triangular number would be 10 (i.e. 1+2+3+4). The program should return 'ERROR', if it is not a triangular number."
   ]
  },
  {
   "cell_type": "code",
   "execution_count": 24,
   "metadata": {},
   "outputs": [
    {
     "name": "stdout",
     "output_type": "stream",
     "text": [
      "enter any number : 15\n",
      "n is a triangular number of 5\n"
     ]
    }
   ],
   "source": [
    "n=int(input(\"enter any number : \"))\n",
    "sum=0\n",
    "c=0\n",
    "for i in range(1,n+1):\n",
    "    sum+=i\n",
    "    if(sum==n):\n",
    "        c=1\n",
    "        break\n",
    "if(c==1):\n",
    "    print(\"n is a triangular number of\",i)\n",
    "else:\n",
    "    print(\"n is not a triangular number\")"
   ]
  },
  {
   "cell_type": "markdown",
   "metadata": {},
   "source": [
    "# Write a program in Python to check the validity of password input by users…….(complete details are given as)\n",
    "Validation :\n",
    "\n",
    "At least 1 letter between [a-z] and 1 letter between [A-Z].\n",
    "\n",
    "At least 1 number between [0-9].\n",
    "\n",
    "At least 1 character from [$#@].\n",
    "\n",
    "Minimum length 6 characters.\n",
    "\n",
    "Maximum length 16 characters."
   ]
  },
  {
   "cell_type": "raw",
   "metadata": {},
   "source": [
    "Note: \n",
    "import re   #for searching a pattern in password\n",
    "len()       #for calculating length\n",
    "Example: re.search(\"[a-z]\",p)  #to search weather word p has any character between a and z. "
   ]
  },
  {
   "cell_type": "code",
   "execution_count": 26,
   "metadata": {},
   "outputs": [
    {
     "name": "stdout",
     "output_type": "stream",
     "text": [
      "Enter the password\n",
      "Arnav8232@\n",
      "Valid\n"
     ]
    }
   ],
   "source": [
    "import re\n",
    "p = input(\"Enter the password\\n\")\n",
    "if(re.search(\"[a-z]\",p)):\n",
    "    s1=1\n",
    "else:\n",
    "    s1=0\n",
    "if(re.search(\"[A-Z]\",p)):\n",
    "    s2=1\n",
    "else:\n",
    "    s2=0\n",
    "if(re.search(\"[0-9]\",p)):\n",
    "    s3=1\n",
    "else:\n",
    "    s3=0\n",
    "if(re.search(\"[$#@]\",p)):\n",
    "    s4=1\n",
    "else:\n",
    "    s4=0\n",
    "if(6<len(p)<16):\n",
    "    s5=1\n",
    "else:\n",
    "    s5=0\n",
    "if(s1 and s2 and s3 and s4 and s5):\n",
    "    print('Valid')\n",
    "else:\n",
    "    print('Invalid')"
   ]
  },
  {
   "cell_type": "markdown",
   "metadata": {},
   "source": [
    "# Write a program in Python to print Floyd triangle for range entered by user.\n",
    "For example: range=4\n",
    "\n",
    "    1 \n",
    "    2 3 \n",
    "    4 5 6     \n",
    "    7 8 9 10"
   ]
  },
  {
   "cell_type": "code",
   "execution_count": 31,
   "metadata": {},
   "outputs": [
    {
     "name": "stdout",
     "output_type": "stream",
     "text": [
      "enter the range : 4\n",
      "1 \n",
      "2 3 \n",
      "4 5 6 \n",
      "7 8 9 10 \n"
     ]
    }
   ],
   "source": [
    "n=int(input(\"enter the range : \"))\n",
    "x=1\n",
    "for i in range(1,n+1):\n",
    "    for j in range(1,i+1):\n",
    "        print(x,end=' ')\n",
    "        x+=1\n",
    "    print()"
   ]
  },
  {
   "cell_type": "markdown",
   "metadata": {},
   "source": [
    "# Write a program in Python to input multiple number till enter -1 and print the digits of an each integer number in reverse order. The program should also print the count of digits. For example, if n=235, digits are 5,3 and 2. The count is 3.¶"
   ]
  },
  {
   "cell_type": "code",
   "execution_count": 6,
   "metadata": {},
   "outputs": [
    {
     "name": "stdout",
     "output_type": "stream",
     "text": [
      "enter the numbers : 235\n",
      "the reverse of tye given number is : \n",
      "5\n",
      "3\n",
      "2\n",
      "the digit count is 3\n",
      "enter the numbers : -1\n"
     ]
    }
   ],
   "source": [
    "while(True):\n",
    "    c=0\n",
    "    n=int(input(\"enter the numbers : \"))\n",
    "    if(n==-1):\n",
    "        break\n",
    "    else:\n",
    "        l=list(str(n))\n",
    "        l.reverse()\n",
    "        print(\"the reverse of tye given number is : \")\n",
    "        for i in l:\n",
    "            print(i)\n",
    "            c+=1\n",
    "        print(\"the digit count is\",c)"
   ]
  },
  {
   "cell_type": "markdown",
   "metadata": {},
   "source": [
    "# Define a Pyhton function pow1 that takes the values of two integers m and n from the user and calculate pow(m,n). Call this function with different values.\n",
    "Do not use exponent operator (**) or pow()"
   ]
  },
  {
   "cell_type": "code",
   "execution_count": 3,
   "metadata": {},
   "outputs": [
    {
     "name": "stdout",
     "output_type": "stream",
     "text": [
      "enter the base : 2\n",
      "enter the power : 3\n",
      "2 to the power 3 is 8\n",
      "do you want to give input again? yes/no \n",
      "yes\n",
      "enter the base : 2\n",
      "enter the power : 5\n",
      "2 to the power 5 is 32\n",
      "do you want to give input again? yes/no \n",
      "no\n"
     ]
    }
   ],
   "source": [
    "def pow1(m,n):\n",
    "    sum=1\n",
    "    for i in range(1,n+1):\n",
    "        sum=sum*m\n",
    "    print(m,\"to the power\",n,\"is\",sum)\n",
    "while(True):\n",
    "    m=int(input(\"enter the base : \"))\n",
    "    n=int(input(\"enter the power : \"))\n",
    "    pow1(m,n)\n",
    "    s=input(\"do you want to give input again? yes/no \\n\")\n",
    "    if(s=='no'):\n",
    "        break"
   ]
  },
  {
   "cell_type": "markdown",
   "metadata": {},
   "source": [
    "# LCM and HCF/GCD "
   ]
  },
  {
   "cell_type": "code",
   "execution_count": 1,
   "metadata": {},
   "outputs": [
    {
     "name": "stdout",
     "output_type": "stream",
     "text": [
      "Enter first number\n",
      "2\n",
      "Enter second number\n",
      "3\n",
      "LCM is 6\n",
      "\n",
      "Enter first number\n",
      "2\n",
      "Enter second number\n",
      "3\n",
      "HCF is 1\n"
     ]
    }
   ],
   "source": [
    "#lcm\n",
    "a=int(input('Enter first number\\n'))\n",
    "b=int(input('Enter second number\\n'))\n",
    "m=max(a,b)\n",
    "while(True):\n",
    "    if(m%a==0 and m%b==0):\n",
    "        print('LCM is '+str(m))\n",
    "        break\n",
    "    m+=1\n",
    "\n",
    "print()\n",
    "\n",
    "a=int(input('Enter first number\\n'))\n",
    "b=int(input('Enter second number\\n'))\n",
    "m=min(a,b)\n",
    "while(True):\n",
    "    if(a%m==0 and b%m==0):\n",
    "        print('HCF is '+str(m))\n",
    "        break\n",
    "    m-=1"
   ]
  },
  {
   "cell_type": "code",
   "execution_count": 3,
   "metadata": {},
   "outputs": [
    {
     "name": "stdout",
     "output_type": "stream",
     "text": [
      "enter a : 2\n",
      "enter b : 3\n",
      "the gcd of 2 and 3 is : \n",
      "1\n"
     ]
    }
   ],
   "source": [
    "#other way for finding gcd\n",
    "a=int(input(\"enter a : \"))\n",
    "b=int(input(\"enter b : \"))\n",
    "print(\"the gcd of\",a,\"and\",b,\"is : \")\n",
    "while(b):\n",
    "    a,b=b,a%b\n",
    "print(a)"
   ]
  },
  {
   "cell_type": "markdown",
   "metadata": {},
   "source": [
    "# Define a function to print nth term in Fibonacci series using recursion. Call this function with different values."
   ]
  },
  {
   "cell_type": "code",
   "execution_count": 16,
   "metadata": {},
   "outputs": [
    {
     "name": "stdout",
     "output_type": "stream",
     "text": [
      "Enter number : 7\n",
      "7 term of fibonacci series is 13\n",
      "do you want to give a different value? yea/no \n",
      "no\n"
     ]
    }
   ],
   "source": [
    "def fib(n):\n",
    "    if ( n == 0 ):\n",
    "        return 0\n",
    "    elif ( n == 1 ):\n",
    "        return 1\n",
    "    else:\n",
    "        return ( fib(n-1) + fib(n-2) )\n",
    "while(True):\n",
    "    num = int(input('Enter number : '))\n",
    "    print(str(num)+' term of fibonacci series is '+ str(fib(num)))\n",
    "    choice=input(\"do you want to give a different value? yea/no \\n\")\n",
    "    if(choice=='no'):\n",
    "        break"
   ]
  },
  {
   "cell_type": "markdown",
   "metadata": {},
   "source": [
    "# Write a program in Python to check whether two given strings are an anagram.\n",
    "An anagram of a string is another string that contains same characters, only the order of characters can be different. For example, “abcd” and “dabc” are anagram of each other."
   ]
  },
  {
   "cell_type": "code",
   "execution_count": 7,
   "metadata": {},
   "outputs": [
    {
     "name": "stdout",
     "output_type": "stream",
     "text": [
      "enter first string : abcd\n",
      "enter second string : acdb\n",
      "the given two strings are anagram\n"
     ]
    }
   ],
   "source": [
    "def check():\n",
    "    s1=input(\"enter first string : \")\n",
    "    s2=input(\"enter second string : \")\n",
    "    if(sorted(s1)==sorted(s2)):\n",
    "        print(\"the given two strings are anagram\")\n",
    "    else:\n",
    "        print(\"the given two strings are not anagram\")\n",
    "check()"
   ]
  },
  {
   "cell_type": "markdown",
   "metadata": {},
   "source": [
    "# Datetime"
   ]
  },
  {
   "cell_type": "code",
   "execution_count": 8,
   "metadata": {},
   "outputs": [
    {
     "name": "stdout",
     "output_type": "stream",
     "text": [
      "the current date is 2018-12-04 and the current time is 00:07:37.188778\n"
     ]
    }
   ],
   "source": [
    "def showtime():\n",
    "    from datetime import datetime\n",
    "    d=datetime.now()\n",
    "    print(\"the current date is\",d.date(),\"and the current time is\",d.time())\n",
    "showtime()"
   ]
  },
  {
   "cell_type": "markdown",
   "metadata": {},
   "source": [
    "# Global and Local variable"
   ]
  },
  {
   "cell_type": "code",
   "execution_count": 16,
   "metadata": {},
   "outputs": [
    {
     "name": "stdout",
     "output_type": "stream",
     "text": [
      "Python\n"
     ]
    }
   ],
   "source": [
    "# This function uses global variable s \n",
    "def f():\n",
    "    print(s)\n",
    "# Global scope \n",
    "s = \"Python\"\n",
    "f()"
   ]
  },
  {
   "cell_type": "code",
   "execution_count": 17,
   "metadata": {},
   "outputs": [
    {
     "name": "stdout",
     "output_type": "stream",
     "text": [
      "I hate Python\n"
     ]
    }
   ],
   "source": [
    "# This function has a variable with name same as s. \n",
    "def f():  \n",
    "    s = \"I hate\"\n",
    "    print(s, end=\" \")\n",
    "# Global scope \n",
    "s = \"Python\" \n",
    "f()\n",
    "print(s)"
   ]
  },
  {
   "cell_type": "code",
   "execution_count": 12,
   "metadata": {},
   "outputs": [
    {
     "ename": "UnboundLocalError",
     "evalue": "local variable 's' referenced before assignment",
     "output_type": "error",
     "traceback": [
      "\u001b[1;31m---------------------------------------------------------------------------\u001b[0m",
      "\u001b[1;31mUnboundLocalError\u001b[0m                         Traceback (most recent call last)",
      "\u001b[1;32m<ipython-input-12-5aa835829472>\u001b[0m in \u001b[0;36m<module>\u001b[1;34m\u001b[0m\n\u001b[0;32m      6\u001b[0m \u001b[1;31m# Global scope\u001b[0m\u001b[1;33m\u001b[0m\u001b[1;33m\u001b[0m\u001b[0m\n\u001b[0;32m      7\u001b[0m \u001b[0ms\u001b[0m\u001b[1;33m=\u001b[0m \u001b[1;34m\"Python\"\u001b[0m\u001b[1;33m\u001b[0m\u001b[0m\n\u001b[1;32m----> 8\u001b[1;33m \u001b[0mf\u001b[0m\u001b[1;33m(\u001b[0m\u001b[1;33m)\u001b[0m\u001b[1;33m\u001b[0m\u001b[0m\n\u001b[0m\u001b[0;32m      9\u001b[0m \u001b[0mprint\u001b[0m\u001b[1;33m(\u001b[0m\u001b[0ms\u001b[0m\u001b[1;33m)\u001b[0m\u001b[1;33m\u001b[0m\u001b[0m\n",
      "\u001b[1;32m<ipython-input-12-5aa835829472>\u001b[0m in \u001b[0;36mf\u001b[1;34m()\u001b[0m\n\u001b[0;32m      1\u001b[0m \u001b[1;32mdef\u001b[0m \u001b[0mf\u001b[0m\u001b[1;33m(\u001b[0m\u001b[1;33m)\u001b[0m\u001b[1;33m:\u001b[0m\u001b[1;33m\u001b[0m\u001b[0m\n\u001b[1;32m----> 2\u001b[1;33m     \u001b[0mprint\u001b[0m\u001b[1;33m(\u001b[0m\u001b[0ms\u001b[0m\u001b[1;33m)\u001b[0m\u001b[1;33m\u001b[0m\u001b[0m\n\u001b[0m\u001b[0;32m      3\u001b[0m     \u001b[1;31m# This program will NOT show error, if we comment below line.\u001b[0m\u001b[1;33m\u001b[0m\u001b[1;33m\u001b[0m\u001b[0m\n\u001b[0;32m      4\u001b[0m     \u001b[0ms\u001b[0m \u001b[1;33m=\u001b[0m \u001b[1;34m\"Me too.\"\u001b[0m\u001b[1;33m\u001b[0m\u001b[0m\n\u001b[0;32m      5\u001b[0m     \u001b[0mprint\u001b[0m\u001b[1;33m(\u001b[0m\u001b[0ms\u001b[0m\u001b[1;33m)\u001b[0m\u001b[1;33m\u001b[0m\u001b[0m\n",
      "\u001b[1;31mUnboundLocalError\u001b[0m: local variable 's' referenced before assignment"
     ]
    }
   ],
   "source": [
    "def f():\n",
    "    print(s)\n",
    "    # This program will NOT show error, if we comment below line.\n",
    "    s = \"Me too.\"\n",
    "    print(s)\n",
    "# Global scope\n",
    "s= \"Python\"\n",
    "f()\n",
    "print(s)"
   ]
  },
  {
   "cell_type": "code",
   "execution_count": 14,
   "metadata": {},
   "outputs": [
    {
     "name": "stdout",
     "output_type": "stream",
     "text": [
      "Python1\n",
      "Python2\n",
      "Python2\n"
     ]
    }
   ],
   "source": [
    "def f(): \n",
    "    global s\n",
    "    print (s) \n",
    "    s = \"Python2\"\n",
    "    print (s)  \n",
    "# Global Scope \n",
    "s = \"Python1\"\n",
    "f()\n",
    "print(s)"
   ]
  },
  {
   "cell_type": "markdown",
   "metadata": {},
   "source": [
    "# Write a program to design the pow function using recursion. "
   ]
  },
  {
   "cell_type": "code",
   "execution_count": 29,
   "metadata": {},
   "outputs": [
    {
     "name": "stdout",
     "output_type": "stream",
     "text": [
      "enter the base : 2\n",
      "enter the power : 4\n",
      "2 to the power 4 is 16\n"
     ]
    }
   ],
   "source": [
    "def pow(a,b):\n",
    "    if(b==1):\n",
    "        return a\n",
    "    return a*pow(a,b-1)\n",
    "m=int(input(\"enter the base : \"))\n",
    "n=int(input(\"enter the power : \"))\n",
    "#Function Calling\n",
    "print(m,\"to the power\",n,\"is\",pow(m,n))"
   ]
  },
  {
   "cell_type": "markdown",
   "metadata": {},
   "source": [
    "# one important point"
   ]
  },
  {
   "cell_type": "code",
   "execution_count": 17,
   "metadata": {},
   "outputs": [
    {
     "name": "stdout",
     "output_type": "stream",
     "text": [
      "['My name is', 'I am in', 3, 'Semester0', 3.78]\n",
      "My name is\n",
      "I am in\n",
      "3\n",
      "Semester0\n",
      "3.78\n"
     ]
    }
   ],
   "source": [
    "hybridlists=['My name is',\n",
    "             'I am in',\n",
    "             3,\n",
    "             'Semester0',\n",
    "             3.78]\n",
    "\n",
    "print(hybridlists)\n",
    "\n",
    "# we can access the elements of list using loops\n",
    "\n",
    "for item in hybridlists:\n",
    "    print(item)"
   ]
  },
  {
   "cell_type": "code",
   "execution_count": 69,
   "metadata": {},
   "outputs": [
    {
     "name": "stdout",
     "output_type": "stream",
     "text": [
      "enter a string : hah aaa bhh\n",
      "['hah', 'aaa', 'bhh']\n",
      "sorted string is ['aaa', 'bhh', 'hah']\n"
     ]
    }
   ],
   "source": [
    "s=input(\"enter a string : \")\n",
    "f=s.split(' ')\n",
    "print(f)\n",
    "s1=sorted(f)\n",
    "print(\"sorted string is\",s1)"
   ]
  },
  {
   "cell_type": "markdown",
   "metadata": {},
   "source": [
    "# Program 8: Write a program in Python to create a list which contains n integers entered by the user and add 2 to each of the even numbers in the list. Example: If initial contents of the list is=[1,2,3,4,5,6,7,8,9,10], the output would be=[1,4,3,6,5,8,7,10,9,12]"
   ]
  },
  {
   "cell_type": "code",
   "execution_count": 19,
   "metadata": {},
   "outputs": [
    {
     "name": "stdout",
     "output_type": "stream",
     "text": [
      "enter n : 10\n",
      "start entering integers\n",
      "1\n",
      "2\n",
      "3\n",
      "4\n",
      "5\n",
      "6\n",
      "7\n",
      "8\n",
      "9\n",
      "10\n",
      "the list is\n",
      "[1, 4, 3, 6, 5, 8, 7, 10, 9, 12]\n"
     ]
    }
   ],
   "source": [
    "list1=[]\n",
    "n=int(input(\"enter n : \"))\n",
    "print(\"start entering integers\")\n",
    "for i in range(1,n+1):\n",
    "    s=int(input())\n",
    "    list1.append(s)\n",
    "print(\"the list is\")\n",
    "list2=[]\n",
    "for j in list1:\n",
    "    if(j%2==0):\n",
    "        list2.append(j+2)\n",
    "    else:\n",
    "        list2.append(j)\n",
    "print(list2)"
   ]
  },
  {
   "cell_type": "markdown",
   "metadata": {},
   "source": [
    "# List has no attribute like 'replace()'"
   ]
  },
  {
   "cell_type": "markdown",
   "metadata": {},
   "source": [
    "# Print the reverse of a given list "
   ]
  },
  {
   "cell_type": "code",
   "execution_count": 18,
   "metadata": {},
   "outputs": [
    {
     "name": "stdout",
     "output_type": "stream",
     "text": [
      "the reverse of the list is [10, 11, 12, 12, 12, 13, 13, 14, 14, 14, 14, 15, 15, 15, 15]\n"
     ]
    }
   ],
   "source": [
    "marks=[15,15,15,15,14,14,14,14,13,13,12,12,12,11,10]\n",
    "rmarks=[]\n",
    "c=-1\n",
    "for i in range(len(marks)):\n",
    "    a=marks[c]\n",
    "    rmarks.append(a)\n",
    "    c=c-1\n",
    "print(\"the reverse of the list is\",rmarks)\n",
    "    \n",
    "#print(marks[::-1])\n",
    "\n",
    "#marks.reverse()\n",
    "#print(\"reversed list is\",marks)"
   ]
  },
  {
   "cell_type": "markdown",
   "metadata": {},
   "source": [
    "# Write a Python program to find the list in a list of lists whose sum of elements is the highest.\n",
    "Sample lists: [[1,2,3], [4,5,6], [10,11,12], [7,8,9]] Expected Output: [10, 11, 12]"
   ]
  },
  {
   "cell_type": "code",
   "execution_count": 16,
   "metadata": {},
   "outputs": [
    {
     "name": "stdout",
     "output_type": "stream",
     "text": [
      "List with greatest sum of elements is : [10, 11, 12]\n"
     ]
    }
   ],
   "source": [
    "lists=[[1,2,3],[4,5,6],[10,11,12],[7,8,9]]\n",
    "maxi=sum(lists[0])\n",
    "for i in lists:\n",
    "    if(sum(i)>maxi):\n",
    "        maxi=sum(i)\n",
    "        index=lists.index(i)\n",
    "print(\"List with greatest sum of elements is :\",lists[index])\n",
    "#print(max(lists,key=sum))"
   ]
  },
  {
   "cell_type": "markdown",
   "metadata": {},
   "source": [
    "# Some important functions for string "
   ]
  },
  {
   "cell_type": "raw",
   "metadata": {},
   "source": [
    "title() : captalize the each starting character of a word.\n",
    "Capitalize() : capatalize the starting character of a sentence.\n",
    "s.split([sep]) : returns a list whose elements are the words in the string. The parameter sep is optional, by default                        strings are split on all whitespace (spaces, tabs, newlines). For example, 'To be, or not to be.'.split()                  will evaluate to ['To', 'be,', 'or', 'not', 'to', 'be.']. Note that split doesn't remove punctuations.                      index(x) returns the index of the first occurrence of the substring x in s. If x isn't a substring an   \n",
    "                 error is thrown.\n",
    "s.find(x) : does the same thing as index, but returns -1 if x isn't a substring, rather than throwing an error.\n",
    "s.rindex(x) : and s.rfind(x) (short for right index and right find) return the last occurrence of the substring x in s.\n",
    "startswith(substring) : returns True if the string starts with given subtstring\n",
    "endswith(substring) : return True if the string ends with given subtstring\\\n",
    "s.count(x) : returns the number of times the substring x appears in s. Note that it only counts non-overlapping   \n",
    "             occurrences, so '000000'.count('000') will return 2.\n",
    "s.replace(x,y) : replaces every occurrence of the substring x in s with y. For example, 'batCatRat'.replace('at', 'oy')  \n",
    "                 will return 'boyCoyRoy'."
   ]
  },
  {
   "cell_type": "code",
   "execution_count": 32,
   "metadata": {},
   "outputs": [
    {
     "name": "stdout",
     "output_type": "stream",
     "text": [
      "Index of  h is : 0\n",
      "find()  h is : 2\n",
      "rindex() h is : 6\n",
      "rfind() h is : 3\n",
      "False\n",
      "True\n"
     ]
    }
   ],
   "source": [
    "str1='hello hi'\n",
    "s='h'\n",
    "print('Index of ', s, 'is :', str1.index(s))\n",
    "print('find() ', s, 'is :', str1.find('l'))\n",
    "print('rindex()', s, 'is :', str1.rindex(s))\n",
    "print('rfind()', s, 'is :', str1.rfind('l'))\n",
    "print(str1.endswith('h'))\n",
    "print(str1.startswith('hel'))"
   ]
  },
  {
   "cell_type": "code",
   "execution_count": 33,
   "metadata": {},
   "outputs": [
    {
     "name": "stdout",
     "output_type": "stream",
     "text": [
      "Enter any string: arnav bansal\n",
      "total number of occurrence of first caharacter a is 4\n",
      "the string after replacing all the occurences of first caharacter to $ is $rn$v b$ns$l\n"
     ]
    }
   ],
   "source": [
    "str1=input(\"Enter any string: \")\n",
    "print(\"total number of occurrence of first caharacter\",str1[0],\"is\",str1.count(str1[0]))\n",
    "print(\"the string after replacing all the occurences of first caharacter to $ is\",str1.replace(str1[0],'$'))"
   ]
  },
  {
   "cell_type": "markdown",
   "metadata": {},
   "source": [
    "# one of the major difference between list and string"
   ]
  },
  {
   "cell_type": "code",
   "execution_count": 20,
   "metadata": {},
   "outputs": [
    {
     "name": "stdout",
     "output_type": "stream",
     "text": [
      "['a', 'b']\n"
     ]
    }
   ],
   "source": [
    "l=['a',\n",
    "'b']\n",
    "print(l)"
   ]
  },
  {
   "cell_type": "code",
   "execution_count": 21,
   "metadata": {},
   "outputs": [
    {
     "ename": "SyntaxError",
     "evalue": "EOL while scanning string literal (<ipython-input-21-e2b096608e8a>, line 1)",
     "output_type": "error",
     "traceback": [
      "\u001b[1;36m  File \u001b[1;32m\"<ipython-input-21-e2b096608e8a>\"\u001b[1;36m, line \u001b[1;32m1\u001b[0m\n\u001b[1;33m    s='a\u001b[0m\n\u001b[1;37m        ^\u001b[0m\n\u001b[1;31mSyntaxError\u001b[0m\u001b[1;31m:\u001b[0m EOL while scanning string literal\n"
     ]
    }
   ],
   "source": [
    "s='a\n",
    "b'\n",
    "print(s)"
   ]
  },
  {
   "cell_type": "code",
   "execution_count": 26,
   "metadata": {},
   "outputs": [
    {
     "name": "stdout",
     "output_type": "stream",
     "text": [
      "ab\n"
     ]
    }
   ],
   "source": [
    "#so in string to do that we do like this\n",
    "s='a\\\n",
    "b'\n",
    "print(s)"
   ]
  },
  {
   "cell_type": "code",
   "execution_count": 37,
   "metadata": {},
   "outputs": [
    {
     "name": "stdout",
     "output_type": "stream",
     "text": [
      "a\n",
      "a\n",
      "e\n"
     ]
    },
    {
     "ename": "TypeError",
     "evalue": "'str' object does not support item assignment",
     "output_type": "error",
     "traceback": [
      "\u001b[1;31m---------------------------------------------------------------------------\u001b[0m",
      "\u001b[1;31mTypeError\u001b[0m                                 Traceback (most recent call last)",
      "\u001b[1;32m<ipython-input-37-9f2cb6b833fa>\u001b[0m in \u001b[0;36m<module>\u001b[1;34m\u001b[0m\n\u001b[0;32m      7\u001b[0m \u001b[0ml\u001b[0m\u001b[1;33m[\u001b[0m\u001b[1;36m0\u001b[0m\u001b[1;33m]\u001b[0m\u001b[1;33m=\u001b[0m\u001b[1;34m'e'\u001b[0m\u001b[1;33m\u001b[0m\u001b[0m\n\u001b[0;32m      8\u001b[0m \u001b[0mprint\u001b[0m\u001b[1;33m(\u001b[0m\u001b[0ml\u001b[0m\u001b[1;33m[\u001b[0m\u001b[1;36m0\u001b[0m\u001b[1;33m]\u001b[0m\u001b[1;33m)\u001b[0m\u001b[1;33m\u001b[0m\u001b[0m\n\u001b[1;32m----> 9\u001b[1;33m \u001b[0ms\u001b[0m\u001b[1;33m[\u001b[0m\u001b[1;36m0\u001b[0m\u001b[1;33m]\u001b[0m\u001b[1;33m=\u001b[0m\u001b[1;34m'e'\u001b[0m\u001b[1;33m\u001b[0m\u001b[0m\n\u001b[0m\u001b[0;32m     10\u001b[0m \u001b[0mprint\u001b[0m\u001b[1;33m(\u001b[0m\u001b[0ms\u001b[0m\u001b[1;33m[\u001b[0m\u001b[1;36m0\u001b[0m\u001b[1;33m]\u001b[0m\u001b[1;33m)\u001b[0m\u001b[1;33m\u001b[0m\u001b[0m\n",
      "\u001b[1;31mTypeError\u001b[0m: 'str' object does not support item assignment"
     ]
    }
   ],
   "source": [
    "#indexing is possible in both list and string\n",
    "l=['a','b','c']\n",
    "s='abc'\n",
    "print(l[0])\n",
    "print(s[0])\n",
    "#but lists can be updated and string can not be uodated\n",
    "l[0]='e'\n",
    "print(l[0])\n",
    "s[0]='e'\n",
    "print(s[0])"
   ]
  },
  {
   "cell_type": "markdown",
   "metadata": {},
   "source": [
    "# Program 13: Write a program in Python to remove all duplicate characters from a string\n"
   ]
  },
  {
   "cell_type": "code",
   "execution_count": 46,
   "metadata": {},
   "outputs": [
    {
     "name": "stdout",
     "output_type": "stream",
     "text": [
      "enter a string : \n",
      "arnav bansal\n",
      "['a', 'r', 'n', 'v', ' ', 'b', 's', 'l']\n",
      "arnv bsl\n"
     ]
    }
   ],
   "source": [
    "s=input(\"enter a string : \\n\")\n",
    "result=[] \n",
    "for i in s:\n",
    "    if(i not in result):\n",
    "        result.append(i)\n",
    "print(result)\n",
    "result=''.join(result)\n",
    "print(str(result))"
   ]
  },
  {
   "cell_type": "markdown",
   "metadata": {},
   "source": [
    "# tuples also support indexing but they can't be updated"
   ]
  },
  {
   "cell_type": "code",
   "execution_count": 57,
   "metadata": {},
   "outputs": [
    {
     "name": "stdout",
     "output_type": "stream",
     "text": [
      "(1, 2, 3, 4)\n",
      "Deletion of Tuple\n"
     ]
    },
    {
     "ename": "NameError",
     "evalue": "name 'number' is not defined",
     "output_type": "error",
     "traceback": [
      "\u001b[1;31m---------------------------------------------------------------------------\u001b[0m",
      "\u001b[1;31mNameError\u001b[0m                                 Traceback (most recent call last)",
      "\u001b[1;32m<ipython-input-57-5051299a49c9>\u001b[0m in \u001b[0;36m<module>\u001b[1;34m\u001b[0m\n\u001b[0;32m      5\u001b[0m \u001b[0mprint\u001b[0m\u001b[1;33m(\u001b[0m\u001b[1;34m\"Deletion of Tuple\"\u001b[0m\u001b[1;33m)\u001b[0m\u001b[1;33m\u001b[0m\u001b[0m\n\u001b[0;32m      6\u001b[0m \u001b[1;32mdel\u001b[0m \u001b[0mnumber\u001b[0m\u001b[1;33m\u001b[0m\u001b[0m\n\u001b[1;32m----> 7\u001b[1;33m \u001b[0mprint\u001b[0m\u001b[1;33m(\u001b[0m\u001b[0mnumber\u001b[0m\u001b[1;33m)\u001b[0m\u001b[1;33m\u001b[0m\u001b[0m\n\u001b[0m",
      "\u001b[1;31mNameError\u001b[0m: name 'number' is not defined"
     ]
    }
   ],
   "source": [
    "#Delete a tuple\n",
    "\n",
    "number=(1,2,3,4)\n",
    "print(number)\n",
    "print(\"Deletion of Tuple\")\n",
    "del number\n",
    "print(number)"
   ]
  },
  {
   "cell_type": "code",
   "execution_count": 43,
   "metadata": {},
   "outputs": [
    {
     "name": "stdout",
     "output_type": "stream",
     "text": [
      "(2, 3)\n"
     ]
    }
   ],
   "source": [
    "#do the following tasks\n",
    "\n",
    "#find the repeated elements in the given tuple\n",
    "t=(2,2,3,4,2,6,7,8,2,3)\n",
    "l=[]\n",
    "for i in t:\n",
    "    if i in l:\n",
    "        continue\n",
    "    if(t.count(i)>1):\n",
    "        l.append(i)\n",
    "print(tuple(l))"
   ]
  },
  {
   "cell_type": "markdown",
   "metadata": {},
   "source": [
    "# Dictionaries"
   ]
  },
  {
   "cell_type": "code",
   "execution_count": 48,
   "metadata": {},
   "outputs": [
    {
     "name": "stdout",
     "output_type": "stream",
     "text": [
      "{2: 'a', 3: 'b'}\n",
      "{2: 'c', 3: 'd'}\n",
      "{2: 'e', 3: 'f'}\n"
     ]
    }
   ],
   "source": [
    "l={2:'a',3:'b'}\n",
    "print(l)\n",
    "\n",
    "#   OR\n",
    "\n",
    "l=dict({2:'c',3:'d'})\n",
    "print(l)\n",
    "\n",
    "#   OR\n",
    "\n",
    "l=dict([(2,'e'),(3,'f')])\n",
    "print(l)"
   ]
  },
  {
   "cell_type": "code",
   "execution_count": 52,
   "metadata": {},
   "outputs": [
    {
     "name": "stdout",
     "output_type": "stream",
     "text": [
      "a\n",
      "a\n"
     ]
    },
    {
     "ename": "KeyError",
     "evalue": "'a'",
     "output_type": "error",
     "traceback": [
      "\u001b[1;31m---------------------------------------------------------------------------\u001b[0m",
      "\u001b[1;31mKeyError\u001b[0m                                  Traceback (most recent call last)",
      "\u001b[1;32m<ipython-input-52-44ee55f5291d>\u001b[0m in \u001b[0;36m<module>\u001b[1;34m\u001b[0m\n\u001b[0;32m      3\u001b[0m \u001b[0mprint\u001b[0m\u001b[1;33m(\u001b[0m\u001b[0ml\u001b[0m\u001b[1;33m[\u001b[0m\u001b[1;36m1\u001b[0m\u001b[1;33m]\u001b[0m\u001b[1;33m)\u001b[0m\u001b[1;33m\u001b[0m\u001b[0m\n\u001b[0;32m      4\u001b[0m \u001b[0mprint\u001b[0m\u001b[1;33m(\u001b[0m\u001b[0ml\u001b[0m\u001b[1;33m.\u001b[0m\u001b[0mget\u001b[0m\u001b[1;33m(\u001b[0m\u001b[1;36m1\u001b[0m\u001b[1;33m)\u001b[0m\u001b[1;33m)\u001b[0m\u001b[1;33m\u001b[0m\u001b[0m\n\u001b[1;32m----> 5\u001b[1;33m \u001b[0mprint\u001b[0m\u001b[1;33m(\u001b[0m\u001b[0ml\u001b[0m\u001b[1;33m[\u001b[0m\u001b[1;34m'a'\u001b[0m\u001b[1;33m]\u001b[0m\u001b[1;33m)\u001b[0m\u001b[1;33m\u001b[0m\u001b[0m\n\u001b[0m",
      "\u001b[1;31mKeyError\u001b[0m: 'a'"
     ]
    }
   ],
   "source": [
    "#dictionaries can only be ccessed ny their key names and not by the values\n",
    "l={1:'a',2:'b',3:'c'}\n",
    "print(l[1])\n",
    "print(l.get(1))\n",
    "print(l['a'])"
   ]
  },
  {
   "cell_type": "code",
   "execution_count": 55,
   "metadata": {},
   "outputs": [
    {
     "name": "stdout",
     "output_type": "stream",
     "text": [
      "{1: 'a', 2: 'b', 3: 'c'}\n",
      "{1: 'd', 2: 'b', 3: 'c'}\n"
     ]
    }
   ],
   "source": [
    "#dictionaries are mutable\n",
    "l={1:'a',2:'b',3:'c'}\n",
    "print(l)\n",
    "l[1]='d'\n",
    "print(l)"
   ]
  },
  {
   "cell_type": "code",
   "execution_count": 63,
   "metadata": {},
   "outputs": [
    {
     "name": "stdout",
     "output_type": "stream",
     "text": [
      "16\n",
      "{1: 1, 2: 4, 3: 9, 5: 25}\n",
      "(5, 25)\n",
      "{1: 1, 2: 4, 3: 9}\n",
      "{1: 1, 3: 9}\n",
      "{}\n"
     ]
    },
    {
     "ename": "NameError",
     "evalue": "name 'squares' is not defined",
     "output_type": "error",
     "traceback": [
      "\u001b[1;31m---------------------------------------------------------------------------\u001b[0m",
      "\u001b[1;31mNameError\u001b[0m                                 Traceback (most recent call last)",
      "\u001b[1;32m<ipython-input-63-32b22542456d>\u001b[0m in \u001b[0;36m<module>\u001b[1;34m\u001b[0m\n\u001b[0;32m     25\u001b[0m \u001b[1;32mdel\u001b[0m \u001b[0msquares\u001b[0m\u001b[1;33m\u001b[0m\u001b[0m\n\u001b[0;32m     26\u001b[0m \u001b[1;33m\u001b[0m\u001b[0m\n\u001b[1;32m---> 27\u001b[1;33m \u001b[0mprint\u001b[0m\u001b[1;33m(\u001b[0m\u001b[0msquares\u001b[0m\u001b[1;33m)\u001b[0m\u001b[1;33m\u001b[0m\u001b[0m\n\u001b[0m",
      "\u001b[1;31mNameError\u001b[0m: name 'squares' is not defined"
     ]
    }
   ],
   "source": [
    "#deletion in an dictionaries\n",
    "\n",
    "# create a dictionary\n",
    "squares = {1:1, 2:4, 3:9, 4:16, 5:25}  \n",
    "\n",
    "# remove a particular item\n",
    "print(squares.pop(4))  \n",
    "print(squares)\n",
    "\n",
    "# remove last item\n",
    "print(squares.popitem())\n",
    "print(squares)\n",
    "\n",
    "# delete a particular item\n",
    "del squares[2]  \n",
    "\n",
    "print(squares)\n",
    "\n",
    "# remove all items\n",
    "squares.clear()\n",
    "\n",
    "print(squares)\n",
    "\n",
    "# delete the dictionary itself\n",
    "del squares\n",
    "\n",
    "print(squares)"
   ]
  },
  {
   "cell_type": "markdown",
   "metadata": {},
   "source": [
    "# revise assignment 16 as a whole"
   ]
  },
  {
   "cell_type": "markdown",
   "metadata": {},
   "source": [
    "# Some important concepts on classes and objects"
   ]
  },
  {
   "cell_type": "code",
   "execution_count": 68,
   "metadata": {},
   "outputs": [
    {
     "name": "stdout",
     "output_type": "stream",
     "text": [
      "Arnav 19\n"
     ]
    }
   ],
   "source": [
    "class Employee:\n",
    "    def __init__(self, name, age):\n",
    "        self._name = name\n",
    "        self._age = age\n",
    "    \n",
    "    def access_detail(self):\n",
    "        print(self._name,self._age)\n",
    "        \n",
    "e1 = Employee(\"Arnav\",19)\n",
    "e1.access_detail()"
   ]
  },
  {
   "cell_type": "code",
   "execution_count": 72,
   "metadata": {},
   "outputs": [
    {
     "name": "stdout",
     "output_type": "stream",
     "text": [
      "Steve\n",
      "21\n",
      "\n",
      "Woz\n",
      "21\n",
      "\n",
      "Woz\n",
      "25\n",
      "\n"
     ]
    }
   ],
   "source": [
    "class Employee:\n",
    "    def __init__(self,name,age):\n",
    "        self._name=name\n",
    "        self._age=age\n",
    "    def access_detail(self):\n",
    "        print(self._name)\n",
    "        print(self._age)\n",
    "    \n",
    "    def change_name(self, new_name): # note that the first argument is self\n",
    "        self._name = new_name # access the class attribute with the self keyword\n",
    "        self.access_detail()  # access the another method of class with the self keyword\n",
    "    \n",
    "    def change_age(self, new_age): \n",
    "        self._age = new_age \n",
    "        self.access_detail()\n",
    "\n",
    "e1=Employee(\"Steve\",21)  \n",
    "e1.access_detail()\n",
    "print()\n",
    "e1.change_name(\"Woz\")\n",
    "print()\n",
    "e1.change_age(25)\n",
    "print()"
   ]
  },
  {
   "cell_type": "code",
   "execution_count": 3,
   "metadata": {},
   "outputs": [
    {
     "name": "stdout",
     "output_type": "stream",
     "text": [
      "enter length : 3\n",
      "enter width  : 2\n",
      "length is  3\n",
      "width is  2\n",
      "area is  6\n",
      "\n",
      "enter length : 4\n",
      "enter width  : 3\n",
      "length is  4\n",
      "width is  3\n",
      "area is  12\n"
     ]
    }
   ],
   "source": [
    "class Rectangle:\n",
    "    def __init__(self):\n",
    "        self.getdata()\n",
    "        self.calculate_area()\n",
    "        self.display()\n",
    "        self.display_area()\n",
    "        print()\n",
    "        self.getdata()\n",
    "        self.calculate_area()\n",
    "        self.display()\n",
    "        self.display_area()\n",
    "        \n",
    "        #here we have written these group of four statements 2 times beacuse we need to get two oututs\n",
    "        \n",
    "    def getdata(self):\n",
    "        self.length=int(input(\"enter length : \"))\n",
    "        self.width=int(input(\"enter width  : \"))\n",
    "    \n",
    "    def calculate_area(self):\n",
    "        self.area=self.length*self.width\n",
    "\n",
    "    def display(self):\n",
    "        print(\"length is \",self.length)\n",
    "        print(\"width is \",self.width)\n",
    "    \n",
    "    def display_area(self):\n",
    "        self.calculate_area()\n",
    "        print(\"area is \",self.area)\n",
    "    \n",
    "r=Rectangle()"
   ]
  },
  {
   "cell_type": "code",
   "execution_count": 8,
   "metadata": {},
   "outputs": [
    {
     "name": "stdout",
     "output_type": "stream",
     "text": [
      "True\n"
     ]
    }
   ],
   "source": [
    "#checking the membership\n",
    "class A:\n",
    "    pass\n",
    "   \n",
    "a=A()\n",
    "print(isinstance(a,A))"
   ]
  },
  {
   "cell_type": "code",
   "execution_count": 17,
   "metadata": {},
   "outputs": [
    {
     "name": "stdout",
     "output_type": "stream",
     "text": [
      "Constructor of class\n",
      "Constructor of class\n",
      "Destructor of class\n",
      "Destructor of class\n"
     ]
    }
   ],
   "source": [
    "#use of __del__()\n",
    "# As __init__() function is used to initialize the values of variables. __del__() is used to destroy the class variable\n",
    "# - This function is executed only if all the references to an object have been removed\n",
    "# - It is like destructor and is executed once per object\n",
    "class Demo:\n",
    "    def __init__(self):\n",
    "        print(\"Constructor of class\")\n",
    "    def __del__(self):\n",
    "        print(\"Destructor of class\")\n",
    "        \n",
    "d1=Demo()\n",
    "d2=Demo()\n",
    "del d1\n",
    "del d2"
   ]
  },
  {
   "cell_type": "code",
   "execution_count": 17,
   "metadata": {},
   "outputs": [
    {
     "name": "stdout",
     "output_type": "stream",
     "text": [
      "Surbhi 17837\n",
      "Surbhi\n",
      "Dr. Shivani\n"
     ]
    },
    {
     "ename": "AttributeError",
     "evalue": "'Info' object has no attribute '_B__acc_no'",
     "output_type": "error",
     "traceback": [
      "\u001b[1;31m---------------------------------------------------------------------------\u001b[0m",
      "\u001b[1;31mAttributeError\u001b[0m                            Traceback (most recent call last)",
      "\u001b[1;32m<ipython-input-17-7a7cbd1293b9>\u001b[0m in \u001b[0;36m<module>\u001b[1;34m\u001b[0m\n\u001b[0;32m     21\u001b[0m \u001b[1;31m#print(oi.__acc_no) #will show error bcz it is private\u001b[0m\u001b[1;33m\u001b[0m\u001b[1;33m\u001b[0m\u001b[0m\n\u001b[0;32m     22\u001b[0m \u001b[0mob\u001b[0m\u001b[1;33m=\u001b[0m\u001b[0mB\u001b[0m\u001b[1;33m(\u001b[0m\u001b[1;33m)\u001b[0m\u001b[1;33m\u001b[0m\u001b[0m\n\u001b[1;32m---> 23\u001b[1;33m \u001b[0mob\u001b[0m\u001b[1;33m.\u001b[0m\u001b[0mdisplay\u001b[0m\u001b[1;33m(\u001b[0m\u001b[1;33m)\u001b[0m\u001b[1;33m\u001b[0m\u001b[0m\n\u001b[0m",
      "\u001b[1;32m<ipython-input-17-7a7cbd1293b9>\u001b[0m in \u001b[0;36mdisplay\u001b[1;34m(self)\u001b[0m\n\u001b[0;32m     11\u001b[0m         \u001b[0mn\u001b[0m\u001b[1;33m=\u001b[0m\u001b[0mInfo\u001b[0m\u001b[1;33m(\u001b[0m\u001b[1;34m'Dr. Shivani'\u001b[0m\u001b[1;33m,\u001b[0m\u001b[1;34m'18000'\u001b[0m\u001b[1;33m)\u001b[0m\u001b[1;33m\u001b[0m\u001b[0m\n\u001b[0;32m     12\u001b[0m         \u001b[0mprint\u001b[0m\u001b[1;33m(\u001b[0m\u001b[0mn\u001b[0m\u001b[1;33m.\u001b[0m\u001b[0m_name\u001b[0m\u001b[1;33m)\u001b[0m\u001b[1;33m\u001b[0m\u001b[0m\n\u001b[1;32m---> 13\u001b[1;33m         \u001b[0mprint\u001b[0m\u001b[1;33m(\u001b[0m\u001b[0mn\u001b[0m\u001b[1;33m.\u001b[0m\u001b[0m__acc_no\u001b[0m\u001b[1;33m)\u001b[0m\u001b[1;31m#show error bcz private member of a class also not accessiable in another class\u001b[0m\u001b[1;33m\u001b[0m\u001b[0m\n\u001b[0m\u001b[0;32m     14\u001b[0m \u001b[1;33m\u001b[0m\u001b[0m\n\u001b[0;32m     15\u001b[0m \u001b[1;33m\u001b[0m\u001b[0m\n",
      "\u001b[1;31mAttributeError\u001b[0m: 'Info' object has no attribute '_B__acc_no'"
     ]
    }
   ],
   "source": [
    "#a very important concept \n",
    "class Info:\n",
    "    def __init__(self, name, acc_no):\n",
    "        self._name=name      #public( _ creates a public memeber)\n",
    "        self.__acc_no=acc_no   #private attribute of class (__ creates a private memeber)\n",
    "    def show(self):\n",
    "        print(self._name,self.__acc_no) #within class you can access both public and private members of Info class\n",
    "        \n",
    "name=\"Surbhi\"     \n",
    "acc_no=17837\n",
    "oi=Info(name,acc_no)\n",
    "oi.show()\n",
    "print(oi._name)    #public member so it is accessible\n",
    "print(oi.__acc_no) #will show error bcz it is private\n"
   ]
  },
  {
   "cell_type": "code",
   "execution_count": 20,
   "metadata": {},
   "outputs": [
    {
     "name": "stdout",
     "output_type": "stream",
     "text": [
      "Surbhi 17837\n",
      "Dr. Shivani\n"
     ]
    },
    {
     "ename": "AttributeError",
     "evalue": "'Info' object has no attribute '_B__acc_no'",
     "output_type": "error",
     "traceback": [
      "\u001b[1;31m---------------------------------------------------------------------------\u001b[0m",
      "\u001b[1;31mAttributeError\u001b[0m                            Traceback (most recent call last)",
      "\u001b[1;32m<ipython-input-20-6f0e527c37a9>\u001b[0m in \u001b[0;36m<module>\u001b[1;34m\u001b[0m\n\u001b[0;32m     19\u001b[0m \u001b[0moi\u001b[0m\u001b[1;33m.\u001b[0m\u001b[0mshow\u001b[0m\u001b[1;33m(\u001b[0m\u001b[1;33m)\u001b[0m\u001b[1;33m\u001b[0m\u001b[0m\n\u001b[0;32m     20\u001b[0m \u001b[0mob\u001b[0m\u001b[1;33m=\u001b[0m\u001b[0mB\u001b[0m\u001b[1;33m(\u001b[0m\u001b[1;33m)\u001b[0m\u001b[1;33m\u001b[0m\u001b[0m\n\u001b[1;32m---> 21\u001b[1;33m \u001b[0mob\u001b[0m\u001b[1;33m.\u001b[0m\u001b[0mdisplay\u001b[0m\u001b[1;33m(\u001b[0m\u001b[1;33m)\u001b[0m\u001b[1;33m\u001b[0m\u001b[0m\n\u001b[0m",
      "\u001b[1;32m<ipython-input-20-6f0e527c37a9>\u001b[0m in \u001b[0;36mdisplay\u001b[1;34m(self)\u001b[0m\n\u001b[0;32m     11\u001b[0m         \u001b[0mn\u001b[0m\u001b[1;33m=\u001b[0m\u001b[0mInfo\u001b[0m\u001b[1;33m(\u001b[0m\u001b[1;34m'Dr. Shivani'\u001b[0m\u001b[1;33m,\u001b[0m\u001b[1;34m'18000'\u001b[0m\u001b[1;33m)\u001b[0m  \u001b[1;31m#calling the info class, means passing these arguments in info class(initiated by n)\u001b[0m\u001b[1;33m\u001b[0m\u001b[0m\n\u001b[0;32m     12\u001b[0m         \u001b[0mprint\u001b[0m\u001b[1;33m(\u001b[0m\u001b[0mn\u001b[0m\u001b[1;33m.\u001b[0m\u001b[0m_name\u001b[0m\u001b[1;33m)\u001b[0m\u001b[1;33m\u001b[0m\u001b[0m\n\u001b[1;32m---> 13\u001b[1;33m         \u001b[0mprint\u001b[0m\u001b[1;33m(\u001b[0m\u001b[0mn\u001b[0m\u001b[1;33m.\u001b[0m\u001b[0m__acc_no\u001b[0m\u001b[1;33m)\u001b[0m  \u001b[1;31m#show error bcz private member of a class also not accessiable in another class but\u001b[0m\u001b[1;33m\u001b[0m\u001b[0m\n\u001b[0m\u001b[0;32m     14\u001b[0m                            \u001b[1;31m#as we saw above is accessible in the same class\u001b[0m\u001b[1;33m\u001b[0m\u001b[1;33m\u001b[0m\u001b[0m\n\u001b[0;32m     15\u001b[0m \u001b[1;33m\u001b[0m\u001b[0m\n",
      "\u001b[1;31mAttributeError\u001b[0m: 'Info' object has no attribute '_B__acc_no'"
     ]
    }
   ],
   "source": [
    "#a concept related to the previous concept\n",
    "class Info:\n",
    "    def __init__(self, name, acc_no):\n",
    "        self._name=name      #public\n",
    "        self.__acc_no=acc_no   #private attribute of class\n",
    "    def show(self):\n",
    "        print(self._name,self.__acc_no) #within class you can access both public and private members of Info class\n",
    "\n",
    "class B:\n",
    "    def display(self):\n",
    "        n=Info('Dr. Shivani','18000')  #calling the info class, means passing these arguments in info class(initiated by n)\n",
    "        print(n._name)\n",
    "        print(n.__acc_no)  #show error bcz private member of a class also not accessiable in another class but \n",
    "                           #as we saw above is accessible in the same class\n",
    "                \n",
    "name=\"Surbhi\"    \n",
    "acc_no=17837    \n",
    "oi=Info(name,acc_no)\n",
    "oi.show()\n",
    "ob=B()\n",
    "ob.display()"
   ]
  },
  {
   "cell_type": "code",
   "execution_count": 2,
   "metadata": {},
   "outputs": [
    {
     "name": "stdout",
     "output_type": "stream",
     "text": [
      "enter number of employees 2\n",
      "enter name arnav\n",
      "enter id 028\n",
      "enter post student\n",
      "enter password manu\n",
      "enter account number 8232\n",
      "enter name shubh\n",
      "enter id 173\n",
      "enter post st\n",
      "enter password abc\n",
      "enter account number 1234\n",
      "Name= arnav\n",
      "Post= student\n",
      "ID= 028\n",
      "password= manu\n",
      "account number= 8232\n",
      "Name= shubh\n",
      "Post= st\n",
      "ID= 173\n",
      "password= abc\n",
      "account number= 1234\n"
     ]
    }
   ],
   "source": [
    "# ### 6 Write a program for following:\n",
    "# - create a class \"Employee\" that has attributes name,id,post,password and account_number.Keep pass and account no private.\n",
    "# - Define method \"show_public\" that shows public information like name, post and id\n",
    "# - Define method \"show_private\" that shows private information like password and account_no\n",
    "# - Take details from user, create object of employee and show the details using defined functions\n",
    "\n",
    "class employee:\n",
    "    pass\n",
    "\n",
    "    def getdata(self):\n",
    "        self.name=input(\"enter name \")\n",
    "        self.id=input(\"enter id \")\n",
    "        self.post=input(\"enter post \")\n",
    "        self.__password=input(\"enter password \")\n",
    "        self.__account_no=int(input(\"enter account number \"))\n",
    "    \n",
    "    def __show_private(self):\n",
    "        print(\"password=\",self.__password)\n",
    "        print(\"account number=\",self.__account_no)\n",
    "        \n",
    "    def show_public(self):\n",
    "        print(\"Name=\",self.name)\n",
    "        print(\"Post=\",self.post)\n",
    "        print(\"ID=\",self.id)\n",
    "        self.__show_private()\n",
    "        \n",
    "n=int(input(\"enter number of employees \"))\n",
    "s=list()\n",
    "for i in range(0,n):\n",
    "    e=employee()\n",
    "    e.getdata()\n",
    "    s.append(e)\n",
    "\n",
    "for i in range(0,n):\n",
    "    s[i].show_public()"
   ]
  },
  {
   "cell_type": "code",
   "execution_count": 17,
   "metadata": {},
   "outputs": [
    {
     "name": "stdout",
     "output_type": "stream",
     "text": [
      "Enter Name=arnav \n",
      "Enter ID=2\n"
     ]
    },
    {
     "ename": "AttributeError",
     "evalue": "'Credit_Card' object has no attribute 'id'",
     "output_type": "error",
     "traceback": [
      "\u001b[1;31m---------------------------------------------------------------------------\u001b[0m",
      "\u001b[1;31mAttributeError\u001b[0m                            Traceback (most recent call last)",
      "\u001b[1;32m<ipython-input-17-357334418e9e>\u001b[0m in \u001b[0;36m<module>\u001b[1;34m\u001b[0m\n\u001b[0;32m     32\u001b[0m         \u001b[0mself\u001b[0m\u001b[1;33m.\u001b[0m\u001b[0mshow\u001b[0m\u001b[1;33m(\u001b[0m\u001b[1;33m)\u001b[0m\u001b[1;33m\u001b[0m\u001b[0m\n\u001b[0;32m     33\u001b[0m \u001b[1;33m\u001b[0m\u001b[0m\n\u001b[1;32m---> 34\u001b[1;33m \u001b[0mp\u001b[0m\u001b[1;33m=\u001b[0m\u001b[0mPerson\u001b[0m\u001b[1;33m(\u001b[0m\u001b[1;33m)\u001b[0m\u001b[1;33m\u001b[0m\u001b[0m\n\u001b[0m\u001b[0;32m     35\u001b[0m \u001b[1;31m################################################################################\u001b[0m\u001b[1;33m\u001b[0m\u001b[1;33m\u001b[0m\u001b[0m\n",
      "\u001b[1;32m<ipython-input-17-357334418e9e>\u001b[0m in \u001b[0;36m__init__\u001b[1;34m(self)\u001b[0m\n\u001b[0;32m     30\u001b[0m     \u001b[1;32mdef\u001b[0m \u001b[0m__init__\u001b[0m\u001b[1;33m(\u001b[0m\u001b[0mself\u001b[0m\u001b[1;33m)\u001b[0m\u001b[1;33m:\u001b[0m\u001b[1;33m\u001b[0m\u001b[0m\n\u001b[0;32m     31\u001b[0m         \u001b[0mself\u001b[0m\u001b[1;33m.\u001b[0m\u001b[0mgetdata\u001b[0m\u001b[1;33m(\u001b[0m\u001b[1;33m)\u001b[0m\u001b[1;33m\u001b[0m\u001b[0m\n\u001b[1;32m---> 32\u001b[1;33m         \u001b[0mself\u001b[0m\u001b[1;33m.\u001b[0m\u001b[0mshow\u001b[0m\u001b[1;33m(\u001b[0m\u001b[1;33m)\u001b[0m\u001b[1;33m\u001b[0m\u001b[0m\n\u001b[0m\u001b[0;32m     33\u001b[0m \u001b[1;33m\u001b[0m\u001b[0m\n\u001b[0;32m     34\u001b[0m \u001b[0mp\u001b[0m\u001b[1;33m=\u001b[0m\u001b[0mPerson\u001b[0m\u001b[1;33m(\u001b[0m\u001b[1;33m)\u001b[0m\u001b[1;33m\u001b[0m\u001b[0m\n",
      "\u001b[1;32m<ipython-input-17-357334418e9e>\u001b[0m in \u001b[0;36mshow\u001b[1;34m(self)\u001b[0m\n\u001b[0;32m     25\u001b[0m     \u001b[1;32mdef\u001b[0m \u001b[0mshow\u001b[0m\u001b[1;33m(\u001b[0m\u001b[0mself\u001b[0m\u001b[1;33m)\u001b[0m\u001b[1;33m:\u001b[0m\u001b[1;33m\u001b[0m\u001b[0m\n\u001b[0;32m     26\u001b[0m         \u001b[0ma\u001b[0m\u001b[1;33m=\u001b[0m\u001b[0mCredit_Card\u001b[0m\u001b[1;33m(\u001b[0m\u001b[1;33m)\u001b[0m\u001b[1;33m\u001b[0m\u001b[0m\n\u001b[1;32m---> 27\u001b[1;33m         \u001b[1;32mif\u001b[0m\u001b[1;33m(\u001b[0m\u001b[0mself\u001b[0m\u001b[1;33m.\u001b[0m\u001b[0mid\u001b[0m\u001b[1;33m==\u001b[0m\u001b[0ma\u001b[0m\u001b[1;33m.\u001b[0m\u001b[0mid\u001b[0m\u001b[1;33m)\u001b[0m\u001b[1;33m:\u001b[0m\u001b[1;33m\u001b[0m\u001b[0m\n\u001b[0m\u001b[0;32m     28\u001b[0m             \u001b[0mprint\u001b[0m\u001b[1;33m(\u001b[0m\u001b[0mself\u001b[0m\u001b[1;33m.\u001b[0m\u001b[0mname\u001b[0m\u001b[1;33m)\u001b[0m\u001b[1;33m\u001b[0m\u001b[0m\n\u001b[0;32m     29\u001b[0m             \u001b[0ma\u001b[0m\u001b[1;33m.\u001b[0m\u001b[0mshow\u001b[0m\u001b[1;33m(\u001b[0m\u001b[1;33m)\u001b[0m\u001b[1;33m\u001b[0m\u001b[0m\n",
      "\u001b[1;31mAttributeError\u001b[0m: 'Credit_Card' object has no attribute 'id'"
     ]
    }
   ],
   "source": [
    "# ### 8 Write a program for following:\n",
    "# - Create a class \"Credit_card\" that has id, private attributes( card_no and PIN ), a method \"show\" to show the card \n",
    "#   details\n",
    "# - Create a class \"Person\" that has attribute id, name and an object of credit card class and a method \"show\" to show id \n",
    "#   and name information.\n",
    "# - crerate object of person and show complete details\n",
    "\n",
    "class Credit_Card:\n",
    "    pass\n",
    "    def getvalues(self):\n",
    "        self.__card_no=int(int(input(\"Enter Card Number=\")))\n",
    "        self.__pin=int(input(\"Enter Pin=\"))\n",
    "\n",
    "    def __init__(self):\n",
    "        self.getvalues()\n",
    "        self.id=input()\n",
    "        \n",
    "    def show(self):\n",
    "        print(self.id,\"\\n\",self.__card_no,\"\\n\",self.__pin,)\n",
    "    \n",
    "class Person:\n",
    "    pass\n",
    "    def getdata(self):\n",
    "        self.name=input(\"Enter Name=\")\n",
    "        self.id=input(\"Enter ID=\")\n",
    "    def show(self):\n",
    "        a=Credit_Card()\n",
    "        if(self.id==a.id):\n",
    "            print(self.name)\n",
    "            a.show()\n",
    "    def __init__(self):\n",
    "        self.getdata()\n",
    "        self.show()\n",
    "        \n",
    "p=Person()\n",
    "################################################################################"
   ]
  },
  {
   "cell_type": "code",
   "execution_count": 6,
   "metadata": {},
   "outputs": [
    {
     "name": "stdout",
     "output_type": "stream",
     "text": [
      "Sum= 7\n",
      "Sum= 8\n"
     ]
    }
   ],
   "source": [
    "\n",
    "import random\n",
    "class Die:\n",
    "    pass\n",
    "    def __init__(self):\n",
    "        self.value=0\n",
    "    def values(self):\n",
    "        self.value=random.randint(1,7)\n",
    "        return self.value\n",
    "\n",
    "class Player:\n",
    "    def __init__(self):\n",
    "            a=Die()\n",
    "            b=Die()\n",
    "            self.display(a,b)\n",
    "    def display(self,a,b):\n",
    "            a.values()\n",
    "            b.values()\n",
    "            print(\"Sum=\",a.value+b.value)\n",
    "        \n",
    "\n",
    "p1=Player()\n",
    "p2=Player()\n"
   ]
  },
  {
   "cell_type": "code",
   "execution_count": null,
   "metadata": {},
   "outputs": [],
   "source": []
  }
 ],
 "metadata": {
  "kernelspec": {
   "display_name": "Python 3",
   "language": "python",
   "name": "python3"
  },
  "language_info": {
   "codemirror_mode": {
    "name": "ipython",
    "version": 3
   },
   "file_extension": ".py",
   "mimetype": "text/x-python",
   "name": "python",
   "nbconvert_exporter": "python",
   "pygments_lexer": "ipython3",
   "version": "3.7.0"
  }
 },
 "nbformat": 4,
 "nbformat_minor": 2
}
