{
 "cells": [
  {
   "cell_type": "code",
   "execution_count": 6,
   "metadata": {},
   "outputs": [
    {
     "name": "stdout",
     "output_type": "stream",
     "text": [
      "(32) base 10 =  100000 base 2\n",
      "(32) base 10 =  40 base 8\n",
      "(45) base 10 =  2d base 16\n",
      "(1010) base 2 =  10 base 10\n",
      "(24) base 8 =  20 base 10\n",
      "(12A) base 16= 298 base 10\n"
     ]
    }
   ],
   "source": [
    "print('(32) base 10 = ',format(32,'b'),'base 2')\n",
    "print('(32) base 10 = ',format(32,'o'),'base 8')\n",
    "print('(45) base 10 = ',format(45,'x'),'base 16')\n",
    "print('(1010) base 2 = ',int('1010', 2),'base 10')\n",
    "print('(24) base 8 = ', int('24', 8),'base 10')\n",
    "print('(12A) base 16=',  int('12A', 16),'base 10')"
   ]
  },
  {
   "cell_type": "code",
   "execution_count": 7,
   "metadata": {},
   "outputs": [
    {
     "name": "stdout",
     "output_type": "stream",
     "text": [
      "[123, 'hello', [3, 4, 5, 6]]\n",
      "[135, 'hello', [3, 4, 5, 6]]\n",
      "[135, 'hello', [10, 4, 5, 6]]\n"
     ]
    },
    {
     "ename": "TypeError",
     "evalue": "'str' object does not support item assignment",
     "output_type": "error",
     "traceback": [
      "\u001b[1;31m---------------------------------------------------------------------------\u001b[0m",
      "\u001b[1;31mTypeError\u001b[0m                                 Traceback (most recent call last)",
      "\u001b[1;32m<ipython-input-7-a4c53e78541d>\u001b[0m in \u001b[0;36m<module>\u001b[1;34m\u001b[0m\n\u001b[0;32m      5\u001b[0m \u001b[0mlst\u001b[0m\u001b[1;33m[\u001b[0m\u001b[1;36m2\u001b[0m\u001b[1;33m]\u001b[0m\u001b[1;33m[\u001b[0m\u001b[1;36m0\u001b[0m\u001b[1;33m]\u001b[0m\u001b[1;33m=\u001b[0m\u001b[1;36m10\u001b[0m\u001b[1;33m\u001b[0m\u001b[0m\n\u001b[0;32m      6\u001b[0m \u001b[0mprint\u001b[0m\u001b[1;33m(\u001b[0m\u001b[0mlst\u001b[0m\u001b[1;33m)\u001b[0m\u001b[1;33m\u001b[0m\u001b[0m\n\u001b[1;32m----> 7\u001b[1;33m \u001b[0mlst\u001b[0m\u001b[1;33m[\u001b[0m\u001b[1;36m1\u001b[0m\u001b[1;33m]\u001b[0m\u001b[1;33m[\u001b[0m\u001b[1;36m0\u001b[0m\u001b[1;33m]\u001b[0m\u001b[1;33m=\u001b[0m\u001b[1;34m'a'\u001b[0m\u001b[1;33m\u001b[0m\u001b[0m\n\u001b[0m\u001b[0;32m      8\u001b[0m \u001b[0mprint\u001b[0m\u001b[1;33m(\u001b[0m\u001b[0mlst\u001b[0m\u001b[1;33m)\u001b[0m\u001b[1;33m\u001b[0m\u001b[0m\n",
      "\u001b[1;31mTypeError\u001b[0m: 'str' object does not support item assignment"
     ]
    }
   ],
   "source": [
    "lst=[123,'hello',[3,4,5,6]] \n",
    "print(lst) \n",
    "lst[0]=135 \n",
    "print(lst) \n",
    "lst[2][0]=10 \n",
    "print(lst) \n",
    "lst[1][0]='a'\n",
    "print(lst)"
   ]
  },
  {
   "cell_type": "code",
   "execution_count": 8,
   "metadata": {},
   "outputs": [
    {
     "name": "stdout",
     "output_type": "stream",
     "text": [
      "19.8\n",
      "[3, 3.15, 4, 4.65, 5]\n"
     ]
    }
   ],
   "source": [
    "lst=[3,4,5,3.15,4.65] \n",
    "x=sum(lst) \n",
    "print(x) \n",
    "#sort(lst) is not a valid command(sort is not defined)\n",
    "#lst=sorted(lst)\n",
    "lst.sort()\n",
    "print(lst)"
   ]
  },
  {
   "cell_type": "code",
   "execution_count": 11,
   "metadata": {},
   "outputs": [
    {
     "name": "stdout",
     "output_type": "stream",
     "text": [
      "[3, 4, [20, 7, 8, 9], [10, 11, 12]]\n",
      "[3, 4, [20, 7, 8, 9], [10, 11, 12]]\n"
     ]
    }
   ],
   "source": [
    "import copy \n",
    "lst1=[3,4,[6,7,8,9],[10,11,12]]\n",
    "lst2=copy.copy(lst1)               #the reference is copied\n",
    "lst2[2][0]=20\n",
    "print(lst1)\n",
    "print(lst2)"
   ]
  },
  {
   "cell_type": "code",
   "execution_count": 12,
   "metadata": {},
   "outputs": [
    {
     "name": "stdout",
     "output_type": "stream",
     "text": [
      "[3, 4, [6, 7, 8, 9], [10, 11, 12]]\n",
      "[3, 4, [20, 7, 8, 9], [10, 11, 12]]\n"
     ]
    }
   ],
   "source": [
    "import copy\n",
    "lst1=[3,4,[6,7,8,9],[10,11,12]] \n",
    "lst2=copy.deepcopy(lst1)           #only the list is copied\n",
    "lst2[2][0]=20 \n",
    "print(lst1)\n",
    "print(lst2)"
   ]
  },
  {
   "cell_type": "code",
   "execution_count": 16,
   "metadata": {},
   "outputs": [
    {
     "name": "stdout",
     "output_type": "stream",
     "text": [
      "b\n"
     ]
    }
   ],
   "source": [
    "#elements of a list can be individually accssible and updated\n",
    "#elements of a string can be individually accssible but can not be updated\n",
    "#elements of a tuple can be individually accssible but can not be updated\n",
    "#elements of a set can not be individually accsible and can not be updated\n",
    "t=('jbcx',)\n",
    "print(t[0][1])"
   ]
  },
  {
   "cell_type": "code",
   "execution_count": 18,
   "metadata": {},
   "outputs": [
    {
     "name": "stdout",
     "output_type": "stream",
     "text": [
      "<class 'str'>\n",
      "<class 'tuple'>\n",
      "RepeatRepeatRepeat\n",
      "('Repeat', 'Repeat', 'Repeat')\n",
      "(1, 2, 3, 4, 5, 6)\n"
     ]
    }
   ],
   "source": [
    "my_tuple=(\"Hello\") \n",
    "print(type(my_tuple))\n",
    "my_tuple=(\"Hello\",)\n",
    "print(type(my_tuple))\n",
    "print((\"Repeat\")*3)\n",
    "print((\"Repeat\",)*3)\n",
    "print((1,2,3)+(4,5,6)) "
   ]
  },
  {
   "cell_type": "code",
   "execution_count": 24,
   "metadata": {},
   "outputs": [
    {
     "name": "stdout",
     "output_type": "stream",
     "text": [
      "{1.0, 'Hello', (1, 2, 3)}\n"
     ]
    }
   ],
   "source": [
    "my_set={1.0,\"Hello\",(1,2,3)}\n",
    "print(my_set) \n",
    "#my_set[0]=5\n",
    "#print(my_set)\n",
    "#my_set={1.0,\"Hello\",[1,2,3]}\n",
    "#print(my_set)"
   ]
  },
  {
   "cell_type": "code",
   "execution_count": null,
   "metadata": {},
   "outputs": [],
   "source": [
    "#list in a tuple can be accessed indivudually and can also be updated\n",
    "#tuple in a list can not be accessed individually but can not be updated, but it can be updated as a whole"
   ]
  },
  {
   "cell_type": "code",
   "execution_count": 25,
   "metadata": {},
   "outputs": [
    {
     "name": "stdout",
     "output_type": "stream",
     "text": [
      "{1, 2, 4, 5, 6, 8}\n",
      "{1, 2, 5, 6, 8}\n",
      "{1, 2, 5, 8}\n",
      "{1, 2, 5, 8}\n"
     ]
    },
    {
     "ename": "KeyError",
     "evalue": "9",
     "output_type": "error",
     "traceback": [
      "\u001b[1;31m---------------------------------------------------------------------------\u001b[0m",
      "\u001b[1;31mKeyError\u001b[0m                                  Traceback (most recent call last)",
      "\u001b[1;32m<ipython-input-25-4bb0d2d046eb>\u001b[0m in \u001b[0;36m<module>\u001b[1;34m\u001b[0m\n\u001b[0;32m      8\u001b[0m \u001b[0mmy_set\u001b[0m\u001b[1;33m.\u001b[0m\u001b[0mdiscard\u001b[0m\u001b[1;33m(\u001b[0m\u001b[1;36m9\u001b[0m\u001b[1;33m)\u001b[0m\u001b[1;33m\u001b[0m\u001b[0m\n\u001b[0;32m      9\u001b[0m \u001b[0mprint\u001b[0m\u001b[1;33m(\u001b[0m\u001b[0mmy_set\u001b[0m\u001b[1;33m)\u001b[0m\u001b[1;33m\u001b[0m\u001b[0m\n\u001b[1;32m---> 10\u001b[1;33m \u001b[0mmy_set\u001b[0m\u001b[1;33m.\u001b[0m\u001b[0mremove\u001b[0m\u001b[1;33m(\u001b[0m\u001b[1;36m9\u001b[0m\u001b[1;33m)\u001b[0m\u001b[1;33m\u001b[0m\u001b[0m\n\u001b[0m\u001b[0;32m     11\u001b[0m \u001b[0mprint\u001b[0m\u001b[1;33m(\u001b[0m\u001b[0mmy_set\u001b[0m\u001b[1;33m)\u001b[0m\u001b[1;33m\u001b[0m\u001b[0m\n",
      "\u001b[1;31mKeyError\u001b[0m: 9"
     ]
    }
   ],
   "source": [
    "my_set={1,2}\n",
    "my_set.update([4,5],{1,6,8})\n",
    "print(my_set)\n",
    "my_set.discard(4) \n",
    "print(my_set)\n",
    "my_set.remove(6)\n",
    "print(my_set)\n",
    "my_set.discard(9) \n",
    "print(my_set)\n",
    "my_set.remove(9)\n",
    "print(my_set)"
   ]
  },
  {
   "cell_type": "code",
   "execution_count": null,
   "metadata": {},
   "outputs": [],
   "source": []
  }
 ],
 "metadata": {
  "kernelspec": {
   "display_name": "Python 3",
   "language": "python",
   "name": "python3"
  },
  "language_info": {
   "codemirror_mode": {
    "name": "ipython",
    "version": 3
   },
   "file_extension": ".py",
   "mimetype": "text/x-python",
   "name": "python",
   "nbconvert_exporter": "python",
   "pygments_lexer": "ipython3",
   "version": "3.7.0"
  }
 },
 "nbformat": 4,
 "nbformat_minor": 2
}
