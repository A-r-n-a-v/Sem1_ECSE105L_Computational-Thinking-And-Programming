{
 "cells": [
  {
   "cell_type": "code",
   "execution_count": 14,
   "metadata": {},
   "outputs": [
    {
     "ename": "SyntaxError",
     "evalue": "can't assign to keyword (<ipython-input-14-884df10221f3>, line 1)",
     "output_type": "error",
     "traceback": [
      "\u001b[1;36m  File \u001b[1;32m\"<ipython-input-14-884df10221f3>\"\u001b[1;36m, line \u001b[1;32m1\u001b[0m\n\u001b[1;33m    True = False\u001b[0m\n\u001b[1;37m                ^\u001b[0m\n\u001b[1;31mSyntaxError\u001b[0m\u001b[1;31m:\u001b[0m can't assign to keyword\n"
     ]
    }
   ],
   "source": [
    "True = False\n",
    "while True:\n",
    "    print(True)\n",
    "    break"
   ]
  },
  {
   "cell_type": "markdown",
   "metadata": {},
   "source": [
    "# Variables concept (type and print)"
   ]
  },
  {
   "cell_type": "code",
   "execution_count": 3,
   "metadata": {},
   "outputs": [
    {
     "data": {
      "text/plain": [
       "float"
      ]
     },
     "execution_count": 3,
     "metadata": {},
     "output_type": "execute_result"
    }
   ],
   "source": [
    "a=10 \n",
    "Name = 'Vipul'\n",
    "Marks = 95.5\n",
    "flag = True\n",
    "type(a)\n",
    "type(Name)\n",
    "type(Marks)\n",
    "#only the data type of last variable is printed(limitness of type())"
   ]
  },
  {
   "cell_type": "code",
   "execution_count": 4,
   "metadata": {},
   "outputs": [
    {
     "name": "stdout",
     "output_type": "stream",
     "text": [
      "<class 'int'>\n",
      "<class 'str'>\n",
      "<class 'float'>\n",
      "<class 'bool'>\n"
     ]
    }
   ],
   "source": [
    "print(type(a))\n",
    "print(type(Name))\n",
    "print(type(Marks))\n",
    "print(type(flag))\n",
    "#data type of all the variables is printed(advantage of print())"
   ]
  },
  {
   "cell_type": "markdown",
   "metadata": {},
   "source": [
    "# something important"
   ]
  },
  {
   "cell_type": "code",
   "execution_count": 9,
   "metadata": {},
   "outputs": [
    {
     "name": "stdout",
     "output_type": "stream",
     "text": [
      "4\n",
      "0\n"
     ]
    }
   ],
   "source": [
    "print(2**2)       #power operator\n",
    "print(2^2)        #not a power operator"
   ]
  },
  {
   "cell_type": "code",
   "execution_count": 11,
   "metadata": {},
   "outputs": [
    {
     "name": "stdout",
     "output_type": "stream",
     "text": [
      "2.5\n",
      "2\n"
     ]
    }
   ],
   "source": [
    "print(5/2)      #simple division or float division\n",
    "print(5//2)     #integer division or floor division, only the integer part of the answer is printed "
   ]
  },
  {
   "cell_type": "markdown",
   "metadata": {},
   "source": [
    "# operator precedence(double click to see properly)\n",
    "\n",
    "Operator\t                  Description\n",
    "\n",
    "\n",
    "   ()                         Brackett\n",
    "\n",
    "   **    \t                  Exponentiation (raise to the power)(right to left)\n",
    "   \n",
    "  ~ + -\t                      Complement, unary plus and minus (method names for the last two are +@ and -@),represent sign\n",
    "  \n",
    "* / % //\t                  Multiply, divide, modulous and floor division(integer division)\n",
    "\n",
    "  + -\t                      Addition and subtraction\n",
    "  \n",
    " >> <<\t                      Right shift and left shift(bitwise)\n",
    " \n",
    "  &\t                          Bitwise 'AND'\n",
    "  \n",
    " ^ |\t                      Bitwise exclusive 'OR'(XOR) and regular 'OR'\n",
    " \n",
    "<= < > >=\t                  Comparison operators\n",
    "\n",
    "<> == !=\t                  Equality operators\n",
    "\n",
    "= += -= /= //= *= %=\t      Assignment operators\n",
    "\n",
    "  in ,not in                  Contained or not contained(membership operator)\n",
    "  \n",
    "    and                       Logical operator \n",
    "   \n",
    "   not, or                    Logical operators "
   ]
  },
  {
   "cell_type": "code",
   "execution_count": 19,
   "metadata": {},
   "outputs": [
    {
     "name": "stdout",
     "output_type": "stream",
     "text": [
      "0.0\n",
      "-5\n",
      "5\n",
      "5\n",
      "13\n"
     ]
    }
   ],
   "source": [
    "print(10/20*10+5-10)       \n",
    "print(10//(20*10)+5-10) \n",
    "print(500//20**2*10+5-10) \n",
    "print(50 * 2 // 5 >> 1 + 1)\n",
    "print(12 | 6 >> 1+1**9)"
   ]
  },
  {
   "cell_type": "code",
   "execution_count": 16,
   "metadata": {},
   "outputs": [
    {
     "data": {
      "text/plain": [
       "True"
      ]
     },
     "execution_count": 16,
     "metadata": {},
     "output_type": "execute_result"
    }
   ],
   "source": [
    "a = 10 #assignment operator \n",
    "b = 10 #assignment operator\n",
    "a == b #equality operator and not assignment operator"
   ]
  },
  {
   "cell_type": "code",
   "execution_count": 55,
   "metadata": {},
   "outputs": [
    {
     "name": "stdout",
     "output_type": "stream",
     "text": [
      "False\n",
      "True\n",
      "True\n",
      "True\n"
     ]
    }
   ],
   "source": [
    "a=5\n",
    "b=6\n",
    "c=7\n",
    "print (a > b and b < c)\n",
    "print (a <= b and b < c)\n",
    "print (a > b or b < c)\n",
    "print (a <= b or b > c)"
   ]
  },
  {
   "cell_type": "code",
   "execution_count": 19,
   "metadata": {},
   "outputs": [
    {
     "data": {
      "text/plain": [
       "False"
      ]
     },
     "execution_count": 19,
     "metadata": {},
     "output_type": "execute_result"
    }
   ],
   "source": [
    "not True"
   ]
  },
  {
   "cell_type": "code",
   "execution_count": 28,
   "metadata": {},
   "outputs": [
    {
     "data": {
      "text/plain": [
       "6"
      ]
     },
     "execution_count": 28,
     "metadata": {},
     "output_type": "execute_result"
    }
   ],
   "source": [
    "#in python the value '0' is consiered as false and except this all the other values are considered as true\n",
    "#(including integers and float values)\n",
    "(1 and 2 ) * (1 and 3) "
   ]
  },
  {
   "cell_type": "code",
   "execution_count": 21,
   "metadata": {},
   "outputs": [
    {
     "data": {
      "text/plain": [
       "3"
      ]
     },
     "execution_count": 21,
     "metadata": {},
     "output_type": "execute_result"
    }
   ],
   "source": [
    "(1 and 2 ) * 1 and 3"
   ]
  },
  {
   "cell_type": "markdown",
   "metadata": {},
   "source": [
    "# something very conceptual"
   ]
  },
  {
   "cell_type": "code",
   "execution_count": 59,
   "metadata": {},
   "outputs": [
    {
     "name": "stdout",
     "output_type": "stream",
     "text": [
      "1. 3\n",
      "2. 2\n",
      "3. 2\n",
      "4. 3\n",
      "5. 0\n",
      "6. -1\n",
      "7. 0\n",
      "8. -1\n"
     ]
    }
   ],
   "source": [
    "print('1.',2 and 3)\n",
    "print('2.',3 and 2)\n",
    "print('3.',2 or 3)\n",
    "print('4.',3 or 2)\n",
    "print('5.',0 and -1)\n",
    "print('6.',0 or -1)\n",
    "print('7.',-1 and 0)\n",
    "print('8.',-1 or 0)"
   ]
  },
  {
   "cell_type": "code",
   "execution_count": 74,
   "metadata": {},
   "outputs": [
    {
     "name": "stdout",
     "output_type": "stream",
     "text": [
      "0\n",
      "1\n",
      "1\n",
      "1\n",
      "0\n",
      "0\n"
     ]
    }
   ],
   "source": [
    "print(1 & 0)\n",
    "print(1 | 0)\n",
    "print(1 & 1)\n",
    "print(1 | 1)\n",
    "print(0 & 0)\n",
    "print(0 | 0)"
   ]
  },
  {
   "cell_type": "code",
   "execution_count": 77,
   "metadata": {},
   "outputs": [
    {
     "data": {
      "text/plain": [
       "2"
      ]
     },
     "execution_count": 77,
     "metadata": {},
     "output_type": "execute_result"
    }
   ],
   "source": [
    "6 & 3\n",
    "#binary of 6 = 110\n",
    "#binary of 3 = 011\n",
    "#answer 6&3  = 010 \n",
    "#decimal of 010 = 2"
   ]
  },
  {
   "cell_type": "code",
   "execution_count": 79,
   "metadata": {},
   "outputs": [
    {
     "data": {
      "text/plain": [
       "7"
      ]
     },
     "execution_count": 79,
     "metadata": {},
     "output_type": "execute_result"
    }
   ],
   "source": [
    "6 | 3\n",
    "#binary of 6 = 110\n",
    "#binary of 3 = 011\n",
    "#answer 6|3  = 111 \n",
    "#decimal of 111 = 7"
   ]
  },
  {
   "cell_type": "code",
   "execution_count": 61,
   "metadata": {},
   "outputs": [
    {
     "data": {
      "text/plain": [
       "4"
      ]
     },
     "execution_count": 61,
     "metadata": {},
     "output_type": "execute_result"
    }
   ],
   "source": [
    "#right shift a>>b is a//(2**b)  (integer division or floor division)\n",
    "16>>2\n",
    "#binary method\n",
    "#binary of 16 = 10000\n",
    "#right shift by 2, delete the last two elements\n",
    "#so it becomes 100 which is the binary of 4"
   ]
  },
  {
   "cell_type": "code",
   "execution_count": 62,
   "metadata": {},
   "outputs": [
    {
     "data": {
      "text/plain": [
       "64"
      ]
     },
     "execution_count": 62,
     "metadata": {},
     "output_type": "execute_result"
    }
   ],
   "source": [
    "#left shift a<<b is a*(2**b)\n",
    "16<<2\n",
    "#binary method\n",
    "#binary of 16 = 10000\n",
    "#left shift by 2, add two zeroes in the last\n",
    "#so it becomes 1000000 which is the binary of 64"
   ]
  },
  {
   "cell_type": "code",
   "execution_count": 63,
   "metadata": {},
   "outputs": [
    {
     "name": "stdout",
     "output_type": "stream",
     "text": [
      "4\n",
      "68\n"
     ]
    }
   ],
   "source": [
    "print(17>>2)\n",
    "#17//(2**2)\n",
    "#17 = 10001 (>>2)=> 100 => 4\n",
    "print(17<<2)\n",
    "#17*(2**2)\n",
    "#17 = 10001 (<<2)=> 1000100 =>68"
   ]
  },
  {
   "cell_type": "code",
   "execution_count": 80,
   "metadata": {},
   "outputs": [
    {
     "name": "stdout",
     "output_type": "stream",
     "text": [
      "1\n",
      "1\n",
      "0\n",
      "0\n"
     ]
    }
   ],
   "source": [
    "print(1 ^ 0) #both are different\n",
    "print(0 ^ 1) #both are different\n",
    "print(1 ^ 1) #both are same\n",
    "print(0 ^ 0) #both are same"
   ]
  },
  {
   "cell_type": "code",
   "execution_count": 71,
   "metadata": {},
   "outputs": [
    {
     "data": {
      "text/plain": [
       "4"
      ]
     },
     "execution_count": 71,
     "metadata": {},
     "output_type": "execute_result"
    }
   ],
   "source": [
    "6^2\n",
    "#binary of 6 = 110\n",
    "#binary of 2 = 010\n",
    "#answer 6^2  = 100 \n",
    "#decimal of 100 = 4"
   ]
  },
  {
   "cell_type": "code",
   "execution_count": 81,
   "metadata": {},
   "outputs": [
    {
     "data": {
      "text/plain": [
       "0"
      ]
     },
     "execution_count": 81,
     "metadata": {},
     "output_type": "execute_result"
    }
   ],
   "source": [
    "4^4\n",
    "#binary of 4 = 100\n",
    "#binary of 4 = 100\n",
    "#answer 4^4  = 000 \n",
    "#decimal of 000 = 0"
   ]
  },
  {
   "cell_type": "code",
   "execution_count": 82,
   "metadata": {},
   "outputs": [
    {
     "data": {
      "text/plain": [
       "5"
      ]
     },
     "execution_count": 82,
     "metadata": {},
     "output_type": "execute_result"
    }
   ],
   "source": [
    "50 * 2 // 5 >> 1 + 1"
   ]
  },
  {
   "cell_type": "code",
   "execution_count": 83,
   "metadata": {},
   "outputs": [
    {
     "ename": "TypeError",
     "evalue": "unsupported operand type(s) for >>: 'float' and 'int'",
     "output_type": "error",
     "traceback": [
      "\u001b[1;31m---------------------------------------------------------------------------\u001b[0m",
      "\u001b[1;31mTypeError\u001b[0m                                 Traceback (most recent call last)",
      "\u001b[1;32m<ipython-input-83-d56a17840d9f>\u001b[0m in \u001b[0;36m<module>\u001b[1;34m\u001b[0m\n\u001b[1;32m----> 1\u001b[1;33m \u001b[1;36m50\u001b[0m \u001b[1;33m*\u001b[0m \u001b[1;36m2\u001b[0m \u001b[1;33m/\u001b[0m \u001b[1;36m5\u001b[0m \u001b[1;33m>>\u001b[0m \u001b[1;36m1\u001b[0m \u001b[1;33m+\u001b[0m \u001b[1;36m1\u001b[0m\u001b[1;33m\u001b[0m\u001b[0m\n\u001b[0m\u001b[0;32m      2\u001b[0m \u001b[1;31m#this will show error because >> is a bitwise operator which only works with integer values\u001b[0m\u001b[1;33m\u001b[0m\u001b[1;33m\u001b[0m\u001b[0m\n",
      "\u001b[1;31mTypeError\u001b[0m: unsupported operand type(s) for >>: 'float' and 'int'"
     ]
    }
   ],
   "source": [
    "50 * 2 / 5 >> 1 + 1\n",
    "#this will show error because >> is a bitwise operator which only works with integer values"
   ]
  },
  {
   "cell_type": "code",
   "execution_count": 86,
   "metadata": {},
   "outputs": [
    {
     "name": "stdout",
     "output_type": "stream",
     "text": [
      "0\n",
      "0\n",
      "0\n"
     ]
    }
   ],
   "source": [
    "print(10 & 5)\n",
    "print(10 ^10)\n",
    "print(10 & 5 | 10 ^ 10)"
   ]
  },
  {
   "cell_type": "code",
   "execution_count": 92,
   "metadata": {},
   "outputs": [
    {
     "name": "stdout",
     "output_type": "stream",
     "text": [
      "5.25\n",
      "True\n",
      "False\n"
     ]
    }
   ],
   "source": [
    "print((20>>3)/8+5%10)\n",
    "print(5 >= 4 & 6 <= 7) \n",
    "print(5 >= 4 & 6 <= 3)"
   ]
  },
  {
   "cell_type": "code",
   "execution_count": 93,
   "metadata": {},
   "outputs": [
    {
     "name": "stdout",
     "output_type": "stream",
     "text": [
      "5 6 7\n"
     ]
    }
   ],
   "source": [
    "a,b,c=5,6,7  #multiassignment\n",
    "print(a,b,c)"
   ]
  },
  {
   "cell_type": "code",
   "execution_count": 112,
   "metadata": {},
   "outputs": [
    {
     "name": "stdout",
     "output_type": "stream",
     "text": [
      "False\n",
      "True\n",
      "2\n",
      "2\n",
      "0\n",
      "0\n",
      "False\n",
      "True\n",
      ": see the change :\n",
      "False\n",
      "2\n",
      "2\n",
      "True\n",
      "False\n",
      "0\n",
      "0\n",
      "True\n"
     ]
    }
   ],
   "source": [
    "# do not get confused, just put 0 at the place of false and any number except 0 at the place of true \n",
    "print(2 and False)\n",
    "print(2 and True)\n",
    "print(2 or False)\n",
    "print(2 or True)\n",
    "print(0 and False)\n",
    "print(0 and True)\n",
    "print(0 or False)\n",
    "print(0 or True)\n",
    "print(\": see the change :\")\n",
    "print(False and 2)\n",
    "print(True and 2)\n",
    "print(False or 2)\n",
    "print(True or 2)\n",
    "print(False and 0)\n",
    "print(True and 0)\n",
    "print(False or 0)\n",
    "print(True or 0)"
   ]
  },
  {
   "cell_type": "code",
   "execution_count": 22,
   "metadata": {},
   "outputs": [
    {
     "name": "stdout",
     "output_type": "stream",
     "text": [
      "False\n",
      "True\n"
     ]
    }
   ],
   "source": [
    "a=5\n",
    "b=6\n",
    "c=0\n",
    "print ((a and b) > (b or c))\n",
    "print ((a or b) > (b and c))"
   ]
  },
  {
   "cell_type": "code",
   "execution_count": 114,
   "metadata": {},
   "outputs": [
    {
     "name": "stdout",
     "output_type": "stream",
     "text": [
      "0\n",
      "5\n"
     ]
    }
   ],
   "source": [
    "a=5\n",
    "b=6\n",
    "c=0\n",
    "print (a and b > b or c)\n",
    "print (a or b > b and c)"
   ]
  },
  {
   "cell_type": "markdown",
   "metadata": {},
   "source": [
    "# LOOPS"
   ]
  },
  {
   "cell_type": "markdown",
   "metadata": {},
   "source": [
    "## While loop"
   ]
  },
  {
   "cell_type": "markdown",
   "metadata": {},
   "source": [
    "### write a program to take numbers from the user untill he enter 0 as input. then print sum of all entered number."
   ]
  },
  {
   "cell_type": "code",
   "execution_count": 7,
   "metadata": {},
   "outputs": [
    {
     "name": "stdout",
     "output_type": "stream",
     "text": [
      "enter n : 2\n",
      "enter n : 4\n",
      "enter n : 3\n",
      "enter n : 1\n",
      "enter n : 0\n",
      "10\n"
     ]
    }
   ],
   "source": [
    "#first way\n",
    "sum=0\n",
    "n=int(input(\"enter n : \"))\n",
    "while(n!=0):\n",
    "    sum+=n\n",
    "    n=int(input(\"enter n : \"))\n",
    "print(sum)"
   ]
  },
  {
   "cell_type": "code",
   "execution_count": 2,
   "metadata": {},
   "outputs": [
    {
     "name": "stdout",
     "output_type": "stream",
     "text": [
      "enter n : 2\n",
      "enter n : 4\n",
      "enter n : 3\n",
      "enter n : 1\n",
      "enter n : 0\n",
      "10\n"
     ]
    }
   ],
   "source": [
    "#secind way(more efficient and good way)\n",
    "sum=0\n",
    "while(True):\n",
    "    n=int(input(\"enter n : \"))\n",
    "    if(n==0):\n",
    "        break\n",
    "    else:\n",
    "        sum+=n\n",
    "print(sum)\n",
    "#the while(True) loop runs until the break statement is executed"
   ]
  },
  {
   "cell_type": "markdown",
   "metadata": {},
   "source": [
    "###  write a program to print all even numbers between n to m. m should be greater than n."
   ]
  },
  {
   "cell_type": "code",
   "execution_count": 12,
   "metadata": {},
   "outputs": [
    {
     "name": "stdout",
     "output_type": "stream",
     "text": [
      "enter first number-1\n",
      "enter last number-11\n",
      "2\n",
      "4\n",
      "6\n",
      "8\n",
      "10\n"
     ]
    }
   ],
   "source": [
    "#there could be many answers but this is the best\n",
    "n=int(input(\"enter first number-\"))\n",
    "m=int(input(\"enter last number-\"))\n",
    "n =n + n%2\n",
    "while(n<m):\n",
    "    print(n)\n",
    "    n=n+2"
   ]
  },
  {
   "cell_type": "markdown",
   "metadata": {},
   "source": [
    "## For loop"
   ]
  },
  {
   "cell_type": "code",
   "execution_count": 24,
   "metadata": {},
   "outputs": [
    {
     "name": "stdout",
     "output_type": "stream",
     "text": [
      "1\n",
      "3\n",
      "length is 4\n"
     ]
    }
   ],
   "source": [
    "x=range(1,5)\n",
    "print(x[0])\n",
    "print(x[2])\n",
    "print(\"length is\",len(x))"
   ]
  },
  {
   "cell_type": "code",
   "execution_count": 20,
   "metadata": {},
   "outputs": [
    {
     "name": "stdout",
     "output_type": "stream",
     "text": [
      "lenth is 0\n"
     ]
    }
   ],
   "source": [
    "x=range(9,20,-1)\n",
    "print('lenth is',len(x))"
   ]
  },
  {
   "cell_type": "code",
   "execution_count": 1,
   "metadata": {},
   "outputs": [
    {
     "name": "stdout",
     "output_type": "stream",
     "text": [
      "1232\n",
      "def2\n",
      "efg2\n",
      "ijk2\n"
     ]
    }
   ],
   "source": [
    "for x in ['123','def','efg','ijk']:\n",
    "    print(x+str(2))"
   ]
  },
  {
   "cell_type": "markdown",
   "metadata": {},
   "source": [
    "### Prime number program"
   ]
  },
  {
   "cell_type": "code",
   "execution_count": 45,
   "metadata": {},
   "outputs": [
    {
     "name": "stdout",
     "output_type": "stream",
     "text": [
      "Enter a number : 2\n",
      "Number is Prime\n"
     ]
    }
   ],
   "source": [
    "#first way\n",
    "x = int(input(\"Enter a number : \"))\n",
    "flag = True\n",
    "for i in range(2,x):\n",
    "    if(x%i==0):\n",
    "        flag = False\n",
    "if(flag):\n",
    "    print(\"Number is Prime\")\n",
    "else:\n",
    "    print(\"Number is not prime\")"
   ]
  },
  {
   "cell_type": "code",
   "execution_count": 37,
   "metadata": {},
   "outputs": [
    {
     "name": "stdout",
     "output_type": "stream",
     "text": [
      "Enter a number : 6\n",
      "Number is not prime\n"
     ]
    }
   ],
   "source": [
    "#second way\n",
    "x = int(input(\"Enter a number : \"))\n",
    "flag = True\n",
    "for i in range(2,x):\n",
    "    if(x%i==0):\n",
    "        print(\"Number is not prime\")\n",
    "        break\n",
    "else:\n",
    "    print(\"Number is prime\")"
   ]
  },
  {
   "cell_type": "markdown",
   "metadata": {},
   "source": [
    "### Prime numbers between m and n"
   ]
  },
  {
   "cell_type": "code",
   "execution_count": 197,
   "metadata": {},
   "outputs": [
    {
     "name": "stdout",
     "output_type": "stream",
     "text": [
      "enter m : 2\n",
      "enter n : 9\n",
      "2\n",
      "3\n",
      "5\n",
      "7\n"
     ]
    }
   ],
   "source": [
    "m=int(input(\"enter m : \"))\n",
    "n=int(input(\"enter n : \"))\n",
    "for i in range(m,n+1):\n",
    "    flag=True\n",
    "    for j in range(2,i):\n",
    "        if(i%j==0):\n",
    "            flag=False\n",
    "            break\n",
    "    if(flag):\n",
    "        print(i)"
   ]
  },
  {
   "cell_type": "markdown",
   "metadata": {},
   "source": [
    "### Loop complexity concept with prime number example"
   ]
  },
  {
   "cell_type": "code",
   "execution_count": 160,
   "metadata": {},
   "outputs": [
    {
     "name": "stdout",
     "output_type": "stream",
     "text": [
      "Enter a number : 20\n",
      "Number is not prime\n",
      "number of iterations are 18\n"
     ]
    }
   ],
   "source": [
    "#first way\n",
    "x = int(input(\"Enter a number : \"))\n",
    "flag = True\n",
    "c=0\n",
    "for i in range(2,x):   \n",
    "    c+=1\n",
    "    if(x%i==0):\n",
    "        flag = False\n",
    "if(flag):\n",
    "    print(\"Number is Prime\")\n",
    "else:\n",
    "    print(\"Number is not prime\")\n",
    "print(\"number of iterations are\",c)"
   ]
  },
  {
   "cell_type": "code",
   "execution_count": 161,
   "metadata": {},
   "outputs": [
    {
     "name": "stdout",
     "output_type": "stream",
     "text": [
      "Enter a number : 20\n",
      "Number is not prime\n",
      "number of iterations 8\n"
     ]
    }
   ],
   "source": [
    "#second way\n",
    "x = int(input(\"Enter a number : \"))\n",
    "flag = True\n",
    "c=0\n",
    "for i in range(2,x//2):\n",
    "    c+=1\n",
    "    if(x%i==0):\n",
    "        flag = False\n",
    "if(flag):\n",
    "    print(\"Number is Prime\")\n",
    "else:\n",
    "    print(\"Number is not prime\")\n",
    "print(\"number of iterations\",c)"
   ]
  },
  {
   "cell_type": "code",
   "execution_count": 149,
   "metadata": {},
   "outputs": [
    {
     "name": "stdout",
     "output_type": "stream",
     "text": [
      "Enter a number : 20\n",
      "Number is not prime\n",
      "number of iterations 2\n"
     ]
    }
   ],
   "source": [
    "#third way\n",
    "x = int(input(\"Enter a number : \"))\n",
    "flag = True\n",
    "c=0\n",
    "for i in range(2,int(x**0.5)):  #here the integer value of square root is taken\n",
    "    c+=1\n",
    "    if(x%i==0):\n",
    "        flag = False\n",
    "if(flag):\n",
    "    print(\"Number is Prime\")\n",
    "else:\n",
    "    print(\"Number is not prime\")\n",
    "print(\"number of iterations\",c)"
   ]
  },
  {
   "cell_type": "markdown",
   "metadata": {},
   "source": [
    "## Patterns"
   ]
  },
  {
   "cell_type": "code",
   "execution_count": 79,
   "metadata": {},
   "outputs": [
    {
     "name": "stdout",
     "output_type": "stream",
     "text": [
      "* \n",
      "* * \n",
      "* * * \n",
      "* * * * \n",
      "* * * * * \n"
     ]
    }
   ],
   "source": [
    "for i in range(1,6):\n",
    "    print(i*\"* \")"
   ]
  },
  {
   "cell_type": "code",
   "execution_count": 107,
   "metadata": {
    "scrolled": true
   },
   "outputs": [
    {
     "name": "stdout",
     "output_type": "stream",
     "text": [
      "         * \n",
      "       * * \n",
      "     * * * \n",
      "   * * * * \n",
      " * * * * * \n"
     ]
    }
   ],
   "source": [
    "for i in range(1,6):\n",
    "    print((5-i)*\"  \",i*\"* \")"
   ]
  },
  {
   "cell_type": "code",
   "execution_count": 115,
   "metadata": {},
   "outputs": [
    {
     "name": "stdout",
     "output_type": "stream",
     "text": [
      "     * \n",
      "   * * * \n",
      " * * * * * \n"
     ]
    }
   ],
   "source": [
    "for i in range(1,6,2):\n",
    "    print((5-i)*\" \",i*\"* \")"
   ]
  },
  {
   "cell_type": "code",
   "execution_count": 116,
   "metadata": {},
   "outputs": [
    {
     "name": "stdout",
     "output_type": "stream",
     "text": [
      "     * \n",
      "   * * * \n",
      " * * * * * \n",
      "   * * * \n",
      "     * \n"
     ]
    }
   ],
   "source": [
    "for i in range(1,6,2):\n",
    "    print((5-i)*\" \",i*\"* \")\n",
    "for i in range(3,0,-2):\n",
    "    print((5-i)*\" \",i*\"* \")"
   ]
  },
  {
   "cell_type": "markdown",
   "metadata": {},
   "source": [
    "# Functions\n"
   ]
  },
  {
   "cell_type": "markdown",
   "metadata": {},
   "source": [
    "## There are four types of functions\n",
    "### 1.Required argument"
   ]
  },
  {
   "cell_type": "code",
   "execution_count": 125,
   "metadata": {},
   "outputs": [
    {
     "name": "stdout",
     "output_type": "stream",
     "text": [
      "7\n"
     ]
    }
   ],
   "source": [
    "def sum(a,b):\n",
    "    s=a+b\n",
    "    print(s)\n",
    "sum(3,4)"
   ]
  },
  {
   "cell_type": "markdown",
   "metadata": {},
   "source": [
    "### 2.Default argument\n"
   ]
  },
  {
   "cell_type": "code",
   "execution_count": 126,
   "metadata": {},
   "outputs": [
    {
     "name": "stdout",
     "output_type": "stream",
     "text": [
      "3\n",
      "7\n"
     ]
    }
   ],
   "source": [
    "def sum(a=1,b=2):\n",
    "    s=a+b\n",
    "    print(s)\n",
    "sum()\n",
    "sum(3,4)"
   ]
  },
  {
   "cell_type": "markdown",
   "metadata": {},
   "source": [
    "### 3.Keyword argument\n"
   ]
  },
  {
   "cell_type": "code",
   "execution_count": 128,
   "metadata": {},
   "outputs": [
    {
     "name": "stdout",
     "output_type": "stream",
     "text": [
      "2\n",
      "3\n",
      "3\n",
      "7\n"
     ]
    }
   ],
   "source": [
    "def sum(a,b):\n",
    "    s=a+b\n",
    "    print(b)\n",
    "    print(s)\n",
    "sum(a=1,b=2)\n",
    "sum(b=3,a=4)"
   ]
  },
  {
   "cell_type": "markdown",
   "metadata": {},
   "source": [
    "### 4.Variable number of argument\n"
   ]
  },
  {
   "cell_type": "code",
   "execution_count": 165,
   "metadata": {},
   "outputs": [
    {
     "name": "stdout",
     "output_type": "stream",
     "text": [
      "6\n",
      "7\n"
     ]
    }
   ],
   "source": [
    "def sum(*args):\n",
    "    s=0\n",
    "    for i in args:\n",
    "        s=s+i\n",
    "    print(s)\n",
    "sum(1,2,3)\n",
    "sum(3,4)"
   ]
  },
  {
   "cell_type": "code",
   "execution_count": 120,
   "metadata": {},
   "outputs": [
    {
     "name": "stdout",
     "output_type": "stream",
     "text": [
      "factorial has been called with n = 5\n",
      "factorial has been called with n = 4\n",
      "factorial has been called with n = 3\n",
      "factorial has been called with n = 2\n",
      "factorial has been called with n = 1\n",
      "intermediate results for 2 * factoral( 1 ):  2\n",
      "intermediate results for 3 * factoral( 2 ):  6\n",
      "intermediate results for 4 * factoral( 3 ):  24\n",
      "intermediate results for 5 * factoral( 4 ):  120\n",
      "120\n"
     ]
    }
   ],
   "source": [
    "def factorial(n):\n",
    "    print(\"factorial has been called with n =\",n)\n",
    "    if(n==1):\n",
    "        return 1\n",
    "    else:\n",
    "        res = n*factorial(n-1)\n",
    "        print(\"intermediate results for\",n,\"* factoral(\",n-1,\"): \",res)\n",
    "        return res\n",
    "print(factorial(5))"
   ]
  },
  {
   "cell_type": "code",
   "execution_count": 164,
   "metadata": {},
   "outputs": [
    {
     "name": "stdout",
     "output_type": "stream",
     "text": [
      "7\n"
     ]
    }
   ],
   "source": [
    "#A special type of function called lambda function\n",
    "#lambda function is a way to create small anonymous functions, i.e. functions without a name.\n",
    "sum = lambda x,y : x+y\n",
    "print(sum(3,4))"
   ]
  },
  {
   "cell_type": "code",
   "execution_count": 25,
   "metadata": {},
   "outputs": [
    {
     "name": "stdout",
     "output_type": "stream",
     "text": [
      "x is 50\n",
      "Changed local x to 2\n",
      "50\n"
     ]
    }
   ],
   "source": [
    "x = 50\n",
    "def func(x):\n",
    "    print('x is', x)\n",
    "    x = 2\n",
    "    print('Changed local x to', x)\n",
    "func(x)\n",
    "print(x)"
   ]
  },
  {
   "cell_type": "code",
   "execution_count": 26,
   "metadata": {},
   "outputs": [
    {
     "name": "stdout",
     "output_type": "stream",
     "text": [
      "x is 50\n",
      "Changed global x to 2\n",
      "Value of x is 2\n"
     ]
    }
   ],
   "source": [
    "x = 50\n",
    "def func():\n",
    "    global x\n",
    "    print('x is', x)\n",
    "    x = 2\n",
    "    print('Changed global x to', x)\n",
    "func()\n",
    "print('Value of x is', x)"
   ]
  },
  {
   "cell_type": "code",
   "execution_count": 28,
   "metadata": {},
   "outputs": [
    {
     "name": "stdout",
     "output_type": "stream",
     "text": [
      "a is 3\n",
      "b is 7\n",
      "c is 10\n",
      "a is 25\n",
      "b is 5\n",
      "c is 24\n",
      "a is 100\n",
      "b is 5\n",
      "c is 50\n"
     ]
    }
   ],
   "source": [
    "def func(a, b=5, c=10):  #here, if we do a=5,b,c=10 then it will show error bcz non-default argument follows default argument\n",
    "    print('a is', a)\n",
    "    print('b is', b)\n",
    "    print('c is', c)\n",
    " \n",
    "func(3, 7)\n",
    "func(25, c = 24)\n",
    "func(c = 50, a = 100)"
   ]
  },
  {
   "cell_type": "markdown",
   "metadata": {},
   "source": [
    "# List"
   ]
  },
  {
   "cell_type": "code",
   "execution_count": 166,
   "metadata": {},
   "outputs": [
    {
     "name": "stdout",
     "output_type": "stream",
     "text": [
      "3\n"
     ]
    },
    {
     "ename": "TypeError",
     "evalue": "list indices must be integers or slices, not float",
     "output_type": "error",
     "traceback": [
      "\u001b[1;31m---------------------------------------------------------------------------\u001b[0m",
      "\u001b[1;31mTypeError\u001b[0m                                 Traceback (most recent call last)",
      "\u001b[1;32m<ipython-input-166-0a0457e86022>\u001b[0m in \u001b[0;36m<module>\u001b[1;34m\u001b[0m\n\u001b[0;32m      2\u001b[0m \u001b[0ml\u001b[0m\u001b[1;33m=\u001b[0m\u001b[1;33m[\u001b[0m\u001b[1;36m1\u001b[0m\u001b[1;33m,\u001b[0m\u001b[1;36m3\u001b[0m\u001b[1;33m,\u001b[0m\u001b[1;36m4\u001b[0m\u001b[1;33m]\u001b[0m\u001b[1;33m\u001b[0m\u001b[0m\n\u001b[0;32m      3\u001b[0m \u001b[0mprint\u001b[0m\u001b[1;33m(\u001b[0m\u001b[0ml\u001b[0m\u001b[1;33m[\u001b[0m\u001b[1;36m1\u001b[0m\u001b[1;33m]\u001b[0m\u001b[1;33m)\u001b[0m\u001b[1;33m\u001b[0m\u001b[0m\n\u001b[1;32m----> 4\u001b[1;33m \u001b[0mprint\u001b[0m\u001b[1;33m(\u001b[0m\u001b[0ml\u001b[0m\u001b[1;33m[\u001b[0m\u001b[1;36m1.0\u001b[0m\u001b[1;33m]\u001b[0m\u001b[1;33m)\u001b[0m\u001b[1;33m\u001b[0m\u001b[0m\n\u001b[0m",
      "\u001b[1;31mTypeError\u001b[0m: list indices must be integers or slices, not float"
     ]
    }
   ],
   "source": [
    "#only integers can be used for indexing, float values are not allowed\n",
    "l=[1,3,4]\n",
    "print(l[1])\n",
    "print(l[1.0])"
   ]
  },
  {
   "cell_type": "code",
   "execution_count": 186,
   "metadata": {},
   "outputs": [
    {
     "name": "stdout",
     "output_type": "stream",
     "text": [
      "a\n",
      "5\n"
     ]
    }
   ],
   "source": [
    "#indexing\n",
    "n_list = [\"Happy\", [2,0,1,5]]\n",
    "print(n_list[0][1])  \n",
    "print(n_list[1][3])"
   ]
  },
  {
   "cell_type": "code",
   "execution_count": 187,
   "metadata": {},
   "outputs": [
    {
     "name": "stdout",
     "output_type": "stream",
     "text": [
      "[[4, 5, 6, 7], 2, 3, 4]\n",
      "[4, 5, 6, 7, 2, 3, 4]\n",
      "[4, 5, 6, 7]\n"
     ]
    },
    {
     "ename": "IndexError",
     "evalue": "list assignment index out of range",
     "output_type": "error",
     "traceback": [
      "\u001b[1;31m---------------------------------------------------------------------------\u001b[0m",
      "\u001b[1;31mIndexError\u001b[0m                                Traceback (most recent call last)",
      "\u001b[1;32m<ipython-input-187-d89c6b0ea1b7>\u001b[0m in \u001b[0;36m<module>\u001b[1;34m\u001b[0m\n\u001b[0;32m      7\u001b[0m \u001b[0ml\u001b[0m\u001b[1;33m[\u001b[0m\u001b[1;36m0\u001b[0m\u001b[1;33m:\u001b[0m\u001b[1;36m9\u001b[0m\u001b[1;33m]\u001b[0m\u001b[1;33m=\u001b[0m\u001b[1;33m[\u001b[0m\u001b[1;36m4\u001b[0m\u001b[1;33m,\u001b[0m\u001b[1;36m5\u001b[0m\u001b[1;33m,\u001b[0m\u001b[1;36m6\u001b[0m\u001b[1;33m,\u001b[0m\u001b[1;36m7\u001b[0m\u001b[1;33m]\u001b[0m\u001b[1;33m\u001b[0m\u001b[0m\n\u001b[0;32m      8\u001b[0m \u001b[0mprint\u001b[0m\u001b[1;33m(\u001b[0m\u001b[0ml\u001b[0m\u001b[1;33m)\u001b[0m\u001b[1;33m\u001b[0m\u001b[0m\n\u001b[1;32m----> 9\u001b[1;33m \u001b[0ml\u001b[0m\u001b[1;33m[\u001b[0m\u001b[1;36m9\u001b[0m\u001b[1;33m]\u001b[0m\u001b[1;33m=\u001b[0m\u001b[1;33m[\u001b[0m\u001b[1;36m4\u001b[0m\u001b[1;33m,\u001b[0m\u001b[1;36m5\u001b[0m\u001b[1;33m,\u001b[0m\u001b[1;36m6\u001b[0m\u001b[1;33m,\u001b[0m\u001b[1;36m7\u001b[0m\u001b[1;33m]\u001b[0m\u001b[1;33m\u001b[0m\u001b[0m\n\u001b[0m\u001b[0;32m     10\u001b[0m \u001b[0mprint\u001b[0m\u001b[1;33m(\u001b[0m\u001b[0ml\u001b[0m\u001b[1;33m)\u001b[0m\u001b[1;33m\u001b[0m\u001b[0m\n",
      "\u001b[1;31mIndexError\u001b[0m: list assignment index out of range"
     ]
    }
   ],
   "source": [
    "#changing elements of a ist\n",
    "l=[1,2,3,4]\n",
    "l[0]=[4,5,6,7]\n",
    "print(l)\n",
    "l[0:1]=[4,5,6,7]\n",
    "print(l)\n",
    "l[0:9]=[4,5,6,7]\n",
    "print(l)\n",
    "l[9]=[4,5,6,7]\n",
    "print(l)"
   ]
  },
  {
   "cell_type": "code",
   "execution_count": 184,
   "metadata": {},
   "outputs": [
    {
     "name": "stdout",
     "output_type": "stream",
     "text": [
      "[1, 3, 5, 7]\n",
      "[1, 3, 5, 7, 9, 11, 13]\n",
      "[1, 3, 5, 7, 9, 11, 13, [9, 11, 13]]\n"
     ]
    }
   ],
   "source": [
    "#adding an element\n",
    "odd = [1, 3, 5]\n",
    "odd.append(7)\n",
    "print(odd)\n",
    "odd.extend([9, 11, 13])\n",
    "print(odd)\n",
    "odd.extend([[9, 11, 13]])\n",
    "print(odd)"
   ]
  },
  {
   "cell_type": "code",
   "execution_count": 188,
   "metadata": {},
   "outputs": [
    {
     "name": "stdout",
     "output_type": "stream",
     "text": [
      "[1, 3, 5, 9, 7, 5]\n",
      "['re', 're', 're']\n"
     ]
    }
   ],
   "source": [
    "#other important operations\n",
    "odd = [1, 3, 5]\n",
    "print(odd + [9, 7, 5])\n",
    "print([\"re\"] * 3)"
   ]
  },
  {
   "cell_type": "code",
   "execution_count": 74,
   "metadata": {},
   "outputs": [
    {
     "name": "stdout",
     "output_type": "stream",
     "text": [
      "[3, 1, 9]\n",
      "[1, 3, 9]\n",
      "[1, 9, 3]\n",
      "[1, 5, 7, 9]\n",
      "[1, 9, 5, 7]\n"
     ]
    }
   ],
   "source": [
    "#inserting an element\n",
    "odd = [1, 9]\n",
    "odd.insert(0,3)\n",
    "print(odd)\n",
    "\n",
    "odd = [1, 9]\n",
    "odd.insert(1,3)\n",
    "print(odd)\n",
    "\n",
    "odd = [1, 9]\n",
    "odd.insert(7,3)\n",
    "print(odd)\n",
    "\n",
    "odd = [1, 9]\n",
    "odd[1:1] = [5, 7]\n",
    "print(odd)\n",
    "\n",
    "odd = [1, 9]\n",
    "odd[5:5] = [5, 7]\n",
    "print(odd)"
   ]
  },
  {
   "cell_type": "code",
   "execution_count": 73,
   "metadata": {},
   "outputs": [
    {
     "name": "stdout",
     "output_type": "stream",
     "text": [
      "['p', 'r', 'b', 'l', 'e', 'm']\n",
      "['2', 'r', 'b', 'l', 'e', 'm']\n",
      "[2, 'r', 'b', 'l', 'e', 'm']\n",
      "['p', 'e', 'm']\n"
     ]
    },
    {
     "ename": "NameError",
     "evalue": "name 'my_list' is not defined",
     "output_type": "error",
     "traceback": [
      "\u001b[1;31m---------------------------------------------------------------------------\u001b[0m",
      "\u001b[1;31mNameError\u001b[0m                                 Traceback (most recent call last)",
      "\u001b[1;32m<ipython-input-73-e637caf2ff03>\u001b[0m in \u001b[0;36m<module>\u001b[1;34m\u001b[0m\n\u001b[0;32m     18\u001b[0m \u001b[0mmy_list\u001b[0m \u001b[1;33m=\u001b[0m \u001b[1;33m[\u001b[0m\u001b[1;34m'p'\u001b[0m\u001b[1;33m,\u001b[0m\u001b[1;34m'r'\u001b[0m\u001b[1;33m,\u001b[0m\u001b[1;34m'o'\u001b[0m\u001b[1;33m,\u001b[0m\u001b[1;34m'b'\u001b[0m\u001b[1;33m,\u001b[0m\u001b[1;34m'l'\u001b[0m\u001b[1;33m,\u001b[0m\u001b[1;34m'e'\u001b[0m\u001b[1;33m,\u001b[0m\u001b[1;34m'm'\u001b[0m\u001b[1;33m]\u001b[0m\u001b[1;33m\u001b[0m\u001b[0m\n\u001b[0;32m     19\u001b[0m \u001b[1;32mdel\u001b[0m \u001b[0mmy_list\u001b[0m\u001b[1;33m\u001b[0m\u001b[0m\n\u001b[1;32m---> 20\u001b[1;33m \u001b[0mprint\u001b[0m\u001b[1;33m(\u001b[0m\u001b[0mmy_list\u001b[0m\u001b[1;33m)\u001b[0m\u001b[1;33m\u001b[0m\u001b[0m\n\u001b[0m",
      "\u001b[1;31mNameError\u001b[0m: name 'my_list' is not defined"
     ]
    }
   ],
   "source": [
    "#deleting elements\n",
    "my_list = ['p','r','o','b','l','e','m']\n",
    "del my_list[2]\n",
    "print(my_list)\n",
    "\n",
    "my_list = ['2','r','o','b','l','e','m']\n",
    "del my_list[2]\n",
    "print(my_list)\n",
    "\n",
    "my_list = [2,'r','o','b','l','e','m']\n",
    "del my_list[2]\n",
    "print(my_list)\n",
    "\n",
    "my_list = ['p','r','o','b','l','e','m']\n",
    "del my_list[1:5]  \n",
    "print(my_list)\n",
    "\n",
    "my_list = ['p','r','o','b','l','e','m']\n",
    "del my_list\n",
    "print(my_list)"
   ]
  },
  {
   "cell_type": "code",
   "execution_count": 11,
   "metadata": {},
   "outputs": [
    {
     "ename": "TypeError",
     "evalue": "list indices must be integers or slices, not str",
     "output_type": "error",
     "traceback": [
      "\u001b[1;31m---------------------------------------------------------------------------\u001b[0m",
      "\u001b[1;31mTypeError\u001b[0m                                 Traceback (most recent call last)",
      "\u001b[1;32m<ipython-input-11-7d03772ed1c3>\u001b[0m in \u001b[0;36m<module>\u001b[1;34m\u001b[0m\n\u001b[0;32m      1\u001b[0m \u001b[0mmy_list\u001b[0m \u001b[1;33m=\u001b[0m \u001b[1;33m[\u001b[0m\u001b[1;34m'p'\u001b[0m\u001b[1;33m,\u001b[0m\u001b[1;34m'r'\u001b[0m\u001b[1;33m,\u001b[0m\u001b[1;34m'o'\u001b[0m\u001b[1;33m,\u001b[0m\u001b[1;34m'b'\u001b[0m\u001b[1;33m,\u001b[0m\u001b[1;34m'l'\u001b[0m\u001b[1;33m,\u001b[0m\u001b[1;34m'e'\u001b[0m\u001b[1;33m,\u001b[0m\u001b[1;34m'm'\u001b[0m\u001b[1;33m]\u001b[0m\u001b[1;33m\u001b[0m\u001b[0m\n\u001b[1;32m----> 2\u001b[1;33m \u001b[1;32mdel\u001b[0m \u001b[0mmy_list\u001b[0m\u001b[1;33m[\u001b[0m\u001b[1;34m'p'\u001b[0m\u001b[1;33m]\u001b[0m\u001b[1;33m\u001b[0m\u001b[0m\n\u001b[0m\u001b[0;32m      3\u001b[0m \u001b[0mprint\u001b[0m\u001b[1;33m(\u001b[0m\u001b[0mmy_list\u001b[0m\u001b[1;33m)\u001b[0m\u001b[1;33m\u001b[0m\u001b[0m\n\u001b[0;32m      4\u001b[0m \u001b[1;31m#while using del attirbute in list, we must pass the index and not the element\u001b[0m\u001b[1;33m\u001b[0m\u001b[1;33m\u001b[0m\u001b[0m\n",
      "\u001b[1;31mTypeError\u001b[0m: list indices must be integers or slices, not str"
     ]
    }
   ],
   "source": [
    "my_list = ['p','r','o','b','l','e','m']\n",
    "del my_list['p']\n",
    "print(my_list)\n",
    "#while using del attirbute in list, we must pass the index and not the element"
   ]
  },
  {
   "cell_type": "code",
   "execution_count": 29,
   "metadata": {},
   "outputs": [
    {
     "name": "stdout",
     "output_type": "stream",
     "text": [
      "['r', 'o', 'b', 'l', 'e', 'm']\n",
      "o\n",
      "['r', 'b', 'l', 'e', 'm']\n",
      "m\n",
      "['r', 'b', 'l', 'e']\n",
      "[]\n"
     ]
    }
   ],
   "source": [
    "#amother way of deleting\n",
    "my_list = ['p','r','o','b','l','e','m']\n",
    "my_list.remove('p')\n",
    "print(my_list)\n",
    "print(my_list.pop(1))\n",
    "#pop attribute returns the element which is deleted, also it deletes the element from the list\n",
    "print(my_list)\n",
    "print(my_list.pop())\n",
    "#when nothing is passed in pop attribute, it takes it as the last element\n",
    "print(my_list)\n",
    "my_list.clear()\n",
    "print(my_list)\n",
    "#notice the difference between del and clear "
   ]
  },
  {
   "cell_type": "code",
   "execution_count": 18,
   "metadata": {},
   "outputs": [
    {
     "name": "stdout",
     "output_type": "stream",
     "text": [
      "True\n",
      "False\n",
      "True\n"
     ]
    }
   ],
   "source": [
    "#membership\n",
    "my_list = ['p','r','o','b','l','e','m']\n",
    "print('p' in my_list)\n",
    "print('a' in my_list)\n",
    "print('c' not in my_list)"
   ]
  },
  {
   "cell_type": "markdown",
   "metadata": {},
   "source": [
    "### some other important attributes"
   ]
  },
  {
   "cell_type": "code",
   "execution_count": 117,
   "metadata": {},
   "outputs": [
    {
     "name": "stdout",
     "output_type": "stream",
     "text": [
      "1\n",
      "2\n",
      "[0, 1, 3, 4, 6, 8, 8]\n",
      "[8, 8, 6, 4, 3, 1, 0]\n"
     ]
    }
   ],
   "source": [
    "my_list = [3, 8, 1, 6, 0, 8, 4]\n",
    "print(my_list.index(8))  #index gives the frist appearing of element\n",
    "print(my_list.count(8))\n",
    "\n",
    "my_list.sort()\n",
    "print(my_list)\n",
    "\n",
    "my_list.reverse()\n",
    "print(my_list)"
   ]
  },
  {
   "cell_type": "markdown",
   "metadata": {},
   "source": [
    "# String"
   ]
  },
  {
   "cell_type": "code",
   "execution_count": 24,
   "metadata": {},
   "outputs": [
    {
     "name": "stdout",
     "output_type": "stream",
     "text": [
      "H\n",
      "ytho\n"
     ]
    }
   ],
   "source": [
    "#string manipulation\n",
    "var1 = 'Hello World!'\n",
    "var2 = \"Python Programming\"\n",
    "print (var1[0])\n",
    "print (var2[1:5])"
   ]
  },
  {
   "cell_type": "code",
   "execution_count": 45,
   "metadata": {},
   "outputs": [
    {
     "name": "stdout",
     "output_type": "stream",
     "text": [
      "2\n",
      "3\n",
      "0\n",
      "3\n",
      "1\n"
     ]
    }
   ],
   "source": [
    "#string count or substring count\n",
    "#The syntax: str.count(sub, beg=0, end=len(string))\n",
    "str = \"this is string example....wow!!!\";\n",
    "sub = \"i\";\n",
    "print (str.count(sub,4,40))\n",
    "print (str.count(sub,0))\n",
    "print (str.count(sub,40))\n",
    "print (str.count(sub,-40))\n",
    "sub = \"wow\";\n",
    "print (str.count(sub))\n",
    "#(sub,0,last inedx), (sub,0) and (sub) are same"
   ]
  },
  {
   "cell_type": "code",
   "execution_count": 30,
   "metadata": {},
   "outputs": [
    {
     "name": "stdout",
     "output_type": "stream",
     "text": [
      "15\n",
      "15\n",
      "-1\n",
      "15\n",
      "15\n"
     ]
    },
    {
     "ename": "ValueError",
     "evalue": "substring not found",
     "output_type": "error",
     "traceback": [
      "\u001b[1;31m---------------------------------------------------------------------------\u001b[0m",
      "\u001b[1;31mValueError\u001b[0m                                Traceback (most recent call last)",
      "\u001b[1;32m<ipython-input-30-6847573dd10c>\u001b[0m in \u001b[0;36m<module>\u001b[1;34m\u001b[0m\n\u001b[0;32m      9\u001b[0m \u001b[0mprint\u001b[0m \u001b[1;33m(\u001b[0m\u001b[0mstr1\u001b[0m\u001b[1;33m.\u001b[0m\u001b[0mindex\u001b[0m\u001b[1;33m(\u001b[0m\u001b[0mstr2\u001b[0m\u001b[1;33m)\u001b[0m\u001b[1;33m)\u001b[0m\u001b[1;33m\u001b[0m\u001b[0m\n\u001b[0;32m     10\u001b[0m \u001b[0mprint\u001b[0m \u001b[1;33m(\u001b[0m\u001b[0mstr1\u001b[0m\u001b[1;33m.\u001b[0m\u001b[0mindex\u001b[0m\u001b[1;33m(\u001b[0m\u001b[0mstr2\u001b[0m\u001b[1;33m,\u001b[0m \u001b[1;36m10\u001b[0m\u001b[1;33m)\u001b[0m\u001b[1;33m)\u001b[0m\u001b[1;33m\u001b[0m\u001b[0m\n\u001b[1;32m---> 11\u001b[1;33m \u001b[0mprint\u001b[0m \u001b[1;33m(\u001b[0m\u001b[0mstr1\u001b[0m\u001b[1;33m.\u001b[0m\u001b[0mindex\u001b[0m\u001b[1;33m(\u001b[0m\u001b[0mstr2\u001b[0m\u001b[1;33m,\u001b[0m \u001b[1;36m40\u001b[0m\u001b[1;33m)\u001b[0m\u001b[1;33m)\u001b[0m\u001b[1;33m\u001b[0m\u001b[0m\n\u001b[0m\u001b[0;32m     12\u001b[0m \u001b[1;31m#the difference vetween find and index is that find gives -1 when not found and index gives error when not found\u001b[0m\u001b[1;33m\u001b[0m\u001b[1;33m\u001b[0m\u001b[0m\n\u001b[0;32m     13\u001b[0m \u001b[1;31m#find and index can also be used in lists\u001b[0m\u001b[1;33m\u001b[0m\u001b[1;33m\u001b[0m\u001b[0m\n",
      "\u001b[1;31mValueError\u001b[0m: substring not found"
     ]
    }
   ],
   "source": [
    "#finding the index of a given string\n",
    "#The syntax is same as str.count()\n",
    "str1 = \"this is string example....wow!!!\"\n",
    "str2 = \"exam\"\n",
    "print (str1.find(str2))\n",
    "print (str1.find(str2, 10))\n",
    "print (str1.find(str2, 40))\n",
    "\n",
    "print (str1.index(str2))\n",
    "print (str1.index(str2, 10))\n",
    "print (str1.index(str2, 40))\n",
    "#the difference vetween find and index is that find gives -1 when not found and index gives error when not found\n",
    "#find and index can also be used in lists"
   ]
  },
  {
   "cell_type": "code",
   "execution_count": 83,
   "metadata": {},
   "outputs": [
    {
     "name": "stdout",
     "output_type": "stream",
     "text": [
      "True\n",
      "False\n",
      "False\n",
      "True\n",
      "False\n",
      "False\n",
      "True\n",
      "False\n",
      "False\n"
     ]
    }
   ],
   "source": [
    "#Checking with the help of is\n",
    "str = \"this2009\" \n",
    "print (str.isalnum())\n",
    "\n",
    "str = \"this 2009\" #no spaces are allowed\n",
    "print (str.isalnum())\n",
    "\n",
    "str = \"this is string example....wow!!!\"\n",
    "print (str.isalnum())\n",
    "\n",
    "str = \"this\"\n",
    "print (str.isalpha())\n",
    "\n",
    "str = \"this2009\" \n",
    "print (str.isalpha())\n",
    "\n",
    "str = \"this is string example....wow!!!\" #no spaces are allowed\n",
    "print (str.isalpha())\n",
    "\n",
    "str = \"123456\"  \n",
    "print (str.isdigit())\n",
    "\n",
    "\n",
    "str = \" ab 123456\"  #no spaces are allowed\n",
    "print (str.isdigit())\n",
    "\n",
    "str = \"this is string example....wow!!!\"\n",
    "print (str.isdigit())"
   ]
  },
  {
   "cell_type": "code",
   "execution_count": 89,
   "metadata": {},
   "outputs": [
    {
     "name": "stdout",
     "output_type": "stream",
     "text": [
      "False\n",
      "True\n",
      "True\n"
     ]
    }
   ],
   "source": [
    "str = \"THIS is string exampfbgle....wow!!!\" \n",
    "print (str.islower())\n",
    "\n",
    "str = \"this is string example....wow!!!\"\n",
    "print (str.islower())\n",
    "\n",
    "str = \"this is string example....wow 7654567!!!\"\n",
    "print (str.islower())\n",
    "#it checks for all the elements in the string, whitespace and digits are considered neither lowercase nor upercase"
   ]
  },
  {
   "cell_type": "code",
   "execution_count": 101,
   "metadata": {},
   "outputs": [
    {
     "name": "stdout",
     "output_type": "stream",
     "text": [
      "['hello', 'dear', 'students', 'welcome']\n",
      "['hello', 'dear students welcome']\n",
      "['hello', 'dear', 'students welcome']\n"
     ]
    }
   ],
   "source": [
    "#important \n",
    "#split\n",
    "str = \"hello dear students welcome\";\n",
    "print (str.split( ))\n",
    "print (str.split(' ',1)) #1 here means that if the given string is splitted once then stop splitting \n",
    "print (str.split(' ',2))#1 here means that if the given string is splitted twice then stop splitting "
   ]
  },
  {
   "cell_type": "code",
   "execution_count": 31,
   "metadata": {},
   "outputs": [
    {
     "name": "stdout",
     "output_type": "stream",
     "text": [
      "a-b-c\n",
      "a-b-c\n"
     ]
    }
   ],
   "source": [
    "#important\n",
    "#join\n",
    "s = \"-\"\n",
    "seq = (\"a\",\"b\",\"c\")\n",
    "newstr=s.join(seq)\n",
    "print(newstr)\n",
    "\n",
    "s = \"-\"\n",
    "seq = \"abc\"\n",
    "newstr=s.join(seq)\n",
    "print(newstr)"
   ]
  },
  {
   "cell_type": "code",
   "execution_count": 108,
   "metadata": {},
   "outputs": [
    {
     "name": "stdout",
     "output_type": "stream",
     "text": [
      "this is string example....wow!!!\n"
     ]
    }
   ],
   "source": [
    "#converting all into lowercase\n",
    "str = \"THIS IS STRING ExaMPLE....WOW!!!\" \n",
    "print (str.lower())"
   ]
  },
  {
   "cell_type": "markdown",
   "metadata": {},
   "source": [
    "###### we can not insert, del or remove any element of string because string does not have any attributes like that, so for doing this we need to convert string into a list by using list(/string name/) "
   ]
  },
  {
   "cell_type": "markdown",
   "metadata": {},
   "source": [
    "### some other important attributes"
   ]
  },
  {
   "cell_type": "code",
   "execution_count": 118,
   "metadata": {},
   "outputs": [],
   "source": [
    "#capitalize() : Capitalizes first letter of string\n",
    "#startswith(str, beg=0,end=len(string)) : Determines if string or a substring of string (if starting index beg and ending \n",
    "#                                         index end are given) starts with substring str; returns true if so and false \n",
    "#                                         otherwise.\n",
    "#endswith(suffix, beg=0, end=len(string)) : Determines if string or a substring of string (if starting index beg and ending\n",
    "#                                           index end are given) ends with suffix; returns true if so and false otherwise.\n",
    "#isspace() : Returns true if string contains only whitespace characters and false otherwise.\n",
    "#len(string) : Returns the length of the string\n",
    "#lstrip() : Removes all leading whitespace in string.\n",
    "#max(str) : Returns the max alphabetical character from the string str.\n",
    "#min(str) : Returns the min alphabetical character from the string str.\n",
    "#min(str) : Returns the min alphabetical character from the string str.\n",
    "#rfind(str, beg=0,end=len(string)) : Same as find(), but search backwards in string.\n",
    "#rindex( str, beg=0, end=len(string)) : Same as index(), but search backwards in string.\n",
    "#rstrip() : Removes all trailing whitespace of string.\n",
    "#strip() : Performs both lstrip() and rstrip() on string.\n",
    "#swapcase() : Inverts case for all letters in string.\n",
    "#isdecimal() : Returns true if a unicode string(string with no spaces) contains only decimal characters and false otherwise."
   ]
  },
  {
   "cell_type": "markdown",
   "metadata": {},
   "source": [
    "# Best conceptual thing about list and string"
   ]
  },
  {
   "cell_type": "code",
   "execution_count": 134,
   "metadata": {},
   "outputs": [
    {
     "name": "stdout",
     "output_type": "stream",
     "text": [
      "[22, 2, 3, 4, 5, 6]\n",
      "[22, 2, 3, 4, 5, 6]\n",
      "\n",
      "[1, 2, 3, 4, 5, 6]\n",
      "[22, 2, 3, 4, 5, 6]\n"
     ]
    }
   ],
   "source": [
    "x=[1,2,3,4,5,6]\n",
    "y=x\n",
    "y[0]=22\n",
    "print(x)\n",
    "print(y)\n",
    "#here the refernce of list x is copied in y\n",
    "\n",
    "print()\n",
    "\n",
    "x=[1,2,3,4,5,6]\n",
    "y=x[:]\n",
    "y[0]=22\n",
    "print(x)\n",
    "print(y)\n",
    "#here only the list x is copied in y"
   ]
  },
  {
   "cell_type": "code",
   "execution_count": 137,
   "metadata": {},
   "outputs": [
    {
     "name": "stdout",
     "output_type": "stream",
     "text": [
      "[1, 4, 9, 16, 25]\n",
      "[1, 4, 9, 16, 25]\n",
      "\n",
      "[1, 2, 3, 4, 5]\n",
      "[1, 4, 9, 16, 25]\n"
     ]
    }
   ],
   "source": [
    "def modify(lst):\n",
    "    for i in range(len(lst)):\n",
    "        lst[i]=lst[i]**2\n",
    "    return lst\n",
    "x=[1,2,3,4,5]\n",
    "y=modify(x)\n",
    "print(x)\n",
    "print(y)\n",
    "\n",
    "print()\n",
    "\n",
    "def modify(lst):\n",
    "    for i in range(len(lst)):\n",
    "        lst[i]=lst[i]**2\n",
    "    return lst\n",
    "x=[1,2,3,4,5]\n",
    "y=modify(x[:])\n",
    "print(x)\n",
    "print(y)"
   ]
  },
  {
   "cell_type": "code",
   "execution_count": 143,
   "metadata": {},
   "outputs": [
    {
     "name": "stdout",
     "output_type": "stream",
     "text": [
      "[0, 2, 4, 6, 8, 10]\n",
      "[0, 100]\n",
      "[1, 2, 3, 2, 4, 6, 3, 6, 9, 4, 8, 12]\n"
     ]
    }
   ],
   "source": [
    "#list comprehension\n",
    "lst1=[x for x in range(0,11,2)]\n",
    "print(lst1)\n",
    "lst2=[x**2 for x in lst1 if x%5==0]\n",
    "print(lst2)\n",
    "lst3=[x*y for x in range(1,5) for y in range(1,4)]\n",
    "print(lst3)"
   ]
  },
  {
   "cell_type": "code",
   "execution_count": 145,
   "metadata": {},
   "outputs": [
    {
     "name": "stdout",
     "output_type": "stream",
     "text": [
      "hELLO fRIENDS 123\n"
     ]
    }
   ],
   "source": [
    "#swapcase\n",
    "str = 'Hello Friends 123'\n",
    "print(str.swapcase())"
   ]
  },
  {
   "cell_type": "code",
   "execution_count": 3,
   "metadata": {},
   "outputs": [
    {
     "name": "stdout",
     "output_type": "stream",
     "text": [
      "[2, 4, 10, 20, 5]\n"
     ]
    }
   ],
   "source": [
    "#remove duplicate elements from a list\n",
    "l=[2,4,10,20,5,2,20,4]\n",
    "nl=[]\n",
    "for i in l:\n",
    "    if(i not in nl):\n",
    "        nl.append(i)\n",
    "print(nl)"
   ]
  },
  {
   "cell_type": "code",
   "execution_count": 11,
   "metadata": {},
   "outputs": [
    {
     "name": "stdout",
     "output_type": "stream",
     "text": [
      "[9, 10, 5, 4]\n"
     ]
    }
   ],
   "source": [
    "#intersection between two lists\n",
    "l1=[15, 9, 10, 56, 23, 78, 5, 4, 9]\n",
    "l2 = [9, 4, 5, 36, 47, 26, 10, 45, 87]\n",
    "l3=[]\n",
    "for i in l1:\n",
    "    if((i in l2) and (i not in l3)):\n",
    "        l3.append(i)\n",
    "print(l3)"
   ]
  },
  {
   "cell_type": "code",
   "execution_count": 16,
   "metadata": {},
   "outputs": [
    {
     "name": "stdout",
     "output_type": "stream",
     "text": [
      "[9, 10, 4, 5]\n"
     ]
    }
   ],
   "source": [
    "#another way\n",
    "l1=[15, 9, 10, 56, 23, 78, 5, 4, 9]\n",
    "l2 = [9, 4, 5, 36, 47, 26, 10, 45, 87]\n",
    "l3=[x for x in l1 if x in l2]\n",
    "print(list(set(l3)))"
   ]
  },
  {
   "cell_type": "markdown",
   "metadata": {},
   "source": [
    "# FILE HANDLING"
   ]
  },
  {
   "cell_type": "raw",
   "metadata": {},
   "source": [
    "r  : Opens a file for reading only. The file pointer is placed at the beginning of the file. This is the default mode.\n",
    "rb : Opens a file for reading only in binary format. The file pointer is placed at the beginning of the file. This is the        default mode.\n",
    "r+ : Opens a file for both reading and writing. The file pointer placed at the beginning of the file.\n",
    "w  : Opens a file for writing only. Overwrites the file if the file exists. If the file does not exist, creates a new file      for writing.\n",
    "w+ : Opens a file for both writing and reading. Overwrites the existing file if the file exists. If the file does not            exist, creates a new file for reading and writing.\n",
    "a  : Opens a file for appending. The file pointer is at the end of the file if the file exists. That is, the file is in the      append mode. If the file does not exist, it creates a new file for writing.\n",
    "a+ : Opens a file for both appending and reading. The file pointer is at the end of the file if the file exists. The file        opens in the append mode. If the file does not exist, it creates a new file for reading and writing."
   ]
  },
  {
   "cell_type": "raw",
   "metadata": {},
   "source": [
    "fp.seek(0) \n",
    "-> this function takes the file pointer to the position specified, here in this case it is 0\n",
    "fp.tell()\n",
    "-> this function tells the position of file pointer"
   ]
  },
  {
   "cell_type": "raw",
   "metadata": {},
   "source": [
    "there two ways to open a file\n",
    "\n",
    "1st way,\n",
    "fp=open(\"filename.txt\",'r or any other mode()')\n",
    "here in this way we need to close the file by fp.close()\n",
    "\n",
    "2nd way,\n",
    "with open(\"sample.txt\") as fobj \n",
    "here in this way we do not need to close the file"
   ]
  },
  {
   "cell_type": "raw",
   "metadata": {},
   "source": [
    "there are two other methods for reading from a file\n",
    "**the first one is data=open(\"<filename.txt>\").readlines() which read the file line by line as a string, means a line would       be treated as one element\n",
    "**the second is data=open(\"<filename.txt>\").read() which read the file as a string"
   ]
  },
  {
   "cell_type": "markdown",
   "metadata": {},
   "source": [
    "# Classes and Object"
   ]
  },
  {
   "cell_type": "code",
   "execution_count": 10,
   "metadata": {},
   "outputs": [
    {
     "name": "stdout",
     "output_type": "stream",
     "text": [
      "mohit\n",
      "Anil\n",
      "Bennett University\n",
      "9.5\n",
      "9.9\n",
      "\n",
      "9.99\n",
      "9.9\n"
     ]
    }
   ],
   "source": [
    "class student: \n",
    "    university = 'Bennett University'\n",
    "    def __init__(self, name, dept, cgpa, mob): \n",
    "        self.name=name\n",
    "        self.dept=dept\n",
    "        self.cgpa=cgpa\n",
    "        self.mob=mob\n",
    "    def update_cgpa(self,newcgpa): \n",
    "        self.cgpa=newcgpa\n",
    "st1=student(\"mohit\",'CSE',9.50,'9876543210')  #here st1 and st2 are called 'insatnce' or 'object' of class 'student'\n",
    "st2=student(\"Anil\",'CSE',9.90,'0123456779')\n",
    "print(st1.name)\n",
    "print(st2.name)\n",
    "print(st1.university)\n",
    "print(st1.cgpa)\n",
    "print(st2.cgpa)\n",
    "\n",
    "print()\n",
    "\n",
    "st1.update_cgpa(9.99)\n",
    "print(st1.cgpa)\n",
    "print(st2.cgpa)"
   ]
  },
  {
   "cell_type": "code",
   "execution_count": 13,
   "metadata": {},
   "outputs": [],
   "source": [
    "#whole assignment 18 revise with the help of anshul"
   ]
  }
 ],
 "metadata": {
  "kernelspec": {
   "display_name": "Python 3",
   "language": "python",
   "name": "python3"
  },
  "language_info": {
   "codemirror_mode": {
    "name": "ipython",
    "version": 3
   },
   "file_extension": ".py",
   "mimetype": "text/x-python",
   "name": "python",
   "nbconvert_exporter": "python",
   "pygments_lexer": "ipython3",
   "version": "3.7.0"
  }
 },
 "nbformat": 4,
 "nbformat_minor": 2
}
