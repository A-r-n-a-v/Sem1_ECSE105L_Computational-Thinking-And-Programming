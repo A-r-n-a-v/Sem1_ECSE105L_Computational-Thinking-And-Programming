{
 "cells": [
  {
   "cell_type": "markdown",
   "metadata": {},
   "source": [
    "# Name = Arnav Bansal\n",
    "# Enrollment number = E18CSE028\n",
    "# Assignment number = 9"
   ]
  },
  {
   "cell_type": "raw",
   "metadata": {},
   "source": [
    "Function is used for modularity in the program.\n",
    "\n",
    "def function_name(argument-1, argument-2,argument-3...):\n",
    "    function body\n",
    "    .\n",
    "    .\n",
    "    .\n",
    "    .\n",
    "    .\n",
    "    return var   #not compulsory\n",
    "#function call\n",
    "function_name(10,20,30)"
   ]
  },
  {
   "cell_type": "markdown",
   "metadata": {},
   "source": [
    "## Example: Write a program in python to add three numbers using function"
   ]
  },
  {
   "cell_type": "code",
   "execution_count": null,
   "metadata": {},
   "outputs": [],
   "source": [
    "#main program\n",
    "x=int(input(\"enter first number\"))\n",
    "y=int(input(\"enter second number\"))\n",
    "z=int(input(\"enter third number\"))\n",
    "\n",
    "#Function Body\n",
    "def add(a,b,c):\n",
    "    sum=a+b+c\n",
    "    return sum\n",
    "\n",
    "#Function Calling\n",
    "print(\"sum of three nubers is \", add(x,y,z))"
   ]
  },
  {
   "cell_type": "markdown",
   "metadata": {},
   "source": [
    " ## 1. Write a program in Python to swap two numbers using function."
   ]
  },
  {
   "cell_type": "code",
   "execution_count": 3,
   "metadata": {},
   "outputs": [
    {
     "name": "stdout",
     "output_type": "stream",
     "text": [
      "enter a : 4\n",
      "enter b : 5\n",
      "the value of x before swapping is 4\n",
      "the value of y before swapping is 5\n",
      "the value of x after swapping is 5\n",
      "the value of y after swapping is 4\n"
     ]
    }
   ],
   "source": [
    "x=int(input(\"enter a : \"))\n",
    "y=int(input(\"enter b : \"))\n",
    "print(\"the value of x before swapping is\",x)\n",
    "print(\"the value of y before swapping is\",y)\n",
    "def swap(a,b):\n",
    "    c=a\n",
    "    a=b\n",
    "    b=c\n",
    "    return(a,b)\n",
    "x,y=swap(x,y)\n",
    "print(\"the value of x after swapping is\",x)\n",
    "print(\"the value of y after swapping is\",y)\n",
    "    "
   ]
  },
  {
   "cell_type": "markdown",
   "metadata": {},
   "source": [
    "## 2. Write a program in Python to check a given number is even or odd using the function."
   ]
  },
  {
   "cell_type": "code",
   "execution_count": 8,
   "metadata": {},
   "outputs": [
    {
     "name": "stdout",
     "output_type": "stream",
     "text": [
      "enter a number : 7\n",
      "thee given number is odd\n"
     ]
    }
   ],
   "source": [
    "n=int(input(\"enter a number : \"))\n",
    "def f(a):\n",
    "    if(a%2==0):\n",
    "        print(\"the given number is even\")\n",
    "    else:\n",
    "        print(\"thee given number is odd\")\n",
    "f(n)"
   ]
  },
  {
   "cell_type": "markdown",
   "metadata": {},
   "source": [
    "## 3. Write a program in python to check wheather the given number is prime using function. Print the output outside the function."
   ]
  },
  {
   "cell_type": "code",
   "execution_count": 9,
   "metadata": {},
   "outputs": [
    {
     "name": "stdout",
     "output_type": "stream",
     "text": [
      "enter any number : 7\n",
      "the given number is a prime number\n"
     ]
    }
   ],
   "source": [
    "n=int(input(\"enter any number : \"))\n",
    "def prime(a):\n",
    "    for i in range(2,(a//2)+1):\n",
    "        if(a%i==0):\n",
    "            return 1\n",
    "            break\n",
    "    else:\n",
    "        return 0\n",
    "    return c\n",
    "c=prime(n)\n",
    "if(c==0):\n",
    "    print(\"the given number is a prime number\")\n",
    "else:\n",
    "    print(\"the given number is not a prime number\")"
   ]
  },
  {
   "cell_type": "markdown",
   "metadata": {},
   "source": [
    "## 4. Define a function of two variable 4x3+2y+7. and evaluate the function on points (10,-2)."
   ]
  },
  {
   "cell_type": "code",
   "execution_count": 10,
   "metadata": {},
   "outputs": [
    {
     "name": "stdout",
     "output_type": "stream",
     "text": [
      "4003\n"
     ]
    }
   ],
   "source": [
    "def t(x,y):\n",
    "    a=4*(x**3)+2*y+7\n",
    "    print(a)\n",
    "t(10,-2)"
   ]
  },
  {
   "cell_type": "markdown",
   "metadata": {},
   "source": [
    "## 5. Write a program in Python to print the table of a given number using function and loop."
   ]
  },
  {
   "cell_type": "code",
   "execution_count": 12,
   "metadata": {},
   "outputs": [
    {
     "name": "stdout",
     "output_type": "stream",
     "text": [
      "enter a number : 6\n",
      "6 * 1 = 6\n",
      "6 * 2 = 12\n",
      "6 * 3 = 18\n",
      "6 * 4 = 24\n",
      "6 * 5 = 30\n",
      "6 * 6 = 36\n",
      "6 * 7 = 42\n",
      "6 * 8 = 48\n",
      "6 * 9 = 54\n",
      "6 * 10 = 60\n"
     ]
    }
   ],
   "source": [
    "n=int(input(\"enter a number : \"))\n",
    "def t(a):\n",
    "    for i in range(1,11):\n",
    "        print(a,\"*\",i,\"=\",a*i)\n",
    "t(n)"
   ]
  },
  {
   "cell_type": "markdown",
   "metadata": {},
   "source": [
    "## 6.  Write a program in Python to check whether a number entered by the users is an Armstrong number or not. 153 is an Armstrong number as 153 = pow(1,3)+pow(5,3)+pow(3,3), while 125 is not an Armstrong number because 125≠1**3+2**3+5**3. The program should allow the user to input any 5 numbers for testing using function. "
   ]
  },
  {
   "cell_type": "code",
   "execution_count": 1,
   "metadata": {},
   "outputs": [
    {
     "name": "stdout",
     "output_type": "stream",
     "text": [
      "Enter the number of test cases : 5\n",
      "enter n : 153\n",
      "the number given is armstrong\n",
      "enter n : 370\n",
      "the number given is armstrong\n",
      "enter n : 371\n",
      "the number given is armstrong\n",
      "enter n : 1634\n",
      "the number given is not armstrong\n",
      "enter n : 3\n",
      "the number given is not armstrong\n"
     ]
    }
   ],
   "source": [
    "def f(a):\n",
    "    r=a\n",
    "    sum=0\n",
    "    while(a>0):\n",
    "        m=a%10\n",
    "        sum+=m**3\n",
    "        a=a//10\n",
    "    if(sum==r):\n",
    "        print(\"the number given is armstrong\")\n",
    "    else:\n",
    "        print(\"the number given is not armstrong\")\n",
    "num=int(input('Enter the number of test cases : '))\n",
    "for i in range(num):\n",
    "    n=int(input(\"enter n : \"))\n",
    "    f(n)"
   ]
  },
  {
   "cell_type": "markdown",
   "metadata": {},
   "source": [
    "## 7.  Suppose there is an election in which there are 4 candidates with names “Lion King”, “King of the Ring”, “Lord of the Ring” and “Singh is King”. There are 20 people who are to vote for these 4 candidates. Write a program in Python to input the votes by 20 people and declare the result of the winner. If two candidates get draw, then perform a random voting in between two candidates."
   ]
  },
  {
   "cell_type": "code",
   "execution_count": null,
   "metadata": {},
   "outputs": [
    {
     "name": "stdout",
     "output_type": "stream",
     "text": [
      "c1 = Lion King\n",
      "c2 = King of the Ring\n",
      "c3 = Lord of the Ring\n",
      "c4 = Singh is King\n",
      "vote\n",
      "c1\n",
      "c1\n",
      "c2\n",
      "2\n",
      "respective is not a candidate for election, please vote again : \n",
      "c2\n",
      "c2c\n",
      "respective is not a candidate for election, please vote again : \n",
      "2c2c2c22\n",
      "respective is not a candidate for election, please vote again : \n"
     ]
    }
   ],
   "source": [
    "import random\n",
    "print(\"c1 = Lion King\")\n",
    "print(\"c2 = King of the Ring\")\n",
    "print(\"c3 = Lord of the Ring\")\n",
    "print(\"c4 = Singh is King\")\n",
    "c1 = \"Lion King\"\n",
    "c2 = \"King of the Ring\"\n",
    "c3 = \"Lord of the Ring\"\n",
    "c4 = \"Singh is King\"\n",
    "def random_voting(n1,n2):\n",
    "    x=0\n",
    "    y=0\n",
    "    for i in range(1,21):\n",
    "        r=random.randint(1,2)\n",
    "        if(r==1):\n",
    "            x+=1\n",
    "        else:\n",
    "            y+=1\n",
    "    if(x>y):\n",
    "        return n1\n",
    "    elif(x<y):\n",
    "        return n2\n",
    "    else:\n",
    "        random_voting(n1,n2)\n",
    "def voting():\n",
    "    a=0\n",
    "    b=0\n",
    "    c=0\n",
    "    d=0\n",
    "    print(\"vote\")\n",
    "    for i in range(1,21):\n",
    "        n=input()\n",
    "        while(n!=\"c1\" and n!=\"c2\" and n!=\"c3\" and n!=\"c4\"):\n",
    "            print(\"respective is not a candidate for election, please vote again : \")\n",
    "            n=input()\n",
    "        if(n=='c1'):\n",
    "                a+=1\n",
    "        elif(n=='c2'):\n",
    "                b+=1\n",
    "        elif(n=='c3'):\n",
    "                c+=1\n",
    "        elif(n=='c4'):\n",
    "                d+=1\n",
    "    print(\"votes for\",c1,\"are\",a)\n",
    "    print(\"votes for\",c2,\"are\",b)\n",
    "    print(\"votes for\",c3,\"are\",c)\n",
    "    print(\"votes for\",c4,\"are\",d)\n",
    "    print(\"the winner is : \")\n",
    "    if(a==b and b>c):\n",
    "        print(random_voting(c1,c2))\n",
    "    elif(a==c and c>d):\n",
    "        print(random_voting(c1,c3))\n",
    "    elif(a==d and d>b):\n",
    "        print(random_voting(c1,c4))\n",
    "    elif(b==c and c>d):\n",
    "        print(random_voting(c2,c3))\n",
    "    elif(b==d and d>a):\n",
    "        print(random_voting(c2,c3))\n",
    "    elif(c==d and d>b):\n",
    "        print(random_voting(c3,c4))\n",
    "    else:\n",
    "        result=max(a,b,c,d)\n",
    "        if(result==a):\n",
    "            print(c1)\n",
    "        if(result==b):\n",
    "            print(c2)\n",
    "        if(result==c):\n",
    "            print(c3)\n",
    "        if(result==d):\n",
    "            print(c4)\n",
    "voting()"
   ]
  },
  {
   "cell_type": "markdown",
   "metadata": {},
   "source": [
    "## 8. Write a program which takes an integer from the user and checks if the number is a palindrome or not and return the true and false value.\n"
   ]
  },
  {
   "cell_type": "code",
   "execution_count": 22,
   "metadata": {},
   "outputs": [
    {
     "name": "stdout",
     "output_type": "stream",
     "text": [
      "enter a number : 123\n",
      "the reverse of the number is 321\n",
      "the given number is not palindrome\n"
     ]
    }
   ],
   "source": [
    "def f(a):\n",
    "    x=a\n",
    "    b=0\n",
    "    while(a>0):\n",
    "        m=a%10\n",
    "        a=a//10\n",
    "        b=b*10+m\n",
    "    print(\"the reverse of the number is\",b)\n",
    "    if(x==b):\n",
    "        print(\"the given number is palindrome\")\n",
    "    else:\n",
    "        print(\"the given number is not palindrome\")\n",
    "n=int(input(\"enter a number : \"))\n",
    "f(n)\n"
   ]
  },
  {
   "cell_type": "markdown",
   "metadata": {},
   "source": [
    "## 9. Write a program to take the values of two integers m and n from the user and display and calculate the sum of even number between m and n (including both m and n). Please note that value of m must be less than value of n. "
   ]
  },
  {
   "cell_type": "code",
   "execution_count": 36,
   "metadata": {},
   "outputs": [
    {
     "name": "stdout",
     "output_type": "stream",
     "text": [
      "enter m : 1\n",
      "enter n : 10\n",
      "the sum of even numbers between 1 and 10 is 30\n"
     ]
    }
   ],
   "source": [
    "def f(a,b):\n",
    "    sum=0\n",
    "    for i in range(a,b+1):\n",
    "        if(i%2==1):\n",
    "            continue\n",
    "        else:\n",
    "            sum+=i\n",
    "    print(\"the sum of even numbers between\",a,\"and\",b,\"is\",sum)\n",
    "m=int(input(\"enter m : \"))\n",
    "n=int(input(\"enter n : \"))\n",
    "f(m,n)"
   ]
  },
  {
   "cell_type": "markdown",
   "metadata": {},
   "source": [
    "## 10. Write a program to accept characters till the user enters null and count the number of alphabets and digits entered by the user."
   ]
  },
  {
   "cell_type": "code",
   "execution_count": 2,
   "metadata": {},
   "outputs": [
    {
     "name": "stdout",
     "output_type": "stream",
     "text": [
      "enter the characters : \n",
      "4\n",
      "g\n",
      "d\n",
      "$\n",
      "7\n",
      "\n",
      "the total number of digits are 2\n",
      "the total number of alphabets are 2\n"
     ]
    }
   ],
   "source": [
    "def f():\n",
    "    d=0\n",
    "    s=0\n",
    "    print(\"enter the characters : \")\n",
    "    n=input()\n",
    "    while(n!=''):\n",
    "        if(n.isdigit()):\n",
    "            d+=1\n",
    "        elif(n.isalpha()):\n",
    "            s+=1\n",
    "        n=input()\n",
    "    print(\"the total number of digits are\",d)\n",
    "    print(\"the total number of alphabets are\",s)\n",
    "f()"
   ]
  },
  {
   "cell_type": "markdown",
   "metadata": {},
   "source": [
    "## 11. Write a program to display the first n Fibonacci numbers. Value of n must be taken from the user using function"
   ]
  },
  {
   "cell_type": "code",
   "execution_count": 10,
   "metadata": {},
   "outputs": [
    {
     "name": "stdout",
     "output_type": "stream",
     "text": [
      "enter the limit : 8\n",
      "1\n",
      "1\n",
      "2\n",
      "3\n",
      "5\n",
      "8\n",
      "13\n"
     ]
    }
   ],
   "source": [
    "def f(a):\n",
    "    t1=0\n",
    "    t2=1\n",
    "    t=0\n",
    "    for i in range(1,a):\n",
    "        t=t1+t2\n",
    "        t2=t1\n",
    "        t1=t\n",
    "        print(t)\n",
    "n=int(input(\"enter the limit : \"))\n",
    "f(n)"
   ]
  },
  {
   "cell_type": "markdown",
   "metadata": {},
   "source": [
    "## 12. Write a python program that calculates the average of a group of 4 test scores, where the lowwest score in the group should be dropped. your program should use the following user defined functions.\n",
    "### a.function avg that calculates and displays the average of three highest scores. This function should be called just one time by the main, and should be passed the four scores.\n",
    "### b. function find_lowest that finds and returns the lowest of the four scores passed to it. It should be called by avg, which uses the function to determine which of the four score to drop. "
   ]
  },
  {
   "cell_type": "code",
   "execution_count": 24,
   "metadata": {},
   "outputs": [
    {
     "name": "stdout",
     "output_type": "stream",
     "text": [
      "enter a2\n",
      "enter b3\n",
      "enter c4\n",
      "enter d5\n",
      "the avrerage of three highest numbers is 4.0\n"
     ]
    }
   ],
   "source": [
    "def find_lowest(a,b,c,d):\n",
    "    return min(a,b,c,d)\n",
    "        \n",
    "def avg():\n",
    "    m=find_lowest(a,b,c,d)\n",
    "    if(m==a):\n",
    "        print(\"the avrerage of three highest numbers is\",(b+c+d)/3)\n",
    "    elif(m==b):\n",
    "        print(\"the avrerage of three highest numbers is\",(a+c+d)/3)\n",
    "    elif(m==c):\n",
    "        print(\"the avrerage of three highest numbers is\",(a+b+d)/3)\n",
    "    elif(m==d):\n",
    "         print(\"the aavrerage of three highest numbers is\",(a+b+c)/3)\n",
    "    \n",
    "a=int(input(\"enter a\"))\n",
    "b=int(input(\"enter b\"))\n",
    "c=int(input(\"enter c\"))\n",
    "d=int(input(\"enter d\"))\n",
    "avg()"
   ]
  },
  {
   "cell_type": "markdown",
   "metadata": {},
   "source": [
    "## 13. Write a python function for a scintific calculator that performs addition, subtraction, multiplication, division, modulus, sign, cos, tan, etc... "
   ]
  },
  {
   "cell_type": "code",
   "execution_count": 7,
   "metadata": {},
   "outputs": [
    {
     "name": "stdout",
     "output_type": "stream",
     "text": [
      "enter a : 90\n",
      "enter b : 0\n",
      "enter the operation : sin\n",
      "0.8939966636005579\n"
     ]
    }
   ],
   "source": [
    "import math\n",
    "def calculator(x,y=0):\n",
    "    n=input(\"enter the operation : \")\n",
    "    if(n=='add'):\n",
    "        add=x+y\n",
    "        print(add)\n",
    "    elif(n=='subtract'):\n",
    "        sub=x-y\n",
    "        print(sub)\n",
    "    elif(n=='multiply'):\n",
    "        multi=x*y\n",
    "        print(multi)\n",
    "    elif(n=='divide'):\n",
    "        div=x/y\n",
    "        print(div)\n",
    "    elif(n=='modulus'):\n",
    "        mod=x%y\n",
    "        print(mod)\n",
    "    elif(n=='sin'):\n",
    "        sin=math.sin(x)\n",
    "        print(sin)\n",
    "    elif(n=='cos'):\n",
    "        cos=math.cos(x)\n",
    "        print(cos)\n",
    "    elif(n=='tan'):\n",
    "        tan=math.tan(x)\n",
    "        print(tan)\n",
    "    elif(n=='cot'):\n",
    "        cot=math.cot(x)\n",
    "        print(cot)\n",
    "    elif(n=='sec'):\n",
    "        sec=math.sec(x)\n",
    "        print(sec)\n",
    "    elif(n==cosec):\n",
    "        cosec=math.cosec(x)\n",
    "        print(cosec)\n",
    "a=int(input(\"enter a : \"))\n",
    "b=int(input(\"enter b : \"))\n",
    "calculator(a,b)"
   ]
  },
  {
   "cell_type": "markdown",
   "metadata": {},
   "source": [
    "## 14. The total distance travelled by vehicle in ‘t’ seconds is given by distance = ut+1/2at2 where ‘u’ and ‘a’ are the initial velocity (m/sec.) and acceleration (m/sec2). Write a python program to find the distance travelled at regular intervals of time given the values of ‘u’ and ‘a’. The program should provide the flexibility to the user to select his own time intervals and repeat the calculations for different values of ‘u’ and ‘a’."
   ]
  },
  {
   "cell_type": "code",
   "execution_count": 36,
   "metadata": {},
   "outputs": [
    {
     "name": "stdout",
     "output_type": "stream",
     "text": [
      "enter the time interval : 2\n",
      "enter initial velocity : 3\n",
      "enter acceleration : 4\n",
      "distance travelled is 14.0\n",
      "do you want to repeat the calculation? y/n  : y\n",
      "enter initial velocity : 2\n",
      "enter acceleration : 4\n",
      "distance travelled is 12.0\n",
      "do you want to repeat the calculation? y/n  : n\n"
     ]
    }
   ],
   "source": [
    "t=int(input(\"enter the time interval : \"))\n",
    "def f():\n",
    "    d=(u*t)+(0.5*a*t*t)\n",
    "    return d\n",
    "choice='y'\n",
    "while(choice=='y' or choice=='Y'):\n",
    "    u=int(input(\"enter initial velocity : \"))\n",
    "    a=int(input(\"enter acceleration : \"))\n",
    "    distance=f()\n",
    "    print(\"distance travelled is\",distance)\n",
    "    choice=input(\"do you want to repeat the calculation? y/n  : \")"
   ]
  }
 ],
 "metadata": {
  "kernelspec": {
   "display_name": "Python 3",
   "language": "python",
   "name": "python3"
  },
  "language_info": {
   "codemirror_mode": {
    "name": "ipython",
    "version": 3
   },
   "file_extension": ".py",
   "mimetype": "text/x-python",
   "name": "python",
   "nbconvert_exporter": "python",
   "pygments_lexer": "ipython3",
   "version": "3.7.0"
  }
 },
 "nbformat": 4,
 "nbformat_minor": 2
}
