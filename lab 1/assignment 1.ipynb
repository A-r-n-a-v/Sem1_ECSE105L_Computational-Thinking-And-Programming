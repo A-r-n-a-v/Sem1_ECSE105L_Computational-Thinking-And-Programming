{
 "cells": [
  {
   "cell_type": "markdown",
   "metadata": {
    "colab_type": "text",
    "id": "HXDCF1BicfN8"
   },
   "source": [
    "# Lab Assignment 1: Introduction to Python"
   ]
  },
  {
   "cell_type": "markdown",
   "metadata": {},
   "source": [
    "## Important Points:\n",
    "### For executing the code of block, press Shift + Enter.\n",
    "### For comment use #."
   ]
  },
  {
   "cell_type": "markdown",
   "metadata": {
    "colab_type": "text",
    "id": "CzYaWy7gcfN-"
   },
   "source": [
    "### Problem 1: Write a program to print  \"HELLO PYTHON !\""
   ]
  },
  {
   "cell_type": "code",
   "execution_count": 1,
   "metadata": {
    "colab": {
     "autoexec": {
      "startup": false,
      "wait_interval": 0
     }
    },
    "colab_type": "code",
    "id": "7sG2pSrdcfN_"
   },
   "outputs": [
    {
     "name": "stdout",
     "output_type": "stream",
     "text": [
      "Hello Python\n"
     ]
    }
   ],
   "source": [
    "# write your code after this line\n",
    "print('Hello Python')"
   ]
  },
  {
   "cell_type": "markdown",
   "metadata": {
    "colab_type": "text",
    "id": "ck-2rEF4cfOC"
   },
   "source": [
    "### Problem 2: Write a program to run the below code and try to make some changes such as country name, etc."
   ]
  },
  {
   "cell_type": "code",
   "execution_count": 20,
   "metadata": {
    "colab": {
     "autoexec": {
      "startup": false,
      "wait_interval": 0
     }
    },
    "colab_type": "code",
    "id": "Y0tRnGsQcfOD"
   },
   "outputs": [
    {
     "name": "stdout",
     "output_type": "stream",
     "text": [
      "I am from INDIA\n",
      "I love INDIA\n",
      "I love INDIA\n",
      "I loveINDIA\n",
      "I love INDIA\n",
      "My state name is : Rajasthan\n",
      "My branch is B.Tech CSE\n",
      "My name is Arnav Bansal\n"
     ]
    }
   ],
   "source": [
    "print('I am from INDIA')\n",
    "print(\"I love INDIA\")\n",
    "print(\"I love \"+'INDIA') \n",
    "print(\"I love\"+'INDIA')\n",
    "print(\"I love\",'INDIA')\n",
    "print(\"My state name is : \"+\"Rajasthan\")\n",
    "print(\"My branch is B.Tech \"+'CSE')\n",
    "print(\"My name is Arnav Bansal\")\n",
    "#We can use both \" \" and ' '. The only difference between them is that,\n",
    "#print(\"a\"b\"cd\")\n",
    "#povides error but\n",
    "#print(\"a'b'cd\") \n",
    "#does not\n",
    "#similarly\n",
    "#print('a'b'cd') \n",
    "#provides error but\n",
    "#print('a\"b\"cd') does not\n",
    "#So, \" is useful when ' is inside the string, and vice versa."
   ]
  },
  {
   "cell_type": "markdown",
   "metadata": {
    "colab_type": "text",
    "id": "FtY6brB4cfOG"
   },
   "source": [
    "### Problem 3:\n",
    "#### Task1: Write a program to run the below code and try to make some changes to the program."
   ]
  },
  {
   "cell_type": "code",
   "execution_count": 19,
   "metadata": {
    "colab": {
     "autoexec": {
      "startup": false,
      "wait_interval": 0
     }
    },
    "colab_type": "code",
    "id": "QJyZcQ3VcfOH"
   },
   "outputs": [
    {
     "name": "stdout",
     "output_type": "stream",
     "text": [
      "I am from INDIA\n",
      "I \"love\" INDIA\n",
      "I love INDIA\n",
      "My state name is : MP\n",
      "Sachin is 18 year old\n",
      "Yeah me too.!\n"
     ]
    }
   ],
   "source": [
    "country='INDIA'\n",
    "state=\"MP\"\n",
    "age=18\n",
    "name=\"Sachin\"\n",
    "\n",
    "print('I am from', country)\n",
    "print('I love '+ country)\n",
    "print(\"I love \"+     country)\n",
    "print(\"My state name is : \"+ state)\n",
    "\n",
    "print(name,'is',age,'year old')\n",
    "print(\"Yeah me too.!\")"
   ]
  },
  {
   "cell_type": "markdown",
   "metadata": {
    "colab_type": "text",
    "id": "2w4vNRIrcfOK"
   },
   "source": [
    "#### Task2: Write a program to display your infomation like (full name, branch, university name, Age, 12th %, hobbies). Store each value into some meaningful variable.  The ouptput of the program should look like:"
   ]
  },
  {
   "cell_type": "raw",
   "metadata": {
    "colab_type": "raw",
    "id": "hnveJccYcfOL"
   },
   "source": [
    "My name is :\n",
    "I am in CSE branch at Bennett University : \n",
    "I am 18 year old : \n",
    "My Higehr Secondary % is :\n",
    "My hobbies are : "
   ]
  },
  {
   "cell_type": "code",
   "execution_count": 23,
   "metadata": {
    "colab": {
     "autoexec": {
      "startup": false,
      "wait_interval": 0
     }
    },
    "colab_type": "code",
    "id": "eGTWJHDicfOM"
   },
   "outputs": [
    {
     "name": "stdout",
     "output_type": "stream",
     "text": [
      "My name is : Arnav Bansal\n",
      "I am in B.Tech CSE at Bennett University \n",
      "I am 17 years old\n",
      "My higher secondary percenage is : 96.3\n",
      "My hobbies are : to play TT, Badminton and all other sports.\n"
     ]
    }
   ],
   "source": [
    "# write your code after this line\n",
    "name='Arnav Bansal'\n",
    "branch='B.Tech CSE'\n",
    "uni='Bennett University'\n",
    "age=17\n",
    "per=96.3\n",
    "hob='to play TT, Badminton and all other sports.'\n",
    "print(\"My name is :\",name)\n",
    "print(\"I am in\",branch,\"at Bennett University \")\n",
    "print(\"I am\",age, \"years old\")\n",
    "print(\"My higher secondary percenage is :\",per)\n",
    "print(\"My hobbies are :\",hob)"
   ]
  },
  {
   "cell_type": "markdown",
   "metadata": {
    "colab_type": "text",
    "id": "vclGyZbZcfOP"
   },
   "source": [
    "### Problem 4: Write a program to perform arithmetic operations (Addition, Subtraction, Multiplication, Division) on two integer numbers. The output of the program should look like:"
   ]
  },
  {
   "cell_type": "raw",
   "metadata": {
    "colab_type": "raw",
    "id": "JWXZHrlwcfOQ"
   },
   "source": [
    "First number =  \n",
    "Second number = \n",
    "Addition :  \n",
    "Subtraction :  \n",
    "Multiplication :  \n",
    "Division :  "
   ]
  },
  {
   "cell_type": "code",
   "execution_count": 5,
   "metadata": {
    "colab": {
     "autoexec": {
      "startup": false,
      "wait_interval": 0
     }
    },
    "colab_type": "code",
    "id": "wArpl58_cfOQ"
   },
   "outputs": [
    {
     "name": "stdout",
     "output_type": "stream",
     "text": [
      "First number = 20\n",
      "Second number = 10\n",
      "Addition : 30\n",
      "Subtraction : 10\n",
      "Multiplication : 200\n",
      "Division : 2\n"
     ]
    }
   ],
   "source": [
    "number1=20\n",
    "number2=10\n",
    "# write your code after this line\n",
    "print(\"First number =\",number1)\n",
    "print(\"Second number =\",number2)\n",
    "print(\"Addition :\",number1+number2)\n",
    "print(\"Subtraction :\",number1-number2)\n",
    "print(\"Multiplication :\",number1*number2)\n",
    "print(\"Division :\",number1//number2)\n",
    "\n",
    "\n"
   ]
  },
  {
   "cell_type": "markdown",
   "metadata": {
    "colab_type": "text",
    "id": "P07eBi4KcfOU"
   },
   "source": [
    "### Problem 5: Write a run the below code."
   ]
  },
  {
   "cell_type": "code",
   "execution_count": 7,
   "metadata": {
    "colab": {
     "autoexec": {
      "startup": false,
      "wait_interval": 0
     }
    },
    "colab_type": "code",
    "id": "xLI1U8RJcfOU"
   },
   "outputs": [
    {
     "name": "stdout",
     "output_type": "stream",
     "text": [
      "Enter your first name: Arnav\n",
      "Enter your second name: bansal\n",
      "Enter your semester: 1\n",
      "Hello friends my name is Arnav bansal and I am in  1 semester\n"
     ]
    }
   ],
   "source": [
    "firstname=input(\"Enter your first name: \")\n",
    "lastname=input(\"Enter your second name: \")\n",
    "semester=input(\"Enter your semester: \")\n",
    "fullname=firstname + \" \" +lastname\n",
    "print(\"Hello friends my name is\",fullname,\"and I am in\",semester,\"semester\")"
   ]
  },
  {
   "cell_type": "markdown",
   "metadata": {
    "colab_type": "text",
    "id": "AJSWrElpcfOZ"
   },
   "source": [
    "### Problem 6 : Write a program to swap the contents of two variables using third variable. The output of the program should look like:"
   ]
  },
  {
   "cell_type": "raw",
   "metadata": {
    "colab_type": "raw",
    "id": "fVL5tp7XcfOa"
   },
   "source": [
    "Before swapping:\n",
    "First Value: 90\n",
    "Second Value: 10\n",
    "\n",
    "After swapping:\n",
    "First Value: 10\n",
    "Second Value: 90"
   ]
  },
  {
   "cell_type": "code",
   "execution_count": 10,
   "metadata": {
    "colab": {
     "autoexec": {
      "startup": false,
      "wait_interval": 0
     }
    },
    "colab_type": "code",
    "id": "u04a0hQXcfOa"
   },
   "outputs": [
    {
     "name": "stdout",
     "output_type": "stream",
     "text": [
      "before swapping: \n",
      " first value: 90 \n",
      " second value 10\n",
      "\n",
      "after swapping: \n",
      " first value: 10 \n",
      " second value 90\n"
     ]
    }
   ],
   "source": [
    "first_value=90\n",
    "second_value=10\n",
    "# write your code after this line ...\n",
    "print(\"before swapping:\",'\\n',\"first value:\",first_value,'\\n',\"second value\",second_value)\n",
    "num=first_value\n",
    "first_value=second_value\n",
    "second_value=num\n",
    "print('\\n'\"after swapping:\",'\\n',\"first value:\",first_value,'\\n',\"second value\",second_value)"
   ]
  },
  {
   "cell_type": "markdown",
   "metadata": {
    "colab_type": "text",
    "id": "ei6J38xOcfOd"
   },
   "source": [
    "### Problem 7 : The wheel of a bullock cart has a radius of 6 m. If the wheel rotates once, write a program to determine how much distance does the cart move?"
   ]
  },
  {
   "cell_type": "code",
   "execution_count": 11,
   "metadata": {
    "colab": {
     "autoexec": {
      "startup": false,
      "wait_interval": 0
     }
    },
    "colab_type": "code",
    "id": "EJWEn5P4cfOd"
   },
   "outputs": [
    {
     "name": "stdout",
     "output_type": "stream",
     "text": [
      "In one rotation the wheel rotates 37.68\n"
     ]
    }
   ],
   "source": [
    "# write your code after this line\n",
    "r=6\n",
    "print(\"In one rotation the wheel rotates\",2*3.14*r)"
   ]
  },
  {
   "cell_type": "markdown",
   "metadata": {
    "colab_type": "text",
    "id": "WqpIS574cfOf"
   },
   "source": [
    "### Problem 8 : Write a program to evaluate the expression: 5x^2 + 10x + 5 and print the result. Take x=10, x=20, x=15"
   ]
  },
  {
   "cell_type": "code",
   "execution_count": 21,
   "metadata": {
    "colab": {
     "autoexec": {
      "startup": false,
      "wait_interval": 0
     }
    },
    "colab_type": "code",
    "id": "7j5pPawrcfOg"
   },
   "outputs": [
    {
     "name": "stdout",
     "output_type": "stream",
     "text": [
      "enter any number20\n",
      "the result is 2205\n"
     ]
    }
   ],
   "source": [
    "# write your code after this line\n",
    "x=int(input(\"enter any number : \"))\n",
    "print(\"the result is\",(5*(x**2)+(10*x)+5))"
   ]
  },
  {
   "cell_type": "markdown",
   "metadata": {
    "colab_type": "text",
    "id": "bYbNt3tQcfOj"
   },
   "source": [
    "##### Problem 9 : Assume Sachin’s basic salary is 10 Lakh. His dearness allowance(DA) is 40% of basic salary, and house rent allowance(HRA) is 20% of basic salary. Write a program to calculate his gross salary."
   ]
  },
  {
   "cell_type": "code",
   "execution_count": 27,
   "metadata": {
    "colab": {
     "autoexec": {
      "startup": false,
      "wait_interval": 0
     }
    },
    "colab_type": "code",
    "id": "qGVyJALqcfOk"
   },
   "outputs": [
    {
     "name": "stdout",
     "output_type": "stream",
     "text": [
      "basic salary 1000000\n",
      "dearness allowance is 400000.0\n",
      "house rent allowance is 200000.0\n",
      "gross salary is 1600000.0\n"
     ]
    }
   ],
   "source": [
    "# write your code after this line\n",
    "basic=1000000\n",
    "da=(40/100)*1000000\n",
    "hra=(20/100)*1000000\n",
    "gs=basic+da+hra\n",
    "print(\"basic salary\",basic)\n",
    "print(\"dearness allowance is\",da)\n",
    "print(\"house rent allowance is\",hra)\n",
    "print(\"gross salary is\",gs)"
   ]
  },
  {
   "cell_type": "markdown",
   "metadata": {
    "colab_type": "text",
    "id": "Gi9VMcjCcfOm"
   },
   "source": [
    "### Problem 10 : A cashier has currency notes of denominations 10, 50 and 100. Take an Input of a number for withdraw amount. Find the total number of currency notes of each denomination the cashier will have to give to the withdrawer. The output of the program should look like. Take some exmple to test your program."
   ]
  },
  {
   "cell_type": "raw",
   "metadata": {
    "colab_type": "raw",
    "id": "O_9_5QmTcfOn"
   },
   "source": [
    "Enter amount to be withdrawn: 170\n",
    "100 rupees note:1\n",
    "50 rupees note:1\n",
    "10 rupes note:2"
   ]
  },
  {
   "cell_type": "code",
   "execution_count": 1,
   "metadata": {
    "colab": {
     "autoexec": {
      "startup": false,
      "wait_interval": 0
     }
    },
    "colab_type": "code",
    "id": "7qAlMz35cfOo"
   },
   "outputs": [
    {
     "name": "stdout",
     "output_type": "stream",
     "text": [
      "enter the amount to be withdrawn : 171\n",
      "100 rupees notes: 1\n",
      "50 rupees notes: 1\n",
      "10 ripees notes: 2\n",
      "cashier has to give 1 rupees to the withdrawer\n"
     ]
    }
   ],
   "source": [
    "# write your code after this line\n",
    "m=int(input(\"enter the amount to be withdrawn : \"))\n",
    "h=m//100 \n",
    "r1=m%100\n",
    "f=r1//50\n",
    "r2=r1%50\n",
    "t=r2//10\n",
    "r3=r2%10\n",
    "print(\"100 rupees notes:\",h)\n",
    "print(\"50 rupees notes:\",f)\n",
    "print(\"10 ripees notes:\",t)\n",
    "print(\"cashier has to give\",r3,\"rupees to the withdrawer\")"
   ]
  }
 ],
 "metadata": {
  "colab": {
   "default_view": {},
   "name": "Lab1 Notebook.ipynb",
   "provenance": [],
   "version": "0.3.2",
   "views": {}
  },
  "kernelspec": {
   "display_name": "Python 3",
   "language": "python",
   "name": "python3"
  },
  "language_info": {
   "codemirror_mode": {
    "name": "ipython",
    "version": 3
   },
   "file_extension": ".py",
   "mimetype": "text/x-python",
   "name": "python",
   "nbconvert_exporter": "python",
   "pygments_lexer": "ipython3",
   "version": "3.7.0"
  }
 },
 "nbformat": 4,
 "nbformat_minor": 1
}
