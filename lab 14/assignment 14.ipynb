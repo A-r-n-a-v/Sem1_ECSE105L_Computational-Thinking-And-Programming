{
 "cells": [
  {
   "cell_type": "markdown",
   "metadata": {},
   "source": [
    "# Working with Strings\n",
    "String objects are immutable, so attempting to rebind or delete an item or slice of a string raises an exception. "
   ]
  },
  {
   "cell_type": "markdown",
   "metadata": {},
   "source": [
    "##### Task 1: Run below lines of code and try to change the values "
   ]
  },
  {
   "cell_type": "code",
   "execution_count": 4,
   "metadata": {
    "scrolled": false
   },
   "outputs": [
    {
     "name": "stdout",
     "output_type": "stream",
     "text": [
      "This is a string \n",
      "\n",
      " This is another string\n",
      "This is a string \n",
      " This is another string\n",
      "This is a string \n",
      "This is a string \n",
      "\n"
     ]
    }
   ],
   "source": [
    "string1 = \"This is a string \\n\"\n",
    "string2 = ' This is another string'\n",
    "\n",
    "print(string1)\n",
    "print(string2)\n",
    "print(string1+string2) #concatenation\n",
    "print(string1*2) # repetition"
   ]
  },
  {
   "cell_type": "markdown",
   "metadata": {},
   "source": [
    "##### Task 2: Run below lines of code and try to change the values"
   ]
  },
  {
   "cell_type": "code",
   "execution_count": 3,
   "metadata": {},
   "outputs": [
    {
     "name": "stdout",
     "output_type": "stream",
     "text": [
      "False\n",
      "True\n"
     ]
    }
   ],
   "source": [
    "string3 = \"I love my country\"\n",
    "subtring=\"love\"\n",
    "result=subtring not in string3\n",
    "print(result)\n",
    "\n",
    "# set subtring=\"hate\" and check whether it exists in substring3 or not \n",
    "# write your code after this line\n",
    "string3 = \"I love my country\"\n",
    "subtring=\"hate\"\n",
    "result=subtring not in string3\n",
    "print(result)"
   ]
  },
  {
   "cell_type": "markdown",
   "metadata": {},
   "source": [
    "##### Task 3: Run below lines of code and try to change the values"
   ]
  },
  {
   "cell_type": "code",
   "execution_count": 31,
   "metadata": {},
   "outputs": [
    {
     "name": "stdout",
     "output_type": "stream",
     "text": [
      "Strings can only store characters\n",
      "S\n",
      "r\n",
      "t\n",
      "g\n",
      "y\n",
      "l\n",
      "g\n",
      "y\n",
      "l\n"
     ]
    }
   ],
   "source": [
    "string4 = \"Strings can only store characters\"\n",
    "print(string4)\n",
    "print(string4[0])\n",
    "print(string4[2])\n",
    "print(string4[-4])\n",
    "# write the code to print the characters g,y,l using both +ive and -ive index\n",
    "# write your code after this line\n",
    "print(string4[5])\n",
    "print(string4[15])\n",
    "print(string4[14])\n",
    "print(string4[-28])\n",
    "print(string4[-18])\n",
    "print(string4[-19])"
   ]
  },
  {
   "cell_type": "markdown",
   "metadata": {},
   "source": [
    "##### Task 4: Run below lines of code and try to change the values"
   ]
  },
  {
   "cell_type": "code",
   "execution_count": 34,
   "metadata": {},
   "outputs": [
    {
     "name": "stdout",
     "output_type": "stream",
     "text": [
      "Strings can only store characters\n",
      "rin\n",
      "Strings can only store characters\n",
      "rings can only store characters\n",
      "Strings can only store characters\n",
      "Strings can only store c\n",
      "t\n",
      "Srnscnol tr hrces\n",
      "secrh rt loncsnrS\n",
      "abcdefghijklmnopqrstuvwxyz\n",
      "cde\n",
      "abcdefghijklmnopqrstuvwxyz\n",
      "cdefghijklmnopqrstuvwxyz\n",
      "abcdefghijklmnopqrstuvwxyz\n",
      "abcdefghijklmnopq\n",
      "w\n",
      "acegikmoqsuwy\n",
      "zxvtrpnljhfdb\n"
     ]
    }
   ],
   "source": [
    "string5 = \"Strings can only store characters\"\n",
    "print(string5)\n",
    "print(string5[2:5])\n",
    "print(string5[0:])\n",
    "print(string5[2:])\n",
    "print(string5[:])\n",
    "print(string5[:-9])\n",
    "\n",
    "print(string5[-4])\n",
    "\n",
    "print(string5[::2])\n",
    "\n",
    "print(string5[::-2])\n",
    "\n",
    "\n",
    "# Create new string and apply different slicig and indexing operations on it.\n",
    "# write your code after this line\n",
    "string6='abcdefghijklmnopqrstuvwxyz'\n",
    "print(string6)\n",
    "print(string6[2:5])\n",
    "print(string6[0:])\n",
    "print(string6[2:])\n",
    "print(string6[:])\n",
    "print(string6[:-9])\n",
    "\n",
    "print(string6[-4])\n",
    "\n",
    "print(string6[::2])\n",
    "\n",
    "print(string6[::-2])\n"
   ]
  },
  {
   "cell_type": "markdown",
   "metadata": {},
   "source": [
    "#### Program 1: Execute the following code in Python to print using seperate string variables"
   ]
  },
  {
   "cell_type": "code",
   "execution_count": 2,
   "metadata": {},
   "outputs": [
    {
     "name": "stdout",
     "output_type": "stream",
     "text": [
      "Bennett University\n",
      "'Bennett University'\n",
      "\"Bennett University\"\n",
      "'Bennett' University\n",
      "'Bennett' 'University'\n",
      "'Bennett', 'University'\n",
      "I have so many friend's at Bennett University\n"
     ]
    }
   ],
   "source": [
    "str1='Bennett University'\n",
    "str2=\"'Bennett University'\"\n",
    "str3='\"Bennett University\"'\n",
    "str4=\"'Bennett' University\"\n",
    "str5=\"'Bennett' 'University'\"\n",
    "str6=\"'Bennett', 'University'\"\n",
    "str7='I have so many friend\\'s at Bennett University'\n",
    "\n",
    "print(str1)\n",
    "print(str2)\n",
    "print(str3)\n",
    "print(str4)\n",
    "print(str5)\n",
    "print(str6)\n",
    "print(str7)\n"
   ]
  },
  {
   "cell_type": "markdown",
   "metadata": {},
   "source": [
    "#### Program 2: Execute the following code in python in which string values are enclosed between triple quotes like \"\"\" your string \"\"\" to do the following:\n",
    "- Display the string stored in variable. \n",
    "- Split the same string to print each word on new liine without using any \\n\n",
    "- Create another normal string variable in which the string is spanned over multiple lines withot using \"\"\" \"\"\" and \\n"
   ]
  },
  {
   "cell_type": "code",
   "execution_count": 3,
   "metadata": {
    "scrolled": false
   },
   "outputs": [
    {
     "name": "stdout",
     "output_type": "stream",
     "text": [
      "This is an example of string variable\n",
      "This \n",
      "is \n",
      "an\n",
      "example\n",
      "of\n",
      "string\n",
      "variable \n",
      "i have so many frieds at bennett university \n"
     ]
    }
   ],
   "source": [
    "name=\"\"\"This is an example of string variable\"\"\"\n",
    "print(name)\n",
    "\n",
    "name=\"\"\"This \n",
    "is \n",
    "an\n",
    "example\n",
    "of\n",
    "string\n",
    "variable \"\"\"\n",
    "\n",
    "print(name)\n",
    "\n",
    "name2='i have so \\\n",
    "many frieds \\\n",
    "at bennett university '\n",
    "\n",
    "print(name2)\n",
    "        "
   ]
  },
  {
   "cell_type": "markdown",
   "metadata": {},
   "source": [
    "#### Useful Functions\n",
    "\n",
    "Most of these functions will work on any type of sequence\n",
    "\n",
    "- len(s) returns the number of characters in the string s.\n",
    "- title() Captalize the each starting character of a word\n",
    "- capitalize() capatalize the starting character of a sentence.\n",
    "- s.lower() returns a copy of s, but with all uppercase characters converted to lowercase.\n",
    "- s.upper() returns a copy of s with all lowercase characters converted to uppercase.\n"
   ]
  },
  {
   "cell_type": "markdown",
   "metadata": {},
   "source": [
    "#### Program 3: Write a program in python that accepts a string from user and apply \n",
    "len(s), upper(), lower(), title(), capitalize() functions on it."
   ]
  },
  {
   "cell_type": "code",
   "execution_count": 48,
   "metadata": {},
   "outputs": [
    {
     "name": "stdout",
     "output_type": "stream",
     "text": [
      "Enter any string: Arnav Bansal\n",
      "12\n",
      "Arnav Bansal\n",
      "Arnav bansal\n",
      "ARNAV BANSAL\n",
      "arnav bansal\n"
     ]
    }
   ],
   "source": [
    "str1=input(\"Enter any string: \")\n",
    "# write your code after this line\n",
    "print(len(str1))\n",
    "print(str1.title())\n",
    "print(str1.capitalize())\n",
    "print(str1.upper())\n",
    "print(str1.lower())"
   ]
  },
  {
   "cell_type": "markdown",
   "metadata": {},
   "source": [
    "#### Useful Functions\n",
    "\n",
    "- s.split([sep]) returns a list whose elements are the words in the string. The parameter sep is optional, by default strings are split on all whitespace (spaces, tabs, newlines). For example, 'To be, or not to be.'.split() will evaluate to ['To', 'be,', 'or', 'not', 'to', 'be.']. Note that split doesn't remove punctuation.\n"
   ]
  },
  {
   "cell_type": "markdown",
   "metadata": {},
   "source": [
    "#### Program 4: Execute the following program in Python that accepts a string from user and splits it based on blanks.\n"
   ]
  },
  {
   "cell_type": "code",
   "execution_count": 4,
   "metadata": {},
   "outputs": [
    {
     "name": "stdout",
     "output_type": "stream",
     "text": [
      "enter a stirng : gfcg mhgf hg\n",
      "['gfcg', 'mhgf', 'hg']\n"
     ]
    }
   ],
   "source": [
    "s=input(\"enter a stirng : \")\n",
    "print(s.split(' '))"
   ]
  },
  {
   "cell_type": "markdown",
   "metadata": {},
   "source": [
    "#### Program 5: Write a program in Python that accepts a string from user which has words separated by hyphen(-). Use function list to split it based on hyphen(-).\n"
   ]
  },
  {
   "cell_type": "code",
   "execution_count": 53,
   "metadata": {},
   "outputs": [
    {
     "name": "stdout",
     "output_type": "stream",
     "text": [
      "['Hello', ' How', ' are', ' you?']\n"
     ]
    }
   ],
   "source": [
    "str1=\"Hello- How- are- you?\"\n",
    "#write your code here\n",
    "print(str1.split('-'))\n"
   ]
  },
  {
   "cell_type": "markdown",
   "metadata": {},
   "source": [
    "### Useful functions\n",
    "\n",
    "#### Searching\n",
    "\n",
    "- s.index(x) returns the index of the first occurrence of the substring x in s. If x isn't a substring an error is thrown.\n",
    "- s.find(x) does the same thing as index, but returns -1 if x isn't a substring, rather than throwing an error.\n",
    "- s.rindex(x) and s.rfind(x) (short for right index and right find) return the last occurrence of the substring x in s.\n",
    "- startswith(substring), returns True if the string starts with given subtstring\n",
    "- endswith(substring), return True if the string ends with given subtstring\n",
    "\n"
   ]
  },
  {
   "cell_type": "markdown",
   "metadata": {},
   "source": [
    "#### Program 6: Execute the following program that accepts a string from user and apply index(s),find(x), rindex(s), rfind()\n",
    "#### Use a new value of variable s and observe the answers\n",
    "\n"
   ]
  },
  {
   "cell_type": "code",
   "execution_count": 5,
   "metadata": {},
   "outputs": [
    {
     "name": "stdout",
     "output_type": "stream",
     "text": [
      "Index of  h is : 0\n",
      "find()  h is : 2\n",
      "rindex() h is : 6\n",
      "rfind() h is : 3\n",
      "False\n",
      "True\n"
     ]
    }
   ],
   "source": [
    "str1='hello hi'\n",
    "s='h'\n",
    "print('Index of ', s, 'is :', str1.index(s))\n",
    "print('find() ', s, 'is :', str1.find('l'))\n",
    "print('rindex()', s, 'is :', str1.rindex(s))\n",
    "print('rfind()', s, 'is :', str1.rfind('l'))\n",
    "print(str1.endswith('h'))\n",
    "print(str1.startswith('hel'))\n"
   ]
  },
  {
   "cell_type": "markdown",
   "metadata": {},
   "source": [
    "### Useful functions\n",
    "\n",
    "#### Searching\n",
    "\n",
    "- s.count(x) returns the number of times the substring x appears in s. Note that it only counts non-overlapping occurrences, so '000000'.count('000') will return 2.\n",
    "- s.replace(x, y) replaces every occurrence of the substring x in s with y. For example, 'batCatRat'.replace('at', 'oy') will return 'boyCoyRoy'.\n"
   ]
  },
  {
   "cell_type": "markdown",
   "metadata": {},
   "source": [
    "#### Program 7: Execute the following Python program which reads a string from a user, prints the frequency of occurrence of first character and change all the occurrences of first character to ‘$’."
   ]
  },
  {
   "cell_type": "code",
   "execution_count": 68,
   "metadata": {},
   "outputs": [
    {
     "name": "stdout",
     "output_type": "stream",
     "text": [
      "Enter any string: arnav bansal\n",
      "total number of occurrence of first caharacter a is 4\n",
      "the string after replacing all the occurences of first caharacter to $ is $rn$v b$ns$l\n"
     ]
    }
   ],
   "source": [
    "str1=input(\"Enter any string: \")\n",
    "print(\"total number of occurrence of first caharacter\",str1[0],\"is\",str1.count(str1[0]))\n",
    "print(\"the string after replacing all the occurences of first caharacter to $ is\",str1.replace(str1[0],'$'))"
   ]
  },
  {
   "cell_type": "markdown",
   "metadata": {},
   "source": [
    "### Program 8: Write a program in Python which takes a new string as input and prints the frequency of occurrence of first character in a string without using count function.\n"
   ]
  },
  {
   "cell_type": "code",
   "execution_count": 73,
   "metadata": {},
   "outputs": [
    {
     "name": "stdout",
     "output_type": "stream",
     "text": [
      "enter a string : arnav bansal\n",
      "the total number of occuerence of first character is 4\n"
     ]
    }
   ],
   "source": [
    "#write your code here\n",
    "s=input(\"enter a string : \")\n",
    "f=s[0]\n",
    "c=0\n",
    "for i in s:\n",
    "    if(i==f):\n",
    "        c+=1\n",
    "print(\"the total number of occuerence of first character is\",c)"
   ]
  },
  {
   "cell_type": "markdown",
   "metadata": {},
   "source": [
    "### Program 9: Define a function freq in Python which returns the frequency of occurrence of first character in a string without using count function."
   ]
  },
  {
   "cell_type": "code",
   "execution_count": 76,
   "metadata": {},
   "outputs": [
    {
     "name": "stdout",
     "output_type": "stream",
     "text": [
      "enter a string : arnav bansal\n",
      "the total frequency of first character is 4\n"
     ]
    }
   ],
   "source": [
    "#write your code here\n",
    "def freq():\n",
    "    s=input(\"enter a string : \")\n",
    "    f=s[0]\n",
    "    c=0\n",
    "    for i in s:\n",
    "        if(i==f):\n",
    "            c+=1\n",
    "    return c\n",
    "print(\"the total frequency of first character is\",freq())"
   ]
  },
  {
   "cell_type": "markdown",
   "metadata": {
    "collapsed": true
   },
   "source": [
    "# Optional Programs"
   ]
  },
  {
   "cell_type": "markdown",
   "metadata": {},
   "source": [
    "#### Program 10: WAP in Python to read a string from user and print in it sorted order of words."
   ]
  },
  {
   "cell_type": "code",
   "execution_count": 104,
   "metadata": {},
   "outputs": [
    {
     "name": "stdout",
     "output_type": "stream",
     "text": [
      "enter a string : hello aaa bbb jjkjj\n",
      "['hello', 'aaa', 'bbb', 'jjkjj']\n",
      "['aaa', 'bbb', 'hello', 'jjkjj']\n"
     ]
    }
   ],
   "source": [
    "s=input(\"enter a string : \")\n",
    "f=s.split(' ')\n",
    "print(f)\n",
    "s1=sorted(f)\n",
    "print(\"sorted string is\",s1)\n",
    "#for srteing list we use list.sort\n",
    "#for srting string we use sorted(string)"
   ]
  },
  {
   "cell_type": "markdown",
   "metadata": {},
   "source": [
    "#### Program 11: Write a python program to remove punctuations !()-[]{};:'\"\\,<>./?@#$%^&*_~ from a string. \n",
    "##### For example if the user enteres the string as : hello @ (how) are - you? \n",
    "##### then your program should print: hello how are you"
   ]
  },
  {
   "cell_type": "code",
   "execution_count": 9,
   "metadata": {},
   "outputs": [
    {
     "name": "stdout",
     "output_type": "stream",
     "text": [
      "Enter string with punctuations: hello @ (how) are - you?\n",
      "hello  how are  you\n"
     ]
    }
   ],
   "source": [
    "punctuations = '''!()-[]{};:'\"\\,<>./?@#$%^&*_~'''\n",
    "str1 = input(\"Enter string with punctuations: \")\n",
    "news=''\n",
    "for i in str1:\n",
    "        if(i not in punctuations):\n",
    "            news+=i\n",
    "print(news)"
   ]
  },
  {
   "cell_type": "markdown",
   "metadata": {
    "collapsed": true
   },
   "source": [
    "### Program 12: Write a program in Python to count the number of vowels in a string."
   ]
  },
  {
   "cell_type": "code",
   "execution_count": 99,
   "metadata": {},
   "outputs": [
    {
     "name": "stdout",
     "output_type": "stream",
     "text": [
      "enter a string : arnav bansal\n",
      "the total number of vowels in the given string are 4\n"
     ]
    }
   ],
   "source": [
    "#write your code here\n",
    "s=input(\"enter a string : \")\n",
    "l=s.lower()\n",
    "c=0\n",
    "for i in l:\n",
    "    if(i=='a' or i=='e' or i=='i' or i=='o' or i=='u'):\n",
    "        c+=1\n",
    "print(\"the total number of vowels in the given string are\",c)"
   ]
  },
  {
   "cell_type": "markdown",
   "metadata": {},
   "source": [
    "### Program 13: Write a program in Python to remove all duplicate characters from a string\n"
   ]
  },
  {
   "cell_type": "code",
   "execution_count": null,
   "metadata": {},
   "outputs": [],
   "source": [
    "#write your code here\n",
    "s=input(\"enter a string : \\n\")\n",
    "result=[] \n",
    "for i in s:\n",
    "    if(i not in result):\n",
    "        result.append(i)\n",
    "print(result)\n",
    "#result=''.join(result)\n",
    "print(str(result))"
   ]
  }
 ],
 "metadata": {
  "kernelspec": {
   "display_name": "Python 3",
   "language": "python",
   "name": "python3"
  },
  "language_info": {
   "codemirror_mode": {
    "name": "ipython",
    "version": 3
   },
   "file_extension": ".py",
   "mimetype": "text/x-python",
   "name": "python",
   "nbconvert_exporter": "python",
   "pygments_lexer": "ipython3",
   "version": "3.7.0"
  }
 },
 "nbformat": 4,
 "nbformat_minor": 2
}
