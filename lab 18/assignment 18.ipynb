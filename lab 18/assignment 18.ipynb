{
 "cells": [
  {
   "cell_type": "markdown",
   "metadata": {},
   "source": [
    "# Name :"
   ]
  },
  {
   "cell_type": "markdown",
   "metadata": {},
   "source": [
    "# Enrollment No. :"
   ]
  },
  {
   "cell_type": "markdown",
   "metadata": {},
   "source": [
    "# Lab on : Object Oriented Programming"
   ]
  },
  {
   "cell_type": "markdown",
   "metadata": {},
   "source": [
    "### Creating class"
   ]
  },
  {
   "cell_type": "code",
   "execution_count": 1,
   "metadata": {
    "scrolled": true
   },
   "outputs": [
    {
     "name": "stdout",
     "output_type": "stream",
     "text": [
      "<__main__.Employee object at 0x7f77e05b6860>\n"
     ]
    }
   ],
   "source": [
    "class Employee:  #Define a class\n",
    "     pass  #body of class may contain attribute, methods, statements\n",
    "e1 = Employee()   ##creating object or instance of a class\n",
    "print(e1)  #printing e1 will show the addrees of memory where object is stored"
   ]
  },
  {
   "cell_type": "markdown",
   "metadata": {},
   "source": [
    "### 1 Write a program to create a \"Demo\" class and print message \"Introdution of Object Oriented Programming Concept\" and print the address of created object."
   ]
  },
  {
   "cell_type": "code",
   "execution_count": 2,
   "metadata": {},
   "outputs": [
    {
     "name": "stdout",
     "output_type": "stream",
     "text": [
      "<__main__.Demo object at 0x7f77e05b6c50>\n"
     ]
    }
   ],
   "source": [
    "class Demo: \n",
    "     pass  \n",
    "d = Demo()   \n",
    "print(d)"
   ]
  },
  {
   "cell_type": "markdown",
   "metadata": {},
   "source": [
    "### Instance attribute and  __init__() Function"
   ]
  },
  {
   "cell_type": "markdown",
   "metadata": {},
   "source": [
    "- Instance attributes are object-specific attributes defined as parameters to the __init__ method. \n",
    "- Each object can has different values for themselves.\n",
    "- All classes have a function called __init__(), which is always executed when the class is being initiated.\n",
    "- Use the __init__() function to assign values to object properties, or other operations that are necessary to do when the object is being created\n",
    "- It is like constructor which is used to initialize the instance variable of a class"
   ]
  },
  {
   "cell_type": "code",
   "execution_count": 3,
   "metadata": {},
   "outputs": [
    {
     "name": "stdout",
     "output_type": "stream",
     "text": [
      "Veer 25\n"
     ]
    }
   ],
   "source": [
    "class Employee:\n",
    "    def __init__(self, name, age):\n",
    "        self._name = name\n",
    "        self._age = age\n",
    "    \n",
    "    def access_detail(self):\n",
    "        print(self._name,self._age)\n",
    "        \n",
    "e1 = Employee(\"Veer\", 25)\n",
    "e1.access_detail()"
   ]
  },
  {
   "cell_type": "markdown",
   "metadata": {},
   "source": [
    "### 2 Write a program to create class \"Person\" with name and age attributes and show method to show the details. Create three objects of this class and show their details."
   ]
  },
  {
   "cell_type": "code",
   "execution_count": 6,
   "metadata": {
    "scrolled": true
   },
   "outputs": [
    {
     "name": "stdin",
     "output_type": "stream",
     "text": [
      "enter the name of first person :  Arnav\n",
      "enter first person's age :  19\n",
      "enter the name of second person :  Amit\n",
      "enter second person's age :  20\n",
      "enter the name of third person :  Anurup\n",
      "enter third person's age :  20\n"
     ]
    },
    {
     "name": "stdout",
     "output_type": "stream",
     "text": [
      "Arnav   19\n",
      "Amit   20\n",
      "Anurup   20\n"
     ]
    }
   ],
   "source": [
    "class person:\n",
    "    pass\n",
    "    def __init__(self,n,a):\n",
    "        self.age=a\n",
    "        self.name=n\n",
    "        \n",
    "    def display(self):\n",
    "        print(self.name,\" \",self.age)\n",
    "        #print(\"\\n\")\n",
    "name=\" \" \n",
    "name=input(\"enter the name of first person : \")\n",
    "age=int(input(\"enter first person's age : \"))\n",
    "p1=person(name,age)\n",
    "\n",
    "name=input(\"enter the name of second person : \")\n",
    "age=int(input(\"enter second person's age : \"))\n",
    "p2=person(name,age)\n",
    "\n",
    "name=input(\"enter the name of third person : \")\n",
    "age=int(input(\"enter third person's age : \"))\n",
    "p3=person(name,age)\n",
    "\n",
    "p1.display()\n",
    "p2.display()\n",
    "p3.display()\n"
   ]
  },
  {
   "cell_type": "markdown",
   "metadata": {},
   "source": [
    "#### 3 Write a program for following:\n",
    "- Create a class Book with title and author attribute and bookinfo method that shows the details of book.\n",
    "- create three object for three book's detail and show their details "
   ]
  },
  {
   "cell_type": "code",
   "execution_count": 7,
   "metadata": {
    "scrolled": true
   },
   "outputs": [
    {
     "name": "stdin",
     "output_type": "stream",
     "text": [
      "enter the name of author :  abc\n",
      "enter the book written by him :  a\n",
      "enter the name of author :  b\n",
      "enter the book written by him :  c\n",
      "enter the name of author :  d\n",
      "enter the book written by him :  e\n"
     ]
    },
    {
     "name": "stdout",
     "output_type": "stream",
     "text": [
      "a   by   abc\n",
      "c   by   b\n",
      "e   by   d\n"
     ]
    }
   ],
   "source": [
    "#write your code here\n",
    "class Book:\n",
    "    pass\n",
    "    def __init__(self,author,title):\n",
    "        self.author=author\n",
    "        self.title=title\n",
    "    def show(self):\n",
    "        print(self.title,\"  by  \",self.author)\n",
    "\n",
    "name=input(\"enter the name of author : \")\n",
    "title=input(\"enter the book written by him : \")\n",
    "a=Book(name,title)\n",
    "\n",
    "name=input(\"enter the name of author : \")\n",
    "title=input(\"enter the book written by him : \")\n",
    "x=Book(name,title)\n",
    "\n",
    "name=input(\"enter the name of author : \")\n",
    "title=input(\"enter the book written by him : \")\n",
    "y=Book(name,title)\n",
    "\n",
    "\n",
    "a.show()\n",
    "x.show()\n",
    "y.show()"
   ]
  },
  {
   "cell_type": "markdown",
   "metadata": {},
   "source": [
    "### Creating class with methods\n",
    "- self-parameter is used in the implementation of method of a class.\n",
    "- self-parameter is not used when we call that method\n",
    "- self-parameter references the object of itself\n",
    "- self is used to access the class variable of current object within the class method\n",
    "- self is used within the method to call another method of same class"
   ]
  },
  {
   "cell_type": "code",
   "execution_count": 8,
   "metadata": {},
   "outputs": [
    {
     "name": "stdout",
     "output_type": "stream",
     "text": [
      "Priyanka\n",
      "20\n",
      "Rohan\n",
      "20\n",
      "Rohan\n",
      "25\n"
     ]
    }
   ],
   "source": [
    "class Employee:\n",
    "    def __init__(self,name,age):\n",
    "        self._name=name\n",
    "        self._age=age\n",
    "    def access_detail(self):\n",
    "        print(self._name)\n",
    "        print(self._age)\n",
    "    \n",
    "    def change_name(self, new_name): # note that the first argument is self\n",
    "        self._name = new_name # access the class attribute with the self keyword\n",
    "        self.access_detail()  # access the another method of class with the self keyword\n",
    "    \n",
    "    def change_age(self, new_age): \n",
    "        self._age = new_age \n",
    "        self.access_detail()\n",
    "\n",
    "e1=Employee(\"Priyanka\",20)  \n",
    "e1.access_detail()\n",
    "e1.change_name(\"Rohan\")\n",
    "e1.change_age(25)\n"
   ]
  },
  {
   "cell_type": "code",
   "execution_count": 9,
   "metadata": {},
   "outputs": [
    {
     "name": "stdout",
     "output_type": "stream",
     "text": [
      "Steve\n",
      "21\n",
      "Woz\n",
      "21\n",
      "Woz\n",
      "25\n"
     ]
    }
   ],
   "source": [
    "class Employee:\n",
    "    def __init__(self,name,age):\n",
    "        self._name=name\n",
    "        self._age=age\n",
    "    def access_detail(self):\n",
    "        print(self._name)\n",
    "        print(self._age)\n",
    "    \n",
    "    def change_name(self, new_name): # note that the first argument is self\n",
    "        self._name = new_name # access the class attribute with the self keyword\n",
    "        self.access_detail()  # access the another method of class with the self keyword\n",
    "    \n",
    "    def change_age(self, new_age): \n",
    "        self._age = new_age \n",
    "        self.access_detail()\n",
    "\n",
    "e1=Employee(\"Steve\",21)  \n",
    "e1.access_detail()\n",
    "e1.change_name(\"Woz\")\n",
    "e1.change_age(25)"
   ]
  },
  {
   "cell_type": "markdown",
   "metadata": {},
   "source": [
    "### 4 Write a program to do following:-\n",
    "  - Create a class \"Rectangle\"\n",
    "  - Class has attributes: \"length\" and \"width\"\n",
    "  - Class has method \"calculate_area\" with parameters length and width and returns area of rectangle\n",
    "  - Create one object of class\n",
    "  - Display the values of length and width\n",
    "  - Display the area of rectangle\n",
    "  - change the values of length and width of that object\n",
    "  - Again Display the values of length and width\n",
    "  - Again Display the area of rectangle"
   ]
  },
  {
   "cell_type": "code",
   "execution_count": 10,
   "metadata": {},
   "outputs": [
    {
     "name": "stdin",
     "output_type": "stream",
     "text": [
      "enter length :  3\n",
      "enter width  :  2\n"
     ]
    },
    {
     "name": "stdout",
     "output_type": "stream",
     "text": [
      "length is  3\n",
      "width is  2\n",
      "area is  6\n"
     ]
    },
    {
     "name": "stdin",
     "output_type": "stream",
     "text": [
      "enter length :  2\n",
      "enter width  :  1\n"
     ]
    },
    {
     "name": "stdout",
     "output_type": "stream",
     "text": [
      "length is  2\n",
      "width is  1\n",
      "area is  2\n",
      "\n",
      "\n"
     ]
    }
   ],
   "source": [
    "class Rectangle:\n",
    "    def __init__(self):\n",
    "        self.getdata()\n",
    "        self.calculate_area()\n",
    "        self.display()\n",
    "        self.display_area()\n",
    "        \n",
    "        self.getdata()\n",
    "        self.calculate_area()\n",
    "        self.display()\n",
    "        self.display_area()\n",
    "        \n",
    "    def getdata(self):\n",
    "        self.length=int(input(\"enter length : \"))\n",
    "        self.width=int(input(\"enter width  : \"))\n",
    "    \n",
    "    def calculate_area(self):\n",
    "        self.area=self.length*self.width\n",
    "\n",
    "    def display(self):\n",
    "        print(\"length is \",self.length)\n",
    "        print(\"width is \",self.width)\n",
    "    \n",
    "    def display_area(self):\n",
    "        self.calculate_area()\n",
    "        print(\"area is \",self.area)\n",
    "    \n",
    "r=Rectangle()\n",
    "print(\"\\n\")"
   ]
  },
  {
   "cell_type": "markdown",
   "metadata": {},
   "source": [
    "### 5 Write a program to cleate two empty classes A and B and create their objects then Check the membership of an object using isinstanceof() method.\n",
    "isinstance(object_name,class_name)"
   ]
  },
  {
   "cell_type": "code",
   "execution_count": 11,
   "metadata": {},
   "outputs": [
    {
     "name": "stdout",
     "output_type": "stream",
     "text": [
      "True\n",
      "True\n"
     ]
    }
   ],
   "source": [
    "#write your code here\n",
    "class A:\n",
    "    pass\n",
    "   \n",
    "a=A()\n",
    "print(isinstance(a,A))\n",
    "\n",
    "class B:\n",
    "    pass\n",
    "\n",
    "b=B()\n",
    "print(isinstance(b,B))"
   ]
  },
  {
   "cell_type": "markdown",
   "metadata": {},
   "source": [
    "### The __del__() function"
   ]
  },
  {
   "cell_type": "markdown",
   "metadata": {},
   "source": [
    "- As __init__() function is used to initialize the values of variables. __del__() is used to destroy the class variable\n",
    "- This function is executed only if all the references to an object have been removed\n",
    "- It is like destructor and is executed once per object"
   ]
  },
  {
   "cell_type": "code",
   "execution_count": 12,
   "metadata": {},
   "outputs": [
    {
     "name": "stdout",
     "output_type": "stream",
     "text": [
      "Constructor of class\n"
     ]
    }
   ],
   "source": [
    "class Demo:\n",
    "    def __init__(self):\n",
    "        print(\"Constructor of class\")\n",
    "    def __del__(self):\n",
    "        print(\"Destructor of class\")\n",
    "        \n",
    "d1=Demo()\n",
    "d2=d1\n",
    "d3=d1\n",
    "del d1\n",
    "del d2\n"
   ]
  },
  {
   "cell_type": "markdown",
   "metadata": {},
   "source": [
    "### Accessibility"
   ]
  },
  {
   "cell_type": "markdown",
   "metadata": {},
   "source": [
    "- By default all attributes and methods are public.\n",
    "- to define private member of a class we add two __ in front of the attribute and method name."
   ]
  },
  {
   "cell_type": "code",
   "execution_count": null,
   "metadata": {
    "scrolled": true
   },
   "outputs": [],
   "source": [
    "class Info:\n",
    "    def __init__(self, name, acc_no):\n",
    "        self._name=name      #public\n",
    "        self.__acc_no=acc_no   #private attribute of class\n",
    "    def show(self):\n",
    "        print(self._name,self.__acc_no) #within class you can access both public and private members of Info class\n",
    "        \n",
    "name=\"Surbhi\"     \n",
    "acc_no=17837\n",
    "oi=Info(name,acc_no)\n",
    "oi.show()\n",
    "print(oi._name)    #public member so it is accessiable\n",
    "print(oi.__acc_no) #will show error bcz it is private"
   ]
  },
  {
   "cell_type": "code",
   "execution_count": null,
   "metadata": {
    "scrolled": true
   },
   "outputs": [],
   "source": [
    "class Info:\n",
    "    def __init__(self, name, acc_no):\n",
    "        self._name=name      #public\n",
    "        self.__acc_no=acc_no   #private attribute of class\n",
    "    def show(self):\n",
    "        print(self._name,self.__acc_no) #within class you can access both public and private members of Info class\n",
    "\n",
    "class B:\n",
    "    def display(self):\n",
    "        n=Info('Dr. Shivani','18000')\n",
    "        print(n._name)\n",
    "        print(n.__acc_no)#show error bcz private member of a class also not ccessiable in another class\n",
    "                \n",
    "name=\"Surbhi\"    \n",
    "acc_no=17837    \n",
    "oi=Info(name,acc_no)\n",
    "oi.show()\n",
    "ob=B()\n",
    "ob.display()"
   ]
  },
  {
   "cell_type": "markdown",
   "metadata": {},
   "source": [
    "### 6 Write a program for following:\n",
    "- create a class \"Employee\" that has attributes name, id, post, passward and account_number. Keep pass and account no private.\n",
    "- Define method \"show_public\" that shows public information like name, post and id\n",
    "- Define method \"show_private\" that shows private information like passward and account_no\n",
    "- Take details from user, create object of employee and show the details using defined functions"
   ]
  },
  {
   "cell_type": "code",
   "execution_count": 14,
   "metadata": {
    "scrolled": true
   },
   "outputs": [
    {
     "name": "stdin",
     "output_type": "stream",
     "text": [
      "enter name  Arnav\n",
      "enter id  1\n",
      "enter post  Student\n",
      "enter password  abcd\n",
      "enter account number  1234\n"
     ]
    },
    {
     "name": "stdout",
     "output_type": "stream",
     "text": [
      "Name= Arnav\n",
      "Post= Student\n",
      "ID= 1\n",
      "password= abcd\n",
      "account number= 1234\n"
     ]
    }
   ],
   "source": [
    "class employee:\n",
    "    \n",
    "    \n",
    "    pass\n",
    "    \n",
    "    def getdata(self):\n",
    "        self.name=input(\"enter name \")\n",
    "        self.id=input(\"enter id \")\n",
    "        self.post=input(\"enter post \")\n",
    "        self.__password=input(\"enter password \")\n",
    "        self.__account_no=int(input(\"enter account number \"))\n",
    "    \n",
    "    def __show_private(self):\n",
    "        print(\"password=\",self.__password)\n",
    "        print(\"account number=\",self.__account_no)\n",
    "        \n",
    "    def show_public(self):\n",
    "        print(\"Name=\",self.name)\n",
    "        print(\"Post=\",self.post)\n",
    "        print(\"ID=\",self.id)\n",
    "        self.__show_private()\n",
    "        \n",
    "e=employee()\n",
    "e.getdata()\n",
    "e.show_public()"
   ]
  },
  {
   "cell_type": "markdown",
   "metadata": {},
   "source": [
    "### 7 Write a program for same as above question but takes details of two or more employees store their objects in list and show their details in the end"
   ]
  },
  {
   "cell_type": "code",
   "execution_count": 15,
   "metadata": {},
   "outputs": [
    {
     "name": "stdin",
     "output_type": "stream",
     "text": [
      "enter number of employees  3\n",
      "enter name  a\n",
      "enter id  2\n",
      "enter post  st\n",
      "enter password  p1\n",
      "enter account number  123\n",
      "enter name  b\n",
      "enter id  3\n",
      "enter post  st\n",
      "enter password  p2\n",
      "enter account number  234\n",
      "enter name  c\n",
      "enter id  3\n",
      "enter post  st\n",
      "enter password  345\n",
      "enter account number  890\n"
     ]
    },
    {
     "name": "stdout",
     "output_type": "stream",
     "text": [
      "Name= a\n",
      "Post= st\n",
      "ID= 2\n",
      "password= p1\n",
      "account number= 123\n",
      "Name= b\n",
      "Post= st\n",
      "ID= 3\n",
      "password= p2\n",
      "account number= 234\n",
      "Name= c\n",
      "Post= st\n",
      "ID= 3\n",
      "password= 345\n",
      "account number= 890\n"
     ]
    }
   ],
   "source": [
    "#write your code here\n",
    "class employee:\n",
    "    \n",
    "    \n",
    "    pass\n",
    "    \n",
    "    def getdata(self):\n",
    "        self.name=input(\"enter name \")\n",
    "        self.id=input(\"enter id \")\n",
    "        self.post=input(\"enter post \")\n",
    "        self.__password=input(\"enter password \")\n",
    "        self.__account_no=int(input(\"enter account number \"))\n",
    "        \n",
    "    def __private(self):\n",
    "        print(\"password=\",self.__password)\n",
    "        print(\"account number=\",self.__account_no)\n",
    "        \n",
    "    def show_public(self):\n",
    "        print(\"Name=\",self.name)\n",
    "        print(\"Post=\",self.post)\n",
    "        print(\"ID=\",self.id)\n",
    "        self.__private()\n",
    "        \n",
    "n=int(input(\"enter number of employees \"))\n",
    "s=list()\n",
    "for i in range(0,n):\n",
    "    e=employee()\n",
    "    e.getdata()\n",
    "    s.append(e)\n",
    "\n",
    "for i in range(0,n):\n",
    "    s[i].show_public()"
   ]
  },
  {
   "cell_type": "markdown",
   "metadata": {},
   "source": [
    "### 8 Write a program for following:\n",
    "- Create a class \"Credit_card\" that has id, private attributes( card_no and PIN ), a method \"show\" to show the card details\n",
    "- Create a class \"Person\" that has attribute id, name and an object of credit card class and a method \"show\" to show id and name information.\n",
    "- crerate object of person and show complete details"
   ]
  },
  {
   "cell_type": "code",
   "execution_count": 18,
   "metadata": {},
   "outputs": [
    {
     "name": "stdin",
     "output_type": "stream",
     "text": [
      "Enter Name= m\n",
      "Enter ID= nk\n",
      "Enter Card Number= 9\n",
      "Enter Pin= 90\n",
      " hjkhlj\n"
     ]
    }
   ],
   "source": [
    "#write your code here\n",
    "class Credit_Card:\n",
    "    pass\n",
    "    def getvalues(self):\n",
    "        self.__card_no=int(int(input(\"Enter Card Number=\")))\n",
    "        self.__pin=int(input(\"Enter Pin=\"))\n",
    "\n",
    "    def __init__(self):\n",
    "        self.getvalues()\n",
    "        self.id=input()\n",
    "        \n",
    "    def show(self):\n",
    "        print(self.id,\"\\n\",self.__card_no,\"\\n\",self.__pin,)\n",
    "    \n",
    "class Person:\n",
    "    pass\n",
    "    def getdata(self):\n",
    "        self.name=input(\"Enter Name=\")\n",
    "        self.id=input(\"Enter ID=\")\n",
    "    def show(self):\n",
    "        a=Credit_Card()\n",
    "        if(self.id==a.id):\n",
    "            print(self.name)\n",
    "            a.show()\n",
    "    def __init__(self):\n",
    "        self.getdata()\n",
    "        self.show()\n",
    "        \n",
    "p=Person()"
   ]
  },
  {
   "cell_type": "markdown",
   "metadata": {},
   "source": [
    "## Optional"
   ]
  },
  {
   "cell_type": "markdown",
   "metadata": {},
   "source": [
    "### 9 Write a program for following:\n",
    "- Create a Time class and initialize it with hours and minutes.\n",
    "- Make a method addTime which should take two time object and add them. E.g.- (2 hour and 50 min)+(1 hr and 20 min) is (4 hr and 10 min)\n",
    "- Make a method displayTime which should print the time.\n",
    "- Make a method DisplayMinute which should display the total minutes in the Time. E.g.- (1 hr 2 min) should display 62 minute."
   ]
  },
  {
   "cell_type": "code",
   "execution_count": 19,
   "metadata": {},
   "outputs": [
    {
     "name": "stdout",
     "output_type": "stream",
     "text": [
      "First Time=\n"
     ]
    },
    {
     "name": "stdin",
     "output_type": "stream",
     "text": [
      " 4\n",
      " 52\n"
     ]
    },
    {
     "name": "stdout",
     "output_type": "stream",
     "text": [
      "Second Time=\n"
     ]
    },
    {
     "name": "stdin",
     "output_type": "stream",
     "text": [
      " 4\n",
      " 23\n"
     ]
    },
    {
     "name": "stdout",
     "output_type": "stream",
     "text": [
      "9 : 15\n",
      "555\n"
     ]
    }
   ],
   "source": [
    "class Time:\n",
    "    pass\n",
    "    def __init__(self,h,m):\n",
    "        self.hour=h\n",
    "        self.minutes=m\n",
    "        \n",
    "print(\"First Time=\")\n",
    "h=int(input())\n",
    "m=int(input())\n",
    "t1=Time(h,m)\n",
    "\n",
    "print(\"Second Time=\")\n",
    "h=int(input())\n",
    "m=int(input())\n",
    "t2=Time(h,m)\n",
    "\n",
    "    \n",
    "def display(t1):\n",
    "    print(t1.hour,\":\",t1.minutes)\n",
    "\n",
    "\n",
    "def display_minutes(t1):\n",
    "    print( (t1.hour*60) +t1.minutes)\n",
    "\n",
    "def addTime(t1,t2):\n",
    "    t1.minutes+=t2.minutes\n",
    "    if(t1.minutes>=60):\n",
    "        t1.minutes-=60\n",
    "        t1.hour+=1 \n",
    "    #print(minutes)\n",
    "    \n",
    "    t1.hour+=t2.hour\n",
    "    display(t1)\n",
    "    display_minutes(t1)\n",
    "\n",
    "addTime(t1,t2)"
   ]
  },
  {
   "cell_type": "markdown",
   "metadata": {},
   "source": [
    "### 10 Write a program for following:\n",
    "- Create a class \"Die\" that has attribut \"value\" and method roll that sets \"value\" between 1 and 6 (both inclusive) and returns this value. \n",
    "- Create class \"Player\" with name attribute and it has two dies (attributes) and play method to roll the dies and calculate sum of both dies.\n",
    "- Create two players. let them play and decide who win"
   ]
  },
  {
   "cell_type": "code",
   "execution_count": 21,
   "metadata": {},
   "outputs": [
    {
     "name": "stdout",
     "output_type": "stream",
     "text": [
      "Sum= 13\n",
      "Sum= 10\n"
     ]
    }
   ],
   "source": [
    "import random\n",
    "class Die:\n",
    "    \n",
    "    def __init__(self):\n",
    "        self.value=0\n",
    "    def values(self):\n",
    "        self.value=random.randint(1,7)\n",
    "        return self.value\n",
    "\n",
    "class Player:\n",
    "    def __init__(self):\n",
    "            a=Die()\n",
    "            b=Die()\n",
    "            self.display(a,b)\n",
    "    def display(self,a,b):\n",
    "            a.values()\n",
    "            b.values()\n",
    "            print(\"Sum=\",a.value+b.value)\n",
    "        \n",
    "\n",
    "p1=Player()\n",
    "p2=Player()"
   ]
  },
  {
   "cell_type": "code",
   "execution_count": null,
   "metadata": {},
   "outputs": [],
   "source": []
  }
 ],
 "metadata": {
  "kernelspec": {
   "display_name": "Python 3",
   "language": "python",
   "name": "python3"
  },
  "language_info": {
   "codemirror_mode": {
    "name": "ipython",
    "version": 3
   },
   "file_extension": ".py",
   "mimetype": "text/x-python",
   "name": "python",
   "nbconvert_exporter": "python",
   "pygments_lexer": "ipython3",
   "version": "3.7.3"
  }
 },
 "nbformat": 4,
 "nbformat_minor": 4
}
