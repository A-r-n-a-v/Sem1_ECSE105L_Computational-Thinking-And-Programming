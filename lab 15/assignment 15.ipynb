{
 "cells": [
  {
   "cell_type": "markdown",
   "metadata": {},
   "source": [
    "# Tuples\n",
    "\n",
    "Tuples are similar to lists with important difference:\n",
    "\n",
    "1. Tuples are immutable, meaning they cannot be changed in place or appended to.\n",
    "2. We can apply slicing in same way as we apply on lists"
   ]
  },
  {
   "cell_type": "markdown",
   "metadata": {},
   "source": [
    "### Syntax\n",
    "\n",
    "tuplename=(list of comma seperated values)\n"
   ]
  },
  {
   "cell_type": "markdown",
   "metadata": {},
   "source": [
    "#### Task 1: Run below code and make some changes to the code"
   ]
  },
  {
   "cell_type": "code",
   "execution_count": 2,
   "metadata": {},
   "outputs": [],
   "source": [
    "# creating tuples\n",
    "states=('Madhya Pradesh','Uttar Pradesh','Andhra Pradesh', 'Goa')"
   ]
  },
  {
   "cell_type": "code",
   "execution_count": 3,
   "metadata": {
    "scrolled": true
   },
   "outputs": [
    {
     "name": "stdout",
     "output_type": "stream",
     "text": [
      "('Madhya Pradesh', 'Uttar Pradesh', 'Andhra Pradesh', 'Goa')\n",
      "Madhya Pradesh\n",
      "('Madhya Pradesh', 'Uttar Pradesh')\n",
      "('Andhra Pradesh', 'Goa')\n",
      "Uttar Pradesh\n"
     ]
    }
   ],
   "source": [
    "print(states)\n",
    "print(states[0])\n",
    "print(states[0:2])\n",
    "print(states[2:])\n",
    "print(states[-3])"
   ]
  },
  {
   "cell_type": "code",
   "execution_count": 4,
   "metadata": {
    "scrolled": true
   },
   "outputs": [
    {
     "ename": "TypeError",
     "evalue": "'tuple' object does not support item assignment",
     "output_type": "error",
     "traceback": [
      "\u001b[1;31m---------------------------------------------------------------------------\u001b[0m",
      "\u001b[1;31mTypeError\u001b[0m                                 Traceback (most recent call last)",
      "\u001b[1;32m<ipython-input-4-5a0fee2e02f6>\u001b[0m in \u001b[0;36m<module>\u001b[1;34m()\u001b[0m\n\u001b[0;32m      1\u001b[0m \u001b[1;31m# following oprations are not allowed on tuples\u001b[0m\u001b[1;33m\u001b[0m\u001b[1;33m\u001b[0m\u001b[0m\n\u001b[0;32m      2\u001b[0m \u001b[1;33m\u001b[0m\u001b[0m\n\u001b[1;32m----> 3\u001b[1;33m \u001b[0mstates\u001b[0m\u001b[1;33m[\u001b[0m\u001b[1;36m0\u001b[0m\u001b[1;33m]\u001b[0m\u001b[1;33m=\u001b[0m\u001b[1;34m'MP'\u001b[0m\u001b[1;33m\u001b[0m\u001b[0m\n\u001b[0m",
      "\u001b[1;31mTypeError\u001b[0m: 'tuple' object does not support item assignment"
     ]
    }
   ],
   "source": [
    "# following oprations are not allowed on tuples\n",
    "\n",
    "states[0]='MP'\n"
   ]
  },
  {
   "cell_type": "code",
   "execution_count": 5,
   "metadata": {},
   "outputs": [
    {
     "name": "stdout",
     "output_type": "stream",
     "text": [
      "(1, 2, 3, 4)\n",
      "Deletion of Tuple\n"
     ]
    },
    {
     "ename": "NameError",
     "evalue": "name 'number' is not defined",
     "output_type": "error",
     "traceback": [
      "\u001b[1;31m---------------------------------------------------------------------------\u001b[0m",
      "\u001b[1;31mNameError\u001b[0m                                 Traceback (most recent call last)",
      "\u001b[1;32m<ipython-input-5-5051299a49c9>\u001b[0m in \u001b[0;36m<module>\u001b[1;34m()\u001b[0m\n\u001b[0;32m      5\u001b[0m \u001b[0mprint\u001b[0m\u001b[1;33m(\u001b[0m\u001b[1;34m\"Deletion of Tuple\"\u001b[0m\u001b[1;33m)\u001b[0m\u001b[1;33m\u001b[0m\u001b[0m\n\u001b[0;32m      6\u001b[0m \u001b[1;32mdel\u001b[0m \u001b[0mnumber\u001b[0m\u001b[1;33m\u001b[0m\u001b[0m\n\u001b[1;32m----> 7\u001b[1;33m \u001b[0mprint\u001b[0m\u001b[1;33m(\u001b[0m\u001b[0mnumber\u001b[0m\u001b[1;33m)\u001b[0m\u001b[1;33m\u001b[0m\u001b[0m\n\u001b[0m",
      "\u001b[1;31mNameError\u001b[0m: name 'number' is not defined"
     ]
    }
   ],
   "source": [
    "#Delete a tuple\n",
    "\n",
    "number=(1,2,3,4)\n",
    "print(number)\n",
    "print(\"Deletion of Tuple\")\n",
    "del number\n",
    "print(number)"
   ]
  },
  {
   "cell_type": "markdown",
   "metadata": {
    "collapsed": true
   },
   "source": [
    "#### Program 1: Write a python program for following\n",
    "- Uses the range() function to store all the odd numbers between m and n(inclusive) in a tuple, and print them out.\n",
    "- Take the value of m (should be odd) and n (should be greater then m) from the user."
   ]
  },
  {
   "cell_type": "code",
   "execution_count": 24,
   "metadata": {},
   "outputs": [
    {
     "name": "stdout",
     "output_type": "stream",
     "text": [
      "enter m3\n",
      "enter m9\n",
      "3\n",
      "5\n",
      "7\n",
      "9\n"
     ]
    }
   ],
   "source": [
    "#Write your code here\n",
    "m=int(input(\"enter m\"))\n",
    "n=int(input(\"enter m\"))\n",
    "odd=(range(m,n+1,2))\n",
    "for i in odd:\n",
    "    print(i)"
   ]
  },
  {
   "cell_type": "markdown",
   "metadata": {},
   "source": [
    "#### Program 2: Write a python program to make a list of the first ten even numbers using tuple comprehension and display the tuple using for loop."
   ]
  },
  {
   "cell_type": "code",
   "execution_count": 27,
   "metadata": {
    "scrolled": true
   },
   "outputs": [
    {
     "name": "stdout",
     "output_type": "stream",
     "text": [
      "2\n",
      "4\n",
      "6\n",
      "8\n",
      "10\n",
      "12\n",
      "14\n",
      "16\n",
      "18\n",
      "20\n"
     ]
    }
   ],
   "source": [
    "#Write your code here\n",
    "even=(range(2,21,2))\n",
    "for i in even:\n",
    "    print(i)"
   ]
  },
  {
   "cell_type": "markdown",
   "metadata": {},
   "source": [
    "#### Program 3: Write a python program to create a list of 10 random numbers and convert the list into tuple. Display the contents of both list and tuple."
   ]
  },
  {
   "cell_type": "code",
   "execution_count": 42,
   "metadata": {},
   "outputs": [
    {
     "name": "stdout",
     "output_type": "stream",
     "text": [
      "[89, 20, 82, 90, 25, 49, 98, 23, 17, 51]\n",
      "(89, 20, 82, 90, 25, 49, 98, 23, 17, 51)\n"
     ]
    }
   ],
   "source": [
    "#Write your code here\n",
    "import random\n",
    "l=[]\n",
    "for i in range(1,11):\n",
    "    j=random.randint(1,100)\n",
    "    l.append(j)\n",
    "t=tuple(l)\n",
    "print(l)\n",
    "print(t)"
   ]
  },
  {
   "cell_type": "markdown",
   "metadata": {},
   "source": [
    "##### Program 4: Write a python program for following \n",
    "- Create a tuple named \"score\" of 10 numbers. \n",
    "- Tuple might contain duplicate values. \n",
    "- Display the count of duplicate values for any given number using count function.\n",
    "- score.count(n)\n",
    "- For example, if the tuple contains (2,1,3,4,2) and we want to know how many times 2 has occured into the tuple, answer should be 2."
   ]
  },
  {
   "cell_type": "code",
   "execution_count": 5,
   "metadata": {
    "scrolled": true
   },
   "outputs": [
    {
     "name": "stdout",
     "output_type": "stream",
     "text": [
      "enter n : 2\n"
     ]
    },
    {
     "data": {
      "text/plain": [
       "3"
      ]
     },
     "execution_count": 5,
     "metadata": {},
     "output_type": "execute_result"
    }
   ],
   "source": [
    "#Write your code here\n",
    "score=(2,4,5,7,7,2,56,8,4,2)\n",
    "n=int(input(\"enter n : \"))\n",
    "score.count(n)"
   ]
  },
  {
   "cell_type": "markdown",
   "metadata": {},
   "source": [
    "#### Program 5: Write a Python program\n",
    "- To get the 4th element and last 4th element of a tuple.\n",
    "- To find the repeated items of a tuple.\n",
    "- To check whether an element exists within a tuple.\n",
    "- To slice a tuple.\n",
    "- To find the index of an item of a tuple."
   ]
  },
  {
   "cell_type": "code",
   "execution_count": 5,
   "metadata": {},
   "outputs": [
    {
     "name": "stdout",
     "output_type": "stream",
     "text": [
      "4\n",
      "7\n",
      "(2, 3)\n",
      "False\n",
      "(3, 4, 2)\n",
      "3\n"
     ]
    }
   ],
   "source": [
    "#Write your code here\n",
    "t=(2,2,3,4,2,6,7,8,2,3)\n",
    "print(t[3])\n",
    "print(t[-4])\n",
    "l=[]\n",
    "for i in t:\n",
    "    if(i in l):\n",
    "        continue\n",
    "    j=t.count(i)\n",
    "    if(j>1):\n",
    "        l.append(i)\n",
    "t_rep=tuple(l)\n",
    "print(t_rep)\n",
    "print(5 in t)\n",
    "print(t[2:5])\n",
    "print(t.index(4))"
   ]
  },
  {
   "cell_type": "markdown",
   "metadata": {},
   "source": [
    "## Dictionary"
   ]
  },
  {
   "cell_type": "markdown",
   "metadata": {},
   "source": [
    "#### Python dictionary is an unordered collection of items. While other compound data types have only value as an element, a dictionary has a key: value pair.\n",
    "\n",
    "#### Dictionaries are optimized to retrieve values when the key is known."
   ]
  },
  {
   "cell_type": "markdown",
   "metadata": {},
   "source": [
    "## Creation of dictionary!\n",
    "\n",
    "#### Creating a dictionary is as simple as placing items inside curly braces {} separated by comma.\n",
    "#### An item has a key and the corresponding value expressed as a pair, key: value.\n",
    "\n",
    "#### While values can be of any data type and can repeat, keys must be of immutable type (string, number or tuple with immutable elements) and must be unique"
   ]
  },
  {
   "cell_type": "code",
   "execution_count": 60,
   "metadata": {},
   "outputs": [
    {
     "name": "stdout",
     "output_type": "stream",
     "text": [
      "{1: 'apple', 2: 'ball'}\n",
      "{'name': 'John', 1: [2, 4, 3]}\n",
      "{1: 'apple', 2: 'ball'}\n",
      "{1: 'apple', 2: 'ball'}\n"
     ]
    }
   ],
   "source": [
    "# empty dictionary\n",
    "my_dict = {}\n",
    "\n",
    "# dictionary with integer keys\n",
    "my_dict = {1: 'apple', 2: 'ball'}\n",
    "\n",
    "print(my_dict)\n",
    "\n",
    "# dictionary with mixed keys\n",
    "my_dict = {'name': 'John', 1: [2, 4, 3]}\n",
    "\n",
    "print(my_dict)\n",
    "\n",
    "# we can also create a dictionary using the built-in function dict()\n",
    "# using dict()\n",
    "my_dict = dict({1:'apple', 2:'ball'})\n",
    "\n",
    "print(my_dict)\n",
    "\n",
    "# from sequence having each item as a pair\n",
    "my_dict = dict([(1,'apple'), (2,'ball')])\n",
    "\n",
    "print(my_dict)"
   ]
  },
  {
   "cell_type": "markdown",
   "metadata": {},
   "source": [
    "### Accessing the Dictionary element"
   ]
  },
  {
   "cell_type": "code",
   "execution_count": 61,
   "metadata": {},
   "outputs": [
    {
     "name": "stdout",
     "output_type": "stream",
     "text": [
      "Jack\n",
      "26\n"
     ]
    },
    {
     "ename": "KeyError",
     "evalue": "'address'",
     "output_type": "error",
     "traceback": [
      "\u001b[1;31m---------------------------------------------------------------------------\u001b[0m",
      "\u001b[1;31mKeyError\u001b[0m                                  Traceback (most recent call last)",
      "\u001b[1;32m<ipython-input-61-74ed0414ae59>\u001b[0m in \u001b[0;36m<module>\u001b[1;34m()\u001b[0m\n\u001b[0;32m      8\u001b[0m \u001b[1;31m# Trying to access keys which doesn't exist throws error\u001b[0m\u001b[1;33m\u001b[0m\u001b[1;33m\u001b[0m\u001b[0m\n\u001b[0;32m      9\u001b[0m \u001b[0mmy_dict\u001b[0m\u001b[1;33m.\u001b[0m\u001b[0mget\u001b[0m\u001b[1;33m(\u001b[0m\u001b[1;34m'address'\u001b[0m\u001b[1;33m)\u001b[0m\u001b[1;33m\u001b[0m\u001b[0m\n\u001b[1;32m---> 10\u001b[1;33m \u001b[0mmy_dict\u001b[0m\u001b[1;33m[\u001b[0m\u001b[1;34m'address'\u001b[0m\u001b[1;33m]\u001b[0m\u001b[1;33m\u001b[0m\u001b[0m\n\u001b[0m",
      "\u001b[1;31mKeyError\u001b[0m: 'address'"
     ]
    }
   ],
   "source": [
    "my_dict = {'name':'Jack', 'age': 26}\n",
    "\n",
    "print(my_dict['name'])\n",
    "\n",
    "# Using Get Function\n",
    "print(my_dict.get('age'))\n",
    "\n",
    "# Trying to access keys which doesn't exist throws error\n",
    "my_dict.get('address')\n",
    "my_dict['address']"
   ]
  },
  {
   "cell_type": "markdown",
   "metadata": {},
   "source": [
    "### Update the dictionary Items\n",
    "- Dictionary are mutable. We can add new items or change the value of existing items using assignment operator.\n",
    "- If the key is already present, value gets updated, else a new key: value pair is added to the dictionary."
   ]
  },
  {
   "cell_type": "code",
   "execution_count": 65,
   "metadata": {},
   "outputs": [
    {
     "name": "stdout",
     "output_type": "stream",
     "text": [
      "{'name': 'Jack', 'age': 27}\n",
      "{'name': 'Jack', 'age': 27, 'address': 'Downtown'}\n"
     ]
    }
   ],
   "source": [
    "my_dict = {'name':'Jack', 'age': 26}\n",
    "\n",
    "# update value\n",
    "my_dict['age'] = 27\n",
    "\n",
    "print(my_dict)\n",
    "\n",
    "# add item\n",
    "my_dict['address'] = 'Downtown'  \n",
    "\n",
    "print(my_dict)"
   ]
  },
  {
   "cell_type": "markdown",
   "metadata": {},
   "source": [
    "### Delection an elements from a dictionary!\n",
    "- We can remove a particular item in a dictionary by using the method pop(). This method removes as item with the provided key and returns the value.\n",
    "- The method, popitem() can be used to remove and return an arbitrary item (key, value) form the dictionary. All the items can be removed at once using the clear() method.\n",
    "- We can also use the del keyword to remove individual items or the entire dictionary itself."
   ]
  },
  {
   "cell_type": "code",
   "execution_count": 66,
   "metadata": {
    "scrolled": true
   },
   "outputs": [
    {
     "name": "stdout",
     "output_type": "stream",
     "text": [
      "16\n",
      "{1: 1, 2: 4, 3: 9, 5: 25}\n",
      "(5, 25)\n",
      "{1: 1, 2: 4, 3: 9}\n",
      "{1: 1, 3: 9}\n",
      "{}\n"
     ]
    },
    {
     "ename": "NameError",
     "evalue": "name 'squares' is not defined",
     "output_type": "error",
     "traceback": [
      "\u001b[1;31m---------------------------------------------------------------------------\u001b[0m",
      "\u001b[1;31mNameError\u001b[0m                                 Traceback (most recent call last)",
      "\u001b[1;32m<ipython-input-66-c035abb49c0e>\u001b[0m in \u001b[0;36m<module>\u001b[1;34m()\u001b[0m\n\u001b[0;32m     25\u001b[0m \u001b[1;32mdel\u001b[0m \u001b[0msquares\u001b[0m\u001b[1;33m\u001b[0m\u001b[0m\n\u001b[0;32m     26\u001b[0m \u001b[1;33m\u001b[0m\u001b[0m\n\u001b[1;32m---> 27\u001b[1;33m \u001b[0mprint\u001b[0m\u001b[1;33m(\u001b[0m\u001b[0msquares\u001b[0m\u001b[1;33m)\u001b[0m\u001b[1;33m\u001b[0m\u001b[0m\n\u001b[0m",
      "\u001b[1;31mNameError\u001b[0m: name 'squares' is not defined"
     ]
    }
   ],
   "source": [
    "# create a dictionary\n",
    "squares = {1:1, 2:4, 3:9, 4:16, 5:25}  \n",
    "\n",
    "# remove a particular item\n",
    "print(squares.pop(4))  \n",
    "\n",
    "print(squares)\n",
    "\n",
    "# remove an arbitrary item\n",
    "print(squares.popitem())\n",
    "\n",
    "print(squares)\n",
    "\n",
    "# delete a particular item\n",
    "del squares[2]  \n",
    "\n",
    "print(squares)\n",
    "\n",
    "# remove all items\n",
    "squares.clear()\n",
    "\n",
    "print(squares)\n",
    "\n",
    "# delete the dictionary itself\n",
    "del squares\n",
    "\n",
    "print(squares)"
   ]
  },
  {
   "cell_type": "markdown",
   "metadata": {},
   "source": [
    "## Implement FLAMES game\n",
    "\n",
    "FlamesGame is a relationship calculating algorithm famous between the youngsters. At the time of graduation everyone might heard about this and many of them tried out this secretly. Some took this as very serious also. So what FLAMES stance for?\n",
    "- F - Friendship\n",
    "- L - Love\n",
    "- A - Affection\n",
    "- M - Marriage\n",
    "- E - Enemy\n",
    "- S - Sister (Sibling)\n",
    "\n",
    "How we can calculate the FLAMES?\n",
    "It is very easy to explain with some example:\n",
    "Your name: asd\n",
    "Partner name: abcd\n",
    "\n",
    "Mainly two steps are there:\n",
    "Get the flames count\n",
    "Take the two names ('asd' and 'abcd')\n",
    "\n",
    "Remove the common characters (two common characters 'a', 'd')\n",
    "\n",
    "Get the count of the characters that are left (Removed a,d and the rest are s,b,c. So total 3.)\n",
    "\n",
    "Get the flames result\n",
    "\n",
    "We take FLAMES letters ('F', 'L', 'A', 'M', 'E', 'S')\n",
    "\n",
    "And start removing letters using the flames count we got.\n",
    "\n",
    "And the letter which last the process is the result.\n",
    "\n",
    "In our example we got flames count = 3. So first we takes FLAMES.\n",
    "\n",
    "FLAMES\n",
    "\n",
    "Then we start count from left up to flames count 3. Then remove the letter which is in the position 3. In this case it is 'A'. So the letters become:\n",
    "\n",
    "FLMES\n",
    "\n",
    "Then we start count again from the letter which is removed ie, from 'M'. So the next character to remove is 'S'. So our letters become:\n",
    "\n",
    "FLME\n",
    "\n",
    "After next step:\n",
    "\n",
    "FLE\n",
    "\n",
    "Then:\n",
    "\n",
    "FE\n",
    "\n",
    "Last:\n",
    "\n",
    "F\n",
    "\n",
    "So the result is 'Friend'.\n",
    "\n",
    "Input:\n",
    "\n",
    "Input contains two lines\n",
    "\n",
    "First line represents name 1\n",
    "\n",
    "Second line represents name 2\n",
    "\n",
    "Output:\n",
    "\n",
    "A single word representing Friend/Love/Affection/Marriage/Enemy/Sister"
   ]
  },
  {
   "cell_type": "code",
   "execution_count": 11,
   "metadata": {},
   "outputs": [
    {
     "name": "stdout",
     "output_type": "stream",
     "text": [
      "Enter first name:\n",
      "asd\n",
      "Enter second name:\n",
      "abcd\n",
      "Result : \n",
      "FRIENDSHIP\n"
     ]
    }
   ],
   "source": [
    "print(\"Enter first name:\")\n",
    "s1=list((input()).replace(' ',''))\n",
    "print(\"Enter second name:\")\n",
    "s2=list((input()).replace(' ',''))\n",
    "c=0\n",
    "for i in s1:\n",
    "    if(i not in s2):s\n",
    "        c+=1\n",
    "for i in s2:\n",
    "    if(i not in s1):\n",
    "        c+=1\n",
    "n=6\n",
    "s = \"FLAMES\"\n",
    "\n",
    "while(len(s) != 1):\n",
    "    i = c % n\n",
    "    if(i == 0):\n",
    "        s=s.replace(s[len(s)-1],\"\")\n",
    "    else:\n",
    "        s=s.replace(s[i-1],\"\")\n",
    "        s=s[i-1:]+s[:i-1]\n",
    "    n-=1\n",
    "print(\"Result : \")\n",
    "if( s == \"F\"):\n",
    "    print(\"FRIENDSHIP\")\n",
    "if( s == \"L\"):\n",
    "    print(\"LOVE\")\n",
    "if( s == \"A\"):\n",
    "    print(\"AFFECTION\")\n",
    "if( s == \"M\"):\n",
    "    print(\"MARRIAGE\")\n",
    "if( s == \"E\"):\n",
    "    print(\"ENEMIES\")     \n",
    "if( s == \"S\"):\n",
    "    print(\"SISTER/SIBLING\")"
   ]
  },
  {
   "cell_type": "code",
   "execution_count": null,
   "metadata": {},
   "outputs": [],
   "source": []
  }
 ],
 "metadata": {
  "kernelspec": {
   "display_name": "Python 3",
   "language": "python",
   "name": "python3"
  },
  "language_info": {
   "codemirror_mode": {
    "name": "ipython",
    "version": 3
   },
   "file_extension": ".py",
   "mimetype": "text/x-python",
   "name": "python",
   "nbconvert_exporter": "python",
   "pygments_lexer": "ipython3",
   "version": "3.7.0"
  }
 },
 "nbformat": 4,
 "nbformat_minor": 2
}
