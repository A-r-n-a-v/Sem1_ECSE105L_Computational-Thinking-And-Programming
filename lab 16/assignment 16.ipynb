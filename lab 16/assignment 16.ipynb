{
 "cells": [
  {
   "cell_type": "markdown",
   "metadata": {},
   "source": [
    "# File Handling Part 1"
   ]
  },
  {
   "cell_type": "markdown",
   "metadata": {},
   "source": [
    "### Some commonly used code\n",
    "- fobjr = open(\"sample.txt\", \"r\") # open the file in read only mode\n",
    "- fobjw = open(\"example.txt\", \"w\") # open the file in write mode\n",
    "- data = open(\"sample.txt\").readlines() # read all the contents line wise into data[0], data[1] etc.... \n",
    "- data = open(\"sample.txt\").read() # read all the contents as string into data\n",
    "- fobj.close() # close the file\n",
    "\n",
    "\n",
    "\n",
    "- with open(\"sample.txt\") as fobj # no need to close the file"
   ]
  },
  {
   "cell_type": "markdown",
   "metadata": {},
   "source": [
    "### Read from file"
   ]
  },
  {
   "cell_type": "code",
   "execution_count": 21,
   "metadata": {},
   "outputs": [],
   "source": [
    "# open the file for reading the contents\n",
    "fobj = open(\"sample.txt\", \"r\")"
   ]
  },
  {
   "cell_type": "code",
   "execution_count": 6,
   "metadata": {
    "scrolled": true
   },
   "outputs": [
    {
     "name": "stdout",
     "output_type": "stream",
     "text": [
      "My name is Arnav Bansal.\n",
      "Hello!\n",
      "This is awesome.\n"
     ]
    }
   ],
   "source": [
    "for line in fobj:\n",
    "    #print(line)\n",
    "    print(line.rstrip()) # commnet this line and uncomment the first line and run it again"
   ]
  },
  {
   "cell_type": "code",
   "execution_count": 7,
   "metadata": {},
   "outputs": [],
   "source": [
    "# close the file after reading the contents\n",
    "fobj.close()"
   ]
  },
  {
   "cell_type": "markdown",
   "metadata": {},
   "source": [
    "### Write to file"
   ]
  },
  {
   "cell_type": "code",
   "execution_count": 37,
   "metadata": {},
   "outputs": [],
   "source": [
    "# open the file for writing\n",
    "fobj2 = open(\"example.txt\", \"w\")\n",
    "\n",
    "# write some text to file\n",
    "fobj2.write(\"Bennett University, \\nGreater Noida\")\n",
    "fobj2.write(\"\\nWriting to file example.txt\")\n",
    "fobj2.write(\"\\nIf example.txt doesn't exixts on the disk, new file will be created\")\n",
    "\n",
    "\n",
    "\n",
    "# close the file after writing\n",
    "fobj2.close()\n"
   ]
  },
  {
   "cell_type": "markdown",
   "metadata": {},
   "source": [
    "### Program 1: Write a program to read and display the contents of the file \"example.txt\""
   ]
  },
  {
   "cell_type": "code",
   "execution_count": 38,
   "metadata": {
    "scrolled": false
   },
   "outputs": [
    {
     "name": "stdout",
     "output_type": "stream",
     "text": [
      "Bennett University, \n",
      "\n",
      "Greater Noida\n",
      "\n",
      "Writing to file example.txt\n",
      "\n",
      "If example.txt doesn't exixts on the disk, new file will be created\n"
     ]
    }
   ],
   "source": [
    "# write your code after this line\n",
    "f=open(\"example.txt\",\"r\")\n",
    "for i in f:\n",
    "    print(i)\n"
   ]
  },
  {
   "cell_type": "markdown",
   "metadata": {},
   "source": [
    "### Program 2: WAP to create a new file called \"myinfo.txt\" and write your name, branch, semester, university and hobbies into it. Add code to read the contents of the file and display them."
   ]
  },
  {
   "cell_type": "code",
   "execution_count": 11,
   "metadata": {},
   "outputs": [
    {
     "name": "stdout",
     "output_type": "stream",
     "text": [
      "Name : Arnav Bansal\n",
      "\n",
      "Branch : CSE\n",
      "\n",
      "Semester : 1st\n",
      "\n",
      "University : Bennett University\n",
      "\n",
      "Hobbies: Table Tennis\n"
     ]
    }
   ],
   "source": [
    "# Write your code here\n",
    "f1=open(\"myinfo.txt\",\"w+\")\n",
    "f1.write(\"Name : Arnav Bansal\\nBranch : CSE\\nSemester : 1st\\nUniversity : Bennett University\\nHobbies: Table Tennis\")\n",
    "for i in f1:\n",
    "    print(i)\n",
    "    "
   ]
  },
  {
   "cell_type": "markdown",
   "metadata": {},
   "source": [
    "### Program 3: Write a program to write more content to file \"example.txt\" in \"w\" mode and display all the cotents of the file."
   ]
  },
  {
   "cell_type": "code",
   "execution_count": 14,
   "metadata": {},
   "outputs": [
    {
     "name": "stdout",
     "output_type": "stream",
     "text": [
      "\u0000\u0000\u0000\u0000\u0000\u0000\u0000\u0000\u0000\u0000\u0000\u0000\u0000\u0000\u0000\u0000\u0000\u0000\u0000\u0000\u0000\u0000\u0000\u0000\u0000\u0000\u0000\u0000\u0000\u0000\u0000\u0000\u0000\u0000\u0000\u0000\u0000Hello! You are here with Arnav Bansal\n"
     ]
    }
   ],
   "source": [
    "# write your code after this line for writing to file \"example.txt\"\n",
    "f2=open(\"example.txt\",\"w+\")\n",
    "f2.write(\"Hello! You are here with Arnav Bansal.\")\n",
    "for i in f2:\n",
    "    print(i)\n"
   ]
  },
  {
   "cell_type": "markdown",
   "metadata": {},
   "source": [
    "#### What happended to earlier content of the file \"example.txt\" ??"
   ]
  },
  {
   "cell_type": "markdown",
   "metadata": {},
   "source": [
    "### Program 4: Write a program to read the contents from one file(\"sample.txt\") and write to another file(\"sample_new.txt\") and display the contents of the newly created file."
   ]
  },
  {
   "cell_type": "code",
   "execution_count": 23,
   "metadata": {
    "scrolled": true
   },
   "outputs": [
    {
     "name": "stdout",
     "output_type": "stream",
     "text": [
      "\u0000\u0000\u0000\u0000\u0000\u0000\u0000\u0000\u0000\u0000\u0000\u0000\u0000\u0000\u0000\u0000\u0000\u0000\u0000\u0000\u0000\u0000\u0000\u0000\u0000\u0000\u0000\u0000\u0000\u0000\u0000\u0000\u0000\u0000\u0000\u0000\u0000\u0000\u0000\u0000\u0000\u0000\u0000\u0000\u0000\u0000\u0000\u0000\u0000\u0000\u0000\u0000My name is Arnav Bansal.\n",
      "\n",
      "Hello!\n",
      "\n",
      "This is awesome.\n",
      "\n"
     ]
    }
   ],
   "source": [
    "# write your code here\n",
    "f3=open(\"sample.txt\",\"r\")\n",
    "f4=open(\"sample_new.txt\",\"w+\")\n",
    "for i in f3:\n",
    "    f4.write(i)\n",
    "for i in f4:\n",
    "    print(i)"
   ]
  },
  {
   "cell_type": "markdown",
   "metadata": {},
   "source": [
    "### Program 5: Write a program to append some new text to an existing file (\"sample_new.txt\") and display all the contents"
   ]
  },
  {
   "cell_type": "code",
   "execution_count": 24,
   "metadata": {
    "scrolled": true
   },
   "outputs": [
    {
     "name": "stdout",
     "output_type": "stream",
     "text": [
      "\u0000\u0000\u0000\u0000\u0000\u0000\u0000\u0000\u0000\u0000\u0000\u0000\u0000\u0000\u0000\u0000\u0000\u0000\u0000\u0000\u0000\u0000\u0000\u0000\u0000\u0000\u0000\u0000\u0000\u0000\u0000\u0000\u0000\u0000\u0000\u0000\u0000\u0000\u0000\u0000\u0000\u0000\u0000\u0000\u0000\u0000\u0000\u0000\u0000\u0000\u0000\u0000My name is Arnav Bansal.\n",
      "\n",
      "Hello!\n",
      "\n",
      "This is awesome.\n",
      "\n",
      "\n",
      "\n",
      "My name is not what you think\n"
     ]
    }
   ],
   "source": [
    "# write your code here\n",
    "f5=open(\"sample_new.txt\",\"a\")\n",
    "f5.write(\"\\nMy name is not what you think\")\n",
    "f6=open(\"sample_new.txt\",\"r\")\n",
    "for i in f6:\n",
    "    print(i)"
   ]
  },
  {
   "cell_type": "markdown",
   "metadata": {},
   "source": [
    "### Program 6: Write a program which does the following:\n",
    "- Read the content of the file(\"sample.txt\") using readlines() method\n",
    "- Print only first and third line of the file\n",
    "- Print all the contents of the file using for loop\n",
    "- Count number of lines of text in the file"
   ]
  },
  {
   "cell_type": "code",
   "execution_count": 28,
   "metadata": {
    "scrolled": false
   },
   "outputs": [
    {
     "name": "stdout",
     "output_type": "stream",
     "text": [
      "the first line of the file is :  My name is Arnav Bansal.\n",
      " \n",
      "the second line of the file is :  This is awesome.\n",
      "\n",
      "My name is Arnav Bansal.\n",
      "\n",
      "Hello!\n",
      "\n",
      "This is awesome.\n",
      "\n",
      "number of line in the file is :  3\n"
     ]
    }
   ],
   "source": [
    "# write your code here\n",
    "data = open(\"sample.txt\").readlines() \n",
    "print(\"the first line of the file is : \",data[0],\"\\nthe second line of the file is : \",data[2])\n",
    "c=0\n",
    "for i in data:\n",
    "    print(i)\n",
    "    c+=1\n",
    "print(\"number of line in the file is : \",c)"
   ]
  },
  {
   "cell_type": "markdown",
   "metadata": {},
   "source": [
    "### Program 7: Write a program which does the following:\n",
    "- Read all the content of the file(\"sample.txt\") as a string using read() method. \n",
    "- print first 10 characters of the file\n",
    "- print last 5 character of the file\n",
    "- print all the characters between 10 and 20\n",
    "- print all the conents of the file"
   ]
  },
  {
   "cell_type": "code",
   "execution_count": 31,
   "metadata": {
    "scrolled": false
   },
   "outputs": [
    {
     "name": "stdout",
     "output_type": "stream",
     "text": [
      "the first ten characters of the file are :  My name is\n",
      "the last five characters of the file are :  ome.\n",
      "\n",
      "the characters of the file from ten to twenty one are :   Arnav Bans\n",
      "My name is Arnav Bansal.\n",
      "Hello!\n",
      "This is awesome.\n",
      "\n"
     ]
    }
   ],
   "source": [
    "# write your code here\n",
    "data = open(\"sample.txt\").read() \n",
    "print(\"the first ten characters of the file are : \",data[0:10])\n",
    "print(\"the last five characters of the file are : \",data[-5:])\n",
    "print(\"the characters of the file from ten to twenty one are : \",data[10:21])\n",
    "print(data)"
   ]
  },
  {
   "cell_type": "markdown",
   "metadata": {},
   "source": [
    "### Program 8: Write a program which does the following:\n",
    "- Read the contents of the file(\"sample.txt\") using readlines() method\n",
    "- print the first line of the file\n",
    "- Split and display the contents of the first line\n",
    "- print one splitted word per line"
   ]
  },
  {
   "cell_type": "code",
   "execution_count": 33,
   "metadata": {},
   "outputs": [
    {
     "name": "stdout",
     "output_type": "stream",
     "text": [
      "the first line of the file is My name is Arnav Bansal.\n",
      "\n",
      "the words in the first line : \n",
      "My\n",
      "name\n",
      "is\n",
      "Arnav\n",
      "Bansal.\n",
      "\n"
     ]
    }
   ],
   "source": [
    "# write your code here\n",
    "data = open(\"sample.txt\").readlines() \n",
    "print(\"the first line of the file is\",data[0])\n",
    "x=data[0].split(\" \")\n",
    "print(\"the words in the first line : \")\n",
    "for i in x:\n",
    "    print(i)"
   ]
  },
  {
   "cell_type": "markdown",
   "metadata": {},
   "source": [
    "### Program 9: Write a program to read the contents of the file(\"sample.txt\") using \"with open()\""
   ]
  },
  {
   "cell_type": "code",
   "execution_count": 34,
   "metadata": {
    "scrolled": false
   },
   "outputs": [
    {
     "name": "stdout",
     "output_type": "stream",
     "text": [
      "My name is Arnav Bansal.\n",
      "\n",
      "Hello!\n",
      "\n",
      "This is awesome.\n",
      "\n"
     ]
    }
   ],
   "source": [
    "# write your code here\n",
    "with open(\"sample.txt\") as fobj:\n",
    "    for i in fobj:\n",
    "        print(i)"
   ]
  },
  {
   "cell_type": "markdown",
   "metadata": {},
   "source": [
    "### Program 10: Write a program to write to file(\"example2.txt\") using \"with open()\""
   ]
  },
  {
   "cell_type": "code",
   "execution_count": 35,
   "metadata": {},
   "outputs": [
    {
     "name": "stdout",
     "output_type": "stream",
     "text": [
      "Hi there!\n"
     ]
    }
   ],
   "source": [
    "# write your code here\n",
    "with open(\"example2.txt\",\"w+\") as fobj:\n",
    "    fobj.write(\"Hi there!\")\n",
    "    fobj.seek(0)\n",
    "    for i in fobj:\n",
    "        print(i)\n"
   ]
  },
  {
   "cell_type": "markdown",
   "metadata": {},
   "source": [
    "## Optional Programs"
   ]
  },
  {
   "cell_type": "markdown",
   "metadata": {},
   "source": [
    "### Program 11: WAP to find the square and cube of all the numbers between start and end. Create a file named  \"cubes.txt\" and store one number per line into file. Read the values of start and end from the file. Also print the start and ending number. "
   ]
  },
  {
   "cell_type": "raw",
   "metadata": {},
   "source": [
    "Output should look like:\n",
    "Start number = 1\n",
    "End number = 20\n",
    "Cube of 1 is 1\n",
    "Cube 2 is 8\n",
    "Cube of 3 is 27\n",
    "....."
   ]
  },
  {
   "cell_type": "code",
   "execution_count": 39,
   "metadata": {},
   "outputs": [
    {
     "name": "stdout",
     "output_type": "stream",
     "text": [
      "starting number : 1\n",
      "ending number : 20\n",
      "cube of 1 is 1\n",
      "\n",
      "cube of 2 is 8\n",
      "\n",
      "cube of 3 is 27\n",
      "\n",
      "cube of 4 is 64\n",
      "\n",
      "cube of 5 is 125\n",
      "\n",
      "cube of 6 is 216\n",
      "\n",
      "cube of 7 is 343\n",
      "\n",
      "cube of 8 is 512\n",
      "\n",
      "cube of 9 is 729\n",
      "\n",
      "cube of 10 is 1000\n",
      "\n",
      "cube of 11 is 1331\n",
      "\n",
      "cube of 12 is 1728\n",
      "\n",
      "cube of 13 is 2197\n",
      "\n",
      "cube of 14 is 2744\n",
      "\n",
      "cube of 15 is 3375\n",
      "\n",
      "cube of 16 is 4096\n",
      "\n",
      "cube of 17 is 4913\n",
      "\n",
      "cube of 18 is 5832\n",
      "\n",
      "cube of 19 is 6859\n",
      "\n",
      "cube of 20 is 8000\n",
      "\n"
     ]
    }
   ],
   "source": [
    "# write your code here\n",
    "fp=open(\"cubes.txt\",\"w+\")\n",
    "a=int(input(\"starting number : \"))\n",
    "b=int(input(\"ending number : \"))\n",
    "for i in range(a,b+1):\n",
    "    fp.write(str(i**3)+\"\\n\")\n",
    "fp.close()\n",
    "\n",
    "fp=open(\"cubes.txt\",\"r\").readlines()\n",
    "j=1\n",
    "for i in fp:\n",
    "    print(\"cube of\",j,\"is\",i)\n",
    "    j+=1"
   ]
  },
  {
   "cell_type": "markdown",
   "metadata": {},
   "source": [
    "### Program 12: WAP for following:\n",
    "- Create a new file called \"states.txt\". \n",
    "- Take the values of state and its capital(atleast 10 records) from the user and write them to newly created file.\n",
    "- The file should containt 1 record per state."
   ]
  },
  {
   "cell_type": "code",
   "execution_count": 3,
   "metadata": {},
   "outputs": [
    {
     "name": "stdout",
     "output_type": "stream",
     "text": [
      "state : Rajasthan\tcapital : Jaipur\n",
      "\n",
      "state : Punjab\tcapital : Chandigarh\n",
      "\n",
      "state : Bihar\tcapital : Patna\n",
      "\n",
      "state : MP\tcapital : Bhopal\n",
      "\n",
      "state : UP\tcapital : Lucknow\n",
      "\n",
      "state : West Bengal\tcapital : Calcutta\n",
      "\n",
      "state : J & K\tcapital : Shrinagar\n",
      "\n",
      "state : Jharkhand\tcapital : Ranchi\n",
      "\n",
      "state : Haryana\tcapital : Chandigarh\n",
      "\n",
      "state : Assam\tcapital : Dispur\n",
      "\n"
     ]
    }
   ],
   "source": [
    "# write your code here\n",
    "fn=open(\"states.txt\",\"w+\")\n",
    "count=0\n",
    "while(True):\n",
    "    if(count==10):\n",
    "        break\n",
    "    s=input(\"enter the state name : \")\n",
    "    c=input(\"enter the capital name : \")\n",
    "    count+=1\n",
    "    fn.write(\"state : \"+s+\"\\t\")\n",
    "    fn.write(\"capital : \"+c+\"\\n\")\n",
    "fn.close()\n",
    "fr=open(\"states.txt\",\"r\")\n",
    "for i in fr:\n",
    "    print(i)"
   ]
  }
 ],
 "metadata": {
  "kernelspec": {
   "display_name": "Python 3",
   "language": "python",
   "name": "python3"
  },
  "language_info": {
   "codemirror_mode": {
    "name": "ipython",
    "version": 3
   },
   "file_extension": ".py",
   "mimetype": "text/x-python",
   "name": "python",
   "nbconvert_exporter": "python",
   "pygments_lexer": "ipython3",
   "version": "3.6.5"
  }
 },
 "nbformat": 4,
 "nbformat_minor": 2
}
