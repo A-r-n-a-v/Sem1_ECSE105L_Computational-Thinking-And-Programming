{
 "cells": [
  {
   "cell_type": "markdown",
   "metadata": {},
   "source": [
    "# Student Name: Arnav Bansal\n",
    "# Enrollment Number: E18CSE028\n",
    "# Lab assignemnt number: 7"
   ]
  },
  {
   "cell_type": "markdown",
   "metadata": {},
   "source": [
    "## Loops"
   ]
  },
  {
   "cell_type": "markdown",
   "metadata": {},
   "source": [
    "## Compulsary questions"
   ]
  },
  {
   "cell_type": "markdown",
   "metadata": {},
   "source": [
    "#### Syntax of \"for loop\""
   ]
  },
  {
   "cell_type": "raw",
   "metadata": {
    "collapsed": true
   },
   "source": [
    "for iterable_var_name in range(terminating_value):\n",
    "    stmt 1\n",
    "    stmt 2\n",
    "    ...\n",
    "    \n",
    " for iterable_var_name in range(initial_value,terminating_value):\n",
    "    stmt 1\n",
    "    stmt 2\n",
    "    ...\n",
    "    \n",
    " for iterable_var_name in range(initial_value,terminating_value,updation):\n",
    "    stmt 1\n",
    "    stmt 2\n",
    "    ..."
   ]
  },
  {
   "cell_type": "markdown",
   "metadata": {},
   "source": [
    "#### Syntax of \"while loop\""
   ]
  },
  {
   "cell_type": "raw",
   "metadata": {
    "collapsed": true
   },
   "source": [
    "initialization of loop variable\n",
    "while( condition ):\n",
    "    stmt 1\n",
    "    stmt 2\n",
    "    ...\n",
    "    update loop variable"
   ]
  },
  {
   "cell_type": "markdown",
   "metadata": {},
   "source": [
    "#### Syntax of using \"break\" in a loop"
   ]
  },
  {
   "cell_type": "raw",
   "metadata": {},
   "source": [
    "loop (for loop or while loop):\n",
    "    if(cond):\n",
    "        stmt\n",
    "        break\n",
    "    else:\n",
    "        stmt"
   ]
  },
  {
   "cell_type": "markdown",
   "metadata": {},
   "source": [
    "#### Syntax of using \"Continue\" in a loop"
   ]
  },
  {
   "cell_type": "raw",
   "metadata": {},
   "source": [
    "loop (for loop or while loop):\n",
    "    stmt                 #It will be printed always.\n",
    "    if(cond):\n",
    "        continue\n",
    "        stmt             #It will be not printed."
   ]
  },
  {
   "cell_type": "markdown",
   "metadata": {},
   "source": [
    "### 1 Write a program in Python to calculate and print the power m of a number n without using ** operator or pow (n, m) function"
   ]
  },
  {
   "cell_type": "code",
   "execution_count": 3,
   "metadata": {
    "scrolled": false
   },
   "outputs": [
    {
     "name": "stdout",
     "output_type": "stream",
     "text": [
      "enter number : 2\n",
      "enter power : 6\n",
      "2 to the power 6 is 64\n"
     ]
    }
   ],
   "source": [
    "n=int(input(\"enter number : \"))\n",
    "m=int(input(\"enter power : \"))\n",
    "p=1\n",
    "for i in range(1,m+1):\n",
    "    p=p*n\n",
    "print(n,\"to the power\",m,\"is\",p)"
   ]
  },
  {
   "cell_type": "markdown",
   "metadata": {},
   "source": [
    "### 2 Write a program in Python to input 8 numbers from user. It should find and print the smallest value among these."
   ]
  },
  {
   "cell_type": "code",
   "execution_count": 5,
   "metadata": {},
   "outputs": [
    {
     "name": "stdout",
     "output_type": "stream",
     "text": [
      "enter 8 numbers : 5\n",
      "6\n",
      "8\n",
      "32\n",
      "0\n",
      "12\n",
      "5776\n",
      "54\n",
      "the minimum number amongst the entered numbers is 0\n"
     ]
    }
   ],
   "source": [
    "a=int(input(\"enter 8 numbers : \"))\n",
    "m=a\n",
    "for i in range(1,8):\n",
    "    a=int(input())\n",
    "    if(a<m):\n",
    "        m=a\n",
    "print(\"the minimum number amongst the entered numbers is\",m)"
   ]
  },
  {
   "cell_type": "markdown",
   "metadata": {},
   "source": [
    "##### 3 Write a program in Python to print odd numbers from 1 to 10 except 7. (Hint: use continue statement)"
   ]
  },
  {
   "cell_type": "code",
   "execution_count": 7,
   "metadata": {},
   "outputs": [
    {
     "name": "stdout",
     "output_type": "stream",
     "text": [
      "1\n",
      "3\n",
      "5\n",
      "9\n"
     ]
    }
   ],
   "source": [
    "for i in range(1,11,2):\n",
    "    if(i==7):\n",
    "        continue\n",
    "    else:\n",
    "        print(i)"
   ]
  },
  {
   "cell_type": "markdown",
   "metadata": {},
   "source": [
    "### 4 Write a program in Python to calculate the sum of numbers in the range from m to n which are not divisible by 2 or 3 or 5. where m<n.\n"
   ]
  },
  {
   "cell_type": "code",
   "execution_count": 2,
   "metadata": {
    "scrolled": true
   },
   "outputs": [
    {
     "name": "stdout",
     "output_type": "stream",
     "text": [
      "enter m : 2\n",
      "entre n : 16\n",
      "7\n",
      "11\n",
      "13\n",
      "the required sum is 31\n"
     ]
    }
   ],
   "source": [
    "m=int(input(\"enter m : \"))\n",
    "n=int(input(\"entre n : \"))\n",
    "sum=0\n",
    "for i in  range(m,n+1):\n",
    "    if(i%2==0 or i%3==0 or i%5==0):\n",
    "        continue\n",
    "    sum=sum+i\n",
    "    print(i)\n",
    "print(\"the required sum is\",sum)"
   ]
  },
  {
   "cell_type": "markdown",
   "metadata": {},
   "source": [
    "### 5 Write a program in Python to calculate and print all factors of a number. And think for optimizing the program. (Hint: N/2 Times)"
   ]
  },
  {
   "cell_type": "code",
   "execution_count": 6,
   "metadata": {
    "scrolled": true
   },
   "outputs": [
    {
     "name": "stdout",
     "output_type": "stream",
     "text": [
      "enter a number21\n",
      "1\n",
      "3\n",
      "7\n",
      "21\n"
     ]
    }
   ],
   "source": [
    "n=int(input(\"enter a number\"))\n",
    "for i in range(1,(n//2)+1):\n",
    "    if(n%i==0):\n",
    "        print(i)\n",
    "print(n)"
   ]
  },
  {
   "cell_type": "markdown",
   "metadata": {},
   "source": [
    "### 6 Write a program in Python to accept one string from user. The program should count and print the number of characters in the string using a for loop, without using inbulit functions."
   ]
  },
  {
   "cell_type": "code",
   "execution_count": 14,
   "metadata": {},
   "outputs": [
    {
     "name": "stdout",
     "output_type": "stream",
     "text": [
      "enter a : arnav bansal\n",
      "total numbers of characters are 12\n"
     ]
    }
   ],
   "source": [
    "a=input(\"enter a : \")\n",
    "c=0\n",
    "for i in a:\n",
    "    c+=1\n",
    "print(\"total numbers of characters are\",c)"
   ]
  },
  {
   "cell_type": "markdown",
   "metadata": {},
   "source": [
    "### 7 Write a program in Python to input a sentence with digits also. The program should count the number of uppercase letters, lowercase letters and digits in the sentence."
   ]
  },
  {
   "cell_type": "code",
   "execution_count": 2,
   "metadata": {},
   "outputs": [
    {
     "name": "stdout",
     "output_type": "stream",
     "text": [
      "enter a : Arnav BAnsal 9414\n",
      "the number of spaces are 2\n",
      "the number of lowercase letters are 8\n",
      "the number of uppercase letters are 3\n",
      "the number of digits are 4\n"
     ]
    }
   ],
   "source": [
    "a=input(\"enter a : \")\n",
    "s=0\n",
    "l=0\n",
    "u=0\n",
    "d=0\n",
    "spc=0\n",
    "for i in a:\n",
    "    if(i==' '):\n",
    "        s+=1\n",
    "    elif(i>='a' and i<='z'):\n",
    "        l+=1\n",
    "    elif(i>='A' and i<='Z'):\n",
    "        u+=1\n",
    "    elif(i>='0' and i<='9'):\n",
    "        d+=1\n",
    "    else:\n",
    "        spc+=1\n",
    "print(\"the number of spaces are\",s)\n",
    "print(\"the number of lowercase letters are\",l)\n",
    "print(\"the number of uppercase letters are\",u)\n",
    "print(\"the number of digits are\",d)"
   ]
  },
  {
   "cell_type": "markdown",
   "metadata": {},
   "source": [
    "### 8 Write a program in Python to accept a maximum 100 names from user. The user can enter 'stop' to exit the loop. The program should print the count of names entered by the user. "
   ]
  },
  {
   "cell_type": "code",
   "execution_count": 8,
   "metadata": {},
   "outputs": [
    {
     "name": "stdout",
     "output_type": "stream",
     "text": [
      "enter the names\n",
      "arnav\n",
      "manu\n",
      "kapil\n",
      "mahesh\n",
      "vishnu\n",
      "akash\n",
      "amritansh\n",
      "stop\n",
      "the total number of names entered by the user is 7\n"
     ]
    }
   ],
   "source": [
    "print(\"enter the names\")\n",
    "for i in range(1,101):\n",
    "    a=input()\n",
    "    if(a=='stop'):\n",
    "        break\n",
    "print(\"the total number of names entered by the user is\",i-1)"
   ]
  },
  {
   "cell_type": "markdown",
   "metadata": {},
   "source": [
    "###  9 Write a program in Python to generate and print Fibonacci series upto first 10 numbers. \n",
    "### The Fibonacci series is 0,1,1,2,3,5,8,13… where first term is 0, second term is 1 and the nth term t(n) = t (n-1) + t (n-2)."
   ]
  },
  {
   "cell_type": "code",
   "execution_count": 32,
   "metadata": {
    "scrolled": true
   },
   "outputs": [
    {
     "name": "stdout",
     "output_type": "stream",
     "text": [
      "0\n",
      "1\n",
      "1\n",
      "2\n",
      "3\n",
      "5\n",
      "8\n",
      "13\n",
      "21\n",
      "34\n"
     ]
    }
   ],
   "source": [
    "t1=0\n",
    "t2=1\n",
    "for i in range(0,10):\n",
    "    if(i<=1):\n",
    "        t=i\n",
    "    else:\n",
    "        t=t+t1\n",
    "        t1=t2\n",
    "        t2=t\n",
    "    print(t)    "
   ]
  },
  {
   "cell_type": "markdown",
   "metadata": {},
   "source": [
    "### 10 Write a program in Python to generate a number whose triangular number is given.\n",
    "### If number is 4, then the triangular number would be 10 (i.e. 1+2+3+4). The program should return 'ERROR', if it is not a triangular number."
   ]
  },
  {
   "cell_type": "code",
   "execution_count": 18,
   "metadata": {},
   "outputs": [
    {
     "name": "stdout",
     "output_type": "stream",
     "text": [
      "10\n",
      "t 4\n"
     ]
    }
   ],
   "source": [
    "n=int(input())\n",
    "sum=0\n",
    "c=0\n",
    "for i in range(1,n+1):\n",
    "    sum+=i\n",
    "    if(sum==n):\n",
    "        c=1\n",
    "        break\n",
    "if(c==1):\n",
    "    print(\"t\",i)\n",
    "else:\n",
    "    print(\"error\")"
   ]
  },
  {
   "cell_type": "code",
   "execution_count": 12,
   "metadata": {},
   "outputs": [
    {
     "name": "stdout",
     "output_type": "stream",
     "text": [
      "Enter Traingular Number : 15\n",
      "15 is the triangular number of 5\n"
     ]
    }
   ],
   "source": [
    "t=int(input(\"Enter Traingular Number : \"))\n",
    "check=True\n",
    "for i in range(1,t+1):\n",
    "    if(t==(i*(i+1))/2):\n",
    "        print(t,\"is the triangular number of\",i)\n",
    "        check=False\n",
    "if(check):\n",
    "    print(\"error\")"
   ]
  },
  {
   "cell_type": "markdown",
   "metadata": {},
   "source": [
    "### 11 Write a program in Python to read a password from the user. If the user types the correct password \"Success\", then display the message, \"Welcome!\". The user should be allowed to enter password only 3 times. If the password is not correct after 3 attempts, then display the message 'Blocked!'."
   ]
  },
  {
   "cell_type": "code",
   "execution_count": 13,
   "metadata": {},
   "outputs": [
    {
     "name": "stdout",
     "output_type": "stream",
     "text": [
      "enter the password\n",
      "btfc\n",
      "2 attempts left\n",
      "enter the password\n",
      "r\n",
      "1 attempts left\n",
      "enter the password\n",
      "v\n",
      "0 attempts left\n",
      "blocked\n"
     ]
    }
   ],
   "source": [
    "p='abcdef'\n",
    "for i in range(1,4):\n",
    "    a=input(\"enter the password\\n\")\n",
    "    if(a==p):\n",
    "        print(\"success\")\n",
    "        print(\"welcome\")\n",
    "        break\n",
    "    else:\n",
    "        print(3-i,\"attempts left\")\n",
    "        if(3-i==0):\n",
    "            print(\"blocked\")"
   ]
  },
  {
   "cell_type": "markdown",
   "metadata": {},
   "source": [
    "## Optional questions"
   ]
  },
  {
   "cell_type": "markdown",
   "metadata": {},
   "source": [
    "### 12 Write a program in Python to generate and print Fibonacci series upto n numbers where n is input by user."
   ]
  },
  {
   "cell_type": "code",
   "execution_count": 68,
   "metadata": {
    "scrolled": true
   },
   "outputs": [
    {
     "name": "stdout",
     "output_type": "stream",
     "text": [
      "enter n : 12\n",
      "0\n",
      "1\n",
      "1\n",
      "2\n",
      "3\n",
      "5\n",
      "8\n",
      "13\n",
      "21\n",
      "34\n",
      "55\n",
      "89\n"
     ]
    }
   ],
   "source": [
    "n=int(input(\"enter n : \"))\n",
    "t1=0\n",
    "t2=1\n",
    "for i in range(0,n):\n",
    "    if(i<=1):\n",
    "        t=i\n",
    "    else:\n",
    "        t=t+t1\n",
    "        t1=t2\n",
    "        t2=t\n",
    "    print(t)    "
   ]
  },
  {
   "cell_type": "markdown",
   "metadata": {},
   "source": [
    "### 13. Write a program in Python to check the validity of password input by users…….(complete details as given) \n",
    "Validation :\n",
    "\n",
    "At least 1 letter between [a-z] and 1 letter between [A-Z].\n",
    "\n",
    "At least 1 number between [0-9].\n",
    "\n",
    "At least 1 character from [$#@].\n",
    "\n",
    "Minimum length 6 characters.\n",
    "\n",
    "Maximum length 16 characters."
   ]
  },
  {
   "cell_type": "raw",
   "metadata": {},
   "source": [
    "Note: \n",
    "import re   #for searching a pattern in password\n",
    "len()          #For calculating length\n",
    "Example: re.search(\"[a-z]\",p) #to search weather word p has any character between a and z. "
   ]
  },
  {
   "cell_type": "code",
   "execution_count": 19,
   "metadata": {},
   "outputs": [
    {
     "name": "stdout",
     "output_type": "stream",
     "text": [
      "Enter the password\n",
      "u\n",
      "Invalid\n"
     ]
    }
   ],
   "source": [
    "import re\n",
    "p = input(\"Enter the password\\n\")\n",
    "if(re.search(\"[a-z]\",p)):\n",
    "    s1=1\n",
    "else:\n",
    "    s1=0\n",
    "if(re.search(\"[A-Z]\",p)):\n",
    "    s2=1\n",
    "else:\n",
    "    s2=0\n",
    "if(re.search(\"[0-9]\",p)):\n",
    "    s3=1\n",
    "else:\n",
    "    s3=0\n",
    "if(re.search(\"[$#@]\",p)):\n",
    "    s4=1\n",
    "else:\n",
    "    s4=0\n",
    "if(6<len(p)<16):\n",
    "    s5=1\n",
    "else:\n",
    "    s5=0\n",
    "if(s1 and s2 and s3 and s4 and s5):\n",
    "    print('Valid')\n",
    "else:\n",
    "    print('Invalid')"
   ]
  },
  {
   "cell_type": "markdown",
   "metadata": {},
   "source": [
    "### 14.  Write a program in Python to calculate the least common multiplier (LCM) of any two integer numbers.\n",
    "###  First number 24, Second number 36, LCM= 72"
   ]
  },
  {
   "cell_type": "code",
   "execution_count": 29,
   "metadata": {},
   "outputs": [
    {
     "name": "stdout",
     "output_type": "stream",
     "text": [
      "Enter first number\n",
      "24\n",
      "Enter second number\n",
      "36\n",
      "LCM is 72\n"
     ]
    }
   ],
   "source": [
    "a=int(input('Enter first number\\n'))\n",
    "b=int(input('Enter second number\\n'))\n",
    "m=max(a,b)\n",
    "while(True):\n",
    "    if(m%a==0 and m%b==0):\n",
    "        print('LCM is '+str(m))\n",
    "        break\n",
    "    m+=1"
   ]
  },
  {
   "cell_type": "code",
   "execution_count": null,
   "metadata": {},
   "outputs": [],
   "source": []
  }
 ],
 "metadata": {
  "kernelspec": {
   "display_name": "Python 3",
   "language": "python",
   "name": "python3"
  },
  "language_info": {
   "codemirror_mode": {
    "name": "ipython",
    "version": 3
   },
   "file_extension": ".py",
   "mimetype": "text/x-python",
   "name": "python",
   "nbconvert_exporter": "python",
   "pygments_lexer": "ipython3",
   "version": "3.7.0"
  }
 },
 "nbformat": 4,
 "nbformat_minor": 2
}
