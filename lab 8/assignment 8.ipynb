{
 "cells": [
  {
   "cell_type": "markdown",
   "metadata": {},
   "source": [
    "# Student Name: Arnav Bansal\n",
    "# Enrollment Number: E18CSE028\n",
    "# Lab assignemnt number: 8"
   ]
  },
  {
   "cell_type": "markdown",
   "metadata": {},
   "source": [
    "## Nested Loops"
   ]
  },
  {
   "cell_type": "markdown",
   "metadata": {},
   "source": [
    "### 1 Run the following program to see how many time outer and inner loop run."
   ]
  },
  {
   "cell_type": "code",
   "execution_count": 1,
   "metadata": {},
   "outputs": [
    {
     "name": "stdout",
     "output_type": "stream",
     "text": [
      "4 12\n"
     ]
    }
   ],
   "source": [
    "inner=0\n",
    "outer=0\n",
    "for i in range(1,5):\n",
    "    outer+=1\n",
    "    for j in range(1,4):\n",
    "        inner+=1\n",
    "print(outer,inner)\n"
   ]
  },
  {
   "cell_type": "markdown",
   "metadata": {},
   "source": [
    "### 2 Write a program in Python to print a square pattern using loop.\n",
    "    * * * * *\n",
    "    * * * * *\n",
    "    * * * * *\n",
    "    * * * * *\n",
    "    * * * * *"
   ]
  },
  {
   "cell_type": "code",
   "execution_count": 42,
   "metadata": {
    "scrolled": false
   },
   "outputs": [
    {
     "name": "stdout",
     "output_type": "stream",
     "text": [
      "* * * * * \n",
      "* * * * * \n",
      "* * * * * \n",
      "* * * * * \n",
      "* * * * * \n"
     ]
    }
   ],
   "source": [
    "for i in range(1,6):\n",
    "    print(5*'* ')"
   ]
  },
  {
   "cell_type": "markdown",
   "metadata": {},
   "source": [
    "### 3 Print the following output using a Python program:\n",
    "    5  4  3  2  1\n",
    "    5  4  3  2  1    \n",
    "    5  4  3  2  1\n",
    "    5  4  3  2  1 "
   ]
  },
  {
   "cell_type": "code",
   "execution_count": 28,
   "metadata": {
    "scrolled": false
   },
   "outputs": [
    {
     "name": "stdout",
     "output_type": "stream",
     "text": [
      "5  4  3  2  1  \n",
      "5  4  3  2  1  \n",
      "5  4  3  2  1  \n",
      "5  4  3  2  1  \n"
     ]
    }
   ],
   "source": [
    "for i in range(1,5):\n",
    "    for j in range(5,0,-1):\n",
    "        print(j,end='  ')\n",
    "    print()"
   ]
  },
  {
   "cell_type": "markdown",
   "metadata": {},
   "source": [
    "### 4 Write a program in Python to print following pattern using loop:\n",
    "    * \n",
    "    * * \n",
    "    * * * \n",
    "    * * * * \n",
    "    * * * * *"
   ]
  },
  {
   "cell_type": "code",
   "execution_count": 35,
   "metadata": {},
   "outputs": [
    {
     "name": "stdout",
     "output_type": "stream",
     "text": [
      "* \n",
      "* * \n",
      "* * * \n",
      "* * * * \n",
      "* * * * * \n"
     ]
    }
   ],
   "source": [
    "for i in range(1,6):\n",
    "    print(i*'* ')"
   ]
  },
  {
   "cell_type": "markdown",
   "metadata": {},
   "source": [
    "### 5 Write a program in Python to print following pattern using loop:\n",
    "    * * * * * \n",
    "      * * * * \n",
    "        * * * \n",
    "          * * \n",
    "            * "
   ]
  },
  {
   "cell_type": "code",
   "execution_count": 6,
   "metadata": {},
   "outputs": [
    {
     "name": "stdout",
     "output_type": "stream",
     "text": [
      "   * * * * *\n",
      "     * * * *\n",
      "       * * *\n",
      "         * *\n",
      "           *\n"
     ]
    }
   ],
   "source": [
    "for i in range(1,6):\n",
    "    print(i*'  '+(6-i)*' *')"
   ]
  },
  {
   "cell_type": "code",
   "execution_count": 23,
   "metadata": {},
   "outputs": [
    {
     "name": "stdout",
     "output_type": "stream",
     "text": [
      " * * * * *\n",
      "   * * * *\n",
      "     * * *\n",
      "       * *\n",
      "         *\n"
     ]
    }
   ],
   "source": [
    "for i in range(5,0,-1):\n",
    "    print((5-i)*2*' '+i*' *')"
   ]
  },
  {
   "cell_type": "markdown",
   "metadata": {},
   "source": [
    "### 6 Write a program in Python to print Floyd triangle for range entered by user.\n",
    "For example: range=4\n",
    "\n",
    "    1 \n",
    "    2 3 \n",
    "    4 5 6     \n",
    "    7 8 9 10"
   ]
  },
  {
   "cell_type": "code",
   "execution_count": 37,
   "metadata": {
    "scrolled": false
   },
   "outputs": [
    {
     "name": "stdout",
     "output_type": "stream",
     "text": [
      "enter the range : 4\n",
      "1 \n",
      "2 3 \n",
      "4 5 6 \n",
      "7 8 9 10 \n"
     ]
    }
   ],
   "source": [
    "n=int(input(\"enter the range : \"))\n",
    "x=1\n",
    "for i in range(1,n+1):\n",
    "    for j in range(1,i+1):\n",
    "        print(x,end=' ')\n",
    "        x+=1\n",
    "    print()"
   ]
  },
  {
   "cell_type": "markdown",
   "metadata": {},
   "source": [
    "### 7 Write a program in Python to take 5 numbers from user and print their factors."
   ]
  },
  {
   "cell_type": "code",
   "execution_count": 1,
   "metadata": {
    "scrolled": false
   },
   "outputs": [
    {
     "name": "stdout",
     "output_type": "stream",
     "text": [
      "enter the numbers\n",
      "21\n",
      "the factors of 21 are\n",
      "1\n",
      "3\n",
      "7\n",
      "21\n",
      "34\n",
      "the factors of 34 are\n",
      "1\n",
      "2\n",
      "17\n",
      "34\n",
      "16\n",
      "the factors of 16 are\n",
      "1\n",
      "2\n",
      "4\n",
      "8\n",
      "16\n",
      "80\n",
      "the factors of 80 are\n",
      "1\n",
      "2\n",
      "4\n",
      "5\n",
      "8\n",
      "10\n",
      "16\n",
      "20\n",
      "40\n",
      "80\n",
      "2\n",
      "the factors of 2 are\n",
      "1\n",
      "2\n"
     ]
    }
   ],
   "source": [
    "print(\"enter the numbers\")\n",
    "for i in range(1,6):\n",
    "    a=int(input())\n",
    "    print(\"the factors of\",a,\"are\")\n",
    "    for j in range(1,a+1):\n",
    "            if(a%j==0):\n",
    "                print(j)"
   ]
  },
  {
   "cell_type": "markdown",
   "metadata": {},
   "source": [
    "### 8 Write a program in Python to print all prime numbers between 1 and 20."
   ]
  },
  {
   "cell_type": "code",
   "execution_count": 4,
   "metadata": {
    "scrolled": true
   },
   "outputs": [
    {
     "name": "stdout",
     "output_type": "stream",
     "text": [
      "prime numbers between 1 and 20 are\n",
      "1\n",
      "2\n",
      "3\n",
      "5\n",
      "7\n",
      "11\n",
      "13\n",
      "17\n",
      "19\n"
     ]
    }
   ],
   "source": [
    "c=1\n",
    "print(\"prime numbers between 1 and 20 are\")\n",
    "for i in range(1,21):\n",
    "    for j in range(2,i):\n",
    "        if(i%j==0):\n",
    "            c=0\n",
    "            break\n",
    "        else:\n",
    "            c=1\n",
    "    if(c==1):\n",
    "        print(i)"
   ]
  },
  {
   "cell_type": "markdown",
   "metadata": {},
   "source": [
    "### 9 Write a program in Python to input multiple number till enter -1 and print the digits of an each integer number in reverse order. The program should also print the count of digits. For example, if n=235, digits are 5,3 and 2. The count is 3."
   ]
  },
  {
   "cell_type": "code",
   "execution_count": 1,
   "metadata": {},
   "outputs": [
    {
     "name": "stdout",
     "output_type": "stream",
     "text": [
      "enter the numbers\n",
      "235\n",
      "digits are:\n",
      "5\n",
      "3\n",
      "2\n",
      "count of the digits = 3\n",
      "4658\n",
      "digits are:\n",
      "8\n",
      "5\n",
      "6\n",
      "4\n",
      "count of the digits = 4\n",
      "1235679\n",
      "digits are:\n",
      "9\n",
      "7\n",
      "6\n",
      "5\n",
      "3\n",
      "2\n",
      "1\n",
      "count of the digits = 7\n",
      "0\n",
      "digits are:\n",
      "count of the digits = 0\n",
      "1\n",
      "digits are:\n",
      "1\n",
      "count of the digits = 1\n",
      "-1\n"
     ]
    }
   ],
   "source": [
    "print(\"enter the numbers\")\n",
    "while(True):\n",
    "    n=int(input())\n",
    "    if(n==-1):\n",
    "        break\n",
    "    else:\n",
    "        count=0\n",
    "        print('digits are:')\n",
    "        while(n>0):\n",
    "            count+=1\n",
    "            d=n%10\n",
    "            print(d)\n",
    "            n=n//10\n",
    "        print('count of the digits =',count) "
   ]
  },
  {
   "cell_type": "markdown",
   "metadata": {},
   "source": [
    "### 10 Print the following output using a Python program:\n",
    "    1  2  3  4  5    \n",
    "    1  2  3  4  5    \n",
    "    1  2  3  4  5    \n",
    "    1  2  3  4  5"
   ]
  },
  {
   "cell_type": "code",
   "execution_count": 3,
   "metadata": {
    "scrolled": false
   },
   "outputs": [
    {
     "name": "stdout",
     "output_type": "stream",
     "text": [
      "1  2  3  4  5  \n",
      "1  2  3  4  5  \n",
      "1  2  3  4  5  \n",
      "1  2  3  4  5  \n"
     ]
    }
   ],
   "source": [
    "for i in range(1,5):\n",
    "    for j in range(1,6):\n",
    "        print(j,end='  ')\n",
    "    print()"
   ]
  },
  {
   "cell_type": "markdown",
   "metadata": {},
   "source": [
    "## Optional Questions"
   ]
  },
  {
   "cell_type": "markdown",
   "metadata": {},
   "source": [
    "### 11 Write a program in Python to print tilted line of length entered by user:\n",
    "For len=3. Output should look like:\n",
    "\n",
    "    \\\n",
    "     \\\n",
    "      \\"
   ]
  },
  {
   "cell_type": "code",
   "execution_count": 6,
   "metadata": {
    "scrolled": true
   },
   "outputs": [
    {
     "name": "stdout",
     "output_type": "stream",
     "text": [
      "enter the length : 3\n",
      "\\\n",
      " \\\n",
      "  \\\n"
     ]
    }
   ],
   "source": [
    "len=int(input(\"enter the length : \"))\n",
    "for i in range(0,len):\n",
    "    print(i*' '+\"\\\\\")"
   ]
  },
  {
   "cell_type": "markdown",
   "metadata": {},
   "source": [
    "### 12 Write a program in Python to print following pattern using loop.\n",
    "\n",
    "             *\n",
    "           * *\n",
    "         * * *\n",
    "       * * * *\n",
    "     * * * * *"
   ]
  },
  {
   "cell_type": "code",
   "execution_count": 27,
   "metadata": {},
   "outputs": [
    {
     "name": "stdout",
     "output_type": "stream",
     "text": [
      "           \n",
      "         * \n",
      "       * * \n",
      "     * * * \n",
      "   * * * * \n",
      " * * * * * \n"
     ]
    }
   ],
   "source": [
    "for i in range(0,6):\n",
    "    print((5-i)*2*' '+i*' *',end=' ')\n",
    "    print()"
   ]
  },
  {
   "cell_type": "markdown",
   "metadata": {},
   "source": [
    "### 13 Write a program in Python to print following pattern using loop:\n",
    "    * * * * *\n",
    "    * * * *\n",
    "    * * *    \n",
    "    * *\n",
    "    * "
   ]
  },
  {
   "cell_type": "code",
   "execution_count": 29,
   "metadata": {
    "scrolled": false
   },
   "outputs": [
    {
     "name": "stdout",
     "output_type": "stream",
     "text": [
      " * * * * * \n",
      " * * * * \n",
      " * * * \n",
      " * * \n",
      " * \n"
     ]
    }
   ],
   "source": [
    "for i in range(5,0,-1):\n",
    "    print(i*' *',end=' ')\n",
    "    print()"
   ]
  },
  {
   "cell_type": "markdown",
   "metadata": {},
   "source": [
    "### 14 Write a program in Python to draw a pencil using loop.\n",
    "       * \n",
    "      * * \n",
    "     * * * \n",
    "    | | | |\n",
    "    | | | |\n",
    "    | | | |\n",
    "    | | | |\n",
    "    | | | |\n",
    "    | | | |"
   ]
  },
  {
   "cell_type": "code",
   "execution_count": 2,
   "metadata": {
    "scrolled": true
   },
   "outputs": [
    {
     "name": "stdout",
     "output_type": "stream",
     "text": [
      "    *\n",
      "   * *\n",
      "  * * *\n",
      " | | | |\n",
      " | | | |\n",
      " | | | |\n",
      " | | | |\n",
      " | | | |\n",
      " | | | |\n"
     ]
    }
   ],
   "source": [
    "for i in range(1,4):\n",
    "    print((4-i)*' '+i*' *')\n",
    "for j in range(1,7):\n",
    "    print(4*' |')"
   ]
  },
  {
   "cell_type": "markdown",
   "metadata": {},
   "source": [
    "### 15 Write a program in Python to print XYZ pattern using loop."
   ]
  },
  {
   "cell_type": "code",
   "execution_count": 12,
   "metadata": {},
   "outputs": [
    {
     "name": "stdout",
     "output_type": "stream",
     "text": [
      "Enter n(must be odd and >2)\n",
      "5\n",
      "X\n",
      "*   *\n",
      " * *\n",
      "  *\n",
      " * *\n",
      "*   *\n",
      "Y\n",
      "*   *\n",
      " * *\n",
      "  *\n",
      "  *\n",
      "  *\n",
      "Z\n",
      "*****\n",
      "   *\n",
      "  *\n",
      " *\n",
      "*****\n"
     ]
    }
   ],
   "source": [
    "n=int(input('Enter n(must be odd and >2)\\n'))\n",
    "    \n",
    "print(\"X\")\n",
    "for i in range(n):\n",
    "    if(i<n//2):\n",
    "        print(i*' '+'*'+(n-2*i-2)*' '+'*')\n",
    "    elif(i==n//2):\n",
    "        print((i)*' '+'*')\n",
    "    else:\n",
    "        print((n-i-1)*' '+'*'+(2*i-n)*' '+'*')\n",
    "        \n",
    "print('Y')\n",
    "for i in range(n):\n",
    "    if(i<n//2):\n",
    "        print(i*' '+'*'+(n-2*i-2)*' '+'*')\n",
    "    else:\n",
    "        print((n-n//2-1)*' '+'*')\n",
    "        \n",
    "print(\"Z\")\n",
    "for i in range(n):\n",
    "    if(i==0):\n",
    "        print(n*'*')\n",
    "    elif(i==n-1):\n",
    "        print(n*'*')\n",
    "    else:\n",
    "        print((n-i-1)*' '+'*')\n"
   ]
  },
  {
   "cell_type": "code",
   "execution_count": null,
   "metadata": {},
   "outputs": [],
   "source": []
  }
 ],
 "metadata": {
  "kernelspec": {
   "display_name": "Python 3",
   "language": "python",
   "name": "python3"
  },
  "language_info": {
   "codemirror_mode": {
    "name": "ipython",
    "version": 3
   },
   "file_extension": ".py",
   "mimetype": "text/x-python",
   "name": "python",
   "nbconvert_exporter": "python",
   "pygments_lexer": "ipython3",
   "version": "3.7.0"
  }
 },
 "nbformat": 4,
 "nbformat_minor": 2
}
