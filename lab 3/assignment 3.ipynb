{
 "cells": [
  {
   "cell_type": "markdown",
   "metadata": {},
   "source": [
    "# Student Name: Arnav Bansal\n",
    "# Enrollment Number: E18CSE028\n",
    "# Lab assignemnt number: 3"
   ]
  },
  {
   "cell_type": "markdown",
   "metadata": {},
   "source": [
    "## Lab 3: Arithmetic Expressions, Operators"
   ]
  },
  {
   "cell_type": "markdown",
   "metadata": {},
   "source": [
    "## Compulasory Questions"
   ]
  },
  {
   "cell_type": "markdown",
   "metadata": {},
   "source": [
    "### 1 Write a program in Python that takes a length of one side of square (floating-point value) as input and prints the area and perimeter of the square."
   ]
  },
  {
   "cell_type": "code",
   "execution_count": 5,
   "metadata": {
    "scrolled": false
   },
   "outputs": [
    {
     "name": "stdout",
     "output_type": "stream",
     "text": [
      "enter the side of square 2\n",
      "area of the square is 4.0\n",
      "perimeter of the square is 8.0\n"
     ]
    }
   ],
   "source": [
    "s=float(input(\"enter the side of square \"))\n",
    "print(\"area of the square is\",s*s)\n",
    "print(\"perimeter of the square is\",4*s)"
   ]
  },
  {
   "cell_type": "markdown",
   "metadata": {},
   "source": [
    "### 2\tWrite a program in Python to take input length and breadth of a rectangle (floating-point values) and print the area and perimeter of the rectangle."
   ]
  },
  {
   "cell_type": "code",
   "execution_count": 4,
   "metadata": {
    "scrolled": false
   },
   "outputs": [
    {
     "name": "stdout",
     "output_type": "stream",
     "text": [
      "enter the length of recatangle 2\n",
      "enter the breadth of recatangle 3\n",
      "area of the rectangle is 6.0\n",
      "perimeter of the rectangle is 10.0\n"
     ]
    }
   ],
   "source": [
    "l=float(input(\"enter the length of recatangle \"))\n",
    "b=float(input(\"enter the breadth of recatangle \"))\n",
    "print(\"area of the rectangle is\",l*b)\n",
    "print(\"perimeter of the rectangle is\",2*(l+b))"
   ]
  },
  {
   "cell_type": "markdown",
   "metadata": {},
   "source": [
    "### 3 Write a program in Python which converts 8 hours and 32 minutes into seconds."
   ]
  },
  {
   "cell_type": "code",
   "execution_count": 2,
   "metadata": {},
   "outputs": [
    {
     "name": "stdout",
     "output_type": "stream",
     "text": [
      "30720 seconds\n"
     ]
    }
   ],
   "source": [
    "hours=8\n",
    "minutes=32\n",
    "seconds= (hours*60*60)+(minutes*60)\n",
    "print(seconds,'seconds')"
   ]
  },
  {
   "cell_type": "markdown",
   "metadata": {},
   "source": [
    "### 4 Write a program in Python which inputs time in hours and minutes and converts it into seconds."
   ]
  },
  {
   "cell_type": "code",
   "execution_count": 3,
   "metadata": {},
   "outputs": [
    {
     "name": "stdout",
     "output_type": "stream",
     "text": [
      "enter hours 1\n",
      "enter minutes 1\n",
      "seconds are 3660\n"
     ]
    }
   ],
   "source": [
    "h=int(input(\"enter hours \"))\n",
    "m=int(input(\"enter minutes \"))\n",
    "s=(h*60*60)+(m*60)\n",
    "print(\"seconds are\",s)"
   ]
  },
  {
   "cell_type": "markdown",
   "metadata": {},
   "source": [
    "### 5\tWrite a program in Python to convert temperature in degrees Celcius to degrees Fahrenheit. The formula is F = (temp * 9/5) +32 . For temp=40 ᵒC, the output should be 104 ᵒF . Try for other different values of temp."
   ]
  },
  {
   "cell_type": "code",
   "execution_count": 4,
   "metadata": {},
   "outputs": [
    {
     "name": "stdout",
     "output_type": "stream",
     "text": [
      "temperature in ᵒC 40\n",
      "40.0 ᵒC =  104.0 ᵒF\n"
     ]
    }
   ],
   "source": [
    "temp_in_deg=float(input('temperature in ᵒC '))\n",
    "temp_in_fah=(temp_in_deg*9/5)+32\n",
    "print(temp_in_deg,'ᵒC = ',temp_in_fah,'ᵒF')"
   ]
  },
  {
   "cell_type": "markdown",
   "metadata": {},
   "source": [
    "### 6 Execute the following program in python to perform assignment operations and write comments on each line as per your understanding"
   ]
  },
  {
   "cell_type": "code",
   "execution_count": 5,
   "metadata": {},
   "outputs": [
    {
     "name": "stdout",
     "output_type": "stream",
     "text": [
      "21\n",
      "11\n",
      "44\n"
     ]
    }
   ],
   "source": [
    "x=20\n",
    "#x=x+1\n",
    "#x is increased by 1\n",
    "x+=1\n",
    "print(x)\n",
    "#x=x-10\n",
    "#x=21\n",
    "#x is decreased by 10\n",
    "x-=10\n",
    "print(x)\n",
    "#x=x*4\n",
    "#x=11\n",
    "#x is multiplied ny 4\n",
    "x*=4\n",
    "print(x)"
   ]
  },
  {
   "cell_type": "markdown",
   "metadata": {},
   "source": [
    "### 7Execute the following program in python to perform assignment operations and write comments on each line as per your understanding."
   ]
  },
  {
   "cell_type": "code",
   "execution_count": 7,
   "metadata": {},
   "outputs": [
    {
     "name": "stdout",
     "output_type": "stream",
     "text": [
      "6.67\n",
      "2.00\n",
      "0\n",
      "4\n",
      "4\n",
      "6\n"
     ]
    }
   ],
   "source": [
    "x=20\n",
    "y=3\n",
    "#x=x/y\n",
    "#x id divided by y\n",
    "x/=y\n",
    "print(format(x,'0.2f'))\n",
    "#x=x%y\n",
    "#x=6.67\n",
    "#remainder of x divided by y \n",
    "x=20\n",
    "x%=y\n",
    "print(format(x,'0.2f'))\n",
    "#x=x//y\n",
    "#x=0.67\n",
    "#x is divided by y but since x is float so the answer is 0.0, means a float. If there is x/=y then the answer would be 0.6666...7\n",
    "x//=y\n",
    "print(x)\n",
    "x=6\n",
    "y=4\n",
    "#x=x&y\n",
    "#x=x(6) and y(4)\n",
    "#bitwise AND of 0110 and 0100 = 0100 i.e. 4\n",
    "x&=y\n",
    "print(x)\n",
    "#x=x|y\n",
    "#x=4\n",
    "#x=x(4) or y(4)\n",
    "#bitwise OR of 0100 and 0100 = 0100 i.e. 4\n",
    "x|=y\n",
    "print(x)\n",
    "x=6\n",
    "y=4\n",
    "#bitwise OR of 0110 and 0100 = 0110 i.e. 6\n",
    "x|=y\n",
    "print(x)\n"
   ]
  },
  {
   "cell_type": "markdown",
   "metadata": {},
   "source": [
    "### 8 Execute the following program in python to perform following relational operations and write comments on each line as per your understanding. "
   ]
  },
  {
   "cell_type": "code",
   "execution_count": 11,
   "metadata": {},
   "outputs": [
    {
     "name": "stdout",
     "output_type": "stream",
     "text": [
      "True\n",
      "False\n",
      "False\n",
      "True\n"
     ]
    }
   ],
   "source": [
    "x=\"hac\"\n",
    "y=\"had\"\n",
    "#it is checking the less than operation b/w each and every caharacter of 'hac' and 'had'\n",
    "print(x<y)\n",
    "#it is checking the greater than operation b/w each and every caharacter of 'hac' and 'had'\n",
    "print(x>y)\n",
    "#it is checking the eqyality operation b/w each and every caharacter of 'hac' and 'had'\n",
    "print(x==y)\n",
    "#it is checking the not equal to operation b/w each and every caharacter of 'hac' and 'had'\n",
    "print(x!=y)"
   ]
  },
  {
   "cell_type": "markdown",
   "metadata": {},
   "source": [
    "### 9 Execute the following program in python to perform following relational operations and write comments on each line as per your understanding."
   ]
  },
  {
   "cell_type": "code",
   "execution_count": 23,
   "metadata": {},
   "outputs": [
    {
     "name": "stdout",
     "output_type": "stream",
     "text": [
      "True\n",
      "False\n",
      "False\n",
      "False\n",
      "True\n",
      "False\n"
     ]
    }
   ],
   "source": [
    "#it is checking the less than operation b/w 1 and 2\n",
    "print(1<2)\n",
    "#it is checking the greater than operation b/w 4 and 10\n",
    "print(4>10)\n",
    "#it is checking the equality operation b/w 6 and 8\n",
    "print(6==8)\n",
    "#it is checking the greater than operation b/w 2 and 10\n",
    "print(2>10)\n",
    "#it is checking the less than operation b/w 6 and 8\n",
    "print(6<8)\n",
    "#it is checking the greater than operation b/w 6 and 8\n",
    "print(6>8)"
   ]
  },
  {
   "cell_type": "markdown",
   "metadata": {},
   "source": [
    "### 10 Execute the following program in python to perform following logical AND OR NOT operations and write comments on each line as per your understanding."
   ]
  },
  {
   "cell_type": "code",
   "execution_count": 36,
   "metadata": {},
   "outputs": [
    {
     "name": "stdout",
     "output_type": "stream",
     "text": [
      "False\n",
      "False\n",
      "False\n",
      "False\n",
      "True\n",
      "True\n",
      "True\n"
     ]
    }
   ],
   "source": [
    "#checking whether 1 is less than 2 AND 4 is less than 10\n",
    "print(1<2 and 4>10)\n",
    "#checking whether 6 is equal to 8 OR 2 is graeter than 10\n",
    "print(6==8 or 2>10)\n",
    "#checking whether 6 is less than 8 AND 6 is greater than 8\n",
    "print(6<8 and 6>8)\n",
    "#printing not(1), means not(true)\n",
    "print(not(1))\n",
    "#printing not(1==2), means not(false)\n",
    "print(not(1==2)),\n",
    "#print not((4 is greater than 7) AND (7 is greater than 8))\n",
    "print(not(4>7 and 7>8))\n",
    "#print not((4 is greater than 7) OR (7 is greater than 8))\n",
    "print(not(4>7 or 7>8))"
   ]
  },
  {
   "cell_type": "markdown",
   "metadata": {},
   "source": [
    "### 11\tWrite a program in Python that inputs data (class, age, marks in mathematics, science) about two persons- Ram and Shyam. The program uses relational operators to check whether they study in same class? Are Ram Shyam of same age? Is Ram’s marks in mathematics more than Shyam? Is Ram’s marks in science less than Ram? The answer by the program is either True or False. The operators to be used are: <, >, ==, !=. "
   ]
  },
  {
   "cell_type": "code",
   "execution_count": 40,
   "metadata": {},
   "outputs": [
    {
     "name": "stdout",
     "output_type": "stream",
     "text": [
      "Are both in same class ? True\n",
      "Are both of same age ? False\n",
      "Is Ram’s marks in mathematics more than Shyam ? False\n",
      "Is Ram’s marks in science less than Shyam ? True\n"
     ]
    }
   ],
   "source": [
    "R_class='XII'\n",
    "S_class='XII'\n",
    "\n",
    "R_age=18\n",
    "S_age=19\n",
    "\n",
    "R_math=80\n",
    "S_math=90\n",
    "\n",
    "R_sci=85\n",
    "S_sci=92\n",
    "\n",
    "print('Are both in same class ?',R_class==S_class)\n",
    "print('Are both of same age ?',R_age==S_age)\n",
    "print('Is Ram’s marks in mathematics more than Shyam ?',R_math>S_math)\n",
    "print('Is Ram’s marks in science less than Shyam ?',R_sci<S_sci)\n",
    "\n"
   ]
  },
  {
   "cell_type": "markdown",
   "metadata": {},
   "source": [
    "### 12 Execute the following code and write comments on each line as per your understanding."
   ]
  },
  {
   "cell_type": "code",
   "execution_count": 42,
   "metadata": {},
   "outputs": [
    {
     "name": "stdout",
     "output_type": "stream",
     "text": [
      "x and y is False\n",
      "x or y is True\n",
      "not x is False\n"
     ]
    }
   ],
   "source": [
    "x = True\n",
    "y = False\n",
    "#true AND false\n",
    "print('x and y is',x and y) \n",
    "#true OR false \n",
    "print('x or y is',x or y) \n",
    "#NOT true\n",
    "print('not x is',not x) "
   ]
  },
  {
   "cell_type": "markdown",
   "metadata": {},
   "source": [
    "### 13 Execute the code:"
   ]
  },
  {
   "cell_type": "code",
   "execution_count": 19,
   "metadata": {},
   "outputs": [
    {
     "name": "stdout",
     "output_type": "stream",
     "text": [
      "4\n",
      "12\n",
      "8\n"
     ]
    },
    {
     "data": {
      "text/plain": [
       "'0b100'"
      ]
     },
     "execution_count": 19,
     "metadata": {},
     "output_type": "execute_result"
    }
   ],
   "source": [
    "x=12 \n",
    "y=4 \n",
    "# bitwise AND of 1100 and 0100 = 0100 i.e. 4\n",
    "print(x&y) \n",
    "# bitwise OR of 1100 and 0100 = 1100 i.e. 12\n",
    "print(x|y)\n",
    "# bitwise XOR of 1100 and 0100 = 1000 i.e. 8\n",
    "print(x^y)"
   ]
  },
  {
   "cell_type": "markdown",
   "metadata": {},
   "source": [
    "### 13 Execute the code and write comments on each line as per your understanding."
   ]
  },
  {
   "cell_type": "code",
   "execution_count": 21,
   "metadata": {
    "scrolled": true
   },
   "outputs": [
    {
     "name": "stdout",
     "output_type": "stream",
     "text": [
      "True\n",
      "True\n",
      "True\n"
     ]
    }
   ],
   "source": [
    "x = 'Hello world'\n",
    "#checking whether sub-string 'He' is in x or not\n",
    "print('He' in x)  \n",
    "#checking whether sub-string 'h' is in x or not\n",
    "print('h' not in x)   \n",
    "string2='Believe in yourself'\n",
    "# write code to check if sub-string'lie' is present in string2 or not\n",
    "print('lie' in string2)"
   ]
  },
  {
   "cell_type": "markdown",
   "metadata": {},
   "source": [
    "### 15 Write a program in Python to multiply and divide using bitwise shift operators. Observe the given example for n=8. Write code for n1=4 and execute. "
   ]
  },
  {
   "cell_type": "raw",
   "metadata": {},
   "source": [
    "if n=8 = (1000 in binary), n>>1 will give 100 i.e 4 after shifting bits by 1 place to right. \n",
    "                           n<<1 will give 10000 i.e. 16 after shifting bits by 1 place to left."
   ]
  },
  {
   "cell_type": "code",
   "execution_count": 51,
   "metadata": {
    "scrolled": true
   },
   "outputs": [
    {
     "name": "stdout",
     "output_type": "stream",
     "text": [
      "8 binary 1000\n",
      "8 * 2 = 16\n",
      "8 / 2 = 4\n",
      "4 binary 100\n",
      "4 * 4 = 16\n",
      "4 / 4 = 1\n"
     ]
    }
   ],
   "source": [
    "n=8\n",
    "print(n,'binary',format(n,'b'))\n",
    "print(n,'* 2 =',n<<1)\n",
    "print(n,'/ 2 =',n>>1)\n",
    "n1=4\n",
    "print(n1,'binary',format(n1,'b'))\n",
    "print(n1,'* 4 =',n1<<2)\n",
    "print(n1,'/ 4 =',n1>>2)"
   ]
  },
  {
   "cell_type": "markdown",
   "metadata": {},
   "source": [
    "### 16\tWrite a program in Python to multiply and divide by multiple powers of two using bitwise shift operators. Observe the given example for n=8,k=3. Write code for m=4, k1=2 and execute. "
   ]
  },
  {
   "cell_type": "raw",
   "metadata": {},
   "source": [
    "Input\n",
    "    n=8\n",
    "    k=3\n",
    "Output\n",
    "    Value of 8 after multiplying by 2 3 times = 8*8=64\n",
    "    Value of 8 after dividing by 2 3 times = 8/8=1"
   ]
  },
  {
   "cell_type": "code",
   "execution_count": 55,
   "metadata": {},
   "outputs": [
    {
     "name": "stdout",
     "output_type": "stream",
     "text": [
      "Value of 8 after multiplying by 2 3 times = 64\n",
      "Value of 8 after dividing by 2 3 times = 1\n",
      "Value of 4 after multiplying by 2 2 times = 16\n",
      "Value of 4 after dividing by 2 2 times = 1\n"
     ]
    }
   ],
   "source": [
    "n=8\n",
    "k=3\n",
    "n1=n<<k\n",
    "print('Value of', n,'after multiplying by 2',k,'times =',n1)\n",
    "n2=n>>k\n",
    "print('Value of',n,'after dividing by 2',k,'times =',n2)\n",
    "m=4\n",
    "k1=2\n",
    "m1=m<<k1\n",
    "m2=m>>k1\n",
    "print('Value of', m,'after multiplying by 2',k1,'times =',m1)\n",
    "print('Value of', m,'after dividing by 2',k1,'times =',m2)\n"
   ]
  },
  {
   "cell_type": "markdown",
   "metadata": {},
   "source": [
    "## Optional Questions"
   ]
  },
  {
   "cell_type": "markdown",
   "metadata": {},
   "source": [
    "### 17\tWrite a program in python to convert from degree to radian and from radian to degree. Take input from user."
   ]
  },
  {
   "cell_type": "raw",
   "metadata": {},
   "source": [
    "pi=22/7\n",
    "radian = degree*(pi/180)\n",
    "degree=(radian *180)/pi"
   ]
  },
  {
   "cell_type": "code",
   "execution_count": 36,
   "metadata": {},
   "outputs": [
    {
     "name": "stdout",
     "output_type": "stream",
     "text": [
      "0.79\n",
      "45.00\n"
     ]
    }
   ],
   "source": [
    "pi=22/7\n",
    "degree = 45 \n",
    "radian = degree*(pi/180)\n",
    "print(format(radian,'0.2f'))\n",
    "radian = 0.7857\n",
    "degree = (radian*180)/pi\n",
    "print(format(degree,'0.2f'))"
   ]
  },
  {
   "cell_type": "markdown",
   "metadata": {},
   "source": [
    "### 18\tWrite a program in Python to convert number 13 into 79. Students may introduce one more variable and  use bitwise operators (such as AND, OR, XOR). "
   ]
  },
  {
   "cell_type": "code",
   "execution_count": 62,
   "metadata": {
    "scrolled": true
   },
   "outputs": [
    {
     "name": "stdout",
     "output_type": "stream",
     "text": [
      "79\n"
     ]
    }
   ],
   "source": [
    "a=13\n",
    "b=79\n",
    "out=a|b\n",
    "print(out)"
   ]
  },
  {
   "cell_type": "markdown",
   "metadata": {},
   "source": [
    "### 19 Write a program in python to calculate area of triangle when all three sides are given. "
   ]
  },
  {
   "cell_type": "raw",
   "metadata": {},
   "source": [
    "s=(a+b+c)/2\n",
    "area =  √(s(s-a)(s-b)(s-c) )"
   ]
  },
  {
   "cell_type": "code",
   "execution_count": 23,
   "metadata": {
    "scrolled": false
   },
   "outputs": [
    {
     "name": "stdout",
     "output_type": "stream",
     "text": [
      "enter a : 2\n",
      "enter b : 3\n",
      "enter c : 4\n",
      "area is  2.90 square units\n"
     ]
    }
   ],
   "source": [
    "#write your code here\n",
    "a=int(input(\"enter a : \"))\n",
    "b=int(input(\"enter b : \"))\n",
    "c=int(input(\"enter c : \"))\n",
    "s=(a+b+c)/2\n",
    "area=(s*(s-a)*(s-b)*(s-c))**0.5\n",
    "print(\"area is \",format(area,'0.2f'),\"square units\")"
   ]
  },
  {
   "cell_type": "markdown",
   "metadata": {
    "collapsed": true
   },
   "source": [
    "### 20 Write a program in python to perform addition, subtraction, multiplication and division operations on complex numbers. "
   ]
  },
  {
   "cell_type": "code",
   "execution_count": 25,
   "metadata": {},
   "outputs": [
    {
     "name": "stdout",
     "output_type": "stream",
     "text": [
      "a is (20+5j)\n",
      "b is (5+3j)\n",
      "addion is (25+8j)\n",
      "subtraction is (15+2j)\n",
      "multiplication is (85+85j)\n",
      "division is (3.3823529411764706-1.0294117647058825j)\n"
     ]
    }
   ],
   "source": [
    "import cmath\n",
    "a=complex(20+5j)\n",
    "b=complex(5+3j)\n",
    "print(\"a is\",a)\n",
    "print(\"b is\",b)\n",
    "addition=a+b\n",
    "subtraction=a-b\n",
    "multiplication=a*b\n",
    "division=a/b\n",
    "print(\"addion is\",a+)\n",
    "print(\"subtraction is\",subtraction)\n",
    "print(\"multiplication is\",multiplication)\n",
    "print(\"division is\",division)\n",
    "#write your code here"
   ]
  }
 ],
 "metadata": {
  "kernelspec": {
   "display_name": "Python 3",
   "language": "python",
   "name": "python3"
  },
  "language_info": {
   "codemirror_mode": {
    "name": "ipython",
    "version": 3
   },
   "file_extension": ".py",
   "mimetype": "text/x-python",
   "name": "python",
   "nbconvert_exporter": "python",
   "pygments_lexer": "ipython3",
   "version": "3.7.0"
  }
 },
 "nbformat": 4,
 "nbformat_minor": 2
}
