{
 "cells": [
  {
   "cell_type": "markdown",
   "metadata": {},
   "source": [
    "# Student Name: Arnav Bansal\n",
    "# Enrollment Number: E18CSE028\n",
    "# Lab assignemnt number: 5"
   ]
  },
  {
   "cell_type": "markdown",
   "metadata": {},
   "source": [
    "## While Loops"
   ]
  },
  {
   "cell_type": "markdown",
   "metadata": {},
   "source": [
    "#### Syntax of \"while loop\""
   ]
  },
  {
   "cell_type": "raw",
   "metadata": {
    "collapsed": true
   },
   "source": [
    "initialization of loop variable\n",
    "while( condition ):\n",
    "    stmt 1\n",
    "    stmt 2\n",
    "    ...\n",
    "    update loop variable"
   ]
  },
  {
   "cell_type": "markdown",
   "metadata": {},
   "source": [
    "### 1 Write a program in Python to print table of 2 using while loop."
   ]
  },
  {
   "cell_type": "raw",
   "metadata": {},
   "source": [
    "Output:\n",
    "2*1 =2\n",
    "2*2 =4\n",
    "......"
   ]
  },
  {
   "cell_type": "code",
   "execution_count": 3,
   "metadata": {},
   "outputs": [
    {
     "name": "stdout",
     "output_type": "stream",
     "text": [
      "2 * 1 = 2\n",
      "2 * 2 = 4\n",
      "2 * 3 = 6\n",
      "2 * 4 = 8\n",
      "2 * 5 = 10\n",
      "2 * 6 = 12\n",
      "2 * 7 = 14\n",
      "2 * 8 = 16\n",
      "2 * 9 = 18\n",
      "2 * 10 = 20\n"
     ]
    }
   ],
   "source": [
    "i=1\n",
    "while (i<=10):\n",
    "    print(\"2 *\",i,\"=\",2*i)\n",
    "    i=i+1\n",
    "    "
   ]
  },
  {
   "cell_type": "markdown",
   "metadata": {},
   "source": [
    "### 2 Write a program in Python to print table of any number 'n' provided by user using while loop."
   ]
  },
  {
   "cell_type": "code",
   "execution_count": 7,
   "metadata": {},
   "outputs": [
    {
     "name": "stdout",
     "output_type": "stream",
     "text": [
      "enter any number3\n",
      "3 * 1 = 3\n",
      "3 * 2 = 6\n",
      "3 * 3 = 9\n",
      "3 * 4 = 12\n",
      "3 * 5 = 15\n",
      "3 * 6 = 18\n",
      "3 * 7 = 21\n",
      "3 * 8 = 24\n",
      "3 * 9 = 27\n",
      "3 * 10 = 30\n"
     ]
    }
   ],
   "source": [
    "n=int(input(\"enter any number\"))\n",
    "i=1\n",
    "while (i<=10):\n",
    "    print(n,\"*\",i,\"=\",n*i)\n",
    "    i=i+1"
   ]
  },
  {
   "cell_type": "markdown",
   "metadata": {},
   "source": [
    "### 3 Write a program in Python to print table of a user provided number without using multiplication(*) using while loop."
   ]
  },
  {
   "cell_type": "code",
   "execution_count": 19,
   "metadata": {},
   "outputs": [
    {
     "name": "stdout",
     "output_type": "stream",
     "text": [
      "enter any number3\n",
      "3 * 1 = 3\n",
      "3 * 2 = 6\n",
      "3 * 3 = 9\n",
      "3 * 4 = 12\n",
      "3 * 5 = 15\n",
      "3 * 6 = 18\n",
      "3 * 7 = 21\n",
      "3 * 8 = 24\n",
      "3 * 9 = 27\n",
      "3 * 10 = 30\n"
     ]
    }
   ],
   "source": [
    "n=int(input(\"enter any number\"))\n",
    "i=1\n",
    "sum=0\n",
    "while (i<=10):\n",
    "    sum=sum+n\n",
    "    print(n,\"*\",i,\"=\",sum)\n",
    "    i=i+1"
   ]
  },
  {
   "cell_type": "markdown",
   "metadata": {},
   "source": [
    "### 4 Write a program in Python to print values of sin𝜃, cos𝜃 at 𝜃=0ᵒ,30ᵒ,60ᵒ,90ᵒ,...,270ᵒ using while loop."
   ]
  },
  {
   "cell_type": "markdown",
   "metadata": {},
   "source": [
    "import math\n",
    "For converting values into Radians: math.radians()\n",
    "For calculating Sin and cos values: math.sin()"
   ]
  },
  {
   "cell_type": "code",
   "execution_count": 1,
   "metadata": {},
   "outputs": [
    {
     "name": "stdout",
     "output_type": "stream",
     "text": [
      "sin 0 = 0.0\n",
      "cos 0 = 1.0\n",
      "sin 30 = 0.5\n",
      "cos 30 = 0.87\n",
      "sin 60 = 0.87\n",
      "cos 60 = 0.5\n",
      "sin 90 = 1.0\n",
      "cos 90 = 0.0\n",
      "sin 120 = 0.87\n",
      "cos 120 = -0.5\n",
      "sin 150 = 0.5\n",
      "cos 150 = -0.87\n",
      "sin 180 = 0.0\n",
      "cos 180 = -1.0\n",
      "sin 210 = -0.5\n",
      "cos 210 = -0.87\n",
      "sin 240 = -0.87\n",
      "cos 240 = -0.5\n",
      "sin 270 = -1.0\n",
      "cos 270 = -0.0\n"
     ]
    }
   ],
   "source": [
    "import math\n",
    "i=0\n",
    "while (i<=270):\n",
    "    print(\"sin\",i,\"=\",round(math.sin(math.radians(i)),2))\n",
    "    print(\"cos\",i,\"=\",round(math.cos(math.radians(i)),2))\n",
    "    i=i+30"
   ]
  },
  {
   "cell_type": "markdown",
   "metadata": {},
   "source": [
    "### 5 Write a program in Python to evaluate the following series using while loop:\n",
    "    \n",
    "    1! + 2! + 3! + 4! ...+ n!\n",
    "hint: use math.factorial(n) function to calculate factorial of number n."
   ]
  },
  {
   "cell_type": "code",
   "execution_count": 2,
   "metadata": {},
   "outputs": [
    {
     "name": "stdout",
     "output_type": "stream",
     "text": [
      "enter any number 4\n",
      "1\n",
      "2\n",
      "6\n",
      "24\n",
      "sum of the series is 33\n"
     ]
    }
   ],
   "source": [
    "import math\n",
    "n=int(input(\"enter any number \"))\n",
    "i=1\n",
    "sum=0\n",
    "while (i<=n):\n",
    "    a=math.factorial(i)\n",
    "    print(a)\n",
    "    i=i+1\n",
    "    sum=sum+a\n",
    "print(\"sum of the series is\",sum)"
   ]
  },
  {
   "cell_type": "markdown",
   "metadata": {},
   "source": [
    "### 6 Write a program in Python to print sum of first 20 natural numbers using while loop."
   ]
  },
  {
   "cell_type": "code",
   "execution_count": 13,
   "metadata": {},
   "outputs": [
    {
     "name": "stdout",
     "output_type": "stream",
     "text": [
      "1\n",
      "2\n",
      "3\n",
      "4\n",
      "5\n",
      "6\n",
      "7\n",
      "8\n",
      "9\n",
      "10\n",
      "11\n",
      "12\n",
      "13\n",
      "14\n",
      "15\n",
      "16\n",
      "17\n",
      "18\n",
      "19\n",
      "20\n",
      "total sum is 210\n"
     ]
    }
   ],
   "source": [
    "sum=0\n",
    "i=1\n",
    "while (i<=20):\n",
    "    sum=sum+i\n",
    "    print(i)\n",
    "    i=i+1\n",
    "print(\"total sum is\",sum)"
   ]
  },
  {
   "cell_type": "markdown",
   "metadata": {},
   "source": [
    "### 7 Write a program in Python to print sum of first 10 odd numbers and first 10 even numbers using while loop."
   ]
  },
  {
   "cell_type": "code",
   "execution_count": 4,
   "metadata": {},
   "outputs": [
    {
     "name": "stdout",
     "output_type": "stream",
     "text": [
      "first 10 odd numbers are\n",
      "1\n",
      "3\n",
      "5\n",
      "7\n",
      "9\n",
      "11\n",
      "13\n",
      "15\n",
      "17\n",
      "19\n",
      "the sum of odd numbers is 100\n",
      "first 10 even numbers are\n",
      "2\n",
      "4\n",
      "6\n",
      "8\n",
      "10\n",
      "12\n",
      "14\n",
      "16\n",
      "18\n",
      "20\n",
      "the sum of even numbers is 110\n"
     ]
    }
   ],
   "source": [
    "i=1\n",
    "s1=0\n",
    "print(\"first 10 odd numbers are\")\n",
    "while (i<=20):\n",
    "    print(i)\n",
    "    s1=s1+i\n",
    "    i=i+2\n",
    "print(\"the sum of odd numbers is\",s1)\n",
    "j=2\n",
    "s2=0\n",
    "print(\"first 10 even numbers are\")\n",
    "while (j<=20):\n",
    "    print(j)\n",
    "    s2=s2+j\n",
    "    j=j+2\n",
    "print(\"the sum of even numbers is\",s2)"
   ]
  },
  {
   "cell_type": "markdown",
   "metadata": {},
   "source": [
    "### 8 Write a program in Python to print the square series of first 10 numbers start from 1 and their sum using while loop. \n",
    "\n",
    "For Example:\n",
    "\n",
    "1 4 9 16 25 36 49 64 81 100\n",
    "\n",
    "Squared sum =385"
   ]
  },
  {
   "cell_type": "code",
   "execution_count": 6,
   "metadata": {},
   "outputs": [
    {
     "name": "stdout",
     "output_type": "stream",
     "text": [
      "1\n",
      "4\n",
      "9\n",
      "16\n",
      "25\n",
      "36\n",
      "49\n",
      "64\n",
      "81\n",
      "100\n",
      "the sum is 385\n"
     ]
    }
   ],
   "source": [
    "sum=0\n",
    "i=1\n",
    "while (i<=10):\n",
    "    print(i**2)\n",
    "    sum=sum+(i**2)\n",
    "    i=i+1\n",
    "print(\"the sum is\",sum)"
   ]
  },
  {
   "cell_type": "markdown",
   "metadata": {},
   "source": [
    "### 9 Write a program in Python to take 10 numbers from user and then calculate total number of positive number, negative number and zeros entered by user using while loop."
   ]
  },
  {
   "cell_type": "code",
   "execution_count": 2,
   "metadata": {},
   "outputs": [
    {
     "name": "stdout",
     "output_type": "stream",
     "text": [
      "enter 10 numbers\n",
      "12\n",
      "-45\n",
      "0\n",
      "0\n",
      "45\n",
      "32\n",
      "1245\n",
      "-897\n",
      "-4563\n",
      "0\n",
      "positive numbers are 4\n",
      "negative numbers are 3\n",
      "zeros are 3\n"
     ]
    }
   ],
   "source": [
    "p=0\n",
    "n=0\n",
    "z=0\n",
    "i=1\n",
    "print(\"enter 10 numbers\")\n",
    "while (i<=10):\n",
    "    a=int(input())\n",
    "    if(a==0):\n",
    "        z=z+1\n",
    "    elif(a>0):\n",
    "        p=p+1\n",
    "    elif(a<0):\n",
    "        n=n+1\n",
    "    i=i+1\n",
    "print(\"positive numbers are\",p)\n",
    "print(\"negative numbers are\",n)\n",
    "print(\"zeros are\",z)"
   ]
  },
  {
   "cell_type": "markdown",
   "metadata": {},
   "source": [
    "#### 10 Write a program in Python to enter 10 numbers and it should display the maximum number entered by user using while loop."
   ]
  },
  {
   "cell_type": "code",
   "execution_count": 1,
   "metadata": {},
   "outputs": [
    {
     "name": "stdout",
     "output_type": "stream",
     "text": [
      "enter 10 numbers :\n",
      "1\n",
      "4\n",
      "78\n",
      "2545257\n",
      "5\n",
      "545\n",
      "54\n",
      "35\n",
      "78\n",
      "5241\n",
      "maximum number is 2545257\n"
     ]
    }
   ],
   "source": [
    "i=1\n",
    "max=0\n",
    "print(\"enter 10 numbers :\")\n",
    "while(i<=10):\n",
    "    n=int(input())\n",
    "    i=i+1\n",
    "    if(n>max):\n",
    "        max=n\n",
    "print(\"maximum number is\",max)"
   ]
  },
  {
   "cell_type": "markdown",
   "metadata": {},
   "source": [
    "\n",
    "### Optional Questions"
   ]
  },
  {
   "cell_type": "markdown",
   "metadata": {},
   "source": [
    "### 11 Write a program in Python to enter the numbers till the user wants and at the end it should display the maximum number entered using while loop."
   ]
  },
  {
   "cell_type": "code",
   "execution_count": 12,
   "metadata": {},
   "outputs": [
    {
     "name": "stdout",
     "output_type": "stream",
     "text": [
      "enter n : 79\n",
      "enter choice y/n : y\n",
      "enter n : 4\n",
      "enter choice y/n : y\n",
      "enter n : 45\n",
      "enter choice y/n : n\n",
      "maximum number is 79\n"
     ]
    }
   ],
   "source": [
    "choice='y'\n",
    "max=0\n",
    "while (choice=='y' or choice=='Y'):\n",
    "    n=int(input(\"enter n : \"))\n",
    "    if(n>max):\n",
    "        max=n\n",
    "    choice=input(\"enter choice y/n : \")\n",
    "print(\"maximum number is\",max)"
   ]
  },
  {
   "cell_type": "markdown",
   "metadata": {},
   "source": [
    " ### 12 Write a program in Python to evaluate following series using while loop:\n",
    "\n",
    "    x + 3x + 5x + 7x + 9x + 11x+....upto n terms"
   ]
  },
  {
   "cell_type": "code",
   "execution_count": 1,
   "metadata": {},
   "outputs": [
    {
     "name": "stdout",
     "output_type": "stream",
     "text": [
      "enter x : 2\n",
      "enter n : 5\n",
      "2\n",
      "6\n",
      "10\n",
      "sum is 18\n"
     ]
    }
   ],
   "source": [
    "x=int(input(\"enter x : \"))\n",
    "n=int(input(\"enter n : \"))\n",
    "i=1\n",
    "sum=0\n",
    "while (i<=n):\n",
    "    print(i*x)\n",
    "    sum=sum+(i*x)\n",
    "    i=i+2\n",
    "print(\"sum is\",sum)"
   ]
  },
  {
   "cell_type": "markdown",
   "metadata": {},
   "source": [
    "### 13 Write a program in Python to compute squares and square roots of numbers from 10 down to 1 using while loop."
   ]
  },
  {
   "cell_type": "code",
   "execution_count": 3,
   "metadata": {},
   "outputs": [
    {
     "name": "stdout",
     "output_type": "stream",
     "text": [
      "10\n",
      "square of  10 is  100\n",
      "square root of  10 is  3.16\n",
      "9\n",
      "square of  9 is  81\n",
      "square root of  9 is  3.0\n",
      "8\n",
      "square of  8 is  64\n",
      "square root of  8 is  2.83\n",
      "7\n",
      "square of  7 is  49\n",
      "square root of  7 is  2.65\n",
      "6\n",
      "square of  6 is  36\n",
      "square root of  6 is  2.45\n",
      "5\n",
      "square of  5 is  25\n",
      "square root of  5 is  2.24\n",
      "4\n",
      "square of  4 is  16\n",
      "square root of  4 is  2.0\n",
      "3\n",
      "square of  3 is  9\n",
      "square root of  3 is  1.73\n",
      "2\n",
      "square of  2 is  4\n",
      "square root of  2 is  1.41\n",
      "1\n",
      "square of  1 is  1\n",
      "square root of  1 is  1.0\n"
     ]
    }
   ],
   "source": [
    "i=10\n",
    "while(i>=1):\n",
    "    print(i)\n",
    "    print(\"square of \",i,\"is \",i**2)\n",
    "    print(\"square root of \",i,\"is \",round(i**0.5,2))\n",
    "    i=i-1"
   ]
  },
  {
   "cell_type": "markdown",
   "metadata": {},
   "source": [
    "### 14 Write a program in Python to evaluate following series using while loop:\n",
    "    \n",
    "    1/1! + 2/2! + 3/3! + 4/4! ...+ n/n!\n",
    " \n",
    "hint: use math.factorial(n) function to calculate factorial of number n."
   ]
  },
  {
   "cell_type": "code",
   "execution_count": 7,
   "metadata": {},
   "outputs": [
    {
     "name": "stdout",
     "output_type": "stream",
     "text": [
      "enter any number3\n",
      "1.0\n",
      "1.0\n",
      "0.5\n",
      "the sum is 2.5\n"
     ]
    }
   ],
   "source": [
    "import math\n",
    "n=int(input('enter any number'))\n",
    "sum=0\n",
    "i=1\n",
    "while(i<=n):\n",
    "    m=math.factorial(i)\n",
    "    a=i/m\n",
    "    sum=sum+a\n",
    "    i=i+1\n",
    "    print(a)\n",
    "print(\"the sum is\",sum)"
   ]
  },
  {
   "cell_type": "markdown",
   "metadata": {},
   "source": [
    "### 15 Write a program in Python to print all digits of a number from least signifiant digit to most significant digit using while loop.\n"
   ]
  },
  {
   "cell_type": "raw",
   "metadata": {},
   "source": [
    "For Example: \n",
    "Enter any number to find its all digits:89546\n",
    "digit = 6\n",
    "digit = 4\n",
    "digit = 5\n",
    "digit = 9\n",
    "digit = 8"
   ]
  },
  {
   "cell_type": "code",
   "execution_count": 10,
   "metadata": {},
   "outputs": [
    {
     "name": "stdout",
     "output_type": "stream",
     "text": [
      "enter any number89546\n",
      "6\n",
      "4\n",
      "5\n",
      "9\n",
      "8\n"
     ]
    }
   ],
   "source": [
    "n=int(input(\"enter any number\"))\n",
    "while(n>0):\n",
    "    d=n%10\n",
    "    print(d)\n",
    "    n=n//10    "
   ]
  },
  {
   "cell_type": "markdown",
   "metadata": {},
   "source": [
    "### 16 Write a program in Python to calculate total number of positive number, negative number and zeros entered by user. The user can enter any number of numbers."
   ]
  },
  {
   "cell_type": "code",
   "execution_count": 11,
   "metadata": {},
   "outputs": [
    {
     "name": "stdout",
     "output_type": "stream",
     "text": [
      "0\n",
      "1\n",
      "2\n",
      "\n",
      "p 2\n",
      "n 0\n",
      "z 1\n"
     ]
    }
   ],
   "source": [
    "p=0\n",
    "n=0\n",
    "z=0\n",
    "while(True):\n",
    "    a=input()\n",
    "    if(a==''):\n",
    "        break\n",
    "    if(int(a)>0):\n",
    "        p+=1\n",
    "    elif(int(a)<0):\n",
    "        n+=1\n",
    "    else:\n",
    "        z+=1\n",
    "print(\"p\",p)\n",
    "print(\"n\",n)\n",
    "print(\"z\",z)"
   ]
  },
  {
   "cell_type": "markdown",
   "metadata": {},
   "source": [
    "###### 17. Write a code for printing this pattern."
   ]
  },
  {
   "cell_type": "raw",
   "metadata": {},
   "source": [
    "*\n",
    "**\n",
    "***\n",
    "****\n",
    "*****"
   ]
  },
  {
   "cell_type": "code",
   "execution_count": 1,
   "metadata": {},
   "outputs": [
    {
     "name": "stdout",
     "output_type": "stream",
     "text": [
      "*\n",
      "**\n",
      "***\n",
      "****\n",
      "*****\n"
     ]
    }
   ],
   "source": [
    "i=1\n",
    "while(i<=5):\n",
    "    print(\"*\"*i)\n",
    "    i+=1"
   ]
  },
  {
   "cell_type": "markdown",
   "metadata": {},
   "source": [
    "# 18. Write a code for printing this pattern."
   ]
  },
  {
   "cell_type": "raw",
   "metadata": {},
   "source": [
    "   *\n",
    "  ***\n",
    " *****\n",
    "*******"
   ]
  },
  {
   "cell_type": "code",
   "execution_count": 2,
   "metadata": {},
   "outputs": [
    {
     "name": "stdout",
     "output_type": "stream",
     "text": [
      "   *\n",
      "  ***\n",
      " *****\n",
      "*******\n"
     ]
    }
   ],
   "source": [
    "i=1\n",
    "while(i<=4):\n",
    "    print((4-i)*' '+(2*i-1)*'*')\n",
    "    \n",
    "    i+=1\n"
   ]
  }
 ],
 "metadata": {
  "kernelspec": {
   "display_name": "Python 3",
   "language": "python",
   "name": "python3"
  },
  "language_info": {
   "codemirror_mode": {
    "name": "ipython",
    "version": 3
   },
   "file_extension": ".py",
   "mimetype": "text/x-python",
   "name": "python",
   "nbconvert_exporter": "python",
   "pygments_lexer": "ipython3",
   "version": "3.7.0"
  }
 },
 "nbformat": 4,
 "nbformat_minor": 2
}
