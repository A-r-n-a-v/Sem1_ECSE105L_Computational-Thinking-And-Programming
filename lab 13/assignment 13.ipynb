{
 "cells": [
  {
   "cell_type": "markdown",
   "metadata": {},
   "source": [
    "# Lists"
   ]
  },
  {
   "cell_type": "markdown",
   "metadata": {},
   "source": [
    "## Lists\n",
    "- A list is a collection of items, that is stored in a variable. \n",
    "- The items should be related in some way, but there are no restrictions on what can be stored in a list."
   ]
  },
  {
   "cell_type": "markdown",
   "metadata": {},
   "source": [
    "### Syntax\n",
    "list-name = [list of comma seperated values]"
   ]
  },
  {
   "cell_type": "markdown",
   "metadata": {},
   "source": [
    "### Slicing with list\n",
    "\n",
    "index start with 0\n",
    "\n",
    " listname[index_number]\n",
    "\n",
    " listname[start_index:end_index]\n",
    "\n",
    " listname[:end_index]\n",
    "\n",
    " listname[start_index:]\n",
    "\n",
    "\n",
    "negative index: \n",
    " listname[:-index] \n",
    "\n",
    "\n",
    "### list methods\n",
    "- append()\n",
    "- len()\n",
    "- insert(index,value)\n",
    "- sort()\n",
    "- reverse()\n",
    "- pop(), pop(index)\n",
    "- min(), max(), sum()\n",
    "\n",
    "\n",
    "We can change the contents of the lists after its creation\n",
    "\n",
    "listname[index]=newvalue"
   ]
  },
  {
   "cell_type": "markdown",
   "metadata": {},
   "source": [
    "#### Task 1: Run below code and try to make some changes to the code"
   ]
  },
  {
   "cell_type": "code",
   "execution_count": 8,
   "metadata": {},
   "outputs": [
    {
     "name": "stdout",
     "output_type": "stream",
     "text": [
      "['India', 'Australia', 'USA']\n",
      "Value at 0 index :  USA\n",
      "New value at index 0 :  Japan\n"
     ]
    }
   ],
   "source": [
    "# list creation\n",
    "countries = ['India', 'Australia', 'USA']\n",
    "\n",
    "# print whole list\n",
    "print(countries)\n",
    "\n",
    "# Accessing list elements\n",
    "print(\"Value at 0 index : \",countries[2])\n",
    "\n",
    "# assignning new value to index\n",
    "countries[1]='Japan'\n",
    "\n",
    "print(\"New value at index 0 : \",countries[1])"
   ]
  },
  {
   "cell_type": "markdown",
   "metadata": {},
   "source": [
    "### Iterating lists"
   ]
  },
  {
   "cell_type": "markdown",
   "metadata": {},
   "source": [
    "#### Task 2: Run below code and try to make some changes to the code"
   ]
  },
  {
   "cell_type": "code",
   "execution_count": 10,
   "metadata": {
    "scrolled": true
   },
   "outputs": [
    {
     "name": "stdout",
     "output_type": "stream",
     "text": [
      "['My name is', 'I am in', 3, 'Semester0', 3.78]\n",
      "My name is\n",
      "I am in\n",
      "3\n",
      "Semester0\n",
      "3.78\n"
     ]
    }
   ],
   "source": [
    "\n",
    "hybridlists=['My name is',\n",
    "             'I am in',\n",
    "             3,\n",
    "             'Semester0',\n",
    "             3.78]\n",
    "\n",
    "print(hybridlists)\n",
    "\n",
    "# we can access the elements of list using loops\n",
    "\n",
    "for item in hybridlists:\n",
    "    print(item)"
   ]
  },
  {
   "cell_type": "markdown",
   "metadata": {},
   "source": [
    "#### Task 3: Run below code and try to make some changes to the code"
   ]
  },
  {
   "cell_type": "code",
   "execution_count": 23,
   "metadata": {
    "scrolled": false
   },
   "outputs": [
    {
     "name": "stdout",
     "output_type": "stream",
     "text": [
      "Index:  0 , Value:  India\n",
      "Index:  1 , Value:  Australia\n",
      "Index:  2 , Value:  Usa\n",
      "Index:  3 , Value:  1\n",
      "\n",
      "Index of India is:  2\n"
     ]
    }
   ],
   "source": [
    "# print the index number with value\n",
    "\n",
    "countries = ['india', 'australia', 'usa','1']\n",
    "\n",
    "for index, country in enumerate(countries):\n",
    "    #place = str(index)\n",
    "    print(\"Index: \" , index , \", Value: \" , country.title())\n",
    "    \n",
    "# find index of\n",
    "index = countries.index('usa') \n",
    "print(\"\\nIndex of India is: \",index)"
   ]
  },
  {
   "cell_type": "markdown",
   "metadata": {},
   "source": [
    "#### Task 4: Run below code and try to make some changes to the code"
   ]
  },
  {
   "cell_type": "code",
   "execution_count": 24,
   "metadata": {},
   "outputs": [
    {
     "name": "stdout",
     "output_type": "stream",
     "text": [
      "['india', 'australia', '1']\n"
     ]
    }
   ],
   "source": [
    "# Remove the last country from the list by index or by value\n",
    "del countries[2]\n",
    "\n",
    "print(countries)"
   ]
  },
  {
   "cell_type": "markdown",
   "metadata": {},
   "source": [
    "### List comprehension (with for loop)"
   ]
  },
  {
   "cell_type": "markdown",
   "metadata": {},
   "source": [
    "#### Task 5: Run below code and try to make some changes to the code"
   ]
  },
  {
   "cell_type": "code",
   "execution_count": 26,
   "metadata": {},
   "outputs": [
    {
     "name": "stdout",
     "output_type": "stream",
     "text": [
      "[1, 8, 27, 64, 125, 216]\n"
     ]
    }
   ],
   "source": [
    "# without comprehension\n",
    "\n",
    "cubes = []\n",
    "for x in [1, 2, 3, 4, 5,6]:\n",
    "    cubes.append(x ** 3) \n",
    "    \n",
    "print(cubes)"
   ]
  },
  {
   "cell_type": "code",
   "execution_count": 30,
   "metadata": {},
   "outputs": [
    {
     "name": "stdout",
     "output_type": "stream",
     "text": [
      "[1, 8, 27, 64, 125, 216]\n"
     ]
    }
   ],
   "source": [
    "# with comprehension\n",
    "  \n",
    "cubes= [x**3 for x in [1, 2, 3, 4, 5,6]]\n",
    "print(cubes)"
   ]
  },
  {
   "cell_type": "code",
   "execution_count": 29,
   "metadata": {},
   "outputs": [
    {
     "data": {
      "text/plain": [
       "[1, 4, 9, 16, 25, 36, 49, 64, 81, 100]"
      ]
     },
     "execution_count": 29,
     "metadata": {},
     "output_type": "execute_result"
    }
   ],
   "source": [
    "numbers=[1,2,3,4,5,6,7,8,9,10]\n",
    "list=[x*x for x in numbers]\n",
    "list"
   ]
  },
  {
   "cell_type": "markdown",
   "metadata": {},
   "source": [
    "#### Program 1: Write a python program which does the following\n",
    "- Make a list that includes four job types , such as 'programmer', 'truck driver' and so on\n",
    "- Use the *list.index()* function to find the index of one job type in your list.\n",
    "- Use the *in* function to show that this job type is in your list.\n",
    "- Use the *append()* function to add a new job type to your list.\n",
    "- Use the *insert()* function to add a new job type \"Python Programmer\" at the beginning of the list.\n",
    "- Use a loop to show all the job types in your list."
   ]
  },
  {
   "cell_type": "code",
   "execution_count": 2,
   "metadata": {},
   "outputs": [
    {
     "name": "stdout",
     "output_type": "stream",
     "text": [
      "2\n",
      "True\n",
      "False\n",
      "['programmer', 'truck driver', 'developer', 'teacher', 'employee', 'creative thinker']\n",
      "['manager', 'programmer', 'truck driver', 'developer', 'teacher', 'employee', 'creative thinker']\n",
      "different job_types are : \n",
      "manager\n",
      "programmer\n",
      "truck driver\n",
      "developer\n",
      "teacher\n",
      "employee\n",
      "creative thinker\n"
     ]
    }
   ],
   "source": [
    "job_types=['programmer', 'truck driver','developer','teacher','employee']\n",
    "print(job_types.index('developer'))\n",
    "print('teacher' in job_types)\n",
    "print('gaurd' in job_types)\n",
    "job_types.append('creative thinker')\n",
    "print(job_types)\n",
    "job_types.insert(0,'manager')\n",
    "print(job_types)\n",
    "print(\"different job_types are : \")\n",
    "for i in job_types:\n",
    "    print(i)"
   ]
  },
  {
   "cell_type": "markdown",
   "metadata": {},
   "source": [
    "#### Problem 2: Write a python program for following\n",
    "\n",
    "- Make a list that includes the names of five famous people.\n",
    "- Remove each person from the list, one at a time, using the four methods given below:\n",
    "- Del item from the list by del: del listname[index]\n",
    "- Remove the item from the list by remove method: listname.remove('itemname')\n",
    "- Using pop() method, It removes the last item from the list: listname.pop() \n",
    "- Pop any item from the list by index: listname: listname.pop(index)\n",
    "- Print out a message that there are no famous people left in your list, and print your list to prove that it is empty."
   ]
  },
  {
   "cell_type": "code",
   "execution_count": 7,
   "metadata": {},
   "outputs": [
    {
     "name": "stdout",
     "output_type": "stream",
     "text": [
      "there are no famous people left in the list []\n"
     ]
    }
   ],
   "source": [
    "famous=['Newton','Arindam','Ramanujan','Stephen Hawking','APJ Abdul Kalam']\n",
    "del famous[0]\n",
    "famous.remove('Arindam')\n",
    "x=famous.pop()\n",
    "y=famous.pop(0)\n",
    "z=famous.pop()\n",
    "print(\"there are no famous people left in the list\",famous)"
   ]
  },
  {
   "cell_type": "markdown",
   "metadata": {},
   "source": [
    "#### Program 3: Write a python program which does the following\n",
    "\n",
    "- Store the first ten letters of the alphabet in a list.\n",
    "- Use a slice to print out the first three letters of the alphabet.\n",
    "- Use a slice to print out any three letters from the middle of your list.\n",
    "- Use a slice to print out the letters from any point in the middle of your list, to the end.\n"
   ]
  },
  {
   "cell_type": "code",
   "execution_count": 87,
   "metadata": {},
   "outputs": [
    {
     "name": "stdout",
     "output_type": "stream",
     "text": [
      "['a', 'b', 'c']\n",
      "['d', 'e', 'f']\n",
      "['g', 'h', 'i', 'j']\n"
     ]
    }
   ],
   "source": [
    "alphabet=['a','b','c','d','e','f','g','h','i','j']\n",
    "print(alphabet[0:3])\n",
    "print(alphabet[3:6])\n",
    "print(alphabet[6:])"
   ]
  },
  {
   "cell_type": "markdown",
   "metadata": {},
   "source": [
    "#### Program 4: Write a python program for following\n",
    "\n",
    "- Your goal in this exercise is to prove that copying a list protects the original list.\n",
    "- Make a list with three people's names in it.\n",
    "- Use a slice to make a copy of the entire list.\n",
    "- Add at least two new names to the new copy of the list.\n",
    "- Make a loop that prints out all of the names in the original list, along with a message that this is the original list.\n",
    "- Make a loop that prints out all of the names in the copied list, along with a message that this is the copied list."
   ]
  },
  {
   "cell_type": "code",
   "execution_count": 8,
   "metadata": {},
   "outputs": [
    {
     "name": "stdout",
     "output_type": "stream",
     "text": [
      "list1 is ['Arindam', 'Aditya', 'Avinash']\n",
      "list2 is ['Arindam', 'Aditya', 'Avinash']\n",
      "now, list2 is ['Arindam', 'Aditya', 'Avinash', 'Arnav', 'Anshul']\n",
      "the original list is : \n",
      "Arindam\n",
      "Aditya\n",
      "Avinash\n",
      "the copied list is : \n",
      "Arindam\n",
      "Aditya\n",
      "Avinash\n",
      "Arnav\n",
      "Anshul\n"
     ]
    }
   ],
   "source": [
    "list1=['Arindam','Aditya','Avinash']\n",
    "print(\"list1 is\",list1)\n",
    "list2=list1[:]\n",
    "print(\"list2 is\",list2)\n",
    "list2.append('Arnav')\n",
    "list2.append('Anshul')\n",
    "print(\"now, list2 is\",list2)\n",
    "print(\"the original list is : \")\n",
    "for i in list1:\n",
    "    print(i)\n",
    "print(\"the copied list is : \")\n",
    "for j in list2:\n",
    "    print(j)"
   ]
  },
  {
   "cell_type": "markdown",
   "metadata": {},
   "source": [
    "#### Program 5: Write a python program for following\n",
    "\n",
    "- Create a list to store the marks of top 15 students obtained by the students in Python Quiz held on 21/08/2018. Maxmimum marks=15\n",
    "- Print the maximum marks obtained by the student from the list\n",
    "- Print the minimum marks obtained by the student\n",
    "- Find the sum of all the marks\n",
    "- Find the average of the marks\n",
    "- Reverse the original list and display using for loop\n"
   ]
  },
  {
   "cell_type": "code",
   "execution_count": 10,
   "metadata": {},
   "outputs": [
    {
     "name": "stdout",
     "output_type": "stream",
     "text": [
      "the marks of top 15 students in Python Quiz held on 21/8/2018 are : \n",
      "[15, 15, 15, 15, 14, 14, 14, 14, 13, 13, 12, 12, 12, 11, 10]\n",
      "maximum marks are 15\n",
      "minimum marks are 10\n",
      "the sum of all marks in the list is 199\n",
      "the average of all marks in the list is 13.266666666666667\n",
      "the total number of elements in the list are 15\n",
      "the reverse of the list is [10, 11, 12, 12, 12, 13, 13, 14, 14, 14, 14, 15, 15, 15, 15]\n"
     ]
    }
   ],
   "source": [
    "print(\"the marks of top 15 students in Python Quiz held on 21/8/2018 are : \")\n",
    "marks=[15,15,15,15,14,14,14,14,13,13,12,12,12,11,10]\n",
    "print(marks)\n",
    "print(\"maximum marks are\",max(marks))\n",
    "print(\"minimum marks are\",min(marks))\n",
    "s=sum(marks)\n",
    "print(\"the sum of all marks in the list is\",s)\n",
    "print(\"the average of all marks in the list is\",s/15)\n",
    "print(\"the total number of elements in the list are\",len(marks))\n",
    "rmarks=[]\n",
    "c=-1\n",
    "for i in range(len(marks)):\n",
    "    a=marks[c]\n",
    "    rmarks.append(a)\n",
    "    c=c-1\n",
    "print(\"the reverse of the list is\",rmarks)\n",
    "    \n",
    "#print(marks[::-1])\n",
    "\n",
    "#marks.reverse()\n",
    "#print(\"reversed list is\",marks)"
   ]
  },
  {
   "cell_type": "markdown",
   "metadata": {},
   "source": [
    "# Program 6: Write a program in Python to create a list which contains n integers entered by the user and delete all odd numbers from the list. Example: If initial contents of the list is=[1,2,3,4,5,6,7,8,9,10], the output would be=[2,4,6,8,10]."
   ]
  },
  {
   "cell_type": "code",
   "execution_count": 1,
   "metadata": {},
   "outputs": [
    {
     "name": "stdout",
     "output_type": "stream",
     "text": [
      "enter n : 10\n",
      "start entering integers\n",
      "1\n",
      "2\n",
      "3\n",
      "4\n",
      "5\n",
      "6\n",
      "7\n",
      "8\n",
      "9\n",
      "20\n",
      "the new list is [2, 4, 6, 8, 20]\n"
     ]
    }
   ],
   "source": [
    "list1=[]\n",
    "n=int(input(\"enter n : \"))\n",
    "print(\"start entering integers\")\n",
    "for i in range(1,n+1):\n",
    "    s=int(input())\n",
    "    list1.append(s)\n",
    "for i in list1:\n",
    "    if(i%2==1):\n",
    "        list1.remove(i)\n",
    "print(\"the new list is\",list1)"
   ]
  },
  {
   "cell_type": "markdown",
   "metadata": {},
   "source": [
    "## Optional Questions"
   ]
  },
  {
   "cell_type": "markdown",
   "metadata": {},
   "source": [
    "#### Program 7: Write a python program for following.\n",
    "- Create an initial empty list named \"countries\" \n",
    "- Read the names of n countries from the user and add them to country list:\n",
    "- Use for loop to display all the names of the countries from the list and add \"is Great\" after the country name if it is \"India\""
   ]
  },
  {
   "cell_type": "code",
   "execution_count": 2,
   "metadata": {},
   "outputs": [
    {
     "name": "stdout",
     "output_type": "stream",
     "text": [
      "enter the number of countries : 4\n",
      "enter the country name\n",
      "india\n",
      "china\n",
      "japan\n",
      "korea\n",
      "List of countries in the array : \n",
      "india is great\n",
      "china\n",
      "japan\n",
      "korea\n"
     ]
    }
   ],
   "source": [
    "countries=[]\n",
    "n=int(input(\"enter the number of countries : \"))\n",
    "print(\"enter the country name\")\n",
    "for i in range(1,n+1):\n",
    "    s=input()\n",
    "    countries.append(s)\n",
    "print(\"List of countries in the array : \")\n",
    "for j in countries:\n",
    "    if(j=='india'):\n",
    "        print(j+' is great')\n",
    "    else:\n",
    "        print(j)"
   ]
  },
  {
   "cell_type": "markdown",
   "metadata": {},
   "source": [
    "### Program 8: Write a program in Python to create a list which contains n integers entered by the user and add 2 to each of the even numbers in the list. Example: If initial contents of the list is=[1,2,3,4,5,6,7,8,9,10], the output would be=[1,4,3,6,5,8,7,10,9,12]"
   ]
  },
  {
   "cell_type": "code",
   "execution_count": 2,
   "metadata": {},
   "outputs": [
    {
     "name": "stdout",
     "output_type": "stream",
     "text": [
      "enter n : 10\n",
      "start entering integers\n",
      "1\n",
      "2\n",
      "3\n",
      "4\n",
      "5\n",
      "6\n",
      "7\n",
      "8\n",
      "9\n",
      "10\n",
      "the list is\n",
      "[1, 4, 3, 6, 5, 8, 7, 10, 9, 12]\n"
     ]
    }
   ],
   "source": [
    "list1=[]\n",
    "n=int(input(\"enter n : \"))\n",
    "print(\"start entering integers\")\n",
    "for i in range(1,n+1):\n",
    "    s=int(input())\n",
    "    list1.append(s)\n",
    "print(\"the list is\")\n",
    "list2=[]\n",
    "for j in list1:\n",
    "    if(j%2==0):\n",
    "        list2.append(j+2)\n",
    "    else:\n",
    "        list2.append(j)\n",
    "print(list2)"
   ]
  },
  {
   "cell_type": "markdown",
   "metadata": {},
   "source": [
    "### Program 9: Write a Python program to find the list in a list of lists whose sum of elements is the highest.\n",
    "Sample lists: [[1,2,3], [4,5,6], [10,11,12], [7,8,9]]\n",
    "Expected Output: [10, 11, 12]"
   ]
  },
  {
   "cell_type": "code",
   "execution_count": 3,
   "metadata": {},
   "outputs": [
    {
     "name": "stdout",
     "output_type": "stream",
     "text": [
      "List with greatest sum of elements is : [10, 11, 12]\n"
     ]
    }
   ],
   "source": [
    "lists=[[1,2,3],[4,5,6],[10,11,12],[7,8,9]]\n",
    "maxi=sum(lists[0])\n",
    "for i in lists:\n",
    "    if(sum(i)>maxi):\n",
    "        maxi=sum(i)\n",
    "        index=lists.index(i)\n",
    "print(\"List with greatest sum of elements is :\",lists[index])\n",
    "#print(max(lists,key=sum))"
   ]
  },
  {
   "cell_type": "markdown",
   "metadata": {},
   "source": [
    "#### Program 10: Write a python program which does the following\n",
    "\n",
    "- Make a list of the most important words you have learned in programming so far.\n",
    "- Make a corresponding list of definitions. Fill your list with 'definition'.\n",
    "- Use a for loop to print out each word and its corresponding definition.\n",
    "- Maintain this program until you get to the section on Python's Dictionaries."
   ]
  },
  {
   "cell_type": "code",
   "execution_count": 8,
   "metadata": {},
   "outputs": [
    {
     "name": "stdout",
     "output_type": "stream",
     "text": [
      "for  : \n",
      " For loop is a programming language conditional iterative statement which is used to check for certain conditions and then repeatedly execute a block of code as long as those conditions are met.\n",
      "list  : \n",
      " A list is a data structure in Python that is a mutable, or changeable, ordered sequence of elements. Each element or value that is inside of a list is called an item. Just as strings are defined as characters between quotes, lists are defined by having values between square brackets [ ].\n"
     ]
    }
   ],
   "source": [
    "# start writing your code after this line\n",
    "important=['for','list']\n",
    "definition=['For loop is a programming language conditional iterative statement which is used to check for certain conditions and then repeatedly execute a block of code as long as those conditions are met.',\n",
    "            'A list is a data structure in Python that is a mutable, or changeable, ordered sequence of elements. Each element or value that is inside of a list is called an item. Just as strings are defined as characters between quotes, lists are defined by having values between square brackets [ ].']\n",
    "c=0\n",
    "for i in important:\n",
    "    print(i,\" : \\n\",definition[c])\n",
    "    c+=1"
   ]
  }
 ],
 "metadata": {
  "kernelspec": {
   "display_name": "Python 3",
   "language": "python",
   "name": "python3"
  },
  "language_info": {
   "codemirror_mode": {
    "name": "ipython",
    "version": 3
   },
   "file_extension": ".py",
   "mimetype": "text/x-python",
   "name": "python",
   "nbconvert_exporter": "python",
   "pygments_lexer": "ipython3",
   "version": "3.7.0"
  }
 },
 "nbformat": 4,
 "nbformat_minor": 2
}
