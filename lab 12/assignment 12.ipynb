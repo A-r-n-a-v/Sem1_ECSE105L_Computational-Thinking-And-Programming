{
 "cells": [
  {
   "cell_type": "markdown",
   "metadata": {},
   "source": [
    "# Name:Arnav Bansal\n",
    "# Enrollment ID:E18CSE028"
   ]
  },
  {
   "cell_type": "markdown",
   "metadata": {},
   "source": [
    "## All code should be done using Functions and parameters should be user defined!! \n",
    "## Input cases for program at least two."
   ]
  },
  {
   "cell_type": "markdown",
   "metadata": {},
   "source": [
    "## Function with arguments\n",
    "### Write a program in Python to convert time into minutes using function. "
   ]
  },
  {
   "cell_type": "code",
   "execution_count": 1,
   "metadata": {},
   "outputs": [
    {
     "name": "stdout",
     "output_type": "stream",
     "text": [
      "enter the hours : 2\n",
      "enter the minutes : 20\n",
      "enter the seconds : 30\n",
      "the total minutes are 140.5\n"
     ]
    }
   ],
   "source": [
    "#input Hours and minutes from user\n",
    "\n",
    "#function definition\n",
    "def convert(h,m,s):\n",
    "    min=m+(h*60)+(s/60)\n",
    "    print(\"the total minutes are\",min)\n",
    "\n",
    "#function calling\n",
    "h=int(input(\"enter the hours : \"))\n",
    "m=int(input(\"enter the minutes : \"))\n",
    "s=int(input(\"enter the seconds : \"))\n",
    "convert(h,m,s)\n"
   ]
  },
  {
   "cell_type": "markdown",
   "metadata": {},
   "source": [
    "### Write a prgram to calculate simple interest. If customer is a senior citizen, he is offered 12 percent rate of interest. For all other customers, rate of interest is 10 percent. Use a function which accepts principle amount, time in years and yes or no for senior citizen (Boolean)."
   ]
  },
  {
   "cell_type": "code",
   "execution_count": 8,
   "metadata": {},
   "outputs": [
    {
     "name": "stdout",
     "output_type": "stream",
     "text": [
      "enter the interest : 2000\n",
      "enter the years : 20\n",
      "enter the age of the person : 69\n",
      "the simple interest is 4800.0\n"
     ]
    }
   ],
   "source": [
    "def interest(priciple,year,senior):\n",
    "    if(senior=='yes'):\n",
    "        si=(principle*12*year)/100\n",
    "    else:\n",
    "        si=(principle*10*year)/100\n",
    "    \n",
    "    print(\"the simple interest is\",si)\n",
    "principle=int(input(\"enter the interest : \"))\n",
    "year=int(input(\"enter the years : \"))\n",
    "age=int(input(\"enter the age of the person : \"))\n",
    "if(age>=60):\n",
    "    senior='yes'\n",
    "else:\n",
    "    senior='no'    \n",
    "interest(principle,year,senior)"
   ]
  },
  {
   "cell_type": "markdown",
   "metadata": {},
   "source": [
    "# Function with no argument \n",
    "### Write a program in Python to print the current date and time using function showtime(). \n",
    "## Use import datetime and datetime.datetime.now() to print the current date and time. "
   ]
  },
  {
   "cell_type": "code",
   "execution_count": 30,
   "metadata": {},
   "outputs": [
    {
     "name": "stdout",
     "output_type": "stream",
     "text": [
      "the current date is 2018-09-12 and the current time is 16:27:23.270105\n"
     ]
    }
   ],
   "source": [
    "def showtime():\n",
    "    from datetime import datetime\n",
    "    d=datetime.now()\n",
    "    print(\"the current date is\",d.date(),\"and the current time is\",d.time())\n",
    "showtime()"
   ]
  },
  {
   "cell_type": "markdown",
   "metadata": {},
   "source": [
    "## Default arguments"
   ]
  },
  {
   "cell_type": "markdown",
   "metadata": {},
   "source": [
    "### Write a program using a function that greets a person using default message Welcome! followed by name of the person. Call this with a different message also."
   ]
  },
  {
   "cell_type": "code",
   "execution_count": 34,
   "metadata": {},
   "outputs": [
    {
     "name": "stdout",
     "output_type": "stream",
     "text": [
      "enter your name : arnav\n",
      "do you want to greet the person with default message? yes/no \n",
      "no\n",
      "enter the message : hello\n",
      "hello arnav\n"
     ]
    }
   ],
   "source": [
    "def greet(name,msg='welcome'):\n",
    "    print(msg+' '+name)\n",
    "name=input(\"enter your name : \")\n",
    "ask=input(\"do you want to greet the person with default message? yes/no \\n\")\n",
    "if(ask=='yes'):\n",
    "    greet(name)\n",
    "else:\n",
    "    msg=input(\"enter the message : \")\n",
    "    greet(name,msg)"
   ]
  },
  {
   "cell_type": "markdown",
   "metadata": {},
   "source": [
    "### Write a program to calculate the volume of a cuboid (length\\*width*height) using default arguments in a function. Length parameter is compulsory to be passed from user."
   ]
  },
  {
   "cell_type": "code",
   "execution_count": 35,
   "metadata": {},
   "outputs": [
    {
     "name": "stdout",
     "output_type": "stream",
     "text": [
      "the volume of the cuboid is 12\n",
      "the volume of the cuboid is 18\n",
      "the volume of the cuboid is 24\n"
     ]
    }
   ],
   "source": [
    "def volume(length,width=2,height=3):\n",
    "    v=length*width*height\n",
    "    print(\"the volume of the cuboid is\",v)\n",
    "volume(2)\n",
    "volume(2,3)\n",
    "volume(2,3,4)"
   ]
  },
  {
   "cell_type": "markdown",
   "metadata": {},
   "source": [
    "# Variable Length arguments\n",
    "### Write a program that uses variable-length arguments to multiply the values passed to the function.\n",
    "### For example, calling mul(2,3,1) will print 6. Calling mul(1,4,2,5) will return 40. "
   ]
  },
  {
   "cell_type": "code",
   "execution_count": 2,
   "metadata": {},
   "outputs": [
    {
     "name": "stdout",
     "output_type": "stream",
     "text": [
      "the sum is 4\n",
      "the sum is 6\n",
      "the sum is 40\n"
     ]
    }
   ],
   "source": [
    "def mul(*args):\n",
    "    m=1\n",
    "    for i in args:\n",
    "        m=m*i\n",
    "    print(\"the sum is\",m)\n",
    "mul(4)\n",
    "mul(2,3,1)\n",
    "mul(1,4,2,5)"
   ]
  },
  {
   "cell_type": "markdown",
   "metadata": {},
   "source": [
    "### Write a program in Python to find the roots of a quadratic equation ax^2+bx+c=0 using a function which takes the coefficients a,b,c as arguments."
   ]
  },
  {
   "cell_type": "code",
   "execution_count": 10,
   "metadata": {},
   "outputs": [
    {
     "name": "stdout",
     "output_type": "stream",
     "text": [
      "the roots are -2.0 -3.0\n",
      "Imaginary roots\n"
     ]
    }
   ],
   "source": [
    "def roots(a,b,c):\n",
    "    d=(b*b)-(4*a*c)\n",
    "    if(d<0):\n",
    "        print(\"Imaginary roots\")\n",
    "    else:\n",
    "        d1=(-b+((b**2)-4*a*c)**0.5)/(2*a)\n",
    "        d2=(-b-((b**2)-4*a*c)**0.5)/(2*a)\n",
    "        print(\"the roots are\",d1,d2)\n",
    "#Function calling\n",
    "roots(1,5,6)\n",
    "roots(1,2,5)"
   ]
  },
  {
   "cell_type": "markdown",
   "metadata": {},
   "source": [
    "# Return multiple arguments\n",
    "### Write a program in Python to return square and square root of the number passed as argument from a function."
   ]
  },
  {
   "cell_type": "code",
   "execution_count": 60,
   "metadata": {},
   "outputs": [
    {
     "name": "stdout",
     "output_type": "stream",
     "text": [
      "enter a number : 16\n",
      "the square is 256\n",
      "the square root is 4.0\n"
     ]
    }
   ],
   "source": [
    "def compute(num):\n",
    "    return num**2,num**0.5\n",
    "n=int(input(\"enter a number : \"))\n",
    "a,b=compute(n)\n",
    "print(\"the square is\",a)\n",
    "print(\"the square root is\",b)"
   ]
  },
  {
   "cell_type": "markdown",
   "metadata": {},
   "source": [
    "# Lambda Functions\n",
    "### write a program in Python to calculate the cube of a number using the lambda function."
   ]
  },
  {
   "cell_type": "code",
   "execution_count": 2,
   "metadata": {},
   "outputs": [
    {
     "name": "stdout",
     "output_type": "stream",
     "text": [
      "enter any number : 3\n",
      "the cube of 3 is 27\n"
     ]
    }
   ],
   "source": [
    "def func(x):\n",
    "    l=lambda x:x**3\n",
    "    print(\"the cube of\",x,\"is\",l(x))\n",
    "x=int(input(\"enter any number : \"))\n",
    "func(x)"
   ]
  },
  {
   "cell_type": "markdown",
   "metadata": {},
   "source": [
    "# Global and Local Variables"
   ]
  },
  {
   "cell_type": "markdown",
   "metadata": {},
   "source": [
    "### Check the output of the following code to understand the Global and local variables."
   ]
  },
  {
   "cell_type": "code",
   "execution_count": 61,
   "metadata": {},
   "outputs": [
    {
     "name": "stdout",
     "output_type": "stream",
     "text": [
      "Python "
     ]
    }
   ],
   "source": [
    "# This function uses global variable s \n",
    "def f():\n",
    "    print(s, end=\" \")\n",
    "\n",
    "# Global scope \n",
    "s = \"Python\"\n",
    "f()"
   ]
  },
  {
   "cell_type": "code",
   "execution_count": 62,
   "metadata": {},
   "outputs": [
    {
     "name": "stdout",
     "output_type": "stream",
     "text": [
      "I hate Python\n"
     ]
    }
   ],
   "source": [
    "# This function has a variable with name same as s. \n",
    "def f():  \n",
    "    s = \"I hate\"\n",
    "    print(s, end=\" \")\n",
    "# Global scope \n",
    "s = \"Python\" \n",
    "f()\n",
    "print(s)"
   ]
  },
  {
   "cell_type": "code",
   "execution_count": 1,
   "metadata": {},
   "outputs": [
    {
     "name": "stdout",
     "output_type": "stream",
     "text": [
      "Python\n",
      "Python\n"
     ]
    }
   ],
   "source": [
    "def f():\n",
    "    #print(s)\n",
    "    # This program will NOT show error, if we comment below line.\n",
    "    s = \"Me too.\"\n",
    "    print(s)\n",
    "# Global scope\n",
    "s= \"Python\"\n",
    "f()\n",
    "print(s)"
   ]
  },
  {
   "cell_type": "code",
   "execution_count": 4,
   "metadata": {},
   "outputs": [
    {
     "name": "stdout",
     "output_type": "stream",
     "text": [
      "Python1\n",
      "Python2\n",
      "Python2\n"
     ]
    }
   ],
   "source": [
    "def f(): \n",
    "    global s\n",
    "    print (s) \n",
    "    s = \"Python2\"\n",
    "    print (s)  \n",
    "\n",
    "# Global Scope \n",
    "s = \"Python1\"\n",
    "f()\n",
    "print(s)"
   ]
  },
  {
   "cell_type": "markdown",
   "metadata": {},
   "source": [
    "# Recursive function"
   ]
  },
  {
   "cell_type": "code",
   "execution_count": 11,
   "metadata": {},
   "outputs": [
    {
     "name": "stdout",
     "output_type": "stream",
     "text": [
      "15\n"
     ]
    }
   ],
   "source": [
    "def sum(n):\n",
    "    if(n==1):\n",
    "        return 1\n",
    "    return n+sum(n-1)\n",
    "\n",
    "print(sum(5))\n",
    "    "
   ]
  },
  {
   "cell_type": "markdown",
   "metadata": {},
   "source": [
    "# Optional Questions"
   ]
  },
  {
   "cell_type": "markdown",
   "metadata": {},
   "source": [
    "### Write a program to design the pow function using recursion."
   ]
  },
  {
   "cell_type": "code",
   "execution_count": 5,
   "metadata": {},
   "outputs": [
    {
     "name": "stdout",
     "output_type": "stream",
     "text": [
      "enter the base : 2\n",
      "enter the power : 4\n",
      "2 to the power 4 is 16\n"
     ]
    }
   ],
   "source": [
    "#Function Definition\n",
    "def pow(a,b):\n",
    "    if(b==1):\n",
    "        return a\n",
    "    #Complete the code here\n",
    "    return a*pow(a,b-1)\n",
    "m=int(input(\"enter the base : \"))\n",
    "n=int(input(\"enter the power : \"))\n",
    "#Function Calling\n",
    "print(m,\"to the power\",n,\"is\",pow(m,n))"
   ]
  },
  {
   "cell_type": "markdown",
   "metadata": {},
   "source": [
    "## 2’s complement of a number is obtained by scanning it from right to left and complementing all the bits after the first appearance of a 1. Thus 2’s complement of 11100 is 00100. \n",
    "### Write a Python program to find the 2’s complement of a binary."
   ]
  },
  {
   "cell_type": "code",
   "execution_count": 1,
   "metadata": {},
   "outputs": [
    {
     "name": "stdout",
     "output_type": "stream",
     "text": [
      "enter a number in binary : 11100\n",
      "00100\n"
     ]
    }
   ],
   "source": [
    "n=input(\"enter a number in binary : \")\n",
    "s1=''\n",
    "for i in n:\n",
    "    s1=i+s1\n",
    "s2=''\n",
    "check=True\n",
    "for j in s1:\n",
    "    if(check):\n",
    "        s2=s2+j\n",
    "    if(j=='1' and check):\n",
    "        check=False\n",
    "        continue\n",
    "    if(not check):\n",
    "        if(j=='0'):\n",
    "            s2=s2+'1'\n",
    "        elif(j=='1'):\n",
    "            s2=s2+'0'\n",
    "s3=''\n",
    "for k in s2:\n",
    "    s3=k+s3\n",
    "print(s3)"
   ]
  },
  {
   "cell_type": "markdown",
   "metadata": {},
   "source": [
    "### Write a program to calculate the sum of digits using recursion."
   ]
  },
  {
   "cell_type": "code",
   "execution_count": 2,
   "metadata": {},
   "outputs": [
    {
     "name": "stdout",
     "output_type": "stream",
     "text": [
      "Enter n : \n",
      "56489\n",
      "Sum = 32\n"
     ]
    }
   ],
   "source": [
    "def ds(n,sum):\n",
    "    if(n>0):\n",
    "        sum+=n%10\n",
    "        return ds(n//10,sum)\n",
    "    else:\n",
    "        return sum\n",
    "initial_sum=0\n",
    "n=int(input(\"Enter n : \\n\"))\n",
    "print(\"Sum =\",ds(n,initial_sum))"
   ]
  },
  {
   "cell_type": "markdown",
   "metadata": {},
   "source": [
    "### Write a program to calculate the hexa-decimal of decimal number using recursion."
   ]
  },
  {
   "cell_type": "code",
   "execution_count": 23,
   "metadata": {},
   "outputs": [
    {
     "name": "stdout",
     "output_type": "stream",
     "text": [
      "20\n",
      "14\n"
     ]
    }
   ],
   "source": [
    "d=int(input())\n",
    "g=d\n",
    "s=''\n",
    "while(d>16):\n",
    "    a=d%16\n",
    "    s=str(a)+s\n",
    "    d=d//16\n",
    "def f(s):\n",
    "    if(s=='10'):\n",
    "        return 'a'\n",
    "    if(s=='11'):\n",
    "        return 'b'\n",
    "    if(s=='12'):\n",
    "        return 'c'\n",
    "    if(s=='13'):\n",
    "        return 'd'\n",
    "    if(s=='14'):\n",
    "        return 'd'\n",
    "    if(s=='15'):\n",
    "        return 'e'\n",
    "if(int(s)<10):\n",
    "    print(str(d)+s)\n",
    "else:\n",
    "    print(str(d)+f(s))"
   ]
  },
  {
   "cell_type": "code",
   "execution_count": 7,
   "metadata": {},
   "outputs": [
    {
     "name": "stdout",
     "output_type": "stream",
     "text": [
      "Enter number in decimal : \n",
      "25\n",
      "Hexadecimal of 25 is : 19\n"
     ]
    }
   ],
   "source": [
    "def hexa(n,num):\n",
    "    if(n>0):\n",
    "        r=n%16\n",
    "        n=n//16\n",
    "        if(r==10):\n",
    "            num+='A'\n",
    "        if(r==11):\n",
    "            num+='B'\n",
    "        if(r==12):\n",
    "            num+='C'\n",
    "        if(r==13):\n",
    "            num+='D'\n",
    "        if(r==14):\n",
    "            num+='E'\n",
    "        if(r==15):\n",
    "            num+='F'\n",
    "        elif(0<=r<=9):\n",
    "            num+=str(r)\n",
    "        return hexa(n,num[::-1])\n",
    "    else:\n",
    "        return num\n",
    "\n",
    "n=int(input('Enter number in decimal : \\n'))\n",
    "print(\"Hexadecimal of \"+str(n)+\" is : \"+hexa(n,''))"
   ]
  },
  {
   "cell_type": "code",
   "execution_count": null,
   "metadata": {},
   "outputs": [],
   "source": []
  }
 ],
 "metadata": {
  "kernelspec": {
   "display_name": "Python 3",
   "language": "python",
   "name": "python3"
  },
  "language_info": {
   "codemirror_mode": {
    "name": "ipython",
    "version": 3
   },
   "file_extension": ".py",
   "mimetype": "text/x-python",
   "name": "python",
   "nbconvert_exporter": "python",
   "pygments_lexer": "ipython3",
   "version": "3.7.0"
  }
 },
 "nbformat": 4,
 "nbformat_minor": 2
}
