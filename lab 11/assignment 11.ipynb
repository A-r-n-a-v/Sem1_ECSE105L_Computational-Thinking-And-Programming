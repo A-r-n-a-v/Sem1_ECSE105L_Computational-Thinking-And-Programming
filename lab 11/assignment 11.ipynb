{
 "cells": [
  {
   "cell_type": "markdown",
   "metadata": {},
   "source": [
    "# Python function \n",
    "## Every solution should be done with the help of functions."
   ]
  },
  {
   "cell_type": "raw",
   "metadata": {},
   "source": [
    "Function is used for modularity in the program.\n",
    "\n",
    "def function_name(argument-1, argument-2,argument-3...):\n",
    "    function body\n",
    "    .\n",
    "    .\n",
    "    .\n",
    "    .\n",
    "    .\n",
    "    return var   \n",
    "#function call\n",
    "function_name(10,20,30)"
   ]
  },
  {
   "cell_type": "markdown",
   "metadata": {},
   "source": [
    "## 1. Write a program to compute gcd of two user input numbers."
   ]
  },
  {
   "cell_type": "code",
   "execution_count": 1,
   "metadata": {},
   "outputs": [
    {
     "name": "stdout",
     "output_type": "stream",
     "text": [
      "enter a : 10\n",
      "enter b : 50\n",
      "the gcd of 10 and 50 is : \n",
      "10\n"
     ]
    }
   ],
   "source": [
    "def gcd():\n",
    "    a=int(input(\"enter a : \"))\n",
    "    b=int(input(\"enter b : \"))\n",
    "    print(\"the gcd of\",a,\"and\",b,\"is : \")\n",
    "    while b:\n",
    "        a,b=b,a%b\n",
    "    print(a)\n",
    "gcd()"
   ]
  },
  {
   "cell_type": "markdown",
   "metadata": {},
   "source": [
    "## 2.Write a program to take an integer from the user and return reverse of the number.\n",
    "### (Example: I/P 123, O/P: 321) "
   ]
  },
  {
   "cell_type": "code",
   "execution_count": 2,
   "metadata": {},
   "outputs": [
    {
     "name": "stdout",
     "output_type": "stream",
     "text": [
      "enter any number : 433\n",
      "the reverse of the number is 334\n"
     ]
    }
   ],
   "source": [
    "def f():\n",
    "    n=int(input(\"enter any number : \"))\n",
    "    s=''\n",
    "    for x in str(n):\n",
    "        s=x+s\n",
    "    print(\"the reverse of the number is\",int(s))\n",
    "f()"
   ]
  },
  {
   "cell_type": "markdown",
   "metadata": {},
   "source": [
    "## 3. Write a program in Python to print prime numbers between 25 and 100 using function."
   ]
  },
  {
   "cell_type": "code",
   "execution_count": 6,
   "metadata": {},
   "outputs": [
    {
     "name": "stdout",
     "output_type": "stream",
     "text": [
      "prime numbers between 25 and 100 are\n",
      "29\n",
      "31\n",
      "37\n",
      "41\n",
      "43\n",
      "47\n",
      "53\n",
      "59\n",
      "61\n",
      "67\n",
      "71\n",
      "73\n",
      "79\n",
      "83\n",
      "89\n",
      "97\n"
     ]
    }
   ],
   "source": [
    "def f():\n",
    "    for i in range(25,101):\n",
    "        c=1\n",
    "        for j in range(2,i):\n",
    "            if(i%j==0):\n",
    "                c=0\n",
    "                break\n",
    "        if(c==1):\n",
    "            print(i)\n",
    "print(\"prime numbers between 25 and 100 are\")\n",
    "f()"
   ]
  },
  {
   "cell_type": "markdown",
   "metadata": {},
   "source": [
    "## 4. Define a Pyhton function pow1 that takes the values of two integers m and n from the user and calculate pow(m,n). Call this function with different values.\n",
    "### Do not use exponent operator (**) or pow()"
   ]
  },
  {
   "cell_type": "code",
   "execution_count": 2,
   "metadata": {},
   "outputs": [
    {
     "name": "stdout",
     "output_type": "stream",
     "text": [
      "enter the base : 2\n",
      "enter the power : 5\n",
      "2 to the power 5 is 32\n",
      "do you want to give input again? yes/no \n",
      "yes\n",
      "enter the base : 3\n",
      "enter the power : 4\n",
      "3 to the power 4 is 81\n",
      "do you want to give input again? yes/no \n",
      "no\n"
     ]
    }
   ],
   "source": [
    "def pow1(m,n):\n",
    "    sum=1\n",
    "    for i in range(1,n+1):\n",
    "        sum=sum*m\n",
    "    print(m,\"to the power\",n,\"is\",sum)\n",
    "while(True):\n",
    "    m=int(input(\"enter the base : \"))\n",
    "    n=int(input(\"enter the power : \"))\n",
    "    pow1(m,n)\n",
    "    s=input(\"do you want to give input again? yes/no \\n\")\n",
    "    if(s=='no'):\n",
    "        break"
   ]
  },
  {
   "cell_type": "markdown",
   "metadata": {},
   "source": [
    "## 5. Write a Python program to find the factorial of a number using a recursive function."
   ]
  },
  {
   "cell_type": "code",
   "execution_count": 4,
   "metadata": {},
   "outputs": [
    {
     "name": "stdout",
     "output_type": "stream",
     "text": [
      "enter a number : 4\n",
      "the factorial of 4 is 24\n"
     ]
    }
   ],
   "source": [
    "def fact(n):\n",
    "    if(n==1 or n==0):\n",
    "        return 1\n",
    "    else:\n",
    "        f=n*fact(n-1)\n",
    "        return f\n",
    "a=int(input(\"enter a number : \"))\n",
    "r=fact(a)\n",
    "print(\"the factorial of\",a,\"is\",r)"
   ]
  },
  {
   "cell_type": "markdown",
   "metadata": {},
   "source": [
    "## 6. Design and develop a python function RightShift(x ,n) that takes two integers x and n as input and returns value of the integer x shifted to the right by n positions. Assume the integers are unsigned. \n",
    "### Write a Python program that invokes this function with multiple values for x and n and tabulate the results with suitable headings withour using right shift operator."
   ]
  },
  {
   "cell_type": "code",
   "execution_count": 8,
   "metadata": {},
   "outputs": [
    {
     "name": "stdout",
     "output_type": "stream",
     "text": [
      "enter x : 8\n",
      "enter n : 2\n",
      "the 2 right shifts of 8 is 2\n",
      "do you want to give different values? yes/no \n",
      "yes\n",
      "enter x : 3\n",
      "enter n : 1\n",
      "the 1 right shifts of 3 is 1\n",
      "do you want to give different values? yes/no \n",
      "yes\n",
      "enter x : 9\n",
      "enter n : 2\n",
      "the 2 right shifts of 9 is 2\n",
      "do you want to give different values? yes/no \n",
      "no\n",
      "x    n    r\n",
      "8    2    2\n",
      "3    1    1\n",
      "9    2    2\n"
     ]
    }
   ],
   "source": [
    "def rightshift(x,n):\n",
    "    r=x//(2**n)\n",
    "    return r\n",
    "    \n",
    "ax=[]\n",
    "an=[]\n",
    "ar=[]\n",
    "while(True):\n",
    "    x=int(input(\"enter x : \"))\n",
    "    n=int(input(\"enter n : \"))\n",
    "    print(\"the\",n,\"right shifts of\",x,\"is\",rightshift(x,n))\n",
    "    ax.append(x)\n",
    "    an.append(n)\n",
    "    ar.append(rightshift(x,n))\n",
    "    choice=input(\"do you want to give different values? yes/no \\n\")\n",
    "    if(choice=='no'):\n",
    "        break\n",
    "print(\"x    \"+\"n    \"+\"r\")\n",
    "for i in range(len(ax)):\n",
    "    print(ax[i],\"  \",an[i],\"  \",ar[i])"
   ]
  },
  {
   "cell_type": "markdown",
   "metadata": {},
   "source": [
    "## 7.  Write a program in python to find the sum of the series 1!/1+2!/2+3!/3+4!/4+5!/5 using the function. "
   ]
  },
  {
   "cell_type": "code",
   "execution_count": 2,
   "metadata": {},
   "outputs": [
    {
     "name": "stdout",
     "output_type": "stream",
     "text": [
      "the sum of the series is 34\n"
     ]
    }
   ],
   "source": [
    "def fact(j):\n",
    "    if(j==1 or j==0):\n",
    "        return 1\n",
    "    else:\n",
    "        return j*fact(j-1)\n",
    "sum=0\n",
    "for i in range(0,5):\n",
    "    sum=sum+fact(i)\n",
    "print(\"the sum of the series is\",sum)"
   ]
  },
  {
   "cell_type": "markdown",
   "metadata": {},
   "source": [
    "## 8. Define a function to print nth term in Fibonacci series using recursion. Call this function with different values."
   ]
  },
  {
   "cell_type": "code",
   "execution_count": 2,
   "metadata": {},
   "outputs": [
    {
     "name": "stdout",
     "output_type": "stream",
     "text": [
      "Enter number : 6\n",
      "6 term of fibonacci series is 8\n",
      "do you want to give a different value? yea/no \n",
      "no\n"
     ]
    }
   ],
   "source": [
    "def fib(n):\n",
    "    if ( n == 0 ):\n",
    "        return 0\n",
    "    elif ( n == 1 ):\n",
    "        return 1\n",
    "    else:\n",
    "        return ( fib(n-1) + fib(n-2) )\n",
    "while(True):\n",
    "    num = int(input('Enter number : '))\n",
    "    print(str(num)+' term of fibonacci series is '+ str(fib(num)))\n",
    "    choice=input(\"do you want to give a different value? yea/no \\n\")\n",
    "    if(choice=='no'):\n",
    "        break"
   ]
  },
  {
   "cell_type": "markdown",
   "metadata": {},
   "source": [
    "## 9. Define a python function to convert a decimal number to its equivalent octal number without using inbuilt functions. Call this function with different values."
   ]
  },
  {
   "cell_type": "code",
   "execution_count": 8,
   "metadata": {},
   "outputs": [
    {
     "name": "stdout",
     "output_type": "stream",
     "text": [
      "225\n",
      "1\n",
      "1\n",
      "28\n",
      "4\n",
      "41\n",
      "3\n",
      "225\n",
      "341\n"
     ]
    }
   ],
   "source": [
    "d=int(input())\n",
    "g=d\n",
    "s=''\n",
    "while(d>8):\n",
    "    a=d%8\n",
    "    print(a)\n",
    "    s=str(a)+s\n",
    "    print(s)\n",
    "    d=d//8\n",
    "    print(d)\n",
    "print(g)\n",
    "print(str(d)+s)\n"
   ]
  },
  {
   "cell_type": "code",
   "execution_count": 31,
   "metadata": {},
   "outputs": [
    {
     "data": {
      "text/plain": [
       "'0o341'"
      ]
     },
     "execution_count": 31,
     "metadata": {},
     "output_type": "execute_result"
    }
   ],
   "source": [
    "oct(225)"
   ]
  },
  {
   "cell_type": "code",
   "execution_count": 2,
   "metadata": {},
   "outputs": [
    {
     "name": "stdout",
     "output_type": "stream",
     "text": [
      "enter a decimal number : 225\n",
      "34\n",
      "do you want to give a different value? yes/no \n",
      "no\n"
     ]
    }
   ],
   "source": [
    "def convert():\n",
    "    n=int(input(\"enter a decimal number : \"))\n",
    "    sum=0\n",
    "    c=0\n",
    "    while(n>0):\n",
    "        n=n//8\n",
    "        r=n%8\n",
    "        sum+=(r*(10**c))\n",
    "        c+=1\n",
    "    print(sum)\n",
    "    x=input(\"do you want to give a different value? yes/no \\n\")\n",
    "    if(x=='yes'):\n",
    "        convert()\n",
    "convert()"
   ]
  },
  {
   "cell_type": "markdown",
   "metadata": {},
   "source": [
    "## 10. Write a python function to Check whether a number can be expressed as the sum of two prime number. For example, 20 can be written as sum of 7 and 13. 29 cannot be written as sum of 2 prime numbers"
   ]
  },
  {
   "cell_type": "code",
   "execution_count": 4,
   "metadata": {},
   "outputs": [
    {
     "name": "stdout",
     "output_type": "stream",
     "text": [
      "enter n : 20\n",
      "20 can be expressed as the sum of 3 and 17\n",
      "20 can be expressed as the sum of 7 and 13\n",
      "yes\n"
     ]
    }
   ],
   "source": [
    "def check_prime(i):\n",
    "    c=1\n",
    "    for k in range(2,i):\n",
    "        if(i%k==0):\n",
    "            c=0\n",
    "            break\n",
    "    if(c==0):\n",
    "        return False\n",
    "    else:\n",
    "        return True\n",
    "n=int(input(\"enter n : \"))\n",
    "check=0\n",
    "for i in range(2,n//2):\n",
    "    if(check_prime(i) and check_prime(n-i)):\n",
    "        print(n,\"can be expressed as the sum of\",i,\"and\",n-i)\n",
    "        check=1\n",
    "if(check==0):\n",
    "    print('no')\n",
    "else:\n",
    "    print('yes')"
   ]
  },
  {
   "cell_type": "markdown",
   "metadata": {},
   "source": [
    "# Optional Questions"
   ]
  },
  {
   "cell_type": "markdown",
   "metadata": {},
   "source": [
    "## 11. Write a python function to Convert octal Number to decimal without using inbuilt functions."
   ]
  },
  {
   "cell_type": "code",
   "execution_count": 3,
   "metadata": {},
   "outputs": [
    {
     "name": "stdout",
     "output_type": "stream",
     "text": [
      "enter an octal number : 222\n",
      "the decimal value of 222 is 146\n",
      "do you want to give a different value? yes/no \n",
      "no\n"
     ]
    }
   ],
   "source": [
    "def convert():\n",
    "    d=0\n",
    "    c=0\n",
    "    o=int(input(\"enter an octal number : \"))\n",
    "    oct=o\n",
    "    while(o>0):\n",
    "        a=o%10\n",
    "        d=d+(a*(8**c))\n",
    "        o=o//10\n",
    "        c+=1\n",
    "    print(\"the decimal value of\",oct,\"is\",d)\n",
    "    x=input(\"do you want to give a different value? yes/no \\n\")\n",
    "    if(x=='yes'):\n",
    "        convert()\n",
    "convert()"
   ]
  },
  {
   "cell_type": "markdown",
   "metadata": {},
   "source": [
    "## 12.  Write a program in Python to check whether two given strings are an anagram. \n",
    "### An anagram of a string is another string that contains same characters, only the order of characters can be different. For example, “abcd” and “dabc” are anagram of each other."
   ]
  },
  {
   "cell_type": "code",
   "execution_count": 10,
   "metadata": {},
   "outputs": [
    {
     "name": "stdout",
     "output_type": "stream",
     "text": [
      "enter first string : adbc\n",
      "enter second string : dacb\n",
      "the given two strings are anagram\n"
     ]
    }
   ],
   "source": [
    "def check():\n",
    "    s1=input(\"enter first string : \")\n",
    "    s2=input(\"enter second string : \")\n",
    "    if(sorted(s1)==sorted(s2)):\n",
    "        print(\"the given two strings are anagram\")\n",
    "    else:\n",
    "        print(\"the given two strings are not anagram\")\n",
    "check()"
   ]
  },
  {
   "cell_type": "markdown",
   "metadata": {},
   "source": [
    "## 13. Write a python program that calculates the bill  for a customer purchase in a store. in this store the item_id range from 1 to 100. These items are organised in a way that the items with item_id less than 50 are on sale (10 %) and item_id range from 50-80 are on sale (25 %) and the rest items are on the sale of 40 %.\n",
    "### Your program has a function call (saleprice) that receives the itme_id, and its price, and  it returns the current price after sale for current item, and it prints the number of items purchased so far.\n",
    "### In your main, you should read item id and call saleprice function for each item. your program should continue to nread item_id till the end of purchase. entering 0 will indicate the end of purchase. At the end your program should print the total amount of bill. "
   ]
  },
  {
   "cell_type": "code",
   "execution_count": 4,
   "metadata": {},
   "outputs": [
    {
     "name": "stdout",
     "output_type": "stream",
     "text": [
      "enter item-id : 23\n",
      "enter the price of the item with item id : \n",
      "100\n",
      "the price of item after sale is 90.0\n",
      "total number of item purchased: 1\n",
      "enter item-id : 56\n",
      "enter the price of the item with item id : \n",
      "100\n",
      "the price of item after sale is 75.0\n",
      "total number of item purchased: 2\n",
      "enter item-id : 87\n",
      "enter the price of the item with item id : \n",
      "100\n",
      "the price of item after sale is 60.0\n",
      "total number of item purchased: 3\n",
      "enter item-id : 101\n",
      "invalid item id, enter again : \n",
      "enter item-id : 0\n",
      "purchase completed!\n",
      "total number of item bought = 3\n",
      "total amount 225.0\n"
     ]
    }
   ],
   "source": [
    "def saleprice(item_id,price):\n",
    "        if(item_id<50):\n",
    "            saleprice=price*(10/100)\n",
    "            print(\"the price of item after sale is\",price-saleprice)\n",
    "            return price-saleprice\n",
    "        elif(50<=item_id<80):\n",
    "            saleprice=price*(25/100)\n",
    "            print(\"the price of item after sale is\",price-saleprice)\n",
    "            return price-saleprice\n",
    "        elif(80<=item_id<=100):\n",
    "            saleprice=price*(40/100)\n",
    "            print(\"the price of item after sale is\",price-saleprice)\n",
    "            return price-saleprice\n",
    "c=0\n",
    "amt=0\n",
    "while(True):\n",
    "    item_id=int(input('enter item-id : '))\n",
    "    if(item_id==0):\n",
    "        print('purchase completed!')\n",
    "        break\n",
    "    elif(item_id<1 or item_id>100):\n",
    "        print('invalid item id, enter again : ')\n",
    "        continue\n",
    "    else:\n",
    "        c+=1\n",
    "        print(\"enter the price of the item with item id : \")\n",
    "        price=int(input())\n",
    "        amt+=saleprice(item_id,price)\n",
    "        print('total number of item purchased:',c)\n",
    "        \n",
    "print('total number of item bought =',c)\n",
    "print('total amount',amt)"
   ]
  },
  {
   "cell_type": "markdown",
   "metadata": {},
   "source": [
    "## 14.We add a Leap Day on February 29, almost every four years. The leap day is an extra, or intercalary day and we add it to the shortest month of the year, February. \n",
    "## In the Gregorian calendar three criteria must be taken into account to identify leap years:\n",
    "\n",
    "### The year can be evenly divided by 4, is a leap year, unless:\n",
    "### The year can be evenly divided by 100, it is NOT a leap year, unless:\n",
    "### The year is also evenly divisible by 400. Then it is a leap year.\n",
    "### This means that in the Gregorian calendar, the years 2000 and 2400 are leap years, while 1800, 1900, 2100, 2200, 2300 and 2500 are NOT leap years.\n",
    "\n",
    "## Sample Input\n",
    "### 1990\n",
    "\n",
    "## Sample Output\n",
    "### False\n",
    "\n",
    "## Sample Input\n",
    "### 1600\n",
    "\n",
    "## Sample Output\n",
    "### True"
   ]
  },
  {
   "cell_type": "code",
   "execution_count": 5,
   "metadata": {},
   "outputs": [
    {
     "name": "stdout",
     "output_type": "stream",
     "text": [
      "enter the year : 1990\n",
      "1990 is not a leap year\n",
      "enter the year : 1800\n",
      "1800 is not a leap year\n",
      "enter the year : 1600\n",
      "1600 is a leap year\n",
      "enter the year : 0\n",
      "done\n"
     ]
    }
   ],
   "source": [
    "while(True):\n",
    "    n=int(input(\"enter the year : \"))\n",
    "    if(n==0):\n",
    "        print(\"done\")\n",
    "        break\n",
    "    if(n%100==0 and n%400!=0):\n",
    "        print(n,\"is not a leap year\")\n",
    "    elif(n%100==0 and n%400==0):\n",
    "        print(n,\"is a leap year\")\n",
    "    elif(n%4==0):\n",
    "        print(n,\"is a leap year\")\n",
    "    else:\n",
    "        print(n,\"is not a leap year\")"
   ]
  }
 ],
 "metadata": {
  "kernelspec": {
   "display_name": "Python 3",
   "language": "python",
   "name": "python3"
  },
  "language_info": {
   "codemirror_mode": {
    "name": "ipython",
    "version": 3
   },
   "file_extension": ".py",
   "mimetype": "text/x-python",
   "name": "python",
   "nbconvert_exporter": "python",
   "pygments_lexer": "ipython3",
   "version": "3.7.0"
  }
 },
 "nbformat": 4,
 "nbformat_minor": 2
}
