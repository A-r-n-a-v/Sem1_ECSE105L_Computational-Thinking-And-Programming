{
 "cells": [
  {
   "cell_type": "code",
   "execution_count": 4,
   "metadata": {},
   "outputs": [
    {
     "name": "stdout",
     "output_type": "stream",
     "text": [
      "Thes is the Firs cas. programing is fan and eesy.Thes is vary essy. Wee loe Pythen\n",
      "that,first,case,car,programming,this,fun,easy,book,is,very,easy,we, Love, In, Python\n",
      "this is the first case. programming is fun and easy. this is very easy. we love python. \n"
     ]
    }
   ],
   "source": [
    "def single_insert_or_delete(a,b):\n",
    "    c=0\n",
    "    a=a.lower()\n",
    "    b=b.lower()\n",
    "    if a==b:\n",
    "        return 0\n",
    "    if(len(a)==len(b)):\n",
    "        for i in range(len(a)):\n",
    "            if(a[i]!=b[i]):\n",
    "                c+=1\n",
    "        if(c==1):\n",
    "            return 1\n",
    "        else:\n",
    "            return 2\n",
    "    if(len(a)==len(b)+1):\n",
    "        if(b in a):\n",
    "            return 1\n",
    "        else:\n",
    "            for i in range(len(a)):\n",
    "                if (b == a[:i]+a[i+1:]):\n",
    "                    return 1\n",
    "    if(len(b)==len(a)+1):\n",
    "        if(a in b):\n",
    "            return 1\n",
    "        else:\n",
    "            for i in range(len(b)):\n",
    "                if (a == b[:i]+b[i+1:]):\n",
    "                    return 1\n",
    "    return 2\n",
    "\n",
    "f1=open(\"Original.txt\",\"r\")\n",
    "for i in f1:\n",
    "    l1=i.split(\".\")\n",
    "f2=open(\"Correct_spelled.txt\",\"r\")\n",
    "for i in f2:\n",
    "    l2=i.split(\",\")\n",
    "#print(l1)\n",
    "#print(l2)\n",
    "for p in range(0,len(l2)):\n",
    "    l2[p]=l2[p].strip().lower()\n",
    "#print(l2)\n",
    "l=l1\n",
    "f3=open(\"Corrected_file.txt\",\"w+\")\n",
    "f3.close()\n",
    "f3=open(\"Corrected_file.txt\",\"a\")\n",
    "for i in l:\n",
    "    y=[]\n",
    "    x=i.split()\n",
    "    for j in x:\n",
    "        y.append(j)\n",
    "    l1=y\n",
    "\n",
    "    for i in range(0,len(l1)):\n",
    "            a=l1[i]\n",
    "            for j in range(0,len(l2)):\n",
    "                    b=l2[j]\n",
    "                    #print(single_insert_or_delete(a,b),l1[i],l2[j])\n",
    "                    if(single_insert_or_delete(a,b)==1 or single_insert_or_delete(a,b)==0):\n",
    "                        l1[i]=l2[j]\n",
    "                        break\n",
    "    #print(l1)\n",
    "    for i in range(0,len(l1)-1):\n",
    "        f3.write(str(l1[i])+\" \")\n",
    "    f3.write(str(l1[-1]))\n",
    "    f3.write(\". \")\n",
    "f1.close()\n",
    "f2.close()\n",
    "f3.close()\n",
    "f1=open(\"Original.txt\",\"r\")\n",
    "f2=open(\"Correct_spelled.txt\",\"r\")\n",
    "f3=open(\"Corrected_file.txt\",\"r\")\n",
    "for i in f1:\n",
    "    print(i)\n",
    "for j in f2:\n",
    "    print(j)\n",
    "for k in f3:\n",
    "    print(k)                "
   ]
  },
  {
   "cell_type": "code",
   "execution_count": null,
   "metadata": {},
   "outputs": [],
   "source": []
  }
 ],
 "metadata": {
  "kernelspec": {
   "display_name": "Python 3",
   "language": "python",
   "name": "python3"
  },
  "language_info": {
   "codemirror_mode": {
    "name": "ipython",
    "version": 3
   },
   "file_extension": ".py",
   "mimetype": "text/x-python",
   "name": "python",
   "nbconvert_exporter": "python",
   "pygments_lexer": "ipython3",
   "version": "3.7.0"
  }
 },
 "nbformat": 4,
 "nbformat_minor": 2
}
